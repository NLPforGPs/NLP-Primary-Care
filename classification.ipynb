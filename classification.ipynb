{
 "cells": [
  {
   "cell_type": "code",
   "execution_count": 20,
   "id": "f2bec071",
   "metadata": {
    "scrolled": true
   },
   "outputs": [
    {
     "name": "stdout",
     "output_type": "stream",
     "text": [
      "The autoreload extension is already loaded. To reload it, use:\n",
      "  %reload_ext autoreload\n"
     ]
    }
   ],
   "source": [
    "import os\n",
    "import ipywidgets as widgets\n",
    "import numpy as np\n",
    "import pandas as pd\n",
    "import scipy.sparse\n",
    "from IPython.display import display\n",
    "from ipywidgets import interact\n",
    "from matplotlib import pyplot as plt\n",
    "from utils.metrics.metric import evaluate_classifications, evaluate_probabilities\n",
    "%load_ext autoreload\n",
    "%autoreload 2"
   ]
  },
  {
   "cell_type": "markdown",
   "id": "a1ea4eb6-0bd9-43b8-98cc-c26caca9fa97",
   "metadata": {
    "pycharm": {
     "name": "#%% md\n"
    }
   },
   "source": [
    "# Data preparation\n",
    "\n",
    "First split the orig_dataset into train and test set, then we need to\n",
    "pre-process the transcript data\n",
    "\n",
    "This includes, cleaning text, stemming and lemmatization"
   ]
  },
  {
   "cell_type": "code",
   "execution_count": 21,
   "id": "310fb443-83b6-4e2d-a5d7-79b9b8c662fd",
   "metadata": {
    "pycharm": {
     "name": "#%%\n"
    }
   },
   "outputs": [
    {
     "name": "stderr",
     "output_type": "stream",
     "text": [
      "The current IDs only have record documents.\n",
      "['011119' '020105' '030501' '030509' '030510' '050609' '050717' '050719'\n",
      " '071010' '071211' '081310' '081608' '081610' '091410' '091411' '091416'\n",
      " '101705' '101707' '111906' '111908' '112004' '122110']\n"
     ]
    },
    {
     "name": "stdout",
     "output_type": "stream",
     "text": [
      "RDSF base directory located at /user/work/zu20361/PCC/\n"
     ]
    },
    {
     "name": "stderr",
     "output_type": "stream",
     "text": [
      "The current IDs only have transcript documents.\n",
      "['-081308' '010103' '010105' '020107' '030501(p.2)' '030501(p1)'\n",
      " '030509(p.1)' '030509(p.2)' '030510 (p.1)' '030510 (p.2)' '040417'\n",
      " '050605' '050609a' '050717 (Dr reads wrong number)' '060806' '060811'\n",
      " '060812' '060906' '071002' '071010(a)' '071012' '071211 (Part 1 of 2)'\n",
      " '071211 (Part 2 of 2)' '081310(b)' '081310(c)' '081310a' '081601'\n",
      " '081606' '081608 (1 of 2)' '081608 (2 of 2)' '091402' '091404' '091405'\n",
      " '091410 & 091411' '091503' '101705 and 101707' '101801' '111906 (2of2)'\n",
      " '111906(1 of 2)' '112002' '112004 & 1112005' '112014' '200105' '50719']\n"
     ]
    },
    {
     "name": "stdout",
     "output_type": "stream",
     "text": [
      "16 classification categories: ['A' 'B' 'D' 'F' 'H' 'K' 'L' 'N' 'P' 'R' 'S' 'T' 'U' 'W' 'X' 'Y']\n"
     ]
    }
   ],
   "source": [
    "from prepare_data import prepare_original_data\n",
    "\n",
    "# YOU MAY NEED TO SET THE LOCATION OF THE DATASET IN oneinamillion/resources.py.\n",
    "orig_dataset, mult_lbl_enc, y_hot = prepare_original_data()"
   ]
  },
  {
   "cell_type": "markdown",
   "id": "c71abd38",
   "metadata": {
    "pycharm": {
     "name": "#%% md\n"
    }
   },
   "source": [
    "## Train test Split"
   ]
  },
  {
   "cell_type": "code",
   "execution_count": 22,
   "id": "f0c0f43b",
   "metadata": {
    "pycharm": {
     "name": "#%%\n"
    }
   },
   "outputs": [
    {
     "data": {
      "text/html": [
       "<div>\n",
       "<style scoped>\n",
       "    .dataframe tbody tr th:only-of-type {\n",
       "        vertical-align: middle;\n",
       "    }\n",
       "\n",
       "    .dataframe tbody tr th {\n",
       "        vertical-align: top;\n",
       "    }\n",
       "\n",
       "    .dataframe thead th {\n",
       "        text-align: right;\n",
       "    }\n",
       "</style>\n",
       "<table border=\"1\" class=\"dataframe\">\n",
       "  <thead>\n",
       "    <tr style=\"text-align: right;\">\n",
       "      <th></th>\n",
       "      <th>index</th>\n",
       "      <th>record_id</th>\n",
       "      <th>icpc_codes</th>\n",
       "      <th>pt_records</th>\n",
       "      <th>transcript__start_date</th>\n",
       "      <th>transcript__duration</th>\n",
       "      <th>transcript__conversation</th>\n",
       "      <th>codes</th>\n",
       "      <th>transcript__conversation_clean</th>\n",
       "      <th>transcript__conversation_both</th>\n",
       "      <th>transcript__conversation_gp</th>\n",
       "      <th>transcript__conversation_patient</th>\n",
       "    </tr>\n",
       "  </thead>\n",
       "  <tbody>\n",
       "    <tr>\n",
       "      <th>0</th>\n",
       "      <td>0</td>\n",
       "      <td>30301</td>\n",
       "      <td>['U99', 'B80']</td>\n",
       "      <td>[{'date': datetime.datetime(2014, 12, 23, 0, 0...</td>\n",
       "      <td>2014-09-29 09:03:52</td>\n",
       "      <td>0:13:19</td>\n",
       "      <td>[('info', 'Record'), ('Doc', '. Do have a seat...</td>\n",
       "      <td>[U, B]</td>\n",
       "      <td>[[info, record], [Doc, . seat.], [Pat, asked s...</td>\n",
       "      <td>. seat. asked see me, believe, blood test, it,...</td>\n",
       "      <td>. seat. blood test, it, think ___, it? tell me...</td>\n",
       "      <td>asked see me, believe, right, yes. yes. used g...</td>\n",
       "    </tr>\n",
       "    <tr>\n",
       "      <th>1</th>\n",
       "      <td>1</td>\n",
       "      <td>40416</td>\n",
       "      <td>['S96', 'P76']</td>\n",
       "      <td>[{'date': datetime.datetime(2014, 12, 8, 0, 0)...</td>\n",
       "      <td>2014-10-09 09:27:51</td>\n",
       "      <td>0:15:25</td>\n",
       "      <td>[('GP', 'Can I just take your…'), ('Patient', ...</td>\n",
       "      <td>[S, P]</td>\n",
       "      <td>[[GP, take your…], [Patient, yes, sorry. was, ...</td>\n",
       "      <td>take your… yes, sorry. was, like, thing there....</td>\n",
       "      <td>take your… 040416. right, , you’ve got piece p...</td>\n",
       "      <td>yes, sorry. was, like, thing there. yes. okay-...</td>\n",
       "    </tr>\n",
       "    <tr>\n",
       "      <th>2</th>\n",
       "      <td>2</td>\n",
       "      <td>20106</td>\n",
       "      <td>['Y07', 'T91', 'A91']</td>\n",
       "      <td>[{'date': datetime.datetime(2014, 10, 2, 0, 0)...</td>\n",
       "      <td>2014-08-03 10:17:18</td>\n",
       "      <td>0:13:18</td>\n",
       "      <td>[('Doc', 'This is patient 06.'), ('Pat', '(Kno...</td>\n",
       "      <td>[Y, T, A]</td>\n",
       "      <td>[[Doc, patient 06.], [Pat, (knocks).], [Doc, c...</td>\n",
       "      <td>patient 06. (knocks). come in. hi, come in, se...</td>\n",
       "      <td>patient 06. come in. hi, come in, seat. yes, g...</td>\n",
       "      <td>(knocks). hello, doctor, you? ___ yes. i’ve st...</td>\n",
       "    </tr>\n",
       "    <tr>\n",
       "      <th>4</th>\n",
       "      <td>4</td>\n",
       "      <td>11107</td>\n",
       "      <td>['L99', 'W11']</td>\n",
       "      <td>[{'date': datetime.datetime(2014, 12, 17, 0, 0...</td>\n",
       "      <td>2014-12-08 11:22:27</td>\n",
       "      <td>0:05:39</td>\n",
       "      <td>[('Doc', 'Hi, I’m Dr Name'), ('Pat', 'Hello.')...</td>\n",
       "      <td>[L, W]</td>\n",
       "      <td>[[Doc, hi, i’m dr name], [Pat, hello.], [Doc, ...</td>\n",
       "      <td>hi, i’m dr name hello. brilliant, 011107. righ...</td>\n",
       "      <td>hi, i’m dr name brilliant, 011107. right, name...</td>\n",
       "      <td>hello. couple things, one thing need repeat pr...</td>\n",
       "    </tr>\n",
       "    <tr>\n",
       "      <th>5</th>\n",
       "      <td>5</td>\n",
       "      <td>71014</td>\n",
       "      <td>['L08']</td>\n",
       "      <td>[{'date': datetime.datetime(2015, 2, 17, 0, 0)...</td>\n",
       "      <td>2015-01-29 17:27:42</td>\n",
       "      <td>0:05:43</td>\n",
       "      <td>[('GP', \"Good. So 071014, that's your number. ...</td>\n",
       "      <td>[L]</td>\n",
       "      <td>[[GP, good. 071014, that's number. i'll write ...</td>\n",
       "      <td>good. 071014, that's number. i'll write down. ...</td>\n",
       "      <td>good. 071014, that's number. i'll write down. ...</td>\n",
       "      <td>___ long, bubba. sorry. partner come give u li...</td>\n",
       "    </tr>\n",
       "  </tbody>\n",
       "</table>\n",
       "</div>"
      ],
      "text/plain": [
       "   index  record_id             icpc_codes  \\\n",
       "0      0      30301         ['U99', 'B80']   \n",
       "1      1      40416         ['S96', 'P76']   \n",
       "2      2      20106  ['Y07', 'T91', 'A91']   \n",
       "4      4      11107         ['L99', 'W11']   \n",
       "5      5      71014                ['L08']   \n",
       "\n",
       "                                          pt_records transcript__start_date  \\\n",
       "0  [{'date': datetime.datetime(2014, 12, 23, 0, 0...    2014-09-29 09:03:52   \n",
       "1  [{'date': datetime.datetime(2014, 12, 8, 0, 0)...    2014-10-09 09:27:51   \n",
       "2  [{'date': datetime.datetime(2014, 10, 2, 0, 0)...    2014-08-03 10:17:18   \n",
       "4  [{'date': datetime.datetime(2014, 12, 17, 0, 0...    2014-12-08 11:22:27   \n",
       "5  [{'date': datetime.datetime(2015, 2, 17, 0, 0)...    2015-01-29 17:27:42   \n",
       "\n",
       "  transcript__duration                           transcript__conversation  \\\n",
       "0              0:13:19  [('info', 'Record'), ('Doc', '. Do have a seat...   \n",
       "1              0:15:25  [('GP', 'Can I just take your…'), ('Patient', ...   \n",
       "2              0:13:18  [('Doc', 'This is patient 06.'), ('Pat', '(Kno...   \n",
       "4              0:05:39  [('Doc', 'Hi, I’m Dr Name'), ('Pat', 'Hello.')...   \n",
       "5              0:05:43  [('GP', \"Good. So 071014, that's your number. ...   \n",
       "\n",
       "       codes                     transcript__conversation_clean  \\\n",
       "0     [U, B]  [[info, record], [Doc, . seat.], [Pat, asked s...   \n",
       "1     [S, P]  [[GP, take your…], [Patient, yes, sorry. was, ...   \n",
       "2  [Y, T, A]  [[Doc, patient 06.], [Pat, (knocks).], [Doc, c...   \n",
       "4     [L, W]  [[Doc, hi, i’m dr name], [Pat, hello.], [Doc, ...   \n",
       "5        [L]  [[GP, good. 071014, that's number. i'll write ...   \n",
       "\n",
       "                       transcript__conversation_both  \\\n",
       "0  . seat. asked see me, believe, blood test, it,...   \n",
       "1  take your… yes, sorry. was, like, thing there....   \n",
       "2  patient 06. (knocks). come in. hi, come in, se...   \n",
       "4  hi, i’m dr name hello. brilliant, 011107. righ...   \n",
       "5  good. 071014, that's number. i'll write down. ...   \n",
       "\n",
       "                         transcript__conversation_gp  \\\n",
       "0  . seat. blood test, it, think ___, it? tell me...   \n",
       "1  take your… 040416. right, , you’ve got piece p...   \n",
       "2  patient 06. come in. hi, come in, seat. yes, g...   \n",
       "4  hi, i’m dr name brilliant, 011107. right, name...   \n",
       "5  good. 071014, that's number. i'll write down. ...   \n",
       "\n",
       "                    transcript__conversation_patient  \n",
       "0  asked see me, believe, right, yes. yes. used g...  \n",
       "1  yes, sorry. was, like, thing there. yes. okay-...  \n",
       "2  (knocks). hello, doctor, you? ___ yes. i’ve st...  \n",
       "4  hello. couple things, one thing need repeat pr...  \n",
       "5  ___ long, bubba. sorry. partner come give u li...  "
      ]
     },
     "execution_count": 22,
     "metadata": {},
     "output_type": "execute_result"
    }
   ],
   "source": [
    "from skmultilearn.model_selection import iterative_train_test_split\n",
    "\n",
    "X = np.arange(orig_dataset['index'].shape[0]).reshape((-1, 1))\n",
    "\n",
    "X_train, y_train, X_test, y_test = iterative_train_test_split(X, y_hot, test_size=0.2)\n",
    "\n",
    "train_set = orig_dataset.iloc[X_train.flatten()]\n",
    "test_set = orig_dataset.iloc[X_test.flatten()]\n",
    "train_set.head()"
   ]
  },
  {
   "cell_type": "code",
   "execution_count": 5,
   "id": "8f9fbb9f",
   "metadata": {},
   "outputs": [
    {
     "data": {
      "text/plain": [
       "{'K': 29,\n",
       " 'P': 48,\n",
       " 'R': 35,\n",
       " 'U': 20,\n",
       " 'H': 10,\n",
       " 'D': 38,\n",
       " 'Y': 8,\n",
       " 'L': 68,\n",
       " 'B': 7,\n",
       " 'S': 32,\n",
       " 'X': 11,\n",
       " 'T': 17,\n",
       " 'N': 14,\n",
       " 'W': 12,\n",
       " 'F': 3,\n",
       " 'A': 17}"
      ]
     },
     "execution_count": 5,
     "metadata": {},
     "output_type": "execute_result"
    }
   ],
   "source": [
    "labels = {}\n",
    "for codes in orig_dataset['codes']:\n",
    "    #print(codes)\n",
    "    for code in codes:\n",
    "        if code not in labels:\n",
    "            labels[code] = 0\n",
    "            \n",
    "        labels[code] += 1\n",
    "        \n",
    "labels"
   ]
  },
  {
   "cell_type": "markdown",
   "id": "f44e8574",
   "metadata": {
    "pycharm": {
     "name": "#%% md\n"
    }
   },
   "source": [
    "## ICPC descriptions"
   ]
  },
  {
   "cell_type": "code",
   "execution_count": 23,
   "id": "6de7bd1b",
   "metadata": {
    "pycharm": {
     "name": "#%%\n"
    }
   },
   "outputs": [
    {
     "data": {
      "application/vnd.jupyter.widget-view+json": {
       "model_id": "4d90f2bc63254ac48cc7a95e92dc2d9c",
       "version_major": 2,
       "version_minor": 0
      },
      "text/plain": [
       "interactive(children=(Dropdown(description='mode', options=('ICPC only', 'CKS only', 'ICPC and CKS'), value='I…"
      ]
     },
     "metadata": {},
     "output_type": "display_data"
    },
    {
     "data": {
      "text/plain": [
       "<function __main__.control_description(mode='ICPC only')>"
      ]
     },
     "execution_count": 23,
     "metadata": {},
     "output_type": "execute_result"
    }
   ],
   "source": [
    "selected_mode = None\n",
    "modes = ['ICPC only', 'CKS only', 'ICPC and CKS']\n",
    "def control_description(mode=modes[0]):\n",
    "    global selected_mode\n",
    "    selected_mode = mode\n",
    "\n",
    "interact(control_description, mode=modes)"
   ]
  },
  {
   "cell_type": "code",
   "execution_count": 24,
   "id": "8032abed",
   "metadata": {},
   "outputs": [],
   "source": [
    "# interaction donot work for me\n",
    "selected_mode = 'CKS only'"
   ]
  },
  {
   "cell_type": "code",
   "execution_count": 25,
   "id": "319ecbc0",
   "metadata": {
    "pycharm": {
     "name": "#%% combine the two\n"
    }
   },
   "outputs": [],
   "source": [
    "from prepare_data import load_descriptions\n",
    "description_corpus = load_descriptions(selected_mode)"
   ]
  },
  {
   "cell_type": "code",
   "execution_count": 9,
   "id": "9a1dd1fb",
   "metadata": {},
   "outputs": [
    {
     "data": {
      "text/plain": [
       "A    pain general/multiple site  chronic general pa...\n",
       "B    lymph gland(s) enlarged/painful  lymphadenopat...\n",
       "D    abdominal pain/cramps general  abdominal colic...\n",
       "F    eye pain   red eye  bloodshot/inflamed eye eye...\n",
       "H    ear pain/earache   hearing complaint  auditory...\n",
       "K    heart pain  pain attributed heart pressure/tig...\n",
       "L    neck symptom/complaint  pain attributed cervic...\n",
       "N    headache  post-traumatic headache pain face   ...\n",
       "P    feeling anxious/nervous/tense feeling reported...\n",
       "R    pain respiratory system  painful respiration; ...\n",
       "S    pain/tenderness skin  burning sensation; painf...\n",
       "T    excessive thirst  polydipsia excessive appetit...\n",
       "U    dysuria/painful urination  burning urination u...\n",
       "W    question pregnancy  delayed menstruation; symp...\n",
       "X    genital pain female  pelvic pain; vulval pain ...\n",
       "Y    pain penis   pain testis/scrotum  pain pelvis;...\n",
       "Name: keyword, dtype: object"
      ]
     },
     "execution_count": 9,
     "metadata": {},
     "output_type": "execute_result"
    }
   ],
   "source": [
    "description_corpus"
   ]
  },
  {
   "cell_type": "markdown",
   "id": "18e2f127",
   "metadata": {
    "pycharm": {
     "name": "#%% md\n"
    }
   },
   "source": [
    "## Bag of words classifiers\n",
    "\n",
    "**Tf-idf from ICPC codes**\n",
    "\n",
    "- extract keyword/ keyphrases from ICPC code descriptions\n",
    " - use three columns (inclusion/ preferred and criteria)\n",
    "\n",
    "- OR, with TF-iDF, assign a score to every word (or bigram) in the utterance,\n",
    "filter those with only high scores\n",
    "\n",
    "- For each utterance in a transcript, count the number of keyword or phrase matches for each ICPC code.\n",
    "- If number of matches > threshold, assign ICPC code"
   ]
  },
  {
   "cell_type": "markdown",
   "id": "15d987e4",
   "metadata": {
    "pycharm": {
     "name": "#%% md\n"
    }
   },
   "source": [
    "One might want to modify the list of stopwords to eliminate from the tf-idf vocabulary,\n",
    "or might impose a limit of the number of features to reduce unwanted words/ bi-grams."
   ]
  },
  {
   "cell_type": "code",
   "execution_count": 26,
   "id": "0405f32d",
   "metadata": {
    "pycharm": {
     "is_executing": true,
     "name": "#%%\n"
    }
   },
   "outputs": [
    {
     "data": {
      "application/vnd.jupyter.widget-view+json": {
       "model_id": "ce4802523be6481eaaf817588a646327",
       "version_major": 2,
       "version_minor": 0
      },
      "text/plain": [
       "interactive(children=(Checkbox(value=True, description='m'), Checkbox(value=True, description='c'), Checkbox(v…"
      ]
     },
     "metadata": {},
     "output_type": "display_data"
    },
    {
     "data": {
      "text/plain": [
       "<function __main__.set_stopwords(m, c, e)>"
      ]
     },
     "execution_count": 26,
     "metadata": {},
     "output_type": "execute_result"
    }
   ],
   "source": [
    "from utils.stopwords import get_medical_stopwords, get_custom_stopwords, get_english_stopwords\n",
    "medical_stopwords = get_medical_stopwords()\n",
    "custom_stopwords = get_custom_stopwords()\n",
    "english_stopwords = get_english_stopwords()\n",
    "\n",
    "use_med, use_cus, use_eng = False, False, False\n",
    "stopwords = []\n",
    "\n",
    "def update_stopwords():\n",
    "    global stopwords\n",
    "    stopwords = []\n",
    "    if use_med:\n",
    "        stopwords += medical_stopwords\n",
    "    if use_cus:\n",
    "        stopwords += custom_stopwords\n",
    "    if use_eng:\n",
    "        stopwords += english_stopwords\n",
    "    # display(f\"number of stopwords: {len(stopwords)}\")\n",
    "\n",
    "def set_stopwords(m,c,e):\n",
    "    global use_med, use_cus, use_eng\n",
    "    use_med = m\n",
    "    use_cus = c\n",
    "    use_eng = e\n",
    "    update_stopwords()\n",
    "\n",
    "interact(set_stopwords, m=True, c=True, e=False)"
   ]
  },
  {
   "cell_type": "code",
   "execution_count": 27,
   "id": "e9f0aaa4",
   "metadata": {
    "pycharm": {
     "name": "#%%\n"
    }
   },
   "outputs": [],
   "source": [
    "from sklearn.feature_extraction.text import TfidfVectorizer\n",
    "\n",
    "def get_description_vectors(description_corpus, stopwords):\n",
    "    max_features=5000\n",
    "\n",
    "    text_vectorizer = TfidfVectorizer(ngram_range=(1,2), stop_words=stopwords, max_features=max_features)\n",
    "    description_vec = text_vectorizer.fit_transform(description_corpus)\n",
    "    # print(f\"icpc description bag-of-word matrix shape: {description_vec.shape}\")\n",
    "    vec_vocab = text_vectorizer.vocabulary_ # dictionary that contain the BOW tokens\n",
    "\n",
    "    # print(f\"bag-of-word tokens: {', '.join(list(vec_vocab.keys())[:5])}...\")\n",
    "    # print(f\"vocabulary size: {len(vec_vocab)}\")\n",
    "\n",
    "    return description_vec, text_vectorizer\n",
    "\n",
    "description_vec, text_vectorizer = get_description_vectors(description_corpus, stopwords)"
   ]
  },
  {
   "cell_type": "markdown",
   "id": "d643fb91",
   "metadata": {},
   "source": [
    "## Models\n",
    "### NB classifier"
   ]
  },
  {
   "cell_type": "code",
   "execution_count": 30,
   "id": "100169e3",
   "metadata": {},
   "outputs": [],
   "source": [
    "from sklearn.naive_bayes import MultinomialNB\n",
    "def run_multiclass_naive_bayes(X_train, y_train, X_test):\n",
    "    clf = MultinomialNB(alpha=0.001, fit_prior=False)\n",
    "    clf.fit(X_train, np.argmax(y_train, 1))\n",
    "\n",
    "    y_pred_probs = clf.predict_proba(X_test)\n",
    "\n",
    "    y_pred_mat = y_pred_probs > 0.1\n",
    "\n",
    "    return y_pred_mat, y_pred_probs"
   ]
  },
  {
   "cell_type": "markdown",
   "id": "646e5e7a",
   "metadata": {},
   "source": [
    "### SVM classifier"
   ]
  },
  {
   "cell_type": "code",
   "execution_count": 31,
   "id": "8effb314",
   "metadata": {},
   "outputs": [],
   "source": [
    "from sklearn.svm import SVC\n",
    "\n",
    "def run_svm(X_train, y_train, X_test):\n",
    "    nclasses = y_train.shape[1]\n",
    "\n",
    "    clf = SVC(kernel='rbf', C=2)\n",
    "\n",
    "    clf.fit(X_train, np.argmax(y_train, 1))\n",
    "\n",
    "    y_pred = clf.predict(X_test)\n",
    "    y_pred_probs = clf.decision_function(X_test)\n",
    "\n",
    "    y_pred_mat = np.zeros((y_pred.shape[0], nclasses))\n",
    "    y_pred_mat[np.arange(y_pred.shape[0]), y_pred] = 1\n",
    "\n",
    "    return y_pred_mat, y_pred_probs"
   ]
  },
  {
   "cell_type": "markdown",
   "id": "4173aa65",
   "metadata": {},
   "source": [
    "## Distant Supervison"
   ]
  },
  {
   "cell_type": "code",
   "execution_count": 29,
   "id": "965f8bc1",
   "metadata": {},
   "outputs": [],
   "source": [
    "key = 'transcript__conversation_both'\n",
    "# key = 'transcript__conversation_gp'\n",
    "# key = 'transcript__conversation_patient'\n",
    "y = [[i] for i in description_corpus.index]\n",
    "\n",
    "y_desc = mult_lbl_enc.fit_transform(y)\n",
    "\n",
    "transcript_data = orig_dataset[key]\n",
    "transcript_test = text_vectorizer.transform(transcript_data)"
   ]
  },
  {
   "cell_type": "markdown",
   "id": "f0ff7315",
   "metadata": {},
   "source": [
    "### Coarse-grained classification\n",
    "#### NB Classifier"
   ]
  },
  {
   "cell_type": "code",
   "execution_count": 18,
   "id": "1a619d51",
   "metadata": {},
   "outputs": [
    {
     "name": "stdout",
     "output_type": "stream",
     "text": [
      "0.34045860347828805\n",
      "0.780024367418094\n"
     ]
    }
   ],
   "source": [
    "y_pred_mat, y_pred_probs = run_multiclass_naive_bayes(description_vec, y_desc, transcript_test)\n",
    "print(evaluate_classifications(y_hot, y_pred_mat, mult_lbl_enc.classes_))\n",
    "print(evaluate_probabilities(y_hot, y_pred_probs))"
   ]
  },
  {
   "cell_type": "markdown",
   "id": "e7f20e53",
   "metadata": {},
   "source": [
    "#### SVM Classifier"
   ]
  },
  {
   "cell_type": "code",
   "execution_count": 20,
   "id": "039b1cbb",
   "metadata": {},
   "outputs": [
    {
     "name": "stdout",
     "output_type": "stream",
     "text": [
      "0.3619733144442262\n",
      "0.8335111641319247\n"
     ]
    }
   ],
   "source": [
    "y_pred_mat, y_pred_probs= run_svm(description_vec, y_desc, transcript_test)\n",
    "print(evaluate_classifications(y_hot, y_pred_mat, mult_lbl_enc.classes_))\n",
    "print(evaluate_probabilities(y_hot, y_pred_probs))"
   ]
  },
  {
   "cell_type": "markdown",
   "id": "129f2fa0",
   "metadata": {},
   "source": [
    "### Fine-grained classification"
   ]
  },
  {
   "cell_type": "code",
   "execution_count": 9,
   "id": "5c2db788",
   "metadata": {},
   "outputs": [],
   "source": [
    "import json\n",
    "from oneinamillion.resources import DL_DATA, ICPC2CKS, CKS_DESC, PCC_CODES_DIR, PCC_CKS_DIR\n",
    "from sklearn.preprocessing import MultiLabelBinarizer\n",
    "from utils.utils import prediction_cks2icpc"
   ]
  },
  {
   "cell_type": "code",
   "execution_count": 48,
   "id": "87112c43",
   "metadata": {},
   "outputs": [],
   "source": [
    "# load topics trained in DL methods to keep consitent\n",
    "topics_file = os.path.join(DL_DATA, 'fg_label2id.json')\n",
    "with open(topics_file, 'r') as f:\n",
    "    selected_topics = json.load(f)\n",
    "# load health topics\n",
    "health_topics = pd.read_csv(os.path.join(PCC_CKS_DIR, CKS_DESC), index_col=0)\n",
    "health_topics = health_topics.loc[selected_topics]\n",
    "\n",
    "description_vec, text_vectorizer = get_description_vectors(health_topics['topics'], stopwords)\n",
    "# obtain labels\n",
    "mult_lbl_enc2 = MultiLabelBinarizer()\n",
    "y = [[i] for i in health_topics.index]\n",
    "y_desc = mult_lbl_enc2.fit_transform(y)\n",
    "\n",
    "# obtain test data\n",
    "transcript_test = text_vectorizer.transform(transcript_data)"
   ]
  },
  {
   "cell_type": "markdown",
   "id": "cbad6ad6",
   "metadata": {},
   "source": [
    "#### NB Classifier "
   ]
  },
  {
   "cell_type": "code",
   "execution_count": 56,
   "metadata": {},
   "outputs": [
    {
     "name": "stdout",
     "output_type": "stream",
     "text": [
      "2.3201562287071104e-01\n"
     ]
    }
   ],
   "source": [
    "y_pred_mat, y_pred_probs = run_multiclass_naive_bayes(description_vec, y_desc, transcript_test)\n",
    "# convert label_id to class names\n",
    "pred_labels = mult_lbl_enc2.inverse_transform(y_pred_mat)\n",
    "\n",
    "map_file = os.path.join(PCC_CKS_DIR, ICPC2CKS)\n",
    "# create a fake label2name\n",
    "label2name = {label:label for label in mult_lbl_enc.classes_}\n",
    "# map cks to icpc\n",
    "mapped_predictions = prediction_cks2icpc(map_file, pred_labels, label2name)\n",
    "predictions = mult_lbl_enc.transform(mapped_predictions)\n",
    "print(evaluate_classifications(y_hot, predictions, mult_lbl_enc.classes_))"
   ]
  },
  {
   "cell_type": "code",
   "execution_count": 62,
   "id": "deeb2768",
   "metadata": {},
   "outputs": [
    {
     "name": "stdout",
     "output_type": "stream",
     "text": [
      "0.35516238803557787\n"
     ]
    }
   ],
   "source": [
    "y_pred_mat, y_pred_probs = run_svm(description_vec, y_desc, transcript_test)\n",
    "pred_labels = mult_lbl_enc2.inverse_transform(y_pred_mat)\n",
    "map_file = os.path.join(PCC_CKS_DIR, ICPC2CKS)\n",
    "# create a fake label2name\n",
    "label2name = {label:label for label in mult_lbl_enc.classes_}\n",
    "# map cks to icpc\n",
    "mapped_predictions = prediction_cks2icpc(map_file, pred_labels, label2name)\n",
    "predictions = mult_lbl_enc.transform(mapped_predictions)\n",
    "print(evaluate_classifications(y_hot, predictions, mult_lbl_enc.classes_))"
   ]
  },
  {
   "cell_type": "code",
   "execution_count": 12,
   "id": "0910dd48",
   "metadata": {
    "pycharm": {
     "name": "#%%\n"
    }
   },
   "outputs": [
    {
     "data": {
      "text/plain": [
       "Text(0.5, 1.0, 'bag-of-words Vector')"
      ]
     },
     "execution_count": 12,
     "metadata": {},
     "output_type": "execute_result"
    },
    {
     "data": {
      "image/png": "[encoded data removed]",
      "text/plain": [
       "<Figure size 432x288 with 1 Axes>"
      ]
     },
     "metadata": {
      "needs_background": "light"
     },
     "output_type": "display_data"
    }
   ],
   "source": [
    "import seaborn as sns\n",
    "sns.heatmap(description_vec.todense()==0, vmin=0, vmax=1, cbar=False).set_title('bag-of-words Vector')"
   ]
  },
  {
   "cell_type": "code",
   "execution_count": 13,
   "id": "218eb77a",
   "metadata": {
    "pycharm": {
     "name": "#%%\n"
    }
   },
   "outputs": [],
   "source": [
    "# from wordcloud import WordCloud\n",
    "# test_vec = description_vec[1].todense()\n",
    "# col_names = np.array(text_vectorizer.get_feature_names())\n",
    "# test = pd.DataFrame(test_vec, columns=col_names).T.to_dict()[0]\n",
    "# print(test)\n",
    "# word_cloud = WordCloud(background_color=\"white\").generate_from_frequencies(test)\n",
    "# plt.imshow(word_cloud)"
   ]
  },
  {
   "cell_type": "code",
   "execution_count": 14,
   "id": "a52ba2e7",
   "metadata": {
    "pycharm": {
     "name": "#%%\n"
    }
   },
   "outputs": [
    {
     "data": {
      "image/png": "[encoded data removed]",
      "text/plain": [
       "<Figure size 640x480 with 1 Axes>"
      ]
     },
     "metadata": {},
     "output_type": "display_data"
    },
    {
     "data": {
      "application/vnd.jupyter.widget-view+json": {
       "model_id": "4884880ff6c8466f9e71487039d75b23",
       "version_major": 2,
       "version_minor": 0
      },
      "text/plain": [
       "interactive(children=(Dropdown(description='cat', options=('A', 'B', 'D', 'F', 'H', 'K', 'L', 'N', 'P', 'R', '…"
      ]
     },
     "metadata": {},
     "output_type": "display_data"
    },
    {
     "data": {
      "text/plain": [
       "<function __main__.plot_explain_category(cat: str)>"
      ]
     },
     "execution_count": 14,
     "metadata": {},
     "output_type": "execute_result"
    }
   ],
   "source": [
    "from wordcloud import WordCloud\n",
    "\n",
    "# Explain a category\n",
    "\n",
    "lookup = [x for _,x in sorted(zip(text_vectorizer.vocabulary_.values(), text_vectorizer.vocabulary_.keys()))]\n",
    "features_arr = np.array(text_vectorizer.get_feature_names())\n",
    "\n",
    "def explain_bow_vector(vec: scipy.sparse.csr.csr_matrix, ax=plt):\n",
    "    # _, idxs = scipy.sparse.csr_matrix.nonzero(vec)\n",
    "    # words = [lookup[k] for k in idxs]\n",
    "    # word_cloud = WordCloud().generate(' '.join(words))\n",
    "    test = pd.DataFrame(vec.todense(), columns=features_arr).T.to_dict()[0]\n",
    "    word_cloud = WordCloud(background_color=\"white\").generate_from_frequencies(test)\n",
    "    ax.imshow(word_cloud, interpolation='bilinear')\n",
    "    ax.axis(\"off\")\n",
    "\n",
    "def explain_category(cat:str, ax=plt):\n",
    "    target = list(mult_lbl_enc.classes_).index(cat)\n",
    "    target = description_vec[target]\n",
    "    explain_bow_vector(target, ax=ax)\n",
    "\n",
    "def plot_explain_category(cat:str):\n",
    "    explain_category(cat)\n",
    "\n",
    "interact(plot_explain_category, cat=mult_lbl_enc.classes_)"
   ]
  },
  {
   "cell_type": "code",
   "execution_count": 15,
   "id": "ebe627be",
   "metadata": {
    "pycharm": {
     "name": "#%%\n"
    }
   },
   "outputs": [],
   "source": [
    "key = 'transcript__conversation_both'\n",
    "# key = 'transcript__conversation_gp'\n",
    "# key = 'transcript__conversation_patient'\n",
    "\n",
    "X_train = text_vectorizer.transform(train_set[key])\n",
    "X_test = text_vectorizer.transform(test_set[key])"
   ]
  },
  {
   "cell_type": "code",
   "execution_count": 16,
   "id": "3196f0e6",
   "metadata": {
    "pycharm": {
     "name": "#%%\n"
    }
   },
   "outputs": [
    {
     "data": {
      "text/plain": [
       "Text(0.5, 1.0, 'Train set bag-of-words matrix')"
      ]
     },
     "execution_count": 16,
     "metadata": {},
     "output_type": "execute_result"
    },
    {
     "data": {
      "image/png": "[encoded data removed]",
      "text/plain": [
       "<Figure size 432x288 with 1 Axes>"
      ]
     },
     "metadata": {
      "needs_background": "light"
     },
     "output_type": "display_data"
    }
   ],
   "source": [
    "# import seaborn as sns\n",
    "sns.heatmap(X_train.todense()==0, vmin=0, vmax=1, cbar=False).set_title('Train set bag-of-words matrix')"
   ]
  },
  {
   "cell_type": "code",
   "execution_count": 17,
   "id": "5c4785ad",
   "metadata": {
    "pycharm": {
     "name": "#%%\n"
    }
   },
   "outputs": [
    {
     "data": {
      "image/png": "[encoded data removed]",
      "text/plain": [
       "<Figure size 640x480 with 1 Axes>"
      ]
     },
     "metadata": {},
     "output_type": "display_data"
    },
    {
     "data": {
      "image/png": "[encoded data removed]",
      "text/plain": [
       "<Figure size 800x400 with 1 Axes>"
      ]
     },
     "metadata": {},
     "output_type": "display_data"
    },
    {
     "name": "stdout",
     "output_type": "stream",
     "text": [
      "['within', 'kidney', 'iron', 'possible', 'particular', 'either', 'neck', 'anxiety', 'situation', 'nose', 'ill', 'stick', 'hours', 'acid', 'mood', 'infection', 'health', 'cold', 'family', 'shoulder', 'inflammatory', 'vitamin', 'area', 'level', 'arthritis', 'skin', 'urine', 'food', 'short', 'operation', 'rest', 'bone', 'breath', 'risk', 'trouble', 'otherwise', 'nerve', 'old', 'years', 'painful', 'change', 'exercise', 'muscle', 'eye', 'foot', 'move', 'eating', 'knee', 'heart', 'case', 'bowel', 'particularly', 'part', 'sore', 'eat', 'hour', 'cough', 'ear', 'low', 'head', 'hand', 'stomach', 'leg', 'chest', 'sick', 'sleep', 'pressure', 'sound', 'pain', 'blood pressure', 'blood', 'mean']\n"
     ]
    }
   ],
   "source": [
    "keyword_dist_over_train = np.array(X_train.sum(axis=0)).flatten()\n",
    "\n",
    "def show_common_keywords(threshold:int = 3):\n",
    "    frequent_words = [[k,n] for k,n in zip(lookup, keyword_dist_over_train) if n > threshold]\n",
    "    frequent_words_df = pd.DataFrame(frequent_words,columns=['keyword', 'count']).sort_values('count')\n",
    "\n",
    "    plt.figure(figsize=(8,4))\n",
    "    ax = sns.barplot(x='keyword', y='count', data=frequent_words_df)\n",
    "    ax.set_xticklabels(ax.get_xticklabels(), rotation=40, ha=\"right\")\n",
    "    plt.tight_layout()\n",
    "    plt.show()\n",
    "\n",
    "    print([k._text for k in ax.get_xticklabels()])\n",
    "\n",
    "show_common_keywords()"
   ]
  },
  {
   "cell_type": "markdown",
   "id": "f8344d8f",
   "metadata": {
    "pycharm": {
     "name": "#%% md\n"
    }
   },
   "source": [
    "### Nearest Centroid classifier"
   ]
  },
  {
   "cell_type": "code",
   "execution_count": 19,
   "id": "417bc9c7",
   "metadata": {
    "pycharm": {
     "name": "#%%\n"
    }
   },
   "outputs": [
    {
     "name": "stdout",
     "output_type": "stream",
     "text": [
      "0.36670836855051503\n"
     ]
    }
   ],
   "source": [
    "from sklearn.neighbors import NearestCentroid\n",
    "from sklearn.neighbors import KNeighborsClassifier\n",
    "\n",
    "\n",
    "def run_nearest_centroid(description_vec, mult_lbl_enc, X_test):\n",
    "    nc_clf = NearestCentroid(metric='euclidean')\n",
    "    nc_clf.fit(description_vec, mult_lbl_enc.classes_)\n",
    "    y_pred = nc_clf.predict(X_test)\n",
    "\n",
    "    y_pred_mat = np.matrix(mult_lbl_enc.transform(y_pred))\n",
    "\n",
    "    return y_pred_mat\n",
    "\n",
    "y_pred_mat = run_nearest_centroid(description_vec, mult_lbl_enc, X_train)\n",
    "print(evaluate_classifications(y_train, y_pred_mat, mult_lbl_enc.classes_))\n",
    "\n",
    "def run_distance_classifier(description_vec, X_train, y_train, X_test):\n",
    "\n",
    "    kn_clf = KNeighborsClassifier(n_neighbors=5, weights='distance', metric='cosine')\n",
    "    kn_clf.fit(description_vec, mult_lbl_enc.classes_)\n",
    "\n",
    "    max_acc = 0\n",
    "    threshold = 0.8\n",
    "    best_threshold = 0\n",
    "    while threshold <= 1:\n",
    "        y_dists, y_pred = kn_clf.kneighbors(X_train, 3)\n",
    "        y_tr_pred = np.zeros((X_train.shape[0], y_train.shape[1]))\n",
    "        for i in range(y_tr_pred.shape[0]):\n",
    "            y_tr_pred[i, y_pred[i]] = (y_dists[i] < threshold).astype(int)\n",
    "\n",
    "        acc = f1_score(y_train, y_tr_pred, average='micro')\n",
    "        # print(f'F1: {acc}, threshold: {threshold}')\n",
    "\n",
    "        if acc > max_acc:\n",
    "            max_acc = acc\n",
    "            best_threshold = threshold\n",
    "        threshold += 0.01\n",
    "\n",
    "    # print('predicting...')\n",
    "    y_dists, y_pred = kn_clf.kneighbors(X_test, 3)\n",
    "    y_pred_mat = np.zeros((X_test.shape[0], y_train.shape[1]))\n",
    "    for i in range(y_pred.shape[0]):\n",
    "        y_pred_mat[i, y_pred[i][0]] = (y_dists[i][0] < best_threshold).astype(int)\n",
    "\n",
    "    # dists = cosine_similarity(X_train, description_vec)\n",
    "    # print(dists)\n",
    "\n",
    "    #\n",
    "    # dists = cosine_similarity(X_test, description_vec)\n",
    "    # y_pred_mat = dists > best_threshold\n",
    "\n",
    "    return y_pred_mat\n",
    "\n",
    "# y_pred_mat = run_distance_classifier(description_vec, X_train, y_train, X_train)\n",
    "# evaluate_classifications(y_train, y_pred_mat, mult_lbl_enc.classes_)"
   ]
  },
  {
   "cell_type": "code",
   "execution_count": null,
   "id": "88a5848b",
   "metadata": {},
   "outputs": [],
   "source": [
    "def get_idxes_with_cat(_y_train: np.ndarray, code:str):\n",
    "    y_train_raw = mult_lbl_enc.inverse_transform(_y_train)\n",
    "    return [i for i,cs in enumerate(y_train_raw) if code in cs]\n",
    "\n",
    "def get_truth_pred_pairs(_y_train, _y_pred, indices):\n",
    "    truth = mult_lbl_enc.inverse_transform(_y_train[indices])\n",
    "    pred = _y_pred[indices]\n",
    "    data = list(zip(indices, truth, pred))\n",
    "    return pd.DataFrame(data, columns=['id', 'truth', 'predicted'])\n",
    "\n",
    "def show_truth_pred_tbl(code):\n",
    "    cat_idxes = get_idxes_with_cat(y_train, code)\n",
    "    return get_truth_pred_pairs(y_train, y_pred_mat, cat_idxes)\n",
    "\n",
    "interact(show_truth_pred_tbl, code=mult_lbl_enc.classes_)"
   ]
  },
  {
   "cell_type": "markdown",
   "id": "a209ba5c",
   "metadata": {
    "pycharm": {
     "name": "#%% md\n"
    }
   },
   "source": [
    "Seems like the baseline is not performing well on predicting classes for:\n",
    "\n",
    "A, F, N, S, T, W, X, Y"
   ]
  },
  {
   "cell_type": "code",
   "execution_count": null,
   "id": "3dd9f4eb",
   "metadata": {
    "pycharm": {
     "name": "#%%\n"
    }
   },
   "outputs": [],
   "source": [
    "from sklearn.metrics.pairwise import cosine_similarity\n",
    "\n",
    "cat_dropdown = widgets.Dropdown(options=mult_lbl_enc.classes_)\n",
    "id_dropdown = widgets.Dropdown(options=get_idxes_with_cat(y_train, cat_dropdown.value))\n",
    "\n",
    "def refresh_id_dropdown(*args):\n",
    "    id_dropdown.options = get_idxes_with_cat(y_train, cat_dropdown.value)\n",
    "\n",
    "cat_dropdown.observe(refresh_id_dropdown, 'value')\n",
    "\n",
    "def show_cosine_similarity(_id):\n",
    "    cos_sim = cosine_similarity(X_train[_id], description_vec)[0]\n",
    "    cos_sim = pd.DataFrame(list(zip(mult_lbl_enc.classes_, cos_sim)), columns=['category', 'cos sim'])\n",
    "    cos_sim = cos_sim.set_index('category').T\n",
    "    grid_kws = {\"height_ratios\": (.9, .05), \"hspace\": -0.5}\n",
    "    f, (ax, cbar_ax) = plt.subplots(2, gridspec_kw=grid_kws)\n",
    "    sns.heatmap(cos_sim, square=True, ax=ax,\n",
    "                cbar_ax=cbar_ax,\n",
    "                cbar_kws={\"orientation\": \"horizontal\"},\n",
    "                cmap='Greens')\n",
    "\n",
    "def show_keywords_true_pred(_id, _cat):\n",
    "    fig, (ax1, ax2) = plt.subplots(1, 2, figsize=(10,5))\n",
    "    ax1.title.set_text('BOW from sample transcipt')\n",
    "    ax2.title.set_text('BOW of predicted class')\n",
    "    explain_bow_vector(X_train[_id], ax=ax1)\n",
    "    explain_category(_cat, ax=ax2)\n",
    "\n",
    "def view_record(_cat, _id):\n",
    "    global test\n",
    "    pred_cat = mult_lbl_enc.inverse_transform(np.array(y_pred_mat)[_id:_id+1])[0][0]\n",
    "    record = train_set.iloc[_id]\n",
    "    info = [f\"Index: {_id}\",\n",
    "           f\"Id: {record['record_id']}\",\n",
    "           f\"Actual: {mult_lbl_enc.inverse_transform(y_train[_id:_id+1])}\",\n",
    "           f\"Predicted: {pred_cat}\"]\n",
    "    display(*info)\n",
    "    show_keywords_true_pred(_id, pred_cat)\n",
    "    show_cosine_similarity(_id)\n",
    "\n",
    "interact(view_record, _cat=cat_dropdown, _id=id_dropdown)"
   ]
  },
  {
   "cell_type": "code",
   "execution_count": null,
   "id": "57da71e4",
   "metadata": {
    "pycharm": {
     "name": "#%%\n"
    }
   },
   "outputs": [],
   "source": [
    "# Note: print statements does not work in PyCharm\n",
    "evaluate_classifications(y_train, y_pred_mat, mult_lbl_enc.classes_)\n",
    "\n",
    "def plot_multilabel_conf_matrix(targets, predictions):\n",
    "    print(f\"multilabel_confusion_matrix:\")\n",
    "    conf_mat = multilabel_confusion_matrix(targets, predictions)\n",
    "\n",
    "    for cls, mat in zip(mult_lbl_enc.classes_, conf_mat):\n",
    "        fig = plt.figure(figsize=(1,1))\n",
    "        ax = fig.add_subplot()\n",
    "        ax.set_title(cls)\n",
    "        sns.heatmap(mat, ax=ax, cmap='Blues', annot=True, fmt=\"d\")\n",
    "        ax.set_xlabel('pred')\n",
    "        ax.set_ylabel('true')\n",
    "        fig.show()\n",
    "\n",
    "# plot_multilabel_conf_matrix(y_train, y_pred_mat)"
   ]
  },
  {
   "cell_type": "markdown",
   "id": "c90dbae6",
   "metadata": {
    "pycharm": {
     "name": "#%% md\n"
    }
   },
   "source": [
    "For `average` parameter to take the average metrics over all classes, please see [documentation](https://scikit-learn.org/stable/modules/model_evaluation.html#from-binary-to-multiclass-and-multilabel)."
   ]
  },
  {
   "cell_type": "markdown",
   "id": "f8215587",
   "metadata": {
    "pycharm": {
     "name": "#%% md\n"
    }
   },
   "source": [
    "## Binary Naive Bayes Classifier"
   ]
  },
  {
   "cell_type": "code",
   "execution_count": 29,
   "id": "c76bead7",
   "metadata": {},
   "outputs": [],
   "source": [
    "from sklearn.naive_bayes import MultinomialNB"
   ]
  },
  {
   "cell_type": "code",
   "execution_count": 30,
   "id": "0fbd55fa",
   "metadata": {},
   "outputs": [
    {
     "name": "stdout",
     "output_type": "stream",
     "text": [
      "0.9030987263301062\n",
      "0.9685422009049662\n"
     ]
    }
   ],
   "source": [
    "def run_binary_naive_bayes(X_train, y_train, X_test):\n",
    "    nclasses = y_train.shape[1]\n",
    "\n",
    "    y_pred_mat = np.zeros((X_test.shape[0], nclasses))\n",
    "    y_pred_probs = np.zeros((X_test.shape[0], nclasses))\n",
    "\n",
    "    for c in range(nclasses):\n",
    "        # iterate over the classes and make a classifier for each class\n",
    "\n",
    "        # skip classes with no test instances!\n",
    "        if not np.any(y_test[:, c]):\n",
    "            continue\n",
    "\n",
    "        clf = MultinomialNB(alpha=0.001)\n",
    "        clf.fit(X_train, y_train[:, c])\n",
    "\n",
    "        y_te_pred_c = clf.predict(X_test)\n",
    "        # y_pred_mat[:, c] = y_te_pred_c\n",
    "\n",
    "        y_pred_probs[:, c] = clf.predict_proba(X_test)[:, 1]\n",
    "        y_pred_mat[:, c] = y_pred_probs[:, c] > 0.1\n",
    "\n",
    "    return y_pred_mat, y_pred_probs\n",
    "\n",
    "y_pred_mat, y_pred_probs = run_binary_naive_bayes(X_train, y_train, X_train)  # performance on training set\n",
    "print(evaluate_classifications(y_train, y_pred_mat, mult_lbl_enc.classes_))\n",
    "print(evaluate_probabilities(y_train, y_pred_probs))"
   ]
  },
  {
   "cell_type": "markdown",
   "id": "f61f4540",
   "metadata": {
    "pycharm": {
     "name": "#%% md\n"
    }
   },
   "source": [
    "## Multiclass Naïve Bayes Classifier"
   ]
  },
  {
   "cell_type": "code",
   "execution_count": 31,
   "id": "7513251d",
   "metadata": {},
   "outputs": [
    {
     "data": {
      "text/plain": [
       "0.8209232004845437"
      ]
     },
     "execution_count": 31,
     "metadata": {},
     "output_type": "execute_result"
    }
   ],
   "source": [
    "def run_multiclass_naive_bayes(X_train, y_train, X_test):\n",
    "    clf = MultinomialNB(alpha=0.001, fit_prior=False)\n",
    "    clf.fit(X_train, np.argmax(y_train, 1))\n",
    "\n",
    "    y_pred_probs = clf.predict_proba(X_test)\n",
    "\n",
    "    y_pred_mat = y_pred_probs > 0.1\n",
    "\n",
    "    return y_pred_mat, y_pred_probs\n",
    "\n",
    "y_pred_mat, y_pred_probs = run_multiclass_naive_bayes(X_train, y_train, X_train)\n",
    "evaluate_classifications(y_train, y_pred_mat, mult_lbl_enc.classes_)\n",
    "evaluate_probabilities(y_train, y_pred_probs)"
   ]
  },
  {
   "cell_type": "markdown",
   "id": "b5d84ce8",
   "metadata": {
    "pycharm": {
     "name": "#%% md\n"
    }
   },
   "source": [
    "## SVM Classifier"
   ]
  },
  {
   "cell_type": "code",
   "execution_count": 22,
   "id": "e5082741",
   "metadata": {},
   "outputs": [
    {
     "data": {
      "text/plain": [
       "0.7251912904771003"
      ]
     },
     "execution_count": 22,
     "metadata": {},
     "output_type": "execute_result"
    }
   ],
   "source": [
    "from sklearn.svm import SVC\n",
    "\n",
    "def run_svm(X_train, y_train, X_test):\n",
    "    nclasses = y_train.shape[1]\n",
    "\n",
    "    clf = SVC(kernel='rbf', C=2)\n",
    "\n",
    "    clf.fit(X_train, np.argmax(y_train, 1))\n",
    "\n",
    "    y_pred = clf.predict(X_test)\n",
    "\n",
    "    y_pred_mat = np.zeros((y_pred.shape[0], nclasses))\n",
    "    y_pred_mat[np.arange(y_pred.shape[0]), y_pred] = 1\n",
    "\n",
    "    return y_pred_mat\n",
    "\n",
    "y_pred_mat = run_svm(X_train, y_train, X_train)\n",
    "evaluate_classifications(y_train, y_pred_mat, mult_lbl_enc.classes_)"
   ]
  },
  {
   "cell_type": "code",
   "execution_count": 23,
   "id": "bbfc0e16",
   "metadata": {},
   "outputs": [
    {
     "data": {
      "text/plain": [
       "0.9319308740445331"
      ]
     },
     "execution_count": 23,
     "metadata": {},
     "output_type": "execute_result"
    }
   ],
   "source": [
    "def run_binary_svm(X_train, y_train, X_test):\n",
    "    nclasses = y_train.shape[1]\n",
    "\n",
    "    y_pred_mat = np.zeros((X_test.shape[0], nclasses))\n",
    "\n",
    "    for c in range(nclasses):\n",
    "        # iterate over the classes and make a classifier for each class\n",
    "\n",
    "        # skip classes with no test instances!\n",
    "        if not np.any(y_test[:, c]):\n",
    "            continue\n",
    "\n",
    "        clf = SVC(kernel='rbf', C=2)\n",
    "        clf.fit(X_train, y_train[:, c])\n",
    "\n",
    "        y_te_pred_c = clf.predict(X_test)\n",
    "        y_pred_mat[:, c] = y_te_pred_c\n",
    "\n",
    "    return y_pred_mat\n",
    "\n",
    "y_pred_mat = run_binary_svm(X_train, y_train, X_train)\n",
    "evaluate_classifications(y_train, y_pred_mat, mult_lbl_enc.classes_)"
   ]
  },
  {
   "cell_type": "markdown",
   "id": "0407da9a",
   "metadata": {
    "pycharm": {
     "name": "#%% md\n"
    }
   },
   "source": [
    "## Test Different Stopwords and Descriptions"
   ]
  },
  {
   "cell_type": "code",
   "execution_count": 39,
   "id": "e11c6061",
   "metadata": {
    "pycharm": {
     "name": "#%%\n"
    }
   },
   "outputs": [],
   "source": [
    "def run_performance_assessment(method):\n",
    "    stopword_settings = [\n",
    "#          [],\n",
    "#          ['m'],\n",
    "#          ['c'],\n",
    "#          ['e'],\n",
    "#          ['m', 'c'],\n",
    "#          ['m', 'e'],\n",
    "         ['c', 'e'],\n",
    "#          ['m', 'c', 'e']\n",
    "    ]\n",
    "\n",
    "    description_settings = ['both']  # ['ICPC only', 'CKS only', 'both']\n",
    "\n",
    "    f1_matrix = np.zeros((len(stopword_settings), len(description_settings)))\n",
    "    auroc_matrix = np.zeros((len(stopword_settings), len(description_settings)))\n",
    "\n",
    "    for j, selected_mode in enumerate(description_settings):\n",
    "        description_corpus = load_descriptions(selected_mode, mult_lbl_enc)\n",
    "        for i, s in enumerate(stopword_settings):\n",
    "            set_stopwords('m' in s, 'c' in s, 'e' in s)\n",
    "            description_vec, text_vectorizer = get_description_vectors(description_corpus, stopwords)\n",
    "\n",
    "            X_train = text_vectorizer.transform(train_set[key])\n",
    "\n",
    "            if method == 'nearest centroid':\n",
    "                y_pred_mat = run_nearest_centroid(description_vec, mult_lbl_enc, X_train)  # performance on training set\n",
    "                f1_matrix[i, j] = evaluate_classifications(y_train, y_pred_mat, mult_lbl_enc.classes_, show_report=False)\n",
    "            elif method == 'distance':\n",
    "                y_pred_mat = run_distance_classifier(description_vec, X_train, y_train, X_train)  # performance on training set\n",
    "                f1_matrix[i, j] = evaluate_classifications(y_train, y_pred_mat, mult_lbl_enc.classes_, show_report=False)\n",
    "            elif method == 'binary NB':\n",
    "                y_pred_mat, y_pred_probs = run_binary_naive_bayes(X_train, y_train, X_train)  # performance on training set\n",
    "                f1_matrix[i, j] = evaluate_classifications(y_train, y_pred_mat, mult_lbl_enc.classes_, show_report=False)\n",
    "                auroc_matrix[i, j] = evaluate_probabilities(y_train, y_pred_probs)\n",
    "            elif method == 'multiclass NB':\n",
    "                y_pred_mat, y_pred_probs = run_multiclass_naive_bayes(X_train, y_train, X_train)  # performance on training set\n",
    "                f1_matrix[i, j] = evaluate_classifications(y_train, y_pred_mat, mult_lbl_enc.classes_, show_report=False)\n",
    "                auroc_matrix[i, j] = evaluate_probabilities(y_train, y_pred_probs)\n",
    "            elif method == 'binary SVM':\n",
    "                y_pred_mat = run_binary_svm(X_train, y_train, X_train)  # performance on training set\n",
    "                f1_matrix[i, j] = evaluate_classifications(y_train, y_pred_mat, mult_lbl_enc.classes_, show_report=False)\n",
    "            elif method == 'multiclass SVM':\n",
    "                y_pred_mat = run_svm(X_train, y_train, X_train)  # performance on training set\n",
    "                f1_matrix[i, j] = evaluate_classifications(y_train, y_pred_mat, mult_lbl_enc.classes_, show_report=False)\n",
    "\n",
    "    max_idx = np.unravel_index(np.argmax(f1_matrix), f1_matrix.shape)\n",
    "    best_tr_f1 = np.max(f1_matrix)\n",
    "    best_stopwords = stopword_settings[max_idx[0]]\n",
    "    best_desc = description_settings[max_idx[1]]\n",
    "    print(f'Method: {method}. The best score on the training set was {best_tr_f1} with {best_stopwords} stopwords and {best_desc} code descriptions.')\n",
    "\n",
    "    print('F1 score matrix for the different settings we tried:')\n",
    "    print(f1_matrix)\n",
    "    print(f'...rows are stopword settings, {stopword_settings}, and columns are code descriptions, {description_settings}')\n",
    "\n",
    "    # use the best settings to run the classifier on the test set\n",
    "    description_corpus = load_descriptions(selected_mode, mult_lbl_enc)\n",
    "    set_stopwords('m' in s, 'c' in s, 'e' in s)\n",
    "    description_vec, text_vectorizer = get_description_vectors(description_corpus, stopwords)\n",
    "\n",
    "    X_test = text_vectorizer.transform(orig_dataset[key])\n",
    "    y_test = y_hot\n",
    "\n",
    "    if method == 'nearest centroid':\n",
    "        y_pred_mat = run_nearest_centroid(description_vec, mult_lbl_enc, X_test)  # performance on training set\n",
    "        f1 = evaluate_classifications(y_test, y_pred_mat, mult_lbl_enc.classes_, show_report=False)\n",
    "        auroc = evaluate_probabilities(y_test, y_pred_mat)\n",
    "    elif method == 'distance':\n",
    "        y_pred_mat = run_distance_classifier(description_vec, X_train, y_train, X_test)  # performance on training set\n",
    "        f1 = evaluate_classifications(y_test, y_pred_mat, mult_lbl_enc.classes_, show_report=False)\n",
    "        auroc = evaluate_probabilities(y_test, y_pred_mat)\n",
    "    elif method == 'binary NB':\n",
    "        y_pred_mat, y_pred_probs = run_binary_naive_bayes(description_vec, mult_lbl_enc.transform(mult_lbl_enc.classes_), X_test)  # performance on training set\n",
    "        f1 = evaluate_classifications(y_test, y_pred_mat, mult_lbl_enc.classes_, show_report=False)\n",
    "        auroc = evaluate_probabilities(y_test, y_pred_probs)\n",
    "    elif method == 'multiclass NB':\n",
    "        y_pred_mat, y_pred_probs = run_multiclass_naive_bayes(description_vec, mult_lbl_enc.transform(mult_lbl_enc.classes_), X_test)  # performance on training set\n",
    "        f1 = evaluate_classifications(y_test, y_pred_mat, mult_lbl_enc.classes_, show_report=False)\n",
    "        auroc = evaluate_probabilities(y_test, y_pred_probs)\n",
    "    elif method == 'binary SVM':\n",
    "        y_pred_mat = run_binary_svm(description_vec, mult_lbl_enc.transform(mult_lbl_enc.classes_), X_test)  # performance on training set\n",
    "        f1 = evaluate_classifications(y_test, y_pred_mat, mult_lbl_enc.classes_, show_report=False)\n",
    "        auroc = evaluate_probabilities(y_test, y_pred_mat)\n",
    "    elif method == 'multiclass SVM':\n",
    "        y_pred_mat = run_svm(description_vec, mult_lbl_enc.transform(mult_lbl_enc.classes_), X_test)  # performance on training set\n",
    "        f1 = evaluate_classifications(y_test, y_pred_mat, mult_lbl_enc.classes_, show_report=False)\n",
    "        auroc = evaluate_probabilities(y_test, y_pred_mat)\n",
    "\n",
    "    print(f'Method: {method}. The F1 score on the test set was {f1}.')\n",
    "\n",
    "    return auroc, f1, best_tr_f1, best_desc, best_stopwords\n"
   ]
  },
  {
   "cell_type": "code",
   "execution_count": 40,
   "id": "c675ce2a",
   "metadata": {},
   "outputs": [
    {
     "data": {
      "text/plain": [
       "array([[1, 0, 0, 0, 0, 0, 0, 0, 0, 0, 0, 0, 0, 0, 0, 0],\n",
       "       [0, 1, 0, 0, 0, 0, 0, 0, 0, 0, 0, 0, 0, 0, 0, 0],\n",
       "       [0, 0, 1, 0, 0, 0, 0, 0, 0, 0, 0, 0, 0, 0, 0, 0],\n",
       "       [0, 0, 0, 1, 0, 0, 0, 0, 0, 0, 0, 0, 0, 0, 0, 0],\n",
       "       [0, 0, 0, 0, 1, 0, 0, 0, 0, 0, 0, 0, 0, 0, 0, 0],\n",
       "       [0, 0, 0, 0, 0, 1, 0, 0, 0, 0, 0, 0, 0, 0, 0, 0],\n",
       "       [0, 0, 0, 0, 0, 0, 1, 0, 0, 0, 0, 0, 0, 0, 0, 0],\n",
       "       [0, 0, 0, 0, 0, 0, 0, 1, 0, 0, 0, 0, 0, 0, 0, 0],\n",
       "       [0, 0, 0, 0, 0, 0, 0, 0, 1, 0, 0, 0, 0, 0, 0, 0],\n",
       "       [0, 0, 0, 0, 0, 0, 0, 0, 0, 1, 0, 0, 0, 0, 0, 0],\n",
       "       [0, 0, 0, 0, 0, 0, 0, 0, 0, 0, 1, 0, 0, 0, 0, 0],\n",
       "       [0, 0, 0, 0, 0, 0, 0, 0, 0, 0, 0, 1, 0, 0, 0, 0],\n",
       "       [0, 0, 0, 0, 0, 0, 0, 0, 0, 0, 0, 0, 1, 0, 0, 0],\n",
       "       [0, 0, 0, 0, 0, 0, 0, 0, 0, 0, 0, 0, 0, 1, 0, 0],\n",
       "       [0, 0, 0, 0, 0, 0, 0, 0, 0, 0, 0, 0, 0, 0, 1, 0],\n",
       "       [0, 0, 0, 0, 0, 0, 0, 0, 0, 0, 0, 0, 0, 0, 0, 1]])"
      ]
     },
     "execution_count": 40,
     "metadata": {},
     "output_type": "execute_result"
    }
   ],
   "source": [
    "mult_lbl_enc.transform(mult_lbl_enc.classes_)"
   ]
  },
  {
   "cell_type": "code",
   "execution_count": 41,
   "id": "f30a779c",
   "metadata": {
    "pycharm": {
     "name": "#%%\n"
    }
   },
   "outputs": [
    {
     "name": "stdout",
     "output_type": "stream",
     "text": [
      "Method: nearest centroid. The best score on the training set was 0.385337018678755 with ['c', 'e'] stopwords and both code descriptions.\n",
      "F1 score matrix for the different settings we tried:\n",
      "[[0.38533702]]\n",
      "...rows are stopword settings, [['c', 'e']], and columns are code descriptions, ['both']\n",
      "Method: nearest centroid. The F1 score on the test set was 0.41892152303546837.\n",
      "Method: distance. The best score on the training set was 0.36838100570258936 with ['c', 'e'] stopwords and both code descriptions.\n",
      "F1 score matrix for the different settings we tried:\n",
      "[[0.36838101]]\n",
      "...rows are stopword settings, [['c', 'e']], and columns are code descriptions, ['both']\n",
      "Method: distance. The F1 score on the test set was 0.4050089324109435.\n",
      "Method: binary NB. The best score on the training set was 0.9259840163089578 with ['c', 'e'] stopwords and both code descriptions.\n",
      "F1 score matrix for the different settings we tried:\n",
      "[[0.92598402]]\n",
      "...rows are stopword settings, [['c', 'e']], and columns are code descriptions, ['both']\n",
      "Method: binary NB. The F1 score on the test set was 0.3028159056461449.\n",
      "Method: multiclass NB. The best score on the training set was 0.7235784190900085 with ['c', 'e'] stopwords and both code descriptions.\n",
      "F1 score matrix for the different settings we tried:\n",
      "[[0.72357842]]\n",
      "...rows are stopword settings, [['c', 'e']], and columns are code descriptions, ['both']\n",
      "Method: multiclass NB. The F1 score on the test set was 0.40439935042741476.\n",
      "Method: binary SVM. The best score on the training set was 0.9375 with ['c', 'e'] stopwords and both code descriptions.\n",
      "F1 score matrix for the different settings we tried:\n",
      "[[0.9375]]\n",
      "...rows are stopword settings, [['c', 'e']], and columns are code descriptions, ['both']\n",
      "Method: binary SVM. The F1 score on the test set was 0.0.\n",
      "Method: multiclass SVM. The best score on the training set was 0.7243101406982112 with ['c', 'e'] stopwords and both code descriptions.\n",
      "F1 score matrix for the different settings we tried:\n",
      "[[0.72431014]]\n",
      "...rows are stopword settings, [['c', 'e']], and columns are code descriptions, ['both']\n",
      "Method: multiclass SVM. The F1 score on the test set was 0.41892152303546837.\n"
     ]
    }
   ],
   "source": [
    "auroc = {}\n",
    "f1scores = {}\n",
    "tr_f1scores = {}\n",
    "best_descriptions = {}\n",
    "best_stopwords = {}\n",
    "\n",
    "def run_and_record_metrics(classifier_name):\n",
    "    auroc[classifier_name], f1scores[classifier_name], tr_f1scores[classifier_name], \\\n",
    "        best_descriptions[classifier_name], best_stopwords[classifier_name] \\\n",
    "    = run_performance_assessment(classifier_name)\n",
    "\n",
    "classifiers_to_run = [\n",
    "    'nearest centroid',\n",
    "    'distance',\n",
    "    'binary NB',\n",
    "    'multiclass NB',\n",
    "    'binary SVM', \n",
    "    'multiclass SVM'\n",
    "]    \n",
    "\n",
    "for classifier in classifiers_to_run:\n",
    "    run_and_record_metrics(classifier)"
   ]
  },
  {
   "cell_type": "markdown",
   "id": "f0567a1f",
   "metadata": {},
   "source": [
    "It looks like there is lots of overfitting of the classifiers above, as there is high trainign set performance and low test set performance, especially when using multiple binary classifiers. "
   ]
  },
  {
   "cell_type": "code",
   "execution_count": null,
   "id": "9300eab6",
   "metadata": {
    "pycharm": {
     "name": "#%%\n"
    }
   },
   "outputs": [],
   "source": [
    "f1scores"
   ]
  },
  {
   "cell_type": "code",
   "execution_count": null,
   "id": "632fcd94",
   "metadata": {
    "pycharm": {
     "name": "#%%\n"
    }
   },
   "outputs": [],
   "source": [
    "tr_f1scores"
   ]
  },
  {
   "cell_type": "code",
   "execution_count": null,
   "id": "5bd2b464",
   "metadata": {
    "pycharm": {
     "name": "#%%\n"
    }
   },
   "outputs": [],
   "source": [
    "best_stopwords"
   ]
  },
  {
   "cell_type": "code",
   "execution_count": null,
   "id": "017d261a",
   "metadata": {
    "pycharm": {
     "name": "#%%\n"
    }
   },
   "outputs": [],
   "source": [
    "best_descriptions"
   ]
  },
  {
   "cell_type": "code",
   "execution_count": null,
   "id": "d78a5275",
   "metadata": {
    "pycharm": {
     "name": "#%%\n"
    }
   },
   "outputs": [],
   "source": [
    "auroc"
   ]
  },
  {
   "cell_type": "code",
   "execution_count": null,
   "id": "4c85f2e1",
   "metadata": {
    "pycharm": {
     "name": "#%%\n"
    }
   },
   "outputs": [],
   "source": []
  }
 ],
 "metadata": {
  "interpreter": {
   "hash": "c3a989c1c4f35d9c79558ac666af47d36cc0a04287b51672eb032c91327315c2"
  },
  "kernelspec": {
   "display_name": "py39",
   "language": "python",
   "name": "python3"
  },
  "language_info": {
   "codemirror_mode": {
    "name": "ipython",
    "version": 3
   },
   "file_extension": ".py",
   "mimetype": "text/x-python",
   "name": "python",
   "nbconvert_exporter": "python",
   "pygments_lexer": "ipython3",
   "version": "3.9.7"
  }
 },
 "nbformat": 4,
 "nbformat_minor": 5
}
