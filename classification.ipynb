{
 "cells": [
  {
   "cell_type": "code",
   "execution_count": 2,
   "id": "f2bec071",
   "metadata": {
    "scrolled": true
   },
   "outputs": [],
   "source": [
    "import os\n",
    "import ipywidgets as widgets\n",
    "import numpy as np\n",
    "import pandas as pd\n",
    "import scipy.sparse\n",
    "from IPython.display import display\n",
    "from ipywidgets import interact\n",
    "\n",
    "%matplotlib inline\n",
    "from matplotlib import pyplot as plt\n",
    "\n",
    "from utils.metrics.metric import evaluate_classifications, evaluate_probabilities\n",
    "%load_ext autoreload\n",
    "%autoreload 2"
   ]
  },
  {
   "cell_type": "markdown",
   "id": "a1ea4eb6-0bd9-43b8-98cc-c26caca9fa97",
   "metadata": {
    "pycharm": {
     "name": "#%% md\n"
    },
    "tags": []
   },
   "source": [
    "# Data preparation\n",
    "\n",
    "First split the orig_dataset into train and test set, then we need to\n",
    "pre-process the transcript data\n",
    "\n",
    "This includes, cleaning text, stemming and lemmatization"
   ]
  },
  {
   "cell_type": "code",
   "execution_count": 3,
   "id": "310fb443-83b6-4e2d-a5d7-79b9b8c662fd",
   "metadata": {
    "pycharm": {
     "name": "#%%\n"
    }
   },
   "outputs": [
    {
     "name": "stderr",
     "output_type": "stream",
     "text": [
      "[nltk_data] Downloading package wordnet to /Users/es1595/nltk_data...\n",
      "[nltk_data]   Package wordnet is already up-to-date!\n"
     ]
    },
    {
     "name": "stdout",
     "output_type": "stream",
     "text": [
      "loading codes from PE...\n"
     ]
    },
    {
     "name": "stderr",
     "output_type": "stream",
     "text": [
      "[nltk_data] Downloading package punkt to /Users/es1595/nltk_data...\n",
      "[nltk_data]   Package punkt is already up-to-date!\n",
      "The current IDs only have record documents.\n",
      "['011119' '020105' '030501' '030509' '030510' '050609' '050717' '050719'\n",
      " '071010' '071211' '081310' '081608' '081610' '091410' '091411' '091416'\n",
      " '101705' '101707' '111906' '111908' '112004' '122110']\n",
      "The current IDs only have transcript documents.\n",
      "['-081308' '010103' '010105' '020107' '030501(p.2)' '030501(p1)'\n",
      " '030509(p.1)' '030509(p.2)' '030510 (p.1)' '030510 (p.2)' '040417'\n",
      " '050605' '050609a' '050717 (Dr reads wrong number)' '060806' '060811'\n",
      " '060812' '060906' '071002' '071010(a)' '071012' '071211 (Part 1 of 2)'\n",
      " '071211 (Part 2 of 2)' '081310(b)' '081310(c)' '081310a' '081601'\n",
      " '081606' '081608 (1 of 2)' '081608 (2 of 2)' '091402' '091404' '091405'\n",
      " '091410 & 091411' '091503' '101705 and 101707' '101801' '111906 (2of2)'\n",
      " '111906(1 of 2)' '112002' '112004 & 1112005' '112014' '200105' '50719']\n"
     ]
    },
    {
     "name": "stdout",
     "output_type": "stream",
     "text": [
      "RDSF base directory located at /Volumes/NLP_One_In_A_Million\n",
      "16 classification categories: ['A' 'B' 'D' 'F' 'H' 'K' 'L' 'N' 'P' 'R' 'S' 'T' 'U' 'W' 'X' 'Y']\n"
     ]
    }
   ],
   "source": [
    "from prepare_data import prepare_original_data\n",
    "\n",
    "# YOU MAY NEED TO SET THE LOCATION OF THE DATASET IN oneinamillion/resources.py.\n",
    "orig_dataset, mult_lbl_enc, y_hot = prepare_original_data()"
   ]
  },
  {
   "cell_type": "code",
   "execution_count": 4,
   "id": "8f9fbb9f",
   "metadata": {},
   "outputs": [
    {
     "data": {
      "text/plain": [
       "{'U': 18,\n",
       " 'B': 8,\n",
       " 'S': 35,\n",
       " 'P': 51,\n",
       " 'Y': 7,\n",
       " 'T': 26,\n",
       " 'A': 15,\n",
       " 'L': 69,\n",
       " 'W': 11,\n",
       " 'D': 44,\n",
       " 'N': 20,\n",
       " 'K': 34,\n",
       " 'R': 37,\n",
       " 'X': 14,\n",
       " 'H': 11,\n",
       " 'F': 5}"
      ]
     },
     "execution_count": 4,
     "metadata": {},
     "output_type": "execute_result"
    }
   ],
   "source": [
    "labels = {}\n",
    "for codes in orig_dataset['codes']:\n",
    "    #print(codes)\n",
    "    for code in codes:\n",
    "        if code not in labels:\n",
    "            labels[code] = 0\n",
    "            \n",
    "        labels[code] += 1\n",
    "        \n",
    "labels"
   ]
  },
  {
   "cell_type": "markdown",
   "id": "f44e8574",
   "metadata": {
    "pycharm": {
     "name": "#%% md\n"
    }
   },
   "source": [
    "# Medical Code descriptions"
   ]
  },
  {
   "cell_type": "code",
   "execution_count": 5,
   "id": "6de7bd1b",
   "metadata": {
    "pycharm": {
     "name": "#%%\n"
    }
   },
   "outputs": [
    {
     "data": {
      "application/vnd.jupyter.widget-view+json": {
       "model_id": "2fe7d4b925754cf7bc96bcdede82c47e",
       "version_major": 2,
       "version_minor": 0
      },
      "text/plain": [
       "interactive(children=(Dropdown(description='mode', options=('ICPC only', 'CKS only', 'ICPC and CKS'), value='I…"
      ]
     },
     "metadata": {},
     "output_type": "display_data"
    },
    {
     "data": {
      "text/plain": [
       "<function __main__.control_description(mode='ICPC only')>"
      ]
     },
     "execution_count": 5,
     "metadata": {},
     "output_type": "execute_result"
    }
   ],
   "source": [
    "selected_mode = None\n",
    "modes = ['ICPC only', 'CKS only', 'ICPC and CKS']\n",
    "def control_description(mode=modes[0]):\n",
    "    global selected_mode\n",
    "    selected_mode = mode\n",
    "\n",
    "interact(control_description, mode=modes)"
   ]
  },
  {
   "cell_type": "code",
   "execution_count": 6,
   "id": "8032abed",
   "metadata": {},
   "outputs": [],
   "source": [
    "# interaction donot work for me\n",
    "selected_mode = 'CKS only'"
   ]
  },
  {
   "cell_type": "code",
   "execution_count": 7,
   "id": "319ecbc0",
   "metadata": {
    "pycharm": {
     "name": "#%% combine the two\n"
    }
   },
   "outputs": [],
   "source": [
    "from prepare_data import load_descriptions\n",
    "\n",
    "# If loading the ICPC descriptions, we take three columns: inclusion, exclusion, consider.\n",
    "# If loading the CKS descriptions (which are mapped to corresponding ICPC codes), \n",
    "# we take the text from subheadings defined in the default_headings_to_include variable in \n",
    "# oneinamillion/clinical_codes/cks.py \n",
    "\n",
    "description_corpus = load_descriptions(selected_mode)"
   ]
  },
  {
   "cell_type": "code",
   "execution_count": 8,
   "id": "cfa0dd64-288e-4cde-8204-419028981b49",
   "metadata": {
    "pycharm": {
     "name": "#%% combine the two\n"
    }
   },
   "outputs": [],
   "source": [
    "from prepare_data import load_descriptions\n",
    "\n",
    "# If loading the ICPC descriptions, we take three columns: inclusion, exclusion, \n",
    "\n",
    "description_corpus = load_descriptions(selected_mode)"
   ]
  },
  {
   "cell_type": "code",
   "execution_count": 9,
   "id": "9a1dd1fb",
   "metadata": {},
   "outputs": [
    {
     "data": {
      "text/plain": [
       "A    adverse drug reaction (adr) defined as:an unwa...\n",
       "B    vitamin b12 deficiencybody store vitamin b12 r...\n",
       "D    primary anal fissure clear underlying cause.ac...\n",
       "F    age-related macular degeneration (amd) potenti...\n",
       "H    cholesteatoma abnormal accumulation squamous e...\n",
       "K    angina pain (or constricting discomfort) chest...\n",
       "L    tendinopathy term describing pain, swelling, i...\n",
       "N    overall uk, neisseria meningitidis (meningococ...\n",
       "P    exact cause attention deficit hyperactivity di...\n",
       "R    development allergic rhinitis mediated genetic...\n",
       "S    pathogenesis acne completely understood though...\n",
       "T    western countries, addison's disease commonly ...\n",
       "U    cause acute kidney injury divided into:pre-ren...\n",
       "W    depression refers spectrum mental health probl...\n",
       "X    cause primary amenorrhoea normal secondary sex...\n",
       "Y    balanitis may caused range different condition...\n",
       "Name: keyword, dtype: object"
      ]
     },
     "execution_count": 9,
     "metadata": {},
     "output_type": "execute_result"
    }
   ],
   "source": [
    "description_corpus"
   ]
  },
  {
   "cell_type": "markdown",
   "id": "18e2f127",
   "metadata": {
    "pycharm": {
     "name": "#%% md\n"
    }
   },
   "source": [
    "# Bag of words representations\n",
    "\n",
    "This section extracts vector representations of the ICPC code descriptions and transcripts and loads a set of stopwords. It works like this:\n",
    "\n",
    "- Apply TF-IDF to ICPC code descriptions\n",
    "- Exclude the stopwords\n",
    "- Include both unigrams and bigrams\n",
    "- Keeps only the top 5000 features with the highest scores"
   ]
  },
  {
   "cell_type": "code",
   "execution_count": 10,
   "id": "0405f32d",
   "metadata": {
    "pycharm": {
     "is_executing": true,
     "name": "#%%\n"
    }
   },
   "outputs": [
    {
     "data": {
      "application/vnd.jupyter.widget-view+json": {
       "model_id": "1b66673d4ace4f71a594a713af78cbd4",
       "version_major": 2,
       "version_minor": 0
      },
      "text/plain": [
       "interactive(children=(Checkbox(value=True, description='m'), Checkbox(value=True, description='c'), Checkbox(v…"
      ]
     },
     "metadata": {},
     "output_type": "display_data"
    },
    {
     "data": {
      "text/plain": [
       "<function __main__.set_stopwords(m, c, e)>"
      ]
     },
     "execution_count": 10,
     "metadata": {},
     "output_type": "execute_result"
    }
   ],
   "source": [
    "from utils.stopwords import get_medical_stopwords, get_custom_stopwords, get_english_stopwords\n",
    "medical_stopwords = get_medical_stopwords()\n",
    "custom_stopwords = get_custom_stopwords()\n",
    "english_stopwords = get_english_stopwords()\n",
    "\n",
    "use_med, use_cus, use_eng = False, False, False\n",
    "stopwords = []\n",
    "\n",
    "def update_stopwords():\n",
    "    global stopwords\n",
    "    stopwords = []\n",
    "    if use_med:\n",
    "        stopwords += medical_stopwords\n",
    "    if use_cus:\n",
    "        stopwords += custom_stopwords\n",
    "    if use_eng:\n",
    "        stopwords += english_stopwords\n",
    "    # display(f\"number of stopwords: {len(stopwords)}\")\n",
    "\n",
    "def set_stopwords(m,c,e):\n",
    "    global use_med, use_cus, use_eng\n",
    "    use_med = m\n",
    "    use_cus = c\n",
    "    use_eng = e\n",
    "    update_stopwords()\n",
    "\n",
    "interact(set_stopwords, m=True, c=True, e=False)"
   ]
  },
  {
   "cell_type": "code",
   "execution_count": 11,
   "id": "e9f0aaa4",
   "metadata": {
    "pycharm": {
     "name": "#%%\n"
    }
   },
   "outputs": [],
   "source": [
    "from sklearn.feature_extraction.text import TfidfVectorizer\n",
    "\n",
    "def get_description_vectors(description_corpus, stopwords):\n",
    "    max_features=5000\n",
    "\n",
    "    text_vectorizer = TfidfVectorizer(ngram_range=(1,2), stop_words=stopwords, max_features=max_features)\n",
    "    description_vec = text_vectorizer.fit_transform(description_corpus)\n",
    "    # print(f\"icpc description bag-of-word matrix shape: {description_vec.shape}\")\n",
    "    vec_vocab = text_vectorizer.vocabulary_ # dictionary that contain the BOW tokens\n",
    "\n",
    "    # print(f\"bag-of-word tokens: {', '.join(list(vec_vocab.keys())[:5])}...\")\n",
    "    # print(f\"vocabulary size: {len(vec_vocab)}\")\n",
    "\n",
    "    return description_vec, text_vectorizer\n",
    "\n",
    "# Feature vectors for the descriptions\n",
    "description_vec, text_vectorizer = get_description_vectors(description_corpus, stopwords)"
   ]
  },
  {
   "cell_type": "code",
   "execution_count": 12,
   "id": "965f8bc1",
   "metadata": {},
   "outputs": [
    {
     "name": "stdout",
     "output_type": "stream",
     "text": [
      "[[1 0 0 0 0 0 0 0 0 0 0 0 0 0 0 0]\n",
      " [0 1 0 0 0 0 0 0 0 0 0 0 0 0 0 0]\n",
      " [0 0 1 0 0 0 0 0 0 0 0 0 0 0 0 0]\n",
      " [0 0 0 1 0 0 0 0 0 0 0 0 0 0 0 0]\n",
      " [0 0 0 0 1 0 0 0 0 0 0 0 0 0 0 0]\n",
      " [0 0 0 0 0 1 0 0 0 0 0 0 0 0 0 0]\n",
      " [0 0 0 0 0 0 1 0 0 0 0 0 0 0 0 0]\n",
      " [0 0 0 0 0 0 0 1 0 0 0 0 0 0 0 0]\n",
      " [0 0 0 0 0 0 0 0 1 0 0 0 0 0 0 0]\n",
      " [0 0 0 0 0 0 0 0 0 1 0 0 0 0 0 0]\n",
      " [0 0 0 0 0 0 0 0 0 0 1 0 0 0 0 0]\n",
      " [0 0 0 0 0 0 0 0 0 0 0 1 0 0 0 0]\n",
      " [0 0 0 0 0 0 0 0 0 0 0 0 1 0 0 0]\n",
      " [0 0 0 0 0 0 0 0 0 0 0 0 0 1 0 0]\n",
      " [0 0 0 0 0 0 0 0 0 0 0 0 0 0 1 0]\n",
      " [0 0 0 0 0 0 0 0 0 0 0 0 0 0 0 1]]\n"
     ]
    }
   ],
   "source": [
    "# Get the labels for each description in one-hot-encoding format\n",
    "y = [[i] for i in description_corpus.index]\n",
    "y_desc = mult_lbl_enc.fit_transform(y)\n",
    "print(y_desc)"
   ]
  },
  {
   "cell_type": "code",
   "execution_count": 31,
   "id": "823847d1-6ef3-4d12-920f-8d400b3b5d5e",
   "metadata": {},
   "outputs": [],
   "source": [
    "# Get the transcript data and extract the feature vectors for it.\n",
    "\n",
    "key = 'transcript__conversation_both'\n",
    "# key = 'transcript__conversation_gp'\n",
    "# key = 'transcript__conversation_patient'\n",
    "transcript_data = orig_dataset[key]\n",
    "transcript_test = text_vectorizer.transform(transcript_data)"
   ]
  },
  {
   "cell_type": "markdown",
   "id": "d643fb91",
   "metadata": {},
   "source": [
    "# Classifiers\n",
    "\n",
    "This section defines classification functions that can be used in the following experiments.\n",
    "\n",
    "### NB classifier"
   ]
  },
  {
   "cell_type": "code",
   "execution_count": 14,
   "id": "100169e3",
   "metadata": {},
   "outputs": [],
   "source": [
    "from sklearn.naive_bayes import MultinomialNB\n",
    "\n",
    "def run_multiclass_naive_bayes(X_train, y_train, X_test):\n",
    "    # Each transcript can have one label.\n",
    "    \n",
    "    clf = MultinomialNB(alpha=0.001, fit_prior=False)\n",
    "    clf.fit(X_train, np.argmax(y_train, 1))\n",
    "\n",
    "    y_pred_probs = clf.predict_proba(X_test)\n",
    "    \n",
    "    nmissing_classes = y_desc.shape[1] - y_pred_probs.shape[1]\n",
    "    if nmissing_classes:\n",
    "        y_missing = np.zeros((y_pred_probs.shape[0], nmissing_classes))\n",
    "        y_pred_probs = np.concatenate((y_pred_probs, y_missing), axis=1)\n",
    "\n",
    "    y_pred_mat = y_pred_probs > 0.1\n",
    "\n",
    "        \n",
    "    return y_pred_mat, y_pred_probs"
   ]
  },
  {
   "cell_type": "code",
   "execution_count": 15,
   "id": "9ed89fdf-0fbb-4f11-89fe-fb3d15234c6f",
   "metadata": {},
   "outputs": [],
   "source": [
    "def run_binary_naive_bayes(X_train, y_train, X_test):\n",
    "    # Consider applying each label to every transcript, i.e., a binary decision per code\n",
    "    \n",
    "    nclasses = y_train.shape[1]\n",
    "\n",
    "    y_pred_mat = np.zeros((X_test.shape[0], nclasses))\n",
    "    y_pred_probs = np.zeros((X_test.shape[0], nclasses))\n",
    "\n",
    "    for c in range(nclasses):\n",
    "        # iterate over the classes and make a classifier for each class\n",
    "\n",
    "        clf = MultinomialNB(alpha=0.001)\n",
    "        clf.fit(X_train, y_train[:, c])\n",
    "\n",
    "        y_te_pred_c = clf.predict(X_test)\n",
    "        # y_pred_mat[:, c] = y_te_pred_c\n",
    "\n",
    "        y_pred_probs[:, c] = clf.predict_proba(X_test)[:, 1]\n",
    "        y_pred_mat[:, c] = y_pred_probs[:, c] > 0.1\n",
    "\n",
    "    return y_pred_mat, y_pred_probs"
   ]
  },
  {
   "cell_type": "markdown",
   "id": "646e5e7a",
   "metadata": {},
   "source": [
    "### SVM classifier"
   ]
  },
  {
   "cell_type": "code",
   "execution_count": 16,
   "id": "8effb314",
   "metadata": {},
   "outputs": [],
   "source": [
    "from sklearn.svm import SVC\n",
    "\n",
    "def run_multiclass_svm(X_train, y_train, X_test):\n",
    "    nclasses = y_desc.shape[1]\n",
    "\n",
    "    clf = SVC(kernel='rbf', C=2)\n",
    "\n",
    "    clf.fit(X_train, np.argmax(y_train, 1))\n",
    "\n",
    "    y_pred = clf.predict(X_test)\n",
    "    y_pred_probs = clf.decision_function(X_test)\n",
    "    \n",
    "    nmissing_classes = y_desc.shape[1] - y_pred_probs.shape[1]\n",
    "    if nmissing_classes:\n",
    "        y_missing = np.zeros((y_pred_probs.shape[0], nmissing_classes))\n",
    "        y_pred_probs = np.concatenate((y_pred_probs, y_missing), axis=1)\n",
    "\n",
    "    y_pred_mat = np.zeros((y_pred.shape[0], nclasses))\n",
    "    y_pred_mat[np.arange(y_pred.shape[0]), y_pred] = 1\n",
    "\n",
    "    return y_pred_mat, y_pred_probs"
   ]
  },
  {
   "cell_type": "code",
   "execution_count": 17,
   "id": "1b910343-562b-44ab-9e71-70d95bb1f132",
   "metadata": {},
   "outputs": [],
   "source": [
    "from scipy.special import expit\n",
    "\n",
    "def run_binary_svm(X_train, y_train, X_test):\n",
    "    nclasses = y_train.shape[1]\n",
    "\n",
    "    y_pred_mat = np.zeros((X_test.shape[0], nclasses))\n",
    "    y_pred_probs = np.zeros((X_test.shape[0], nclasses))\n",
    "\n",
    "    for c in range(nclasses):\n",
    "        # iterate over the classes and make a classifier for each class\n",
    "\n",
    "        clf = SVC(kernel='rbf', C=2)\n",
    "        clf.fit(X_train, y_train[:, c])\n",
    "\n",
    "        y_te_pred_c = clf.predict(X_test)\n",
    "        \n",
    "        y_pred_probs[:, c] = clf.decision_function(X_test)\n",
    "\n",
    "        y_pred_mat[:, c] = expit(y_pred_probs[:, c]) > 0.5\n",
    "        \n",
    "    return y_pred_mat, y_pred_probs"
   ]
  },
  {
   "cell_type": "markdown",
   "id": "79daa147-1dcb-46f5-b851-50554f2b462d",
   "metadata": {},
   "source": [
    "### Nearest Centroid and Nearest Neighbours"
   ]
  },
  {
   "cell_type": "code",
   "execution_count": 18,
   "id": "a5d66c7d-c460-483b-b6c1-27812dbc8e4b",
   "metadata": {},
   "outputs": [],
   "source": [
    "from sklearn.neighbors import NearestCentroid\n",
    "from sklearn.neighbors import KNeighborsClassifier\n",
    "from sklearn.metrics import f1_score\n",
    "\n",
    "\n",
    "def run_nearest_centroid(X_train, y_train, X_test):\n",
    "    nc_clf = NearestCentroid(metric='euclidean')\n",
    "    nc_clf.fit(X_train, np.argmax(y_train, 1))\n",
    "    y_pred = nc_clf.predict(X_test)    \n",
    "    \n",
    "    y_pred_mat = np.zeros((y_pred.shape[0], y_train.shape[1]))\n",
    "    y_pred_mat[np.arange(y_pred.shape[0]), y_pred] = 1\n",
    "        \n",
    "    return y_pred_mat, y_pred_mat\n",
    "\n",
    "\n",
    "def run_nearest_neighbors(X_train, y_train, X_test, n_neighbors=3):\n",
    "\n",
    "    kn_clf = KNeighborsClassifier(n_neighbors=n_neighbors, weights='distance', metric='cosine')\n",
    "    kn_clf.fit(X_train, np.argmax(y_train, 1))\n",
    "        \n",
    "    y_pred = kn_clf.predict(X_test)\n",
    "    y_pred_mat = np.zeros((y_pred.shape[0], y_desc.shape[1]))\n",
    "    y_pred_mat[np.arange(y_pred.shape[0]), y_pred] = 1\n",
    "        \n",
    "    y_probs = kn_clf.predict_proba(X_test)\n",
    "        \n",
    "    nmissing_classes = y_desc.shape[1] - y_probs.shape[1]\n",
    "    if nmissing_classes:\n",
    "        y_missing = np.zeros((y_probs.shape[0], nmissing_classes))\n",
    "        y_probs = np.concatenate((y_probs, y_missing), axis=1)\n",
    "\n",
    "    return y_pred_mat, y_probs"
   ]
  },
  {
   "cell_type": "markdown",
   "id": "4173aa65",
   "metadata": {},
   "source": [
    "# Distant Supervison\n",
    "\n",
    "In this setting, we use the code descriptions as our training data and test on the whole set of transcripts."
   ]
  },
  {
   "cell_type": "markdown",
   "id": "f0ff7315",
   "metadata": {},
   "source": [
    "## Coarse-grained classification\n",
    "\n",
    "Train and test with coarse-grained ICPC codes as the class labels.\n",
    "\n",
    "### NB Classifier"
   ]
  },
  {
   "cell_type": "code",
   "execution_count": 19,
   "id": "2fc6ec02-4a67-4fb6-9c40-c522ac7e19c0",
   "metadata": {},
   "outputs": [
    {
     "name": "stdout",
     "output_type": "stream",
     "text": [
      "Multiclass NB: Performance on all classes:\n",
      "0.34045860347828805\n",
      "0.780024367418094\n",
      "Multiclass NB: Performance without the 'General' class:\n",
      "0.3570952376495678\n",
      "0.7940365739232156\n"
     ]
    }
   ],
   "source": [
    "y_pred_mat, y_pred_probs = run_multiclass_naive_bayes(description_vec, y_desc, transcript_test)\n",
    "\n",
    "print(\"Multiclass NB: Performance on all classes:\")\n",
    "print(evaluate_classifications(y_hot, y_pred_mat, mult_lbl_enc.classes_))\n",
    "print(evaluate_probabilities(y_hot, y_pred_probs))\n",
    "\n",
    "print(\"Multiclass NB: Performance without the 'General' class:\")\n",
    "print(evaluate_classifications(y_hot[:, 1:], y_pred_mat[:, 1:], mult_lbl_enc.classes_[1:]))\n",
    "print(evaluate_probabilities(y_hot[:, 1:], y_pred_probs[:, 1:]))"
   ]
  },
  {
   "cell_type": "code",
   "execution_count": 20,
   "id": "1a619d51",
   "metadata": {},
   "outputs": [
    {
     "name": "stdout",
     "output_type": "stream",
     "text": [
      "Binary NB: Performance on all classes:\n",
      "0.18001808186405166\n",
      "0.751845385355465\n"
     ]
    }
   ],
   "source": [
    "y_pred_mat, y_pred_probs = run_binary_naive_bayes(description_vec, y_desc, transcript_test)\n",
    "print(\"Binary NB: Performance on all classes:\")\n",
    "print(evaluate_classifications(y_hot, y_pred_mat, mult_lbl_enc.classes_))\n",
    "print(evaluate_probabilities(y_hot, y_pred_probs))"
   ]
  },
  {
   "cell_type": "code",
   "execution_count": 21,
   "id": "a1d4300f-ffe2-4654-bb95-91582b4d6215",
   "metadata": {},
   "outputs": [
    {
     "name": "stdout",
     "output_type": "stream",
     "text": [
      "Binary NB: Performance without the 'General' class:\n",
      "0.19201928732165513\n",
      "0.7766985697759882\n"
     ]
    }
   ],
   "source": [
    "print(\"Binary NB: Performance without the 'General' class:\")\n",
    "print(evaluate_classifications(y_hot[:, 1:], y_pred_mat[:, 1:], mult_lbl_enc.classes_[1:]))\n",
    "print(evaluate_probabilities(y_hot[:, 1:], y_pred_probs[:, 1:]))"
   ]
  },
  {
   "cell_type": "markdown",
   "id": "e7f20e53",
   "metadata": {},
   "source": [
    "#### SVM Classifier"
   ]
  },
  {
   "cell_type": "code",
   "execution_count": 22,
   "id": "039b1cbb",
   "metadata": {},
   "outputs": [
    {
     "name": "stdout",
     "output_type": "stream",
     "text": [
      "Multiclass SVM: Performance on all classes:\n",
      "0.3619733144442262\n",
      "0.8335111641319247\n",
      "Multiclass SVM: Performance without the 'General' class:\n",
      "0.3861048687405079\n",
      "0.8618404798359578\n"
     ]
    }
   ],
   "source": [
    "# multiclass svm\n",
    "y_pred_mat, y_pred_probs = run_multiclass_svm(description_vec, y_desc, transcript_test)\n",
    "\n",
    "print(\"Multiclass SVM: Performance on all classes:\")\n",
    "print(evaluate_classifications(y_hot, y_pred_mat, mult_lbl_enc.classes_))\n",
    "print(evaluate_probabilities(y_hot, y_pred_probs))\n",
    "\n",
    "print(\"Multiclass SVM: Performance without the 'General' class:\")\n",
    "print(evaluate_classifications(y_hot[:, 1:], y_pred_mat[:, 1:], mult_lbl_enc.classes_[1:]))\n",
    "print(evaluate_probabilities(y_hot[:, 1:], y_pred_probs[:, 1:]))"
   ]
  },
  {
   "cell_type": "code",
   "execution_count": 23,
   "id": "90b48747-b1a7-4a0d-b6e5-031e00ccfede",
   "metadata": {},
   "outputs": [
    {
     "name": "stdout",
     "output_type": "stream",
     "text": [
      "Binary SVM: Performance on all classes:\n",
      "0.0\n",
      "0.8400578867816496\n",
      "Binary SVM: Performance without the 'General' class:\n",
      "0.0\n",
      "0.8622204760591564\n"
     ]
    }
   ],
   "source": [
    "# binary svm\n",
    "y_pred_mat, y_pred_probs = run_binary_svm(description_vec, y_desc, transcript_test)\n",
    "\n",
    "print(\"Binary SVM: Performance on all classes:\")\n",
    "print(evaluate_classifications(y_hot, y_pred_mat, mult_lbl_enc.classes_))\n",
    "print(evaluate_probabilities(y_hot, y_pred_probs))\n",
    "\n",
    "print(\"Binary SVM: Performance without the 'General' class:\")\n",
    "print(evaluate_classifications(y_hot[:, 1:], y_pred_mat[:, 1:], mult_lbl_enc.classes_[1:]))\n",
    "print(evaluate_probabilities(y_hot[:, 1:], y_pred_probs[:, 1:]))"
   ]
  },
  {
   "cell_type": "markdown",
   "id": "f8344d8f",
   "metadata": {
    "pycharm": {
     "name": "#%% md\n"
    },
    "tags": []
   },
   "source": [
    "### Nearest Centroid classifier\n",
    "\n",
    "Define distance and nearest centroid classifiers."
   ]
  },
  {
   "cell_type": "code",
   "execution_count": 46,
   "id": "417bc9c7",
   "metadata": {
    "pycharm": {
     "name": "#%%\n"
    }
   },
   "outputs": [
    {
     "name": "stdout",
     "output_type": "stream",
     "text": [
      "Nearest centroid: Performance on all classes:\n",
      "0.3619733144442262\n",
      "0.6359371566301026\n",
      "Nearest centroid: Performance without the 'General' class:\n",
      "0.3861048687405079\n",
      "0.6454440781832207\n"
     ]
    }
   ],
   "source": [
    "y_pred_mat, y_pred_probs = run_nearest_centroid(description_vec, y_desc, transcript_test)\n",
    "\n",
    "print(\"Nearest centroid: Performance on all classes:\")\n",
    "print(evaluate_classifications(y_hot, y_pred_mat, mult_lbl_enc.classes_))\n",
    "print(evaluate_probabilities(y_hot, y_pred_probs))\n",
    "\n",
    "print(\"Nearest centroid: Performance without the 'General' class:\")\n",
    "print(evaluate_classifications(y_hot[:, 1:], y_pred_mat[:, 1:], mult_lbl_enc.classes_[1:]))\n",
    "print(evaluate_probabilities(y_hot[:, 1:], y_pred_probs[:, 1:]))\n",
    "\n",
    "# # # for distant supervision, only consider the nearest description. This is identical to nearest centroid so skip it here.\n",
    "# y_pred_mat, y_pred_probs = run_nearest_neighbors(description_vec, y_desc, transcript_test, n_neighbors=1)  \n",
    "\n",
    "# print(evaluate_classifications(y_hot, y_pred_mat, mult_lbl_enc.classes_))\n",
    "# print(evaluate_classifications(y_hot[:, 1:], y_pred_mat[:, 1:], mult_lbl_enc.classes_[1:]))"
   ]
  },
  {
   "cell_type": "markdown",
   "id": "20ff37b0-d192-484d-b0c3-05dd267bd985",
   "metadata": {},
   "source": [
    "# Analysis\n",
    "\n",
    "Define some functions we can use to compare our classifiers' predictions to the ground truth."
   ]
  },
  {
   "cell_type": "code",
   "execution_count": 25,
   "id": "88a5848b",
   "metadata": {
    "tags": []
   },
   "outputs": [
    {
     "data": {
      "application/vnd.jupyter.widget-view+json": {
       "model_id": "02ed51c442af48e6b244095ec3cdd0ff",
       "version_major": 2,
       "version_minor": 0
      },
      "text/plain": [
       "interactive(children=(Dropdown(description='code', options=('A', 'B', 'D', 'F', 'H', 'K', 'L', 'N', 'P', 'R', …"
      ]
     },
     "metadata": {},
     "output_type": "display_data"
    },
    {
     "data": {
      "text/plain": [
       "<function __main__.show_truth_pred_tbl(code)>"
      ]
     },
     "execution_count": 25,
     "metadata": {},
     "output_type": "execute_result"
    }
   ],
   "source": [
    "def get_idxes_with_cat(_y_train: np.ndarray, code:str):\n",
    "    # Return the indexes of examples from the training set that have the chosen code as a gold label\n",
    "    \n",
    "    y_train_raw = mult_lbl_enc.inverse_transform(_y_train)\n",
    "    return [i for i,cs in enumerate(y_train_raw) if code in cs]\n",
    "\n",
    "\n",
    "def get_truth_pred_pairs(_y_train, _y_pred, indices):\n",
    "\n",
    "    # Get true labels for selected instances\n",
    "    truth = mult_lbl_enc.inverse_transform(_y_train[indices])\n",
    "        \n",
    "    # Get predictions for selected instances\n",
    "    pred = mult_lbl_enc.inverse_transform(_y_pred[indices])\n",
    "        \n",
    "    # Return a table \n",
    "    data = list(zip(indices, truth, pred))\n",
    "    return pd.DataFrame(data, columns=['id', 'truth', 'predicted'])\n",
    "\n",
    "\n",
    "def show_truth_pred_tbl(code):\n",
    "    # Code: the selected ICPC code\n",
    "    \n",
    "    # gold_mat: choose the gold labels as a one-hot encoded matrix\n",
    "    gold_mat = y_hot\n",
    "    \n",
    "    # get the transcripts from the train split with the chosen code\n",
    "    cat_idxes = get_idxes_with_cat(gold_mat, code)  \n",
    "    \n",
    "    # Get a table showing the predictions and true labels\n",
    "    return get_truth_pred_pairs(gold_mat, y_pred_mat, cat_idxes)\n",
    "\n",
    "\n",
    "interact(show_truth_pred_tbl, code=mult_lbl_enc.classes_)  # use interactive UI to set the code from any one of the ICPC codes"
   ]
  },
  {
   "cell_type": "code",
   "execution_count": 26,
   "id": "a52ba2e7",
   "metadata": {
    "pycharm": {
     "name": "#%%\n"
    }
   },
   "outputs": [
    {
     "data": {
      "application/vnd.jupyter.widget-view+json": {
       "model_id": "8881d20df009484d963e3ea13c95bdde",
       "version_major": 2,
       "version_minor": 0
      },
      "text/plain": [
       "interactive(children=(Dropdown(description='cat', options=('A', 'B', 'D', 'F', 'H', 'K', 'L', 'N', 'P', 'R', '…"
      ]
     },
     "metadata": {},
     "output_type": "display_data"
    },
    {
     "data": {
      "text/plain": [
       "<function __main__.plot_explain_category(cat: str)>"
      ]
     },
     "execution_count": 26,
     "metadata": {},
     "output_type": "execute_result"
    },
    {
     "data": {
      "image/png": "[encoded data removed]",
      "text/plain": [
       "<Figure size 432x288 with 1 Axes>"
      ]
     },
     "metadata": {
      "needs_background": "light"
     },
     "output_type": "display_data"
    }
   ],
   "source": [
    "from wordcloud import WordCloud\n",
    "\n",
    "# Explain a category -- show the keywords from the descriptions as a word cloud\n",
    "\n",
    "lookup = [x for _,x in sorted(zip(text_vectorizer.vocabulary_.values(), text_vectorizer.vocabulary_.keys()))]\n",
    "features_arr = np.array(text_vectorizer.get_feature_names())\n",
    "\n",
    "def explain_bow_vector(vec:scipy.sparse.csr_matrix, ax=plt):\n",
    "    # _, idxs = scipy.sparse.csr_matrix.nonzero(vec)\n",
    "    # words = [lookup[k] for k in idxs]\n",
    "    # word_cloud = WordCloud().generate(' '.join(words))\n",
    "    test = pd.DataFrame(vec.todense(), columns=features_arr).T.to_dict()[0]\n",
    "    word_cloud = WordCloud(background_color=\"white\").generate_from_frequencies(test)\n",
    "    ax.imshow(word_cloud, interpolation='bilinear')\n",
    "    ax.axis(\"off\")\n",
    "\n",
    "def explain_category(cat:str, ax=plt):\n",
    "    target = list(mult_lbl_enc.classes_).index(cat)\n",
    "    target = description_vec[target]\n",
    "    explain_bow_vector(target, ax=ax)\n",
    "\n",
    "def plot_explain_category(cat:str):\n",
    "    explain_category(cat)\n",
    "\n",
    "interact(plot_explain_category, cat=mult_lbl_enc.classes_)"
   ]
  },
  {
   "cell_type": "code",
   "execution_count": 27,
   "id": "3dd9f4eb",
   "metadata": {
    "pycharm": {
     "name": "#%%\n"
    }
   },
   "outputs": [
    {
     "data": {
      "application/vnd.jupyter.widget-view+json": {
       "model_id": "334fdaa2492949fdb503a743ef9de28a",
       "version_major": 2,
       "version_minor": 0
      },
      "text/plain": [
       "interactive(children=(Dropdown(description='_cat', options=('A', 'B', 'D', 'F', 'H', 'K', 'L', 'N', 'P', 'R', …"
      ]
     },
     "metadata": {},
     "output_type": "display_data"
    },
    {
     "data": {
      "text/plain": [
       "<function __main__.view_record(_cat, _id)>"
      ]
     },
     "execution_count": 27,
     "metadata": {},
     "output_type": "execute_result"
    },
    {
     "data": {
      "image/png": "[encoded data removed]",
      "text/plain": [
       "<Figure size 720x360 with 2 Axes>"
      ]
     },
     "metadata": {
      "needs_background": "light"
     },
     "output_type": "display_data"
    },
    {
     "data": {
      "image/png": "[encoded data removed]",
      "text/plain": [
       "<Figure size 432x288 with 2 Axes>"
      ]
     },
     "metadata": {
      "needs_background": "light"
     },
     "output_type": "display_data"
    }
   ],
   "source": [
    "from sklearn.metrics.pairwise import cosine_similarity\n",
    "import seaborn as sns\n",
    "\n",
    "# Choose the instances we will be using -- can be set to y_hot for whole dataset or y_train for the training split\n",
    "gold_mat = y_hot  # y_train  # one-hot encoding\n",
    "# Can be set to transcript_test for whole dataset or X_train for training split\n",
    "transcript_vec = transcript_test  # X_train\n",
    "# Can be set to orig_dataset for whole dataset or train_set for training split\n",
    "transcript_dataframe = orig_dataset\n",
    "\n",
    "cat_dropdown = widgets.Dropdown(options=mult_lbl_enc.classes_)\n",
    "id_dropdown = widgets.Dropdown(options=get_idxes_with_cat(gold_mat, cat_dropdown.value))\n",
    "\n",
    "def refresh_id_dropdown(*args):\n",
    "    id_dropdown.options = get_idxes_with_cat(gold_mat, cat_dropdown.value)\n",
    "\n",
    "cat_dropdown.observe(refresh_id_dropdown, 'value')\n",
    "\n",
    "def show_cosine_similarity(_id):   \n",
    "    cos_sim = cosine_similarity(transcript_vec[_id], description_vec)[0]\n",
    "    cos_sim = pd.DataFrame(list(zip(mult_lbl_enc.classes_, cos_sim)), columns=['category', 'cos sim'])\n",
    "    cos_sim = cos_sim.set_index('category').T\n",
    "    grid_kws = {\"height_ratios\": (.9, .05), \"hspace\": -0.5}\n",
    "    f, (ax, cbar_ax) = plt.subplots(2, gridspec_kw=grid_kws)\n",
    "    sns.heatmap(cos_sim, square=True, ax=ax,\n",
    "                cbar_ax=cbar_ax,\n",
    "                cbar_kws={\"orientation\": \"horizontal\"},\n",
    "                cmap='Greens')\n",
    "\n",
    "    \n",
    "def show_keywords_true_pred(_id, _cat):\n",
    "    fig, (ax1, ax2) = plt.subplots(1, 2, figsize=(10,5))\n",
    "    ax1.title.set_text('BOW from sample transcipt')\n",
    "    ax2.title.set_text('BOW of predicted class')            \n",
    "    explain_bow_vector(transcript_vec[_id], ax=ax1)\n",
    "    explain_category(_cat, ax=ax2)\n",
    "\n",
    "    \n",
    "def view_record(_cat, _id):\n",
    "    # _id: index of a selected transcript instance\n",
    "    # _cat: category to investigate. We can select instances with this category as their true label.?\n",
    "    \n",
    "    global test\n",
    "    \n",
    "    # get the predicted category labels for the selected instance\n",
    "    pred_cat = mult_lbl_enc.inverse_transform(np.array(y_pred_mat)[_id:_id+1])[0][0]\n",
    "    \n",
    "    # get the selected instance. Change this to train_set if using the training split.\n",
    "    record = transcript_dataframe.iloc[_id]\n",
    "    \n",
    "    # get the vector of the selected transcript\n",
    "    record\n",
    "    \n",
    "    info = [f\"Index: {_id}\",\n",
    "           f\"Id: {record['record_id']}\",\n",
    "           f\"Actual: {mult_lbl_enc.inverse_transform(gold_mat[_id:_id+1])}\",\n",
    "           f\"Predicted: {pred_cat}\"]\n",
    "    display(*info)\n",
    "    \n",
    "    # show keywords from the transcript and from the description vector of the predicted class\n",
    "    show_keywords_true_pred(_id, pred_cat)    \n",
    "    \n",
    "    # Compute similarity between the description vectors for each class and the vector of the selected transcript\n",
    "    show_cosine_similarity(_id)\n",
    "    \n",
    "interact(view_record, _cat=cat_dropdown, _id=id_dropdown)"
   ]
  },
  {
   "cell_type": "code",
   "execution_count": 28,
   "id": "57da71e4",
   "metadata": {
    "pycharm": {
     "name": "#%%\n"
    }
   },
   "outputs": [
    {
     "name": "stdout",
     "output_type": "stream",
     "text": [
      "multilabel_confusion_matrix:\n"
     ]
    },
    {
     "name": "stderr",
     "output_type": "stream",
     "text": [
      "<ipython-input-28-26a701f12261>:17: UserWarning: Matplotlib is currently using module://matplotlib_inline.backend_inline, which is a non-GUI backend, so cannot show the figure.\n",
      "  fig.show()\n"
     ]
    },
    {
     "data": {
      "image/png": "[encoded data removed]",
      "text/plain": [
       "<Figure size 72x72 with 2 Axes>"
      ]
     },
     "metadata": {
      "needs_background": "light"
     },
     "output_type": "display_data"
    },
    {
     "data": {
      "image/png": "[encoded data removed]",
      "text/plain": [
       "<Figure size 72x72 with 2 Axes>"
      ]
     },
     "metadata": {
      "needs_background": "light"
     },
     "output_type": "display_data"
    },
    {
     "data": {
      "image/png": "[encoded data removed]",
      "text/plain": [
       "<Figure size 72x72 with 2 Axes>"
      ]
     },
     "metadata": {
      "needs_background": "light"
     },
     "output_type": "display_data"
    },
    {
     "data": {
      "image/png": "[encoded data removed]",
      "text/plain": [
       "<Figure size 72x72 with 2 Axes>"
      ]
     },
     "metadata": {
      "needs_background": "light"
     },
     "output_type": "display_data"
    },
    {
     "data": {
      "image/png": "[encoded data removed]",
      "text/plain": [
       "<Figure size 72x72 with 2 Axes>"
      ]
     },
     "metadata": {
      "needs_background": "light"
     },
     "output_type": "display_data"
    },
    {
     "data": {
      "image/png": "[encoded data removed]",
      "text/plain": [
       "<Figure size 72x72 with 2 Axes>"
      ]
     },
     "metadata": {
      "needs_background": "light"
     },
     "output_type": "display_data"
    },
    {
     "data": {
      "image/png": "[encoded data removed]",
      "text/plain": [
       "<Figure size 72x72 with 2 Axes>"
      ]
     },
     "metadata": {
      "needs_background": "light"
     },
     "output_type": "display_data"
    },
    {
     "data": {
      "image/png": "[encoded data removed]",
      "text/plain": [
       "<Figure size 72x72 with 2 Axes>"
      ]
     },
     "metadata": {
      "needs_background": "light"
     },
     "output_type": "display_data"
    },
    {
     "data": {
      "image/png": "[encoded data removed]",
      "text/plain": [
       "<Figure size 72x72 with 2 Axes>"
      ]
     },
     "metadata": {
      "needs_background": "light"
     },
     "output_type": "display_data"
    },
    {
     "data": {
      "image/png": "[encoded data removed]",
      "text/plain": [
       "<Figure size 72x72 with 2 Axes>"
      ]
     },
     "metadata": {
      "needs_background": "light"
     },
     "output_type": "display_data"
    },
    {
     "data": {
      "image/png": "[encoded data removed]",
      "text/plain": [
       "<Figure size 72x72 with 2 Axes>"
      ]
     },
     "metadata": {
      "needs_background": "light"
     },
     "output_type": "display_data"
    },
    {
     "data": {
      "image/png": "[encoded data removed]",
      "text/plain": [
       "<Figure size 72x72 with 2 Axes>"
      ]
     },
     "metadata": {
      "needs_background": "light"
     },
     "output_type": "display_data"
    },
    {
     "data": {
      "image/png": "[encoded data removed]",
      "text/plain": [
       "<Figure size 72x72 with 2 Axes>"
      ]
     },
     "metadata": {
      "needs_background": "light"
     },
     "output_type": "display_data"
    },
    {
     "data": {
      "image/png": "[encoded data removed]",
      "text/plain": [
       "<Figure size 72x72 with 2 Axes>"
      ]
     },
     "metadata": {
      "needs_background": "light"
     },
     "output_type": "display_data"
    },
    {
     "data": {
      "image/png": "[encoded data removed]",
      "text/plain": [
       "<Figure size 72x72 with 2 Axes>"
      ]
     },
     "metadata": {
      "needs_background": "light"
     },
     "output_type": "display_data"
    },
    {
     "data": {
      "image/png": "[encoded data removed]",
      "text/plain": [
       "<Figure size 72x72 with 2 Axes>"
      ]
     },
     "metadata": {
      "needs_background": "light"
     },
     "output_type": "display_data"
    }
   ],
   "source": [
    "from sklearn.metrics import multilabel_confusion_matrix\n",
    "\n",
    "# Note: print statements does not work in PyCharm\n",
    "\n",
    "def plot_multilabel_conf_matrix(targets, predictions):\n",
    "    print(f\"multilabel_confusion_matrix:\")\n",
    "    conf_mat = multilabel_confusion_matrix(targets, predictions)\n",
    "   \n",
    "    for c, (cls, mat) in enumerate(zip(mult_lbl_enc.classes_, conf_mat)):\n",
    "        fig = plt.figure(figsize=(1,1))\n",
    "        ax = fig.add_subplot()\n",
    "                \n",
    "        ax.set_title(cls)\n",
    "        sns.heatmap(mat, ax=ax, cmap='Blues', annot=True, fmt=\"d\")\n",
    "        ax.set_xlabel('pred')\n",
    "        ax.set_ylabel('true')\n",
    "        fig.show()\n",
    "\n",
    "plot_multilabel_conf_matrix(y_hot, y_pred_mat)"
   ]
  },
  {
   "cell_type": "markdown",
   "id": "129f2fa0",
   "metadata": {},
   "source": [
    "## Fine-grained classification\n",
    "\n",
    "Here we train and predict the CKS topics. To evaluated, we map predictions back to ICPC codes and use the test labels."
   ]
  },
  {
   "cell_type": "code",
   "execution_count": 29,
   "id": "5c2db788",
   "metadata": {},
   "outputs": [],
   "source": [
    "import json\n",
    "from oneinamillion.resources import DL_DATA, ICPC2CKS, CKS_DESC, PCC_CODES_DIR, PCC_CKS_DIR\n",
    "from sklearn.preprocessing import MultiLabelBinarizer\n",
    "from utils.utils import prediction_cks2icpc"
   ]
  },
  {
   "cell_type": "code",
   "execution_count": 30,
   "id": "87112c43",
   "metadata": {},
   "outputs": [
    {
     "name": "stderr",
     "output_type": "stream",
     "text": [
      "<ipython-input-30-d8f8db1c5356>:7: FutureWarning: Passing a dict as an indexer is deprecated and will raise in a future version. Use a list instead.\n",
      "  health_topics = health_topics.loc[selected_topics]\n"
     ]
    }
   ],
   "source": [
    "# load topics trained in DL methods to keep consitent\n",
    "topics_file = os.path.join(DL_DATA, 'fg_label2id.json')\n",
    "with open(topics_file, 'r') as f:\n",
    "    selected_topics = json.load(f)\n",
    "# load health topics\n",
    "health_topics = pd.read_csv(os.path.join(PCC_CKS_DIR, CKS_DESC), index_col=0)\n",
    "health_topics = health_topics.loc[selected_topics]\n",
    "\n",
    "description_vec, text_vectorizer = get_description_vectors(health_topics['topics'], stopwords)\n",
    "# obtain labels\n",
    "mult_lbl_enc2 = MultiLabelBinarizer()\n",
    "y = [[i] for i in health_topics.index]\n",
    "y_desc = mult_lbl_enc2.fit_transform(y)\n",
    "\n",
    "# obtain test data\n",
    "transcript_test = text_vectorizer.transform(transcript_data)"
   ]
  },
  {
   "cell_type": "code",
   "execution_count": 31,
   "id": "2222f647-1f3f-47c3-bf33-a481d72ba356",
   "metadata": {},
   "outputs": [
    {
     "data": {
      "text/plain": [
       "Superficial vein thrombosis (superficial thrombophlebitis)    superficial vein thrombosis (also known superf...\n",
       "Bipolar disorder                                              bipolar disorder thought caused interplay gene...\n",
       "Carpal tunnel syndrome                                        people cause carpal tunnel syndrome known.anyt...\n",
       "Cholesteatoma                                                 cholesteatoma abnormal accumulation squamous e...\n",
       "DVT prevention for travellers                                 deep vein thrombosis (dvt) term used describe ...\n",
       "                                                                                    ...                        \n",
       "Conjunctivitis - allergic                                     allergic conjunctivitis caused immunoglobulin ...\n",
       "Urethritis - male                                             urethritis commonly (but always) caused sexual...\n",
       "Herpes simplex - oral                                         oral herpes simplex virus (hsv) usually cause ...\n",
       "Stroke and TIA                                                stroke clinical syndrome characterised sudden ...\n",
       "Vaginal discharge                                             normal physiological vaginal discharge white c...\n",
       "Name: topics, Length: 315, dtype: object"
      ]
     },
     "execution_count": 31,
     "metadata": {},
     "output_type": "execute_result"
    }
   ],
   "source": [
    "health_topics['topics']"
   ]
  },
  {
   "cell_type": "markdown",
   "id": "cbad6ad6",
   "metadata": {},
   "source": [
    "#### NB Classifier "
   ]
  },
  {
   "cell_type": "code",
   "execution_count": 32,
   "id": "3252a9f9",
   "metadata": {},
   "outputs": [
    {
     "name": "stdout",
     "output_type": "stream",
     "text": [
      "Binary NB fine-grained: \n",
      "0.003787878787878788\n"
     ]
    }
   ],
   "source": [
    "y_pred_mat, y_pred_probs = run_binary_naive_bayes(description_vec, y_desc, transcript_test)\n",
    "# convert label_id to class names\n",
    "pred_labels = mult_lbl_enc2.inverse_transform(y_pred_mat)\n",
    "\n",
    "map_file = os.path.join(PCC_CKS_DIR, ICPC2CKS)\n",
    "# create a fake label2name\n",
    "label2name = {label:label for label in mult_lbl_enc.classes_}\n",
    "# map cks to icpc\n",
    "mapped_predictions = prediction_cks2icpc(map_file, pred_labels, label2name)\n",
    "\n",
    "\n",
    "predictions = mult_lbl_enc.transform(mapped_predictions)\n",
    "\n",
    "print('Binary NB fine-grained: ')\n",
    "print(evaluate_classifications(y_hot, predictions, mult_lbl_enc.classes_))"
   ]
  },
  {
   "cell_type": "code",
   "execution_count": 33,
   "id": "695b7087-424a-4acb-ae05-d42f49575f71",
   "metadata": {},
   "outputs": [
    {
     "name": "stdout",
     "output_type": "stream",
     "text": [
      "Multiclass NB fine-grained: \n",
      "0.23201562287071104\n"
     ]
    }
   ],
   "source": [
    "y_pred_mat, y_pred_probs = run_multiclass_naive_bayes(description_vec, y_desc, transcript_test)\n",
    "# convert label_id to class names\n",
    "pred_labels = mult_lbl_enc2.inverse_transform(y_pred_mat)\n",
    "\n",
    "map_file = os.path.join(PCC_CKS_DIR, ICPC2CKS)\n",
    "# create a fake label2name\n",
    "label2name = {label:label for label in mult_lbl_enc.classes_}\n",
    "# map cks to icpc\n",
    "mapped_predictions = prediction_cks2icpc(map_file, pred_labels, label2name)\n",
    "\n",
    "\n",
    "predictions = mult_lbl_enc.transform(mapped_predictions)\n",
    "\n",
    "print('Multiclass NB fine-grained: ')\n",
    "print(evaluate_classifications(y_hot, predictions, mult_lbl_enc.classes_))"
   ]
  },
  {
   "cell_type": "code",
   "execution_count": 34,
   "id": "deeb2768",
   "metadata": {},
   "outputs": [
    {
     "name": "stdout",
     "output_type": "stream",
     "text": [
      "Multiclass SVM fine-grained: \n",
      "0.35516238803557787\n"
     ]
    }
   ],
   "source": [
    "y_pred_mat, y_pred_probs = run_multiclass_svm(description_vec, y_desc, transcript_test)\n",
    "pred_labels = mult_lbl_enc2.inverse_transform(y_pred_mat)\n",
    "map_file = os.path.join(PCC_CKS_DIR, ICPC2CKS)\n",
    "# create a fake label2name\n",
    "label2name = {label:label for label in mult_lbl_enc.classes_}\n",
    "# map cks to icpc\n",
    "mapped_predictions = prediction_cks2icpc(map_file, pred_labels, label2name)\n",
    "predictions = mult_lbl_enc.transform(mapped_predictions)\n",
    "\n",
    "print('Multiclass SVM fine-grained: ')\n",
    "print(evaluate_classifications(y_hot, predictions, mult_lbl_enc.classes_))"
   ]
  },
  {
   "cell_type": "code",
   "execution_count": 35,
   "id": "f4065206-0588-4789-84f0-894d37a83d10",
   "metadata": {},
   "outputs": [
    {
     "name": "stdout",
     "output_type": "stream",
     "text": [
      "Nearest centroid fine-grained: \n",
      "0.35516238803557787\n"
     ]
    }
   ],
   "source": [
    "y_pred_mat, y_pred_probs = run_nearest_centroid(description_vec, y_desc, transcript_test)\n",
    "pred_labels = mult_lbl_enc2.inverse_transform(y_pred_mat)\n",
    "map_file = os.path.join(PCC_CKS_DIR, ICPC2CKS)\n",
    "# create a fake label2name\n",
    "label2name = {label:label for label in mult_lbl_enc.classes_}\n",
    "# map cks to icpc\n",
    "mapped_predictions = prediction_cks2icpc(map_file, pred_labels, label2name)\n",
    "predictions = mult_lbl_enc.transform(mapped_predictions)\n",
    "\n",
    "print('Nearest centroid fine-grained: ')\n",
    "print(evaluate_classifications(y_hot, predictions, mult_lbl_enc.classes_))"
   ]
  },
  {
   "cell_type": "code",
   "execution_count": 36,
   "id": "5a989483-1ed2-440e-96bf-84fe7946435a",
   "metadata": {},
   "outputs": [
    {
     "name": "stdout",
     "output_type": "stream",
     "text": [
      "(239, 1)\n",
      "    record_id             icpc_codes cks_nearest_centroid_prediction\n",
      "0       30301         ['U99', 'B80']             Acute kidney injury\n",
      "1       40416         ['S96', 'P76']                Autism in adults\n",
      "2       20106  ['Y07', 'T91', 'A91']  Vitamin D deficiency in adults\n",
      "3       50614                ['L86']              Leg ulcer - venous\n",
      "4       11107         ['L99', 'W11']                      Chest pain\n",
      "..        ...                    ...                             ...\n",
      "234     50715                ['S80']               Itch - widespread\n",
      "235     40414         ['A11', 'A91']                      Chest pain\n",
      "236    101703         ['T93', 'K86']                    Hypertension\n",
      "237     91504  ['P76', 'L15', 'T82']          Depression in children\n",
      "238     50607                ['X11']                       Menopause\n",
      "\n",
      "[239 rows x 3 columns]\n"
     ]
    }
   ],
   "source": [
    "# create a data frame\n",
    "# Column 1: consultation ID\n",
    "col1 = orig_dataset['record_id'].to_numpy()[:, None]\n",
    "\n",
    "# Column 2: ICPC coarse-grained labels\n",
    "col2 = orig_dataset['icpc_codes'].to_numpy()[:, None]\n",
    "\n",
    "# Column 3: CKS topics that were chosen by nearest centroid\n",
    "col3 = np.array([labels[0] for labels in pred_labels])[:, None]\n",
    "print(col3.shape)\n",
    "# col3 = pd.DataFrame(col3, \n",
    "\n",
    "df = pd.DataFrame(np.concatenate((col1, col2, col3), axis=1), columns=['record_id', 'icpc_codes', 'cks_nearest_centroid_prediction']) \n",
    "\n",
    "print(df)\n",
    "\n",
    "df.to_csv('./fine-grained_nearest_centroid_predictions.tsv', sep='\\t')"
   ]
  },
  {
   "cell_type": "code",
   "execution_count": 37,
   "id": "a9de2448-728b-4044-b11a-db4532a843e8",
   "metadata": {},
   "outputs": [
    {
     "name": "stdout",
     "output_type": "stream",
     "text": [
      "                            cks_topic icpc_codes\n",
      "0               Achilles tendinopathy        [L]\n",
      "1                       Acne vulgaris        [S]\n",
      "2                Acute childhood limp        [L]\n",
      "3                 Acute kidney injury        [U]\n",
      "4                   Addison's disease        [T]\n",
      "..                                ...        ...\n",
      "310    Vitamin D deficiency in adults        [T]\n",
      "311  Vitamin D deficiency in children        [T]\n",
      "312                          Vitiligo        [S]\n",
      "313                Warts - anogenital  [S, X, Y]\n",
      "314                    Whooping cough        [R]\n",
      "\n",
      "[315 rows x 2 columns]\n"
     ]
    }
   ],
   "source": [
    "from utils.utils import prediction_cks2icpc\n",
    "\n",
    "# Save the original mapping between CKS and ICPC as a TSV file\n",
    "\n",
    "# list all the cks topics\n",
    "cks_topics = [(topic,) for topic in mult_lbl_enc2.classes_]\n",
    "# print(cks_topics)\n",
    "\n",
    "map_file = os.path.join(PCC_CKS_DIR, ICPC2CKS)\n",
    "\n",
    "# create a fake label2name\n",
    "label2name = {label:label for label in mult_lbl_enc.classes_}\n",
    "\n",
    "# map cks to icpc\n",
    "mapped_predictions = np.array(prediction_cks2icpc(map_file, cks_topics, label2name), dtype=object)[:, None]\n",
    "\n",
    "df = pd.DataFrame(np.concatenate((cks_topics, mapped_predictions), axis=1), columns=['cks_topic', 'icpc_codes']) \n",
    "\n",
    "print(df)\n",
    "\n",
    "df.to_csv('./cks_icpc_mapping.tsv', sep='\\t')"
   ]
  },
  {
   "cell_type": "code",
   "execution_count": 38,
   "id": "0910dd48",
   "metadata": {
    "pycharm": {
     "name": "#%%\n"
    }
   },
   "outputs": [
    {
     "data": {
      "text/plain": [
       "Text(0.5, 1.0, 'bag-of-words Vector')"
      ]
     },
     "execution_count": 38,
     "metadata": {},
     "output_type": "execute_result"
    },
    {
     "data": {
      "image/png": "[encoded data removed]",
      "text/plain": [
       "<Figure size 432x288 with 1 Axes>"
      ]
     },
     "metadata": {
      "needs_background": "light"
     },
     "output_type": "display_data"
    }
   ],
   "source": [
    "import seaborn as sns\n",
    "sns.heatmap(description_vec.todense()==0, vmin=0, vmax=1, cbar=False).set_title('bag-of-words Vector')"
   ]
  },
  {
   "cell_type": "code",
   "execution_count": 39,
   "id": "218eb77a",
   "metadata": {
    "pycharm": {
     "name": "#%%\n"
    }
   },
   "outputs": [],
   "source": [
    "# from wordcloud import WordCloud\n",
    "# test_vec = description_vec[1].todense()\n",
    "# col_names = np.array(text_vectorizer.get_feature_names())\n",
    "# test = pd.DataFrame(test_vec, columns=col_names).T.to_dict()[0]\n",
    "# print(test)\n",
    "# word_cloud = WordCloud(background_color=\"white\").generate_from_frequencies(test)\n",
    "# plt.imshow(word_cloud)"
   ]
  },
  {
   "cell_type": "code",
   "execution_count": 40,
   "id": "5c4785ad",
   "metadata": {
    "pycharm": {
     "name": "#%%\n"
    }
   },
   "outputs": [
    {
     "data": {
      "image/png": "[encoded data removed]",
      "text/plain": [
       "<Figure size 576x288 with 1 Axes>"
      ]
     },
     "metadata": {
      "needs_background": "light"
     },
     "output_type": "display_data"
    },
    {
     "name": "stdout",
     "output_type": "stream",
     "text": [
      "['viral infection', 'inspiratory', 'faecal incontinence', 'tennis', 'influenza virus', 'centile', 'egg', 'eyelid swelling', 'twin', 'rash', 'long', 'female', 'lichen planus', 'body tumour', 'inflammatory skin', 'containing', 'area skin', 'occur area', 'probability', 'urethritis', 'set', 'touch', 'harm', 'age related', 'types', 'clinically', 'hpv', 'held', 'rhythm', 'woman previous', 'pregnant', 'finger', 'ears', 'independent', 'syncope', 'blood loss', 'neutropenic sepsis', 'obstructive spirometry', 'low risk', 'child age', 'causes', 'common primary', 'associated increased', 'acute bronchitis', 'chronic heart', 'present child', 'increased', 'candidal', 'exclude alternative', 'secretion', 'permanently', 'skills', 'overuse headache', 'infection inflammation']\n"
     ]
    }
   ],
   "source": [
    "keyword_dist_over_train = np.array(description_vec.sum(axis=0)).flatten()\n",
    "\n",
    "def show_common_keywords(threshold:int = 3):\n",
    "    frequent_words = [[k,n] for k,n in zip(lookup, keyword_dist_over_train) if n > threshold]\n",
    "    frequent_words_df = pd.DataFrame(frequent_words,columns=['keyword', 'count']).sort_values('count')\n",
    "\n",
    "    plt.figure(figsize=(8,4))\n",
    "    ax = sns.barplot(x='keyword', y='count', data=frequent_words_df)\n",
    "    ax.set_xticklabels(ax.get_xticklabels(), rotation=40, ha=\"right\")\n",
    "    plt.tight_layout()\n",
    "    plt.show()\n",
    "\n",
    "    print([k._text for k in ax.get_xticklabels()])\n",
    "\n",
    "show_common_keywords()"
   ]
  },
  {
   "cell_type": "markdown",
   "id": "6b6368eb-c7d8-4393-983b-1ef762c5f501",
   "metadata": {},
   "source": [
    "# Supervision with Transcripts\n",
    "\n",
    "Here we use 5-fold cross validation to train and test classifiers on transcript data. The descriptions are not used.\n",
    "\n",
    "We predict the coarse-grained codes."
   ]
  },
  {
   "cell_type": "code",
   "execution_count": 23,
   "id": "f0c0f43b",
   "metadata": {},
   "outputs": [],
   "source": [
    "from sklearn.model_selection import StratifiedKFold\n",
    "\n",
    "X = np.arange(orig_dataset['index'].shape[0]).reshape((-1, 1))\n",
    "\n",
    "kfolds = StratifiedKFold(n_splits=5, random_state=3, shuffle=True)\n",
    "\n",
    "y_desc = mult_lbl_enc.fit_transform(mult_lbl_enc.classes_)\n",
    "\n",
    "def cross_validate(clf, key, text_vectorizer):\n",
    "    \n",
    "    f1s = []\n",
    "    aurocs = []\n",
    "    \n",
    "    for train_idxs, test_idxs in kfolds.split(X, np.argmax(y_hot, 1)):\n",
    "\n",
    "        train_set = orig_dataset.iloc[train_idxs]  \n",
    "        y_train = y_hot[train_idxs]\n",
    "        \n",
    "        test_set = orig_dataset.iloc[test_idxs]\n",
    "        y_test = y_hot[test_idxs]\n",
    "        \n",
    "        description_vec, text_vectorizer = get_description_vectors(description_corpus, stopwords)\n",
    "        y_desc = mult_lbl_enc.fit_transform(mult_lbl_enc.classes_)\n",
    "            \n",
    "        X_train = text_vectorizer.transform(train_set[key])\n",
    "        X_test = text_vectorizer.transform(test_set[key])\n",
    "        \n",
    "        y_pred_mat, y_pred_probs = clf(X_train, y_train, X_test)  # performance on training set\n",
    "                \n",
    "        f1_k = evaluate_classifications(y_test, y_pred_mat, mult_lbl_enc.classes_, show_report=False)\n",
    "        auroc_k = evaluate_probabilities(y_test, y_pred_probs)\n",
    "        \n",
    "        f1s.append(f1_k)\n",
    "        aurocs.append(auroc_k)\n",
    "        \n",
    "    f1 = np.mean(f1s)\n",
    "    auroc = np.mean(aurocs)\n",
    "    \n",
    "    print(f'F1 score: {f1}. AUROC: {auroc}')\n",
    "        \n",
    "    return f1, auroc\n"
   ]
  },
  {
   "cell_type": "markdown",
   "id": "c90dbae6",
   "metadata": {
    "pycharm": {
     "name": "#%% md\n"
    }
   },
   "source": [
    "For `average` parameter to take the average metrics over all classes, please see [documentation](https://scikit-learn.org/stable/modules/model_evaluation.html#from-binary-to-multiclass-and-multilabel)."
   ]
  },
  {
   "cell_type": "markdown",
   "id": "f8215587",
   "metadata": {
    "pycharm": {
     "name": "#%% md\n"
    }
   },
   "source": [
    "## Binary Naive Bayes Classifier"
   ]
  },
  {
   "cell_type": "code",
   "execution_count": 24,
   "id": "0fbd55fa",
   "metadata": {},
   "outputs": [
    {
     "name": "stderr",
     "output_type": "stream",
     "text": [
      "/Users/es1595/opt/anaconda3/envs/py39/lib/python3.9/site-packages/sklearn/model_selection/_split.py:666: UserWarning: The least populated class in y has only 1 members, which is less than n_splits=5.\n",
      "  warnings.warn((\"The least populated class in y has only %d\"\n"
     ]
    },
    {
     "name": "stdout",
     "output_type": "stream",
     "text": [
      "F1 score: 0.29186803118924265. AUROC: 0.7728205829493369\n"
     ]
    },
    {
     "data": {
      "text/plain": [
       "(0.29186803118924265, 0.7728205829493369)"
      ]
     },
     "execution_count": 24,
     "metadata": {},
     "output_type": "execute_result"
    }
   ],
   "source": [
    "cross_validate(run_binary_naive_bayes, key, text_vectorizer)"
   ]
  },
  {
   "cell_type": "markdown",
   "id": "f61f4540",
   "metadata": {
    "pycharm": {
     "name": "#%% md\n"
    }
   },
   "source": [
    "## Multiclass Naïve Bayes Classifier"
   ]
  },
  {
   "cell_type": "code",
   "execution_count": 43,
   "id": "7513251d",
   "metadata": {},
   "outputs": [
    {
     "name": "stderr",
     "output_type": "stream",
     "text": [
      "/Users/es1595/opt/anaconda3/envs/py39/lib/python3.9/site-packages/sklearn/model_selection/_split.py:666: UserWarning: The least populated class in y has only 1 members, which is less than n_splits=5.\n",
      "  warnings.warn((\"The least populated class in y has only %d\"\n"
     ]
    },
    {
     "name": "stdout",
     "output_type": "stream",
     "text": [
      "F1 score: 0.30425799910172463. AUROC: 0.7725439199103569\n"
     ]
    },
    {
     "data": {
      "text/plain": [
       "(0.30425799910172463, 0.7725439199103569)"
      ]
     },
     "execution_count": 43,
     "metadata": {},
     "output_type": "execute_result"
    }
   ],
   "source": [
    "cross_validate(run_multiclass_naive_bayes, key, text_vectorizer)"
   ]
  },
  {
   "cell_type": "markdown",
   "id": "b5d84ce8",
   "metadata": {
    "pycharm": {
     "name": "#%% md\n"
    }
   },
   "source": [
    "## SVM Classifier"
   ]
  },
  {
   "cell_type": "code",
   "execution_count": 44,
   "id": "e5082741",
   "metadata": {},
   "outputs": [
    {
     "name": "stderr",
     "output_type": "stream",
     "text": [
      "/Users/es1595/opt/anaconda3/envs/py39/lib/python3.9/site-packages/sklearn/model_selection/_split.py:666: UserWarning: The least populated class in y has only 1 members, which is less than n_splits=5.\n",
      "  warnings.warn((\"The least populated class in y has only %d\"\n"
     ]
    },
    {
     "name": "stdout",
     "output_type": "stream",
     "text": [
      "F1 score: 0.18421724281269874. AUROC: 0.6832399743220912\n"
     ]
    },
    {
     "data": {
      "text/plain": [
       "(0.18421724281269874, 0.6832399743220912)"
      ]
     },
     "execution_count": 44,
     "metadata": {},
     "output_type": "execute_result"
    }
   ],
   "source": [
    "cross_validate(run_multiclass_svm, key, text_vectorizer)"
   ]
  },
  {
   "cell_type": "code",
   "execution_count": 45,
   "id": "bbfc0e16",
   "metadata": {},
   "outputs": [
    {
     "name": "stderr",
     "output_type": "stream",
     "text": [
      "/Users/es1595/opt/anaconda3/envs/py39/lib/python3.9/site-packages/sklearn/model_selection/_split.py:666: UserWarning: The least populated class in y has only 1 members, which is less than n_splits=5.\n",
      "  warnings.warn((\"The least populated class in y has only %d\"\n"
     ]
    },
    {
     "name": "stdout",
     "output_type": "stream",
     "text": [
      "F1 score: 0.1583234863598136. AUROC: 0.7685660903070616\n"
     ]
    },
    {
     "data": {
      "text/plain": [
       "(0.1583234863598136, 0.7685660903070616)"
      ]
     },
     "execution_count": 45,
     "metadata": {},
     "output_type": "execute_result"
    }
   ],
   "source": [
    "cross_validate(run_binary_svm, key, text_vectorizer)"
   ]
  },
  {
   "cell_type": "markdown",
   "id": "efefbc2a-c78f-4c2c-ac59-dde8961e82e5",
   "metadata": {},
   "source": [
    "### Nearest neighbours"
   ]
  },
  {
   "cell_type": "code",
   "execution_count": 46,
   "id": "271097c8-006e-4d75-b827-86efd95b9883",
   "metadata": {},
   "outputs": [
    {
     "name": "stderr",
     "output_type": "stream",
     "text": [
      "/Users/es1595/opt/anaconda3/envs/py39/lib/python3.9/site-packages/sklearn/model_selection/_split.py:666: UserWarning: The least populated class in y has only 1 members, which is less than n_splits=5.\n",
      "  warnings.warn((\"The least populated class in y has only %d\"\n"
     ]
    },
    {
     "name": "stdout",
     "output_type": "stream",
     "text": [
      "F1 score: 0.15708105426751948. AUROC: 0.5881446220708885\n"
     ]
    },
    {
     "data": {
      "text/plain": [
       "(0.15708105426751948, 0.5881446220708885)"
      ]
     },
     "execution_count": 46,
     "metadata": {},
     "output_type": "execute_result"
    }
   ],
   "source": [
    "cross_validate(run_nearest_neighbors, key, text_vectorizer)"
   ]
  },
  {
   "cell_type": "markdown",
   "id": "0407da9a",
   "metadata": {
    "pycharm": {
     "name": "#%% md\n"
    }
   },
   "source": [
    "## Test Different Stopwords and Descriptions"
   ]
  },
  {
   "cell_type": "code",
   "execution_count": 34,
   "id": "e11c6061",
   "metadata": {
    "pycharm": {
     "name": "#%%\n"
    }
   },
   "outputs": [],
   "source": [
    "import warnings\n",
    "warnings.filterwarnings(\"ignore\")\n",
    "\n",
    "def tune_transcript_supervision(method):\n",
    "    stopword_settings = [\n",
    "         [],\n",
    "         ['m'],\n",
    "         ['c'],\n",
    "         ['e'],\n",
    "         ['m', 'c'],\n",
    "         ['m', 'e'],\n",
    "         ['c', 'e'],\n",
    "         ['m', 'c', 'e']\n",
    "    ]\n",
    "\n",
    "    f1_matrix = np.zeros((len(stopword_settings)))\n",
    "    auroc_matrix = np.zeros((len(stopword_settings)))\n",
    "\n",
    "    for i, s in enumerate(stopword_settings):\n",
    "        set_stopwords('m' in s, 'c' in s, 'e' in s)\n",
    "        description_vec, text_vectorizer = get_description_vectors(description_corpus, stopwords)\n",
    "        y_desc = mult_lbl_enc.fit_transform(mult_lbl_enc.classes_)\n",
    "\n",
    "        if method == 'nearest centroid':  \n",
    "            clf = run_nearest_centroid\n",
    "        elif method == 'nearest neighbours':  \n",
    "            clf = run_nearest_neighbors\n",
    "        elif method == 'binary NB':\n",
    "            clf = run_binary_naive_bayes\n",
    "        elif method == 'multiclass NB':\n",
    "            clf = run_multiclass_naive_bayes\n",
    "        elif method == 'binary SVM':\n",
    "            clf = run_binary_svm\n",
    "        elif method == 'multiclass SVM':\n",
    "            clf = run_multiclass_svm\n",
    "\n",
    "        f1_matrix[i], auroc_matrix[i] = cross_validate(clf, key, text_vectorizer)\n",
    "\n",
    "    max_idx = np.unravel_index(np.argmax(f1_matrix), f1_matrix.shape)\n",
    "    selected_auroc = auroc_matrix[max_idx[0]]  # not necessarily the best, but the value we get with best f1 score\n",
    "    best_tr_f1 = np.max(f1_matrix)\n",
    "    best_stopwords = stopword_settings[max_idx[0]]\n",
    "    print(f'Method: {method}. The best score with transcript supervision was {best_tr_f1} with {best_stopwords} stopwords and AUROC={selected_auroc}.')\n",
    "\n",
    "    print('F1 score matrix for the different settings we tried:')\n",
    "    print(f1_matrix)\n",
    "\n",
    "    return best_tr_f1, selected_auroc, best_stopwords\n",
    "    \n",
    "    \n",
    "    \n",
    "def tune_distant_supervision(method):\n",
    "    stopword_settings = [\n",
    "         [],\n",
    "         ['m'],\n",
    "         ['c'],\n",
    "         ['e'],\n",
    "         ['m', 'c'],\n",
    "         ['m', 'e'],\n",
    "         ['c', 'e'],\n",
    "         ['m', 'c', 'e']\n",
    "    ]\n",
    "\n",
    "    description_settings = ['ICPC only', 'CKS only', 'both']\n",
    "\n",
    "    f1_matrix = np.zeros((len(stopword_settings), len(description_settings)))\n",
    "    auroc_matrix = np.zeros((len(stopword_settings), len(description_settings)))\n",
    "\n",
    "    X_test = transcript_test\n",
    "    y_test = y_hot\n",
    "    \n",
    "    for j, selected_mode in enumerate(description_settings):\n",
    "        description_corpus = load_descriptions(selected_mode, mult_lbl_enc.classes_)\n",
    "        for i, s in enumerate(stopword_settings):\n",
    "            set_stopwords('m' in s, 'c' in s, 'e' in s)\n",
    "            description_vec, text_vectorizer = get_description_vectors(description_corpus, stopwords)\n",
    "            y_desc = mult_lbl_enc.fit_transform(mult_lbl_enc.classes_)\n",
    "            \n",
    "            if method == 'nearest centroid':  \n",
    "                clf = run_nearest_centroid\n",
    "            elif method == 'nearest neighbours':  \n",
    "                clf = run_nearest_neighbors\n",
    "            elif method == 'binary NB':\n",
    "                clf = run_binary_naive_bayes\n",
    "            elif method == 'multiclass NB':\n",
    "                clf = run_multiclass_naive_bayes\n",
    "            elif method == 'binary SVM':\n",
    "                clf = run_binary_svm\n",
    "            elif method == 'multiclass SVM':\n",
    "                clf = run_multiclass_svm\n",
    "                \n",
    "            y_pred_mat, y_pred_probs = clf(description_vec, y_desc, X_test)\n",
    "            f1_matrix[i, j] = evaluate_classifications(y_test, y_pred_mat, mult_lbl_enc.classes_, show_report=False)\n",
    "            auroc_matrix[i, j] = evaluate_probabilities(y_test, y_pred_probs)\n",
    "\n",
    "\n",
    "    max_idx = np.unravel_index(np.argmax(f1_matrix), f1_matrix.shape)\n",
    "    best_tr_f1 = np.max(f1_matrix)\n",
    "    selected_auroc = auroc_matrix[max_idx[0], max_idx[1]]  # not necessarily the best, but the value we get with best f1 score\n",
    "    best_stopwords = stopword_settings[max_idx[0]]\n",
    "    best_desc = description_settings[max_idx[1]]\n",
    "    print(f'Method: {method}. The best score with transcript supervision was {best_tr_f1} with {best_stopwords} stopwords and {best_desc} code descriptions and AUROC={selected_auroc}.')\n",
    "\n",
    "    print('F1 score matrix for the different settings we tried:')\n",
    "    print(f1_matrix)\n",
    "    print(f'...rows are stopword settings, {stopword_settings}, and columns are code descriptions, {description_settings}')\n",
    "\n",
    "    return best_tr_f1, selected_auroc, best_desc, best_stopwords\n"
   ]
  },
  {
   "cell_type": "code",
   "execution_count": 43,
   "id": "f30a779c",
   "metadata": {
    "pycharm": {
     "name": "#%%\n"
    }
   },
   "outputs": [
    {
     "name": "stdout",
     "output_type": "stream",
     "text": [
      "Method: nearest centroid. The best score with transcript supervision was 0.3619733144442262 with ['m', 'c'] stopwords and CKS only code descriptions and AUROC=0.6359371566301026.\n",
      "F1 score matrix for the different settings we tried:\n",
      "[[0.05908054 0.05361481 0.07249159]\n",
      " [0.04296522 0.04112781 0.10630254]\n",
      " [0.05542252 0.03415073 0.11891096]\n",
      " [0.03780826 0.04228995 0.04327121]\n",
      " [0.0398045  0.36197331 0.09051628]\n",
      " [0.05451943 0.06523568 0.04349933]\n",
      " [0.04267562 0.03927739 0.05812541]\n",
      " [0.05557596 0.04338997 0.10326239]]\n",
      "...rows are stopword settings, [[], ['m'], ['c'], ['e'], ['m', 'c'], ['m', 'e'], ['c', 'e'], ['m', 'c', 'e']], and columns are code descriptions, ['ICPC only', 'CKS only', 'both']\n",
      "Method: nearest neighbours. The best score with transcript supervision was 0.3619733144442262 with ['m', 'c'] stopwords and CKS only code descriptions and AUROC=0.7405479134127408.\n",
      "F1 score matrix for the different settings we tried:\n",
      "[[0.05908054 0.05361481 0.07249159]\n",
      " [0.04296522 0.04112781 0.10630254]\n",
      " [0.05542252 0.03415073 0.11891096]\n",
      " [0.03780826 0.04228995 0.04327121]\n",
      " [0.0398045  0.36197331 0.09051628]\n",
      " [0.05451943 0.06523568 0.04349933]\n",
      " [0.04267562 0.03927739 0.05812541]\n",
      " [0.05557596 0.04338997 0.10326239]]\n",
      "...rows are stopword settings, [[], ['m'], ['c'], ['e'], ['m', 'c'], ['m', 'e'], ['c', 'e'], ['m', 'c', 'e']], and columns are code descriptions, ['ICPC only', 'CKS only', 'both']\n",
      "Method: binary NB. The best score with transcript supervision was 0.18001808186405166 with ['m', 'c'] stopwords and CKS only code descriptions and AUROC=0.751845385355465.\n",
      "F1 score matrix for the different settings we tried:\n",
      "[[0.02568027 0.0125     0.01489899]\n",
      " [0.0076486  0.00367647 0.0025    ]\n",
      " [0.02392344 0.00735294 0.00189394]\n",
      " [0.03406264 0.00480769 0.01559524]\n",
      " [0.02341898 0.18001808 0.00189394]\n",
      " [0.01444892 0.00597527 0.01923077]\n",
      " [0.02116883 0.00328947 0.01451939]\n",
      " [0.00271739 0.0365495  0.01551471]]\n",
      "...rows are stopword settings, [[], ['m'], ['c'], ['e'], ['m', 'c'], ['m', 'e'], ['c', 'e'], ['m', 'c', 'e']], and columns are code descriptions, ['ICPC only', 'CKS only', 'both']\n",
      "Method: multiclass NB. The best score with transcript supervision was 0.34045860347828805 with ['m', 'c'] stopwords and CKS only code descriptions and AUROC=0.780024367418094.\n",
      "F1 score matrix for the different settings we tried:\n",
      "[[0.05809202 0.09201739 0.11120511]\n",
      " [0.03813204 0.10919591 0.10478456]\n",
      " [0.07773473 0.07618687 0.11921755]\n",
      " [0.04136198 0.11915305 0.07571294]\n",
      " [0.05698033 0.3404586  0.1222445 ]\n",
      " [0.05238881 0.10591649 0.11344244]\n",
      " [0.06978351 0.08361117 0.09295705]\n",
      " [0.05938336 0.12739077 0.12135626]]\n",
      "...rows are stopword settings, [[], ['m'], ['c'], ['e'], ['m', 'c'], ['m', 'e'], ['c', 'e'], ['m', 'c', 'e']], and columns are code descriptions, ['ICPC only', 'CKS only', 'both']\n",
      "Method: binary SVM. The best score with transcript supervision was 0.0 with [] stopwords and ICPC only code descriptions and AUROC=0.49421979052028053.\n",
      "F1 score matrix for the different settings we tried:\n",
      "[[0. 0. 0.]\n",
      " [0. 0. 0.]\n",
      " [0. 0. 0.]\n",
      " [0. 0. 0.]\n",
      " [0. 0. 0.]\n",
      " [0. 0. 0.]\n",
      " [0. 0. 0.]\n",
      " [0. 0. 0.]]\n",
      "...rows are stopword settings, [[], ['m'], ['c'], ['e'], ['m', 'c'], ['m', 'e'], ['c', 'e'], ['m', 'c', 'e']], and columns are code descriptions, ['ICPC only', 'CKS only', 'both']\n",
      "Method: multiclass SVM. The best score with transcript supervision was 0.3619733144442262 with ['m', 'c'] stopwords and CKS only code descriptions and AUROC=0.8335111641319247.\n",
      "F1 score matrix for the different settings we tried:\n",
      "[[0.05908054 0.05361481 0.07249159]\n",
      " [0.04296522 0.04112781 0.10630254]\n",
      " [0.05542252 0.03415073 0.11891096]\n",
      " [0.03780826 0.04228995 0.04327121]\n",
      " [0.0398045  0.36197331 0.09051628]\n",
      " [0.05451943 0.06523568 0.04349933]\n",
      " [0.04267562 0.03927739 0.05812541]\n",
      " [0.05557596 0.04338997 0.10326239]]\n",
      "...rows are stopword settings, [[], ['m'], ['c'], ['e'], ['m', 'c'], ['m', 'e'], ['c', 'e'], ['m', 'c', 'e']], and columns are code descriptions, ['ICPC only', 'CKS only', 'both']\n"
     ]
    }
   ],
   "source": [
    "tr_sup_auroc = {}\n",
    "tr_sup_f1scores = {}\n",
    "\n",
    "tr_sup_stopwords = {}\n",
    "\n",
    "dist_f1scores = {}\n",
    "dist_auroc = {}\n",
    "\n",
    "dist_descriptions = {}\n",
    "dist_stopwords = {}\n",
    "\n",
    "\n",
    "classifiers_to_run = [\n",
    "    'nearest centroid',\n",
    "    'nearest neighbours',\n",
    "    'binary NB',\n",
    "    'multiclass NB',\n",
    "    'binary SVM', \n",
    "    'multiclass SVM'\n",
    "]    \n",
    "\n",
    "for classifier in classifiers_to_run:\n",
    "    # tr_sup_f1scores[classifier], tr_sup_auroc[classifier], tr_sup_stopwords[classifier] \\\n",
    "        # = tune_transcript_supervision(classifier)\n",
    "    \n",
    "    dist_f1scores[classifier], dist_auroc[classifier], dist_descriptions[classifier], dist_stopwords[classifier] \\\n",
    "        = tune_distant_supervision(classifier)"
   ]
  },
  {
   "cell_type": "code",
   "execution_count": 47,
   "id": "00cbd295-a804-47ad-ac8e-a191d0dd4f23",
   "metadata": {},
   "outputs": [
    {
     "name": "stdout",
     "output_type": "stream",
     "text": [
      "F1 score: 0.23729847463767745. AUROC: 0.5909524965825543\n",
      "F1 score: 0.28240630199021305. AUROC: 0.6076040764402986\n",
      "F1 score: 0.2293576786775316. AUROC: 0.5860057567895949\n",
      "F1 score: 0.26249202289611495. AUROC: 0.6049791813293165\n",
      "F1 score: 0.2825650778959602. AUROC: 0.6112840522078329\n",
      "F1 score: 0.3001183985218428. AUROC: 0.6189661809356714\n",
      "F1 score: 0.27518540120010704. AUROC: 0.6060420395341526\n",
      "F1 score: 0.28592511878573257. AUROC: 0.6090502367803815\n",
      "Method: nearest centroid. The best score with transcript supervision was 0.3001183985218428 with ['m', 'e'] stopwords and AUROC=0.6189661809356714.\n",
      "F1 score matrix for the different settings we tried:\n",
      "[0.23729847 0.2824063  0.22935768 0.26249202 0.28256508 0.3001184\n",
      " 0.2751854  0.28592512]\n",
      "F1 score: 0.11024362624962472. AUROC: 0.5604443001478607\n",
      "F1 score: 0.1501120893282271. AUROC: 0.5890192642007855\n",
      "F1 score: 0.10696035942839013. AUROC: 0.559168911925273\n",
      "F1 score: 0.14878750119351142. AUROC: 0.596999167637916\n",
      "F1 score: 0.15708105426751948. AUROC: 0.5881446220708885\n",
      "F1 score: 0.1584816767196798. AUROC: 0.5929331022130324\n",
      "F1 score: 0.16326201576201577. AUROC: 0.5854368947287916\n",
      "F1 score: 0.1750321144498776. AUROC: 0.5860960179823788\n",
      "Method: nearest neighbours. The best score with transcript supervision was 0.1750321144498776 with ['m', 'c', 'e'] stopwords and AUROC=0.5860960179823788.\n",
      "F1 score matrix for the different settings we tried:\n",
      "[0.11024363 0.15011209 0.10696036 0.1487875  0.15708105 0.15848168\n",
      " 0.16326202 0.17503211]\n",
      "F1 score: 0.29186803118924265. AUROC: 0.7728205829493369\n",
      "F1 score: 0.30277118954287746. AUROC: 0.7721322347937744\n",
      "F1 score: 0.2862857727924261. AUROC: 0.7689447169127641\n",
      "F1 score: 0.29574116569824926. AUROC: 0.7639691935757376\n",
      "F1 score: 0.28355871806760413. AUROC: 0.7669997541865177\n",
      "F1 score: 0.2880499654206551. AUROC: 0.7694797977222855\n",
      "F1 score: 0.29888875124806236. AUROC: 0.7652840218965877\n",
      "F1 score: 0.27960751174296583. AUROC: 0.7667481509792312\n",
      "Method: binary NB. The best score with transcript supervision was 0.30277118954287746 with ['m'] stopwords and AUROC=0.7721322347937744.\n",
      "F1 score matrix for the different settings we tried:\n",
      "[0.29186803 0.30277119 0.28628577 0.29574117 0.28355872 0.28804997\n",
      " 0.29888875 0.27960751]\n",
      "F1 score: 0.2912945028399873. AUROC: 0.7800881326871792\n",
      "F1 score: 0.3124049820935175. AUROC: 0.7791963258134814\n",
      "F1 score: 0.29137282122367025. AUROC: 0.780586317280935\n",
      "F1 score: 0.3059520250843447. AUROC: 0.7778221462280366\n",
      "F1 score: 0.30425799910172463. AUROC: 0.7725439199103569\n",
      "F1 score: 0.3116397498496297. AUROC: 0.7723896885392827\n",
      "F1 score: 0.3092717496109709. AUROC: 0.774428184349002\n",
      "F1 score: 0.3189401035999218. AUROC: 0.7745668560970265\n",
      "Method: multiclass NB. The best score with transcript supervision was 0.3189401035999218 with ['m', 'c', 'e'] stopwords and AUROC=0.7745668560970265.\n",
      "F1 score matrix for the different settings we tried:\n",
      "[0.2912945  0.31240498 0.29137282 0.30595203 0.304258   0.31163975\n",
      " 0.30927175 0.3189401 ]\n",
      "F1 score: 0.14655492734744652. AUROC: 0.7489727850473286\n",
      "F1 score: 0.1497575049219786. AUROC: 0.7578897898073964\n",
      "F1 score: 0.13999544149016657. AUROC: 0.7536443758867863\n",
      "F1 score: 0.18306066973457433. AUROC: 0.7704816260032824\n",
      "F1 score: 0.1583234863598136. AUROC: 0.7685660903070616\n",
      "F1 score: 0.1619851561958255. AUROC: 0.7641920771473479\n",
      "F1 score: 0.18068796517809674. AUROC: 0.7757771076535123\n",
      "F1 score: 0.15831818798246816. AUROC: 0.7642042265383272\n",
      "Method: binary SVM. The best score with transcript supervision was 0.18306066973457433 with ['e'] stopwords and AUROC=0.7704816260032824.\n",
      "F1 score matrix for the different settings we tried:\n",
      "[0.14655493 0.1497575  0.13999544 0.18306067 0.15832349 0.16198516\n",
      " 0.18068797 0.15831819]\n",
      "F1 score: 0.154092252968899. AUROC: 0.6841075236232254\n",
      "F1 score: 0.16834500035480746. AUROC: 0.6909658450539335\n",
      "F1 score: 0.1520925942937142. AUROC: 0.6883536530087487\n",
      "F1 score: 0.1908517735633021. AUROC: 0.6981096344599282\n",
      "F1 score: 0.18421724281269874. AUROC: 0.6832399743220912\n",
      "F1 score: 0.18294043804928872. AUROC: 0.6860336639098721\n",
      "F1 score: 0.20082118856814674. AUROC: 0.7073559090966471\n",
      "F1 score: 0.19200506675803936. AUROC: 0.6885964741822024\n",
      "Method: multiclass SVM. The best score with transcript supervision was 0.20082118856814674 with ['c', 'e'] stopwords and AUROC=0.7073559090966471.\n",
      "F1 score matrix for the different settings we tried:\n",
      "[0.15409225 0.168345   0.15209259 0.19085177 0.18421724 0.18294044\n",
      " 0.20082119 0.19200507]\n"
     ]
    }
   ],
   "source": [
    "for classifier in classifiers_to_run:\n",
    "    tr_sup_f1scores[classifier], tr_sup_auroc[classifier], tr_sup_stopwords[classifier] \\\n",
    "        = tune_transcript_supervision(classifier)"
   ]
  },
  {
   "cell_type": "markdown",
   "id": "f0567a1f",
   "metadata": {},
   "source": [
    "It looks like there is lots of overfitting of the classifiers above, as there is high trainign set performance and low test set performance, especially when using multiple binary classifiers. "
   ]
  },
  {
   "cell_type": "markdown",
   "id": "50488764-df11-49c6-b4c4-f538aab7a188",
   "metadata": {},
   "source": [
    "These results are not very meaningful. They show distant supervision, coarse-grained performance using the stop-word setting selected using the transcript-supervision setup. It would be more useful to replicate the stopword experiments with distant supervision only. This is also required to test whether CKS topics are the best source of distant supervision. "
   ]
  },
  {
   "cell_type": "code",
   "execution_count": 48,
   "id": "9300eab6",
   "metadata": {
    "pycharm": {
     "name": "#%%\n"
    }
   },
   "outputs": [
    {
     "data": {
      "text/plain": [
       "{'nearest centroid': 0.6189661809356714,\n",
       " 'nearest neighbours': 0.5860960179823788,\n",
       " 'binary NB': 0.7721322347937744,\n",
       " 'multiclass NB': 0.7745668560970265,\n",
       " 'binary SVM': 0.7704816260032824,\n",
       " 'multiclass SVM': 0.7073559090966471}"
      ]
     },
     "execution_count": 48,
     "metadata": {},
     "output_type": "execute_result"
    }
   ],
   "source": [
    "tr_sup_auroc"
   ]
  },
  {
   "cell_type": "code",
   "execution_count": 50,
   "id": "632fcd94",
   "metadata": {
    "pycharm": {
     "name": "#%%\n"
    }
   },
   "outputs": [
    {
     "data": {
      "text/plain": [
       "{'nearest centroid': 0.3001183985218428,\n",
       " 'nearest neighbours': 0.1750321144498776,\n",
       " 'binary NB': 0.30277118954287746,\n",
       " 'multiclass NB': 0.3189401035999218,\n",
       " 'binary SVM': 0.18306066973457433,\n",
       " 'multiclass SVM': 0.20082118856814674}"
      ]
     },
     "execution_count": 50,
     "metadata": {},
     "output_type": "execute_result"
    }
   ],
   "source": [
    "tr_sup_f1scores"
   ]
  },
  {
   "cell_type": "code",
   "execution_count": 51,
   "id": "5bd2b464",
   "metadata": {
    "pycharm": {
     "name": "#%%\n"
    }
   },
   "outputs": [
    {
     "data": {
      "text/plain": [
       "{'nearest centroid': ['m', 'e'],\n",
       " 'nearest neighbours': ['m', 'c', 'e'],\n",
       " 'binary NB': ['m'],\n",
       " 'multiclass NB': ['m', 'c', 'e'],\n",
       " 'binary SVM': ['e'],\n",
       " 'multiclass SVM': ['c', 'e']}"
      ]
     },
     "execution_count": 51,
     "metadata": {},
     "output_type": "execute_result"
    }
   ],
   "source": [
    "tr_sup_stopwords"
   ]
  },
  {
   "cell_type": "code",
   "execution_count": 52,
   "id": "017d261a",
   "metadata": {
    "pycharm": {
     "name": "#%%\n"
    }
   },
   "outputs": [
    {
     "data": {
      "text/plain": [
       "{'nearest centroid': 0.3619733144442262,\n",
       " 'nearest neighbours': 0.3619733144442262,\n",
       " 'binary NB': 0.18001808186405166,\n",
       " 'multiclass NB': 0.34045860347828805,\n",
       " 'binary SVM': 0.0,\n",
       " 'multiclass SVM': 0.3619733144442262}"
      ]
     },
     "execution_count": 52,
     "metadata": {},
     "output_type": "execute_result"
    }
   ],
   "source": [
    "dist_f1scores"
   ]
  },
  {
   "cell_type": "code",
   "execution_count": 53,
   "id": "d78a5275",
   "metadata": {
    "pycharm": {
     "name": "#%%\n"
    }
   },
   "outputs": [
    {
     "data": {
      "text/plain": [
       "{'nearest centroid': 0.6359371566301026,\n",
       " 'nearest neighbours': 0.7405479134127408,\n",
       " 'binary NB': 0.751845385355465,\n",
       " 'multiclass NB': 0.780024367418094,\n",
       " 'binary SVM': 0.49421979052028053,\n",
       " 'multiclass SVM': 0.8335111641319247}"
      ]
     },
     "execution_count": 53,
     "metadata": {},
     "output_type": "execute_result"
    }
   ],
   "source": [
    "dist_auroc"
   ]
  },
  {
   "cell_type": "code",
   "execution_count": 41,
   "id": "4c85f2e1",
   "metadata": {
    "pycharm": {
     "name": "#%%\n"
    }
   },
   "outputs": [
    {
     "data": {
      "text/plain": [
       "{'nearest centroid': 'CKS only',\n",
       " 'nearest neighbours': 'CKS only',\n",
       " 'binary NB': 'CKS only',\n",
       " 'multiclass NB': 'CKS only',\n",
       " 'binary SVM': 'ICPC only',\n",
       " 'multiclass SVM': 'CKS only'}"
      ]
     },
     "execution_count": 41,
     "metadata": {},
     "output_type": "execute_result"
    }
   ],
   "source": [
    "dist_descriptions"
   ]
  },
  {
   "cell_type": "code",
   "execution_count": 42,
   "id": "59253178-7639-47fc-a2ee-a3420d547101",
   "metadata": {},
   "outputs": [
    {
     "data": {
      "text/plain": [
       "{'nearest centroid': ['m', 'c'],\n",
       " 'nearest neighbours': ['m', 'c'],\n",
       " 'binary NB': ['m', 'c'],\n",
       " 'multiclass NB': ['m', 'c'],\n",
       " 'binary SVM': [],\n",
       " 'multiclass SVM': ['m', 'c']}"
      ]
     },
     "execution_count": 42,
     "metadata": {},
     "output_type": "execute_result"
    }
   ],
   "source": [
    "dist_stopwords"
   ]
  },
  {
   "cell_type": "code",
   "execution_count": null,
   "id": "9cad4071-9a3e-4f4a-9886-912905ab7844",
   "metadata": {},
   "outputs": [],
   "source": []
  }
 ],
 "metadata": {
  "interpreter": {
   "hash": "c3a989c1c4f35d9c79558ac666af47d36cc0a04287b51672eb032c91327315c2"
  },
  "kernelspec": {
   "display_name": "py39",
   "language": "python",
   "name": "py39"
  },
  "language_info": {
   "codemirror_mode": {
    "name": "ipython",
    "version": 3
   },
   "file_extension": ".py",
   "mimetype": "text/x-python",
   "name": "python",
   "nbconvert_exporter": "python",
   "pygments_lexer": "ipython3",
   "version": "3.9.5"
  }
 },
 "nbformat": 4,
 "nbformat_minor": 5
}
