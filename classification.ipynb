{
 "cells": [
  {
   "cell_type": "code",
   "execution_count": 1,
   "id": "f2bec071",
   "metadata": {
    "scrolled": true
   },
   "outputs": [
    {
     "name": "stderr",
     "output_type": "stream",
     "text": [
      "[nltk_data] Downloading package wordnet to /Users/es1595/nltk_data...\n",
      "[nltk_data]   Package wordnet is already up-to-date!\n"
     ]
    },
    {
     "name": "stdout",
     "output_type": "stream",
     "text": [
      "loading codes from PE...\n"
     ]
    },
    {
     "name": "stderr",
     "output_type": "stream",
     "text": [
      "[nltk_data] Downloading package punkt to /Users/es1595/nltk_data...\n",
      "[nltk_data]   Package punkt is already up-to-date!\n"
     ]
    }
   ],
   "source": [
    "import os\n",
    "import ipywidgets as widgets\n",
    "import numpy as np\n",
    "import pandas as pd\n",
    "import scipy.sparse\n",
    "from IPython.display import display\n",
    "from ipywidgets import interact\n",
    "\n",
    "%matplotlib inline\n",
    "from matplotlib import pyplot as plt\n",
    "\n",
    "from utils.metrics.metric import evaluate_classifications, evaluate_probabilities\n",
    "from classifier_wrappers import run_binary_naive_bayes, run_multiclass_naive_bayes, run_binary_svm, run_multiclass_svm, run_nearest_centroid, run_nearest_neighbors\n",
    "from utils.utils import stratified_multi_label_split\n",
    "%load_ext autoreload\n",
    "%autoreload 2"
   ]
  },
  {
   "cell_type": "markdown",
   "id": "a1ea4eb6-0bd9-43b8-98cc-c26caca9fa97",
   "metadata": {
    "pycharm": {
     "name": "#%% md\n"
    },
    "tags": []
   },
   "source": [
    "# Data preparation\n",
    "\n",
    "First split the orig_dataset into train and test set, then we need to\n",
    "pre-process the transcript data\n",
    "\n",
    "This includes, cleaning text, stemming and lemmatization"
   ]
  },
  {
   "cell_type": "code",
   "execution_count": 2,
   "id": "310fb443-83b6-4e2d-a5d7-79b9b8c662fd",
   "metadata": {
    "pycharm": {
     "name": "#%%\n"
    },
    "tags": []
   },
   "outputs": [
    {
     "name": "stderr",
     "output_type": "stream",
     "text": [
      "Total primary care data-pairs: 255\n",
      "The current IDs only have record documents.\n",
      "['011119' '020105' '030501' '030509' '030510' '050609' '050717' '050719'\n",
      " '071010' '071211' '081310' '081608' '081610' '091410' '091411' '091416'\n",
      " '101705' '101707' '111906' '111908' '112004' '122110']\n",
      "The current IDs only have transcript documents.\n",
      "['-081308' '010103' '010105' '020107' '030501(p.2)' '030501(p1)'\n",
      " '030509(p.1)' '030509(p.2)' '030510 (p.1)' '030510 (p.2)' '040417'\n",
      " '050605' '050609a' '050717 (Dr reads wrong number)' '060806' '060811'\n",
      " '060812' '060906' '071002' '071010(a)' '071012' '071211 (Part 1 of 2)'\n",
      " '071211 (Part 2 of 2)' '081310(b)' '081310(c)' '081310a' '081601'\n",
      " '081606' '081608 (1 of 2)' '081608 (2 of 2)' '091402' '091404' '091405'\n",
      " '091410 & 091411' '091503' '101705 and 101707' '101801' '111906 (2of2)'\n",
      " '111906(1 of 2)' '112002' '112004 & 1112005' '112014' '200105' '50719']\n"
     ]
    },
    {
     "name": "stdout",
     "output_type": "stream",
     "text": [
      "RDSF base directory located at /Volumes/OIAM_to_delete\n",
      "Reading from prepared file: /Volumes/OIAM_to_delete/prepared/consultation_PE.csv\n",
      "Number of rows in dataset: 255\n",
      "Number of rows in dataset after dropping transcripts with no ICPC code: 239\n",
      "['X07', 'B02', 'S86']\n",
      "['Y02', 'N93', 'R83', 'T91']\n",
      "['L18']\n",
      "['S76']\n",
      "['T93', 'L88', 'K85', 'P76']\n",
      "['S99', 'P76']\n",
      "['D93']\n",
      "['W12']\n",
      "['D12']\n",
      "['U02', 'L83']\n",
      "['U71']\n",
      "['T91', 'D90']\n",
      "['H71']\n",
      "['A04', 'L86']\n",
      "['K07', 'P70', 'A91']\n",
      "['K85']\n",
      "['R96']\n",
      "['Y99', 'K84']\n",
      "['L91']\n",
      "['X11', 'L03', 'A04']\n",
      "['H01']\n",
      "['S04', 'K86', 'R05']\n",
      "['P74', 'D95']\n",
      "['R78']\n",
      "['T82']\n",
      "['P74', 'W11']\n",
      "['K07', 'B82']\n",
      "['N89', 'H82', 'L15']\n",
      "['L92']\n",
      "['L90']\n",
      "['U70']\n",
      "['S88', 'T07', 'F29']\n",
      "['R09', 'P02', 'D99']\n",
      "['L91']\n",
      "['L98']\n",
      "['D83', 'R96']\n",
      "['Y07', 'T91', 'A91']\n",
      "['P76']\n",
      "['L98', 'N01', 'K86']\n",
      "['W78', 'P76']\n",
      "['A98', 'S93', 'L99', 'L99']\n",
      "['U02']\n",
      "['P76']\n",
      "['Y07', 'T93', 'D94']\n",
      "['N93', 'P76']\n",
      "['P99', 'U95', 'K86']\n",
      "['N94']\n",
      "['K86', 'S76']\n",
      "['P74']\n",
      "['U13']\n",
      "['W14', 'D94']\n",
      "['K86']\n",
      "['X11']\n",
      "['L99', 'D09', 'X06']\n",
      "['R09']\n",
      "['T86']\n",
      "['R96']\n",
      "['L03', 'P76']\n",
      "['D01']\n",
      "['L18']\n",
      "['L20', 'B78', 'L95']\n",
      "['N01']\n",
      "['N94', 'L15']\n",
      "['D29']\n",
      "['L84']\n",
      "['R05']\n",
      "['K85', 'P76', 'N94']\n",
      "['P19']\n",
      "['H84', 'D01']\n",
      "['P03', 'D99']\n",
      "['W11']\n",
      "['T08']\n",
      "['P74']\n",
      "['L18']\n",
      "['A98', 'H70', 'D07']\n",
      "['P03']\n",
      "['U71']\n",
      "['L99', 'P74']\n",
      "['P03']\n",
      "['L99']\n",
      "['W14']\n",
      "['N94']\n",
      "['R96']\n",
      "['L04', 'L84']\n",
      "['R99']\n",
      "['K80', 'R96']\n",
      "['H82']\n",
      "['D95', 'S82']\n",
      "['D99', 'R23']\n",
      "['P76']\n",
      "['T27', 'S10', 'S74', 'L96']\n",
      "['R74']\n",
      "['P01']\n",
      "['S74', 'T85']\n",
      "['P15', 'K85']\n",
      "['A98', 'N17', 'L93']\n",
      "['L99', 'W11']\n",
      "['S87', 'H28']\n",
      "['U99', 'B80']\n",
      "['S16', 'R05']\n",
      "['U07', 'N29']\n",
      "['X72']\n",
      "['R96', 'D12', 'U04']\n",
      "['S74', 'X26', 'S29', 'K86']\n",
      "['L87', 'D84']\n",
      "['P08']\n",
      "['D01', 'R95']\n",
      "['K84']\n",
      "['S82']\n",
      "['N99']\n",
      "['K96']\n",
      "['H02']\n",
      "['A98', 'L99', 'P20']\n",
      "['X08']\n",
      "['R81']\n",
      "['P76', 'B80']\n",
      "['B80']\n",
      "['N92']\n",
      "['D07', 'N05', 'L18']\n",
      "['L99']\n",
      "['X86', 'W11']\n",
      "['L08']\n",
      "['Y77']\n",
      "['D10']\n",
      "['S70', 'X11']\n",
      "['L91']\n",
      "['R74']\n",
      "['T99']\n",
      "['R78']\n",
      "['T82', 'D07', 'W11']\n",
      "['-30']\n",
      "['R74', 'T93', 'T89']\n",
      "['D87']\n",
      "['T90', 'L87']\n",
      "['D18', 'B80']\n",
      "['D07']\n",
      "['L11', 'L02', 'W14']\n",
      "['N06', 'K07']\n",
      "['L86']\n",
      "['L15']\n",
      "['D07']\n",
      "['-30']\n",
      "['P86']\n",
      "['S96']\n",
      "['N19', 'P01']\n",
      "['F15', 'L99']\n",
      "['T92', 'K87', 'U99']\n",
      "['P76']\n",
      "['A11', 'A91']\n",
      "['T93', 'K86']\n",
      "['A92', 'K87', 'L99', 'R95', 'T82', 'U04', 'D91']\n",
      "['X87']\n",
      "['L86', 'S93']\n",
      "['S87']\n",
      "['H99', 'P76']\n",
      "['P74']\n",
      "['K92', 'P76']\n",
      "['A98', 'D70']\n",
      "['L86']\n",
      "['K96', 'L84', 'R96']\n",
      "['S96']\n",
      "['U07', 'P76']\n",
      "['S70']\n",
      "['X72', 'P03', 'S23']\n",
      "['D93']\n",
      "['N94', 'F83']\n",
      "['L08']\n",
      "['P70']\n",
      "['L04']\n",
      "['R04']\n",
      "['F29', 'S84', 'R76']\n",
      "['X99', 'L89', 'R02']\n",
      "['D83', 'S87']\n",
      "['S96', 'P76']\n",
      "['S05']\n",
      "['L76', 'R74']\n",
      "['U99', 'K07', 'R95']\n",
      "['R96', 'K86']\n",
      "['L18', 'D01']\n",
      "['T85', 'T91']\n",
      "['K74']\n",
      "['U99', 'P06', 'S03']\n",
      "['L99']\n",
      "['D12']\n",
      "['R05']\n",
      "['D87']\n",
      "['A98', 'P16', 'R99']\n",
      "['L89']\n",
      "['B80']\n",
      "['P76']\n",
      "['L17']\n",
      "['S76']\n",
      "['K07', 'S99', 'T91']\n",
      "['L86']\n",
      "['P76', 'L15', 'T82']\n",
      "['L92', 'H84', 'X11']\n",
      "['S90']\n",
      "['P06', 'K78', 'T99', 'K96', 'S91', 'S80']\n",
      "['L92']\n",
      "['S80']\n",
      "['L90']\n",
      "['R05', 'D01']\n",
      "['T86', 'W11']\n",
      "['A98', 'D89', 'Y13']\n",
      "['P74']\n",
      "['D21']\n",
      "['L99']\n",
      "['R95']\n",
      "['P76']\n",
      "['L84', 'Y06', 'R07']\n",
      "['D89']\n",
      "['D99']\n",
      "['P01']\n",
      "['D07']\n",
      "['N99']\n",
      "['L08']\n",
      "['L02']\n",
      "['K96']\n",
      "['P76', 'P19']\n",
      "['R74', 'D93', 'N75']\n",
      "['L81']\n",
      "['D91']\n",
      "['L18']\n",
      "['K95', 'K78', 'L87']\n",
      "['A04']\n",
      "['P03', 'K99', 'S74']\n",
      "['P73', 'F04']\n",
      "['L81']\n",
      "['R81']\n",
      "['K27', 'P74']\n",
      "['X11', 'U29', 'N03']\n",
      "['D82', 'L92', 'H01']\n",
      "['T90', 'R75']\n",
      "['P04', 'U02']\n",
      "['U99']\n",
      "['D93', 'L99']\n",
      "['L87']\n",
      "['K86', 'D07']\n",
      "['P01']\n",
      "16 classification categories: ['A' 'B' 'D' 'F' 'H' 'K' 'L' 'N' 'P' 'R' 'S' 'T' 'U' 'W' 'X' 'Y']\n"
     ]
    }
   ],
   "source": [
    "from prepare_data import prepare_original_data\n",
    "\n",
    "# YOU MAY NEED TO SET THE LOCATION OF THE DATASET IN oneinamillion/resources.py.\n",
    "orig_dataset, mult_lbl_enc, y_hot = prepare_original_data()"
   ]
  },
  {
   "cell_type": "code",
   "execution_count": 3,
   "id": "6973a97c-8923-4ffc-87a2-72993e4a711f",
   "metadata": {},
   "outputs": [
    {
     "data": {
      "text/plain": [
       "array([[1, 0, 0, 0, 0, 0, 0, 0, 0, 0, 0, 0, 0, 0, 0, 0],\n",
       "       [0, 1, 0, 0, 0, 0, 0, 0, 0, 0, 0, 0, 0, 0, 0, 0],\n",
       "       [0, 0, 1, 0, 0, 0, 0, 0, 0, 0, 0, 0, 0, 0, 0, 0],\n",
       "       [0, 0, 0, 1, 0, 0, 0, 0, 0, 0, 0, 0, 0, 0, 0, 0],\n",
       "       [0, 0, 0, 0, 1, 0, 0, 0, 0, 0, 0, 0, 0, 0, 0, 0],\n",
       "       [0, 0, 0, 0, 0, 1, 0, 0, 0, 0, 0, 0, 0, 0, 0, 0],\n",
       "       [0, 0, 0, 0, 0, 0, 1, 0, 0, 0, 0, 0, 0, 0, 0, 0],\n",
       "       [0, 0, 0, 0, 0, 0, 0, 1, 0, 0, 0, 0, 0, 0, 0, 0],\n",
       "       [0, 0, 0, 0, 0, 0, 0, 0, 1, 0, 0, 0, 0, 0, 0, 0],\n",
       "       [0, 0, 0, 0, 0, 0, 0, 0, 0, 1, 0, 0, 0, 0, 0, 0],\n",
       "       [0, 0, 0, 0, 0, 0, 0, 0, 0, 0, 1, 0, 0, 0, 0, 0],\n",
       "       [0, 0, 0, 0, 0, 0, 0, 0, 0, 0, 0, 1, 0, 0, 0, 0],\n",
       "       [0, 0, 0, 0, 0, 0, 0, 0, 0, 0, 0, 0, 1, 0, 0, 0],\n",
       "       [0, 0, 0, 0, 0, 0, 0, 0, 0, 0, 0, 0, 0, 1, 0, 0],\n",
       "       [0, 0, 0, 0, 0, 0, 0, 0, 0, 0, 0, 0, 0, 0, 1, 0],\n",
       "       [0, 0, 0, 0, 0, 0, 0, 0, 0, 0, 0, 0, 0, 0, 0, 1]])"
      ]
     },
     "execution_count": 3,
     "metadata": {},
     "output_type": "execute_result"
    }
   ],
   "source": [
    "mult_lbl_enc.fit_transform(mult_lbl_enc.classes_)"
   ]
  },
  {
   "cell_type": "code",
   "execution_count": 4,
   "id": "8f9fbb9f",
   "metadata": {},
   "outputs": [],
   "source": [
    "labels = {}\n",
    "for codes in orig_dataset['codes']:\n",
    "    #print(codes)\n",
    "    for code in codes:\n",
    "        if code not in labels:\n",
    "            labels[code] = 0\n",
    "            \n",
    "        labels[code] += 1\n",
    "        \n",
    "# labels"
   ]
  },
  {
   "cell_type": "code",
   "execution_count": 5,
   "id": "5262548e-e016-400d-97c9-11a22bbd50d9",
   "metadata": {},
   "outputs": [
    {
     "name": "stdout",
     "output_type": "stream",
     "text": [
      "{3: 40, 4: 5, 1: 128, 2: 62, 0: 2, 7: 1, 6: 1}\n"
     ]
    }
   ],
   "source": [
    "#codes per consultation\n",
    "counts = {}\n",
    "for codes in orig_dataset['codes']:\n",
    "    n_codes = len(codes)\n",
    "    if n_codes not in counts:\n",
    "        counts[n_codes] = 0\n",
    "        \n",
    "    counts[n_codes] += 1\n",
    "    \n",
    "print(counts)"
   ]
  },
  {
   "cell_type": "code",
   "execution_count": 6,
   "id": "e7ea5995-15ff-4dc9-ac68-d822ea4d0299",
   "metadata": {},
   "outputs": [
    {
     "data": {
      "image/png": "[encoded data removed]",
      "text/plain": [
       "<Figure size 432x288 with 1 Axes>"
      ]
     },
     "metadata": {
      "needs_background": "light"
     },
     "output_type": "display_data"
    }
   ],
   "source": [
    "plt.bar(counts.keys(), counts.values())\n",
    "plt.xlabel('Number of codes assigned to a single consultation')\n",
    "plt.ylabel('Number of consultations')\n",
    "plt.savefig('codes_per_consultation_hist.pdf')"
   ]
  },
  {
   "cell_type": "code",
   "execution_count": 7,
   "id": "057ad586-b287-4349-8ab4-a5fe862e62ba",
   "metadata": {},
   "outputs": [
    {
     "data": {
      "text/plain": [
       "dict_values([40, 5, 128, 62, 2, 1, 1])"
      ]
     },
     "execution_count": 7,
     "metadata": {},
     "output_type": "execute_result"
    }
   ],
   "source": [
    "counts.values()"
   ]
  },
  {
   "cell_type": "markdown",
   "id": "6f6580de-4064-4f87-a5f1-679d4eefee46",
   "metadata": {},
   "source": [
    "Split the data to use 80% for train/dev and hold-out the rest as a test set:"
   ]
  },
  {
   "cell_type": "code",
   "execution_count": 8,
   "id": "89e5bf5c-068a-4072-8b09-5508d8dad669",
   "metadata": {},
   "outputs": [
    {
     "name": "stdout",
     "output_type": "stream",
     "text": [
      "181\n",
      "56\n",
      "181\n",
      "[11  6 33  4  8 26 50 17 37 30 23 18 14  8 11  5]\n",
      "56\n",
      "[ 3  2 11  1  3  6 15  3 13  7  9  6  4  3  3  2]\n"
     ]
    }
   ],
   "source": [
    "dev_data, test_data, y_hot_dev, y_hot_test = stratified_multi_label_split(orig_dataset, y_hot)\n",
    "\n",
    "print(len(dev_data))\n",
    "print(len(test_data))\n",
    "print(len(y_hot_dev))\n",
    "print(np.sum(y_hot_dev, 0))\n",
    "print(len(y_hot_test))\n",
    "print(np.sum(y_hot_test, 0))"
   ]
  },
  {
   "cell_type": "code",
   "execution_count": 9,
   "id": "71413be2-28e7-464c-949d-a7bb95f8de28",
   "metadata": {},
   "outputs": [
    {
     "name": "stderr",
     "output_type": "stream",
     "text": [
      "/var/folders/nk/6rkg02z54j7fj87nwwsfgkjwp8v29w/T/ipykernel_50773/443145282.py:16: RuntimeWarning: invalid value encountered in true_divide\n",
      "  f = 2 * (r*p) / (r+p)\n"
     ]
    },
    {
     "name": "stdout",
     "output_type": "stream",
     "text": [
      "0.017778993435448576\n",
      "0.1593978945784257\n"
     ]
    }
   ],
   "source": [
    "# compute some baselines\n",
    "import numpy as np\n",
    "from sklearn.metrics import f1_score\n",
    "\n",
    "\n",
    "# majority class baseline\n",
    "def score_majority_baseline(y_hot):\n",
    "    counts = np.sum(y_hot, axis=0)\n",
    "    majclass = np.argmax(counts)\n",
    "    \n",
    "    r = np.zeros(16)\n",
    "    r[majclass] = 1 # label everything as class 6\n",
    "\n",
    "    p = np.zeros(16)\n",
    "    p[majclass] = counts[majclass] / np.sum(counts)\n",
    "    f = 2 * (r*p) / (r+p)\n",
    "    f[np.isnan(f)] = 0\n",
    "    print(np.mean(f))\n",
    "\n",
    "    \n",
    "# random baseline\n",
    "def score_random_baseline(y_hot):\n",
    "    score = 0\n",
    "    nsamples = 1000\n",
    "    for sample in range(nsamples):\n",
    "        # random_labels = np.random.rand(y_hot.shape[0], y_hot.shape[1])\n",
    "        # random_labels = random_labels > (counts / np.sum(counts))[None, :]\n",
    "        random_labels = np.random.randint(0, 2, y_hot.shape)\n",
    "        score += f1_score(random_labels, y_hot, average='macro')\n",
    "\n",
    "    print(score / nsamples)\n",
    "    \n",
    "\n",
    "score_majority_baseline(y_hot)\n",
    "score_random_baseline(y_hot)"
   ]
  },
  {
   "cell_type": "markdown",
   "id": "f44e8574",
   "metadata": {
    "pycharm": {
     "name": "#%% md\n"
    }
   },
   "source": [
    "# Medical Code descriptions"
   ]
  },
  {
   "cell_type": "code",
   "execution_count": 93,
   "id": "6de7bd1b",
   "metadata": {
    "pycharm": {
     "name": "#%%\n"
    }
   },
   "outputs": [
    {
     "data": {
      "application/vnd.jupyter.widget-view+json": {
       "model_id": "3939787dfa8a4432864fb16eee54fa84",
       "version_major": 2,
       "version_minor": 0
      },
      "text/plain": [
       "interactive(children=(Dropdown(description='mode', options=('ICPC only', 'CKS only', 'ICPC and CKS'), value='I…"
      ]
     },
     "metadata": {},
     "output_type": "display_data"
    },
    {
     "data": {
      "text/plain": [
       "<function __main__.control_description(mode='ICPC only')>"
      ]
     },
     "execution_count": 93,
     "metadata": {},
     "output_type": "execute_result"
    }
   ],
   "source": [
    "selected_mode = None\n",
    "modes = ['ICPC only', 'CKS only', 'ICPC and CKS']\n",
    "def control_description(mode=modes[0]):\n",
    "    global selected_mode\n",
    "    selected_mode = mode\n",
    "\n",
    "interact(control_description, mode=modes)"
   ]
  },
  {
   "cell_type": "code",
   "execution_count": 50,
   "id": "8032abed",
   "metadata": {},
   "outputs": [],
   "source": [
    "# interaction donot work for me\n",
    "selected_mode = 'CKS only'  # 'ICPC only'"
   ]
  },
  {
   "cell_type": "code",
   "execution_count": 51,
   "id": "319ecbc0",
   "metadata": {
    "pycharm": {
     "name": "#%% combine the two\n"
    }
   },
   "outputs": [],
   "source": [
    "from prepare_data import load_descriptions\n",
    "\n",
    "# If loading the ICPC descriptions, we take three columns: inclusion, exclusion, consider.\n",
    "# If loading the CKS descriptions (which are mapped to corresponding ICPC codes), \n",
    "# we take the text from subheadings defined in the default_headings_to_include variable in \n",
    "# oneinamillion/clinical_codes/cks.py \n",
    "\n",
    "description_corpus = load_descriptions(selected_mode)"
   ]
  },
  {
   "cell_type": "code",
   "execution_count": 52,
   "id": "4f6a74aa-6678-4cb6-ae49-1b3e1f4720a3",
   "metadata": {},
   "outputs": [
    {
     "data": {
      "text/plain": [
       "(16,)"
      ]
     },
     "execution_count": 52,
     "metadata": {},
     "output_type": "execute_result"
    }
   ],
   "source": [
    "description_corpus.shape"
   ]
  },
  {
   "cell_type": "code",
   "execution_count": 96,
   "id": "cfa0dd64-288e-4cde-8204-419028981b49",
   "metadata": {
    "pycharm": {
     "name": "#%% combine the two\n"
    }
   },
   "outputs": [],
   "source": [
    "from prepare_data import load_descriptions\n",
    "\n",
    "# If loading the ICPC descriptions, we take three columns: inclusion, exclusion, \n",
    "\n",
    "description_corpus = load_descriptions(selected_mode)"
   ]
  },
  {
   "cell_type": "code",
   "execution_count": 97,
   "id": "9a1dd1fb",
   "metadata": {},
   "outputs": [
    {
     "data": {
      "text/plain": [
       "A    pain general/multiple site  chronic general pa...\n",
       "B    lymph gland(s) enlarged/painful  lymphadenopat...\n",
       "D    abdominal pain/cramps general  abdominal colic...\n",
       "F    eye pain   red eye  bloodshot/inflamed eye eye...\n",
       "H    ear pain/earache   hearing complaint  auditory...\n",
       "K    heart pain  pain attributed heart pressure/tig...\n",
       "L    neck symptom/complaint  pain attributed cervic...\n",
       "N    headache  post-traumatic headache pain face   ...\n",
       "P    feeling anxious/nervous/tense feeling reported...\n",
       "R    pain respiratory system  painful respiration; ...\n",
       "S    pain/tenderness skin  burning sensation; painf...\n",
       "T    excessive thirst  polydipsia excessive appetit...\n",
       "U    dysuria/painful urination  burning urination u...\n",
       "W    question pregnancy  delayed menstruation; symp...\n",
       "X    genital pain female  pelvic pain; vulval pain ...\n",
       "Y    pain penis   pain testis/scrotum  pain pelvis;...\n",
       "Name: keyword, dtype: object"
      ]
     },
     "execution_count": 97,
     "metadata": {},
     "output_type": "execute_result"
    }
   ],
   "source": [
    "description_corpus"
   ]
  },
  {
   "cell_type": "markdown",
   "id": "18e2f127",
   "metadata": {
    "pycharm": {
     "name": "#%% md\n"
    }
   },
   "source": [
    "# Bag of words representations\n",
    "\n",
    "This section extracts vector representations of the ICPC code descriptions and transcripts and loads a set of stopwords. It works like this:\n",
    "\n",
    "- Apply TF-IDF to ICPC code descriptions\n",
    "- Exclude the stopwords\n",
    "- Include both unigrams and bigrams\n",
    "- Keeps only the top 5000 features with the highest scores"
   ]
  },
  {
   "cell_type": "code",
   "execution_count": 98,
   "id": "0405f32d",
   "metadata": {
    "pycharm": {
     "is_executing": true,
     "name": "#%%\n"
    }
   },
   "outputs": [
    {
     "data": {
      "application/vnd.jupyter.widget-view+json": {
       "model_id": "49242ddcc05745b2a5e1569bd534003a",
       "version_major": 2,
       "version_minor": 0
      },
      "text/plain": [
       "interactive(children=(Checkbox(value=True, description='m'), Checkbox(value=True, description='c'), Checkbox(v…"
      ]
     },
     "metadata": {},
     "output_type": "display_data"
    },
    {
     "data": {
      "text/plain": [
       "<function __main__.set_stopwords(m, c, e)>"
      ]
     },
     "execution_count": 98,
     "metadata": {},
     "output_type": "execute_result"
    }
   ],
   "source": [
    "from utils.stopwords import get_medical_stopwords, get_custom_stopwords, get_english_stopwords\n",
    "medical_stopwords = get_medical_stopwords()\n",
    "custom_stopwords = get_custom_stopwords()\n",
    "english_stopwords = get_english_stopwords()\n",
    "\n",
    "use_med, use_cus, use_eng = False, False, False\n",
    "stopwords = []\n",
    "\n",
    "def update_stopwords():\n",
    "    global stopwords\n",
    "    stopwords = []\n",
    "    if use_med:\n",
    "        stopwords += medical_stopwords\n",
    "    if use_cus:\n",
    "        stopwords += custom_stopwords\n",
    "    if use_eng:\n",
    "        stopwords += english_stopwords\n",
    "    # display(f\"number of stopwords: {len(stopwords)}\")\n",
    "\n",
    "def set_stopwords(m,c,e):\n",
    "    global use_med, use_cus, use_eng\n",
    "    use_med = m\n",
    "    use_cus = c\n",
    "    use_eng = e\n",
    "    update_stopwords()\n",
    "\n",
    "interact(set_stopwords, m=True, c=True, e=False)"
   ]
  },
  {
   "cell_type": "code",
   "execution_count": 99,
   "id": "3b0ef5df-2ca1-41f4-8dc9-3e988d25460e",
   "metadata": {},
   "outputs": [
    {
     "data": {
      "text/plain": [
       "270"
      ]
     },
     "execution_count": 99,
     "metadata": {},
     "output_type": "execute_result"
    }
   ],
   "source": [
    "len(stopwords)"
   ]
  },
  {
   "cell_type": "code",
   "execution_count": 100,
   "id": "e9f0aaa4",
   "metadata": {
    "pycharm": {
     "name": "#%%\n"
    }
   },
   "outputs": [
    {
     "name": "stdout",
     "output_type": "stream",
     "text": [
      "icpc description bag-of-word matrix shape: (16, 5000)\n",
      "vocabulary size: 5000\n"
     ]
    }
   ],
   "source": [
    "from sklearn.feature_extraction.text import TfidfVectorizer\n",
    "\n",
    "def get_description_vectors(description_corpus, stopwords):\n",
    "    max_features=5000\n",
    "\n",
    "    text_vectorizer = TfidfVectorizer(ngram_range=(1,2), stop_words=stopwords, max_features=max_features)\n",
    "    description_vec = text_vectorizer.fit_transform(description_corpus)\n",
    "    print(f\"icpc description bag-of-word matrix shape: {description_vec.shape}\")\n",
    "    vec_vocab = text_vectorizer.vocabulary_ # dictionary that contain the BOW tokens\n",
    "\n",
    "    # print(f\"bag-of-word tokens: {', '.join(list(vec_vocab.keys())[:5])}...\")\n",
    "    print(f\"vocabulary size: {len(vec_vocab)}\")\n",
    "\n",
    "    return description_vec, text_vectorizer\n",
    "\n",
    "# Feature vectors for the descriptions\n",
    "description_vec, text_vectorizer = get_description_vectors(description_corpus, stopwords)"
   ]
  },
  {
   "cell_type": "code",
   "execution_count": 101,
   "id": "965f8bc1",
   "metadata": {},
   "outputs": [
    {
     "name": "stdout",
     "output_type": "stream",
     "text": [
      "[[1 0 0 0 0 0 0 0 0 0 0 0 0 0 0 0]\n",
      " [0 1 0 0 0 0 0 0 0 0 0 0 0 0 0 0]\n",
      " [0 0 1 0 0 0 0 0 0 0 0 0 0 0 0 0]\n",
      " [0 0 0 1 0 0 0 0 0 0 0 0 0 0 0 0]\n",
      " [0 0 0 0 1 0 0 0 0 0 0 0 0 0 0 0]\n",
      " [0 0 0 0 0 1 0 0 0 0 0 0 0 0 0 0]\n",
      " [0 0 0 0 0 0 1 0 0 0 0 0 0 0 0 0]\n",
      " [0 0 0 0 0 0 0 1 0 0 0 0 0 0 0 0]\n",
      " [0 0 0 0 0 0 0 0 1 0 0 0 0 0 0 0]\n",
      " [0 0 0 0 0 0 0 0 0 1 0 0 0 0 0 0]\n",
      " [0 0 0 0 0 0 0 0 0 0 1 0 0 0 0 0]\n",
      " [0 0 0 0 0 0 0 0 0 0 0 1 0 0 0 0]\n",
      " [0 0 0 0 0 0 0 0 0 0 0 0 1 0 0 0]\n",
      " [0 0 0 0 0 0 0 0 0 0 0 0 0 1 0 0]\n",
      " [0 0 0 0 0 0 0 0 0 0 0 0 0 0 1 0]\n",
      " [0 0 0 0 0 0 0 0 0 0 0 0 0 0 0 1]]\n"
     ]
    }
   ],
   "source": [
    "# Get the labels for each description in one-hot-encoding format\n",
    "y = [[i] for i in description_corpus.index]\n",
    "y_desc = mult_lbl_enc.fit_transform(y)\n",
    "print(y_desc)"
   ]
  },
  {
   "cell_type": "code",
   "execution_count": 102,
   "id": "823847d1-6ef3-4d12-920f-8d400b3b5d5e",
   "metadata": {},
   "outputs": [],
   "source": [
    "# Get the transcript data and extract the feature vectors for it.\n",
    "\n",
    "key = 'transcript__conversation_both'\n",
    "# key = 'transcript__conversation_gp'\n",
    "# key = 'transcript__conversation_patient'\n",
    "transcript_data = orig_dataset[key]\n",
    "transcript_test = text_vectorizer.transform(transcript_data)"
   ]
  },
  {
   "cell_type": "code",
   "execution_count": 110,
   "id": "d5b38cc8-537a-4745-8e23-9a4fbd2955e9",
   "metadata": {},
   "outputs": [
    {
     "data": {
      "text/html": [
       "<div>\n",
       "<style scoped>\n",
       "    .dataframe tbody tr th:only-of-type {\n",
       "        vertical-align: middle;\n",
       "    }\n",
       "\n",
       "    .dataframe tbody tr th {\n",
       "        vertical-align: top;\n",
       "    }\n",
       "\n",
       "    .dataframe thead th {\n",
       "        text-align: right;\n",
       "    }\n",
       "</style>\n",
       "<table border=\"1\" class=\"dataframe\">\n",
       "  <thead>\n",
       "    <tr style=\"text-align: right;\">\n",
       "      <th></th>\n",
       "      <th>index</th>\n",
       "      <th>record_id</th>\n",
       "      <th>icpc_codes</th>\n",
       "      <th>pt_records</th>\n",
       "      <th>transcript__start_date</th>\n",
       "      <th>transcript__duration</th>\n",
       "      <th>transcript__conversation</th>\n",
       "      <th>codes</th>\n",
       "      <th>transcript__conversation_clean</th>\n",
       "      <th>transcript__conversation_both</th>\n",
       "      <th>transcript__conversation_gp</th>\n",
       "      <th>transcript__conversation_patient</th>\n",
       "    </tr>\n",
       "  </thead>\n",
       "  <tbody>\n",
       "    <tr>\n",
       "      <th>0</th>\n",
       "      <td>0</td>\n",
       "      <td>20209</td>\n",
       "      <td>['X07', 'B02', 'S86']</td>\n",
       "      <td>[{'date': datetime.datetime(2014, 11, 25, 0, 0...</td>\n",
       "      <td>2014-09-08 10:58:29</td>\n",
       "      <td>0:11:21</td>\n",
       "      <td>[('Doc', 'Hello NAME, come on through. You’re ...</td>\n",
       "      <td>[X, B, S]</td>\n",
       "      <td>[[Doc, hello name, come through. you’re welcom...</td>\n",
       "      <td>hello name, come through. you’re welcome. come...</td>\n",
       "      <td>hello name, come through. you’re welcome. come...</td>\n",
       "      <td>yes, ___ actual video. didn’t realise actual v...</td>\n",
       "    </tr>\n",
       "    <tr>\n",
       "      <th>1</th>\n",
       "      <td>1</td>\n",
       "      <td>20210</td>\n",
       "      <td>['Y02', 'N93', 'R83', 'T91']</td>\n",
       "      <td>[{'date': datetime.datetime(2014, 11, 12, 0, 0...</td>\n",
       "      <td>2014-09-08 14:04:39</td>\n",
       "      <td>0:14:22</td>\n",
       "      <td>[('Doc', 'Now how you’re doing NAME?'), ('Pat'...</td>\n",
       "      <td>[Y, N, R, T]</td>\n",
       "      <td>[[Doc, you’re name?], [Pat, bad.], [Doc, nice ...</td>\n",
       "      <td>you’re name? bad. nice meet again. haven’t see...</td>\n",
       "      <td>you’re name? nice meet again. haven’t seen ___...</td>\n",
       "      <td>bad. ___ followed last met, haven’t actually f...</td>\n",
       "    </tr>\n",
       "  </tbody>\n",
       "</table>\n",
       "</div>"
      ],
      "text/plain": [
       "   index  record_id                    icpc_codes  \\\n",
       "0      0      20209         ['X07', 'B02', 'S86']   \n",
       "1      1      20210  ['Y02', 'N93', 'R83', 'T91']   \n",
       "\n",
       "                                          pt_records transcript__start_date  \\\n",
       "0  [{'date': datetime.datetime(2014, 11, 25, 0, 0...    2014-09-08 10:58:29   \n",
       "1  [{'date': datetime.datetime(2014, 11, 12, 0, 0...    2014-09-08 14:04:39   \n",
       "\n",
       "  transcript__duration                           transcript__conversation  \\\n",
       "0              0:11:21  [('Doc', 'Hello NAME, come on through. You’re ...   \n",
       "1              0:14:22  [('Doc', 'Now how you’re doing NAME?'), ('Pat'...   \n",
       "\n",
       "          codes                     transcript__conversation_clean  \\\n",
       "0     [X, B, S]  [[Doc, hello name, come through. you’re welcom...   \n",
       "1  [Y, N, R, T]  [[Doc, you’re name?], [Pat, bad.], [Doc, nice ...   \n",
       "\n",
       "                       transcript__conversation_both  \\\n",
       "0  hello name, come through. you’re welcome. come...   \n",
       "1  you’re name? bad. nice meet again. haven’t see...   \n",
       "\n",
       "                         transcript__conversation_gp  \\\n",
       "0  hello name, come through. you’re welcome. come...   \n",
       "1  you’re name? nice meet again. haven’t seen ___...   \n",
       "\n",
       "                    transcript__conversation_patient  \n",
       "0  yes, ___ actual video. didn’t realise actual v...  \n",
       "1  bad. ___ followed last met, haven’t actually f...  "
      ]
     },
     "execution_count": 110,
     "metadata": {},
     "output_type": "execute_result"
    }
   ],
   "source": [
    "orig_dataset[0:2]"
   ]
  },
  {
   "cell_type": "code",
   "execution_count": 103,
   "id": "3f7d5570-746e-4f7b-a046-2fb3f3bbf3ce",
   "metadata": {},
   "outputs": [
    {
     "data": {
      "text/plain": [
       "<239x5000 sparse matrix of type '<class 'numpy.float64'>'\n",
       "\twith 10763 stored elements in Compressed Sparse Row format>"
      ]
     },
     "execution_count": 103,
     "metadata": {},
     "output_type": "execute_result"
    }
   ],
   "source": [
    "transcript_test"
   ]
  },
  {
   "cell_type": "markdown",
   "id": "4173aa65",
   "metadata": {},
   "source": [
    "# Distant Supervison\n",
    "\n",
    "In this setting, we use the code descriptions as our training data and test on the whole set of transcripts."
   ]
  },
  {
   "cell_type": "markdown",
   "id": "f0ff7315",
   "metadata": {},
   "source": [
    "## Coarse-grained classification\n",
    "\n",
    "Train and test with coarse-grained ICPC codes as the class labels.\n",
    "\n",
    "### NB Classifier"
   ]
  },
  {
   "cell_type": "code",
   "execution_count": 106,
   "id": "2fc6ec02-4a67-4fb6-9c40-c522ac7e19c0",
   "metadata": {},
   "outputs": [
    {
     "name": "stdout",
     "output_type": "stream",
     "text": [
      "Multiclass NB: Performance on all classes:\n",
      "0.4739065232496023\n",
      "0.846256297401029\n",
      "Multiclass NB: Performance without the 'General' class:\n",
      "0.495623748256366\n",
      "0.8571919024129495\n"
     ]
    }
   ],
   "source": [
    "y_pred_mat, y_pred_probs = run_multiclass_naive_bayes(description_vec, y_desc, transcript_test)\n",
    "\n",
    "print(\"Multiclass NB: Performance on all classes:\")\n",
    "print(evaluate_classifications(y_hot, y_pred_mat, mult_lbl_enc.classes_))\n",
    "print(evaluate_probabilities(y_hot, y_pred_probs))\n",
    "\n",
    "print(\"Multiclass NB: Performance without the 'General' class:\")\n",
    "print(evaluate_classifications(y_hot[:, 1:], y_pred_mat[:, 1:], mult_lbl_enc.classes_[1:]))\n",
    "print(evaluate_probabilities(y_hot[:, 1:], y_pred_probs[:, 1:]))"
   ]
  },
  {
   "cell_type": "code",
   "execution_count": 121,
   "id": "1a619d51",
   "metadata": {},
   "outputs": [
    {
     "name": "stdout",
     "output_type": "stream",
     "text": [
      "Binary NB: Performance on all classes:\n",
      "0.33889526007942694\n",
      "0.7923552856987277\n"
     ]
    }
   ],
   "source": [
    "y_pred_mat, y_pred_probs = run_binary_naive_bayes(description_vec, y_desc, transcript_test)\n",
    "print(\"Binary NB: Performance on all classes:\")\n",
    "print(evaluate_classifications(y_hot, y_pred_mat, mult_lbl_enc.classes_))\n",
    "print(evaluate_probabilities(y_hot, y_pred_probs))"
   ]
  },
  {
   "cell_type": "code",
   "execution_count": 122,
   "id": "a1d4300f-ffe2-4654-bb95-91582b4d6215",
   "metadata": {},
   "outputs": [
    {
     "name": "stdout",
     "output_type": "stream",
     "text": [
      "Binary NB: Performance without the 'General' class:\n",
      "0.3614882774180554\n",
      "0.8134964317294366\n"
     ]
    }
   ],
   "source": [
    "print(\"Binary NB: Performance without the 'General' class:\")\n",
    "print(evaluate_classifications(y_hot[:, 1:], y_pred_mat[:, 1:], mult_lbl_enc.classes_[1:]))\n",
    "print(evaluate_probabilities(y_hot[:, 1:], y_pred_probs[:, 1:]))"
   ]
  },
  {
   "cell_type": "markdown",
   "id": "e7f20e53",
   "metadata": {},
   "source": [
    "#### SVM Classifier"
   ]
  },
  {
   "cell_type": "code",
   "execution_count": 103,
   "id": "039b1cbb",
   "metadata": {},
   "outputs": [
    {
     "name": "stdout",
     "output_type": "stream",
     "text": [
      "Multiclass SVM: Performance on all classes:\n",
      "0.4161326962084671\n",
      "0.8492839298669883\n",
      "Multiclass SVM: Performance without the 'General' class:\n",
      "0.4296904787925776\n",
      "0.8629398955618246\n"
     ]
    }
   ],
   "source": [
    "# multiclass svm\n",
    "y_pred_mat, y_pred_probs = run_multiclass_svm(description_vec, y_desc, transcript_test)\n",
    "\n",
    "print(\"Multiclass SVM: Performance on all classes:\")\n",
    "print(evaluate_classifications(y_hot, y_pred_mat, mult_lbl_enc.classes_))\n",
    "print(evaluate_probabilities(y_hot, y_pred_probs))\n",
    "\n",
    "print(\"Multiclass SVM: Performance without the 'General' class:\")\n",
    "print(evaluate_classifications(y_hot[:, 1:], y_pred_mat[:, 1:], mult_lbl_enc.classes_[1:]))\n",
    "print(evaluate_probabilities(y_hot[:, 1:], y_pred_probs[:, 1:]))"
   ]
  },
  {
   "cell_type": "code",
   "execution_count": 104,
   "id": "a653b320-1f58-42b0-b72d-a200fd10e206",
   "metadata": {},
   "outputs": [
    {
     "name": "stdout",
     "output_type": "stream",
     "text": [
      "[0.35714286 0.875      0.27272727 0.6        0.81818182 0.5\n",
      " 0.52307692 0.15       0.54       0.51351351 0.125      0.08333333\n",
      " 0.44444444 0.18181818 0.07142857 0.14285714]\n"
     ]
    },
    {
     "data": {
      "text/plain": [
       "array(['A', 'B', 'D', 'F', 'H', 'K', 'L', 'N', 'P', 'R', 'S', 'T', 'U',\n",
       "       'W', 'X', 'Y'], dtype=object)"
      ]
     },
     "execution_count": 104,
     "metadata": {},
     "output_type": "execute_result"
    }
   ],
   "source": [
    "from sklearn.metrics import recall_score\n",
    "\n",
    "print(recall_score(y_hot, y_pred_mat, average=None))\n",
    "mult_lbl_enc.classes_"
   ]
  },
  {
   "cell_type": "code",
   "execution_count": 105,
   "id": "028c9519-644d-4ab6-9491-edef97401c1b",
   "metadata": {},
   "outputs": [
    {
     "name": "stdout",
     "output_type": "stream",
     "text": [
      "[0.8789237668161435, 0.9177489177489178, 0.985, 0.9786324786324786, 0.974025974025974, 0.95260663507109, 0.979381443298969, 0.9868421052631579, 0.943127962085308, 0.9592760180995475, 0.9911894273127754, 0.9914163090128756, 0.9871244635193133, 0.9872340425531915, 1.0, 0.9957983193277311]\n"
     ]
    }
   ],
   "source": [
    "from sklearn.metrics import confusion_matrix\n",
    "\n",
    "def specificity(gold, pred):\n",
    "    confmat = confusion_matrix(np.argmax(gold, 1), np.argmax(pred, 1))\n",
    "    \n",
    "    specs = []\n",
    "    for lab in range(confmat.shape[0]):\n",
    "        TP = 0\n",
    "        denom = 0\n",
    "        for falselab in range(confmat.shape[0]):\n",
    "            if falselab == lab:\n",
    "                continue\n",
    "            \n",
    "            TP += np.sum(confmat[falselab]) - confmat[falselab, lab]\n",
    "            denom += np.sum(confmat[falselab])\n",
    "            \n",
    "        specs.append(TP / denom)\n",
    "    return specs\n",
    "\n",
    "print(specificity(y_hot, y_pred_mat))"
   ]
  },
  {
   "cell_type": "code",
   "execution_count": 106,
   "id": "458af0cc-3abb-428a-a1e6-89a13067e0fc",
   "metadata": {},
   "outputs": [
    {
     "name": "stderr",
     "output_type": "stream",
     "text": [
      "/Users/es1595/opt/anaconda3/envs/NLP_GP/lib/python3.9/site-packages/sklearn/utils/validation.py:70: FutureWarning: Pass display_labels=['A' 'B' 'D' 'F' 'H' 'K' 'L' 'N' 'P' 'R' 'S' 'T' 'U' 'W' 'X' 'Y'] as keyword args. From version 1.0 (renaming of 0.25) passing these as positional arguments will result in an error\n",
      "  warnings.warn(f\"Pass {args_msg} as keyword args. From version \"\n"
     ]
    },
    {
     "data": {
      "image/png": "[encoded data removed]",
      "text/plain": [
       "<Figure size 432x288 with 2 Axes>"
      ]
     },
     "metadata": {
      "needs_background": "light"
     },
     "output_type": "display_data"
    }
   ],
   "source": [
    "confmat = confusion_matrix(np.argmax(y_hot, 1), np.argmax(y_pred_mat, 1))\n",
    "\n",
    "from sklearn.metrics import ConfusionMatrixDisplay\n",
    "\n",
    "disp = ConfusionMatrixDisplay(confmat, mult_lbl_enc.classes_)\n",
    "\n",
    "disp.plot()\n",
    "\n",
    "plt.savefig('conf_mat.pdf')"
   ]
  },
  {
   "cell_type": "code",
   "execution_count": 107,
   "id": "90b48747-b1a7-4a0d-b6e5-031e00ccfede",
   "metadata": {},
   "outputs": [
    {
     "name": "stdout",
     "output_type": "stream",
     "text": [
      "Binary SVM: Performance on all classes:\n",
      "0.17888062045905176\n",
      "0.849976602448425\n",
      "Binary SVM: Performance without the 'General' class:\n",
      "0.18342786603906233\n",
      "0.8637845664211771\n"
     ]
    }
   ],
   "source": [
    "# binary svm\n",
    "y_pred_mat, y_pred_probs = run_binary_svm(description_vec, y_desc, transcript_test)\n",
    "\n",
    "print(\"Binary SVM: Performance on all classes:\")\n",
    "print(evaluate_classifications(y_hot, y_pred_mat, mult_lbl_enc.classes_))\n",
    "print(evaluate_probabilities(y_hot, y_pred_probs))\n",
    "\n",
    "print(\"Binary SVM: Performance without the 'General' class:\")\n",
    "print(evaluate_classifications(y_hot[:, 1:], y_pred_mat[:, 1:], mult_lbl_enc.classes_[1:]))\n",
    "print(evaluate_probabilities(y_hot[:, 1:], y_pred_probs[:, 1:]))"
   ]
  },
  {
   "cell_type": "code",
   "execution_count": 108,
   "id": "c660ff14-ce26-4703-a8ad-35d6ac812ee8",
   "metadata": {},
   "outputs": [
    {
     "name": "stdout",
     "output_type": "stream",
     "text": [
      "[0.0, 1.0, 1.0, 1.0, 1.0, 1.0, 1.0, 1.0, 1.0, 1.0, 1.0, 1.0, 1.0, 1.0, 1.0, 1.0]\n",
      "[1. 1. 1. 1. 1. 1. 1. 1. 1. 1. 1. 1. 1. 1. 1. 1.]\n"
     ]
    },
    {
     "data": {
      "text/plain": [
       "False"
      ]
     },
     "execution_count": 108,
     "metadata": {},
     "output_type": "execute_result"
    }
   ],
   "source": [
    "print(specificity(y_hot, y_pred_mat))\n",
    "print(recall_score(y_hot, y_pred_mat, average=None))\n",
    "\n",
    "np.any(y_pred_mat==0)"
   ]
  },
  {
   "cell_type": "markdown",
   "id": "f8344d8f",
   "metadata": {
    "pycharm": {
     "name": "#%% md\n"
    },
    "tags": []
   },
   "source": [
    "### Nearest Centroid classifier\n",
    "\n",
    "Define distance and nearest centroid classifiers."
   ]
  },
  {
   "cell_type": "code",
   "execution_count": 109,
   "id": "417bc9c7",
   "metadata": {
    "pycharm": {
     "name": "#%%\n"
    }
   },
   "outputs": [
    {
     "name": "stdout",
     "output_type": "stream",
     "text": [
      "Nearest centroid: Performance on all classes:\n",
      "0.4161326962084671\n",
      "0.6813493945686562\n",
      "Nearest centroid: Performance without the 'General' class:\n",
      "0.4296904787925776\n",
      "0.6856827404499529\n"
     ]
    }
   ],
   "source": [
    "y_pred_mat, y_pred_probs = run_nearest_centroid(description_vec, y_desc, transcript_test)\n",
    "\n",
    "print(\"Nearest centroid: Performance on all classes:\")\n",
    "print(evaluate_classifications(y_hot, y_pred_mat, mult_lbl_enc.classes_))\n",
    "print(evaluate_probabilities(y_hot, y_pred_probs))\n",
    "\n",
    "print(\"Nearest centroid: Performance without the 'General' class:\")\n",
    "print(evaluate_classifications(y_hot[:, 1:], y_pred_mat[:, 1:], mult_lbl_enc.classes_[1:]))\n",
    "print(evaluate_probabilities(y_hot[:, 1:], y_pred_probs[:, 1:]))\n",
    "\n",
    "# # # for distant supervision, only consider the nearest description. This is identical to nearest centroid so skip it here.\n",
    "# y_pred_mat, y_pred_probs = run_nearest_neighbors(description_vec, y_desc, transcript_test, n_neighbors=1)  \n",
    "\n",
    "# print(evaluate_classifications(y_hot, y_pred_mat, mult_lbl_enc.classes_))\n",
    "# print(evaluate_classifications(y_hot[:, 1:], y_pred_mat[:, 1:], mult_lbl_enc.classes_[1:]))"
   ]
  },
  {
   "cell_type": "markdown",
   "id": "20ff37b0-d192-484d-b0c3-05dd267bd985",
   "metadata": {},
   "source": [
    "# Analysis\n",
    "\n",
    "Define some functions we can use to compare our classifiers' predictions to the ground truth."
   ]
  },
  {
   "cell_type": "code",
   "execution_count": 27,
   "id": "88a5848b",
   "metadata": {
    "tags": []
   },
   "outputs": [
    {
     "data": {
      "application/vnd.jupyter.widget-view+json": {
       "model_id": "35242f7aac8b4720a973090a7bb30be5",
       "version_major": 2,
       "version_minor": 0
      },
      "text/plain": [
       "interactive(children=(Dropdown(description='code', options=('A', 'B', 'D', 'F', 'H', 'K', 'L', 'N', 'P', 'R', …"
      ]
     },
     "metadata": {},
     "output_type": "display_data"
    },
    {
     "data": {
      "text/plain": [
       "<function __main__.show_truth_pred_tbl(code)>"
      ]
     },
     "execution_count": 27,
     "metadata": {},
     "output_type": "execute_result"
    }
   ],
   "source": [
    "def get_idxes_with_cat(_y_train: np.ndarray, code:str):\n",
    "    # Return the indexes of examples from the training set that have the chosen code as a gold label\n",
    "    \n",
    "    y_train_raw = mult_lbl_enc.inverse_transform(_y_train)\n",
    "    return [i for i,cs in enumerate(y_train_raw) if code in cs]\n",
    "\n",
    "\n",
    "def get_truth_pred_pairs(_y_train, _y_pred, indices):\n",
    "\n",
    "    # Get true labels for selected instances\n",
    "    truth = mult_lbl_enc.inverse_transform(_y_train[indices])\n",
    "        \n",
    "    # Get predictions for selected instances\n",
    "    pred = mult_lbl_enc.inverse_transform(_y_pred[indices])\n",
    "        \n",
    "    # Return a table \n",
    "    data = list(zip(indices, truth, pred))\n",
    "    return pd.DataFrame(data, columns=['id', 'truth', 'predicted'])\n",
    "\n",
    "\n",
    "def show_truth_pred_tbl(code):\n",
    "    # Code: the selected ICPC code\n",
    "    \n",
    "    # gold_mat: choose the gold labels as a one-hot encoded matrix\n",
    "    gold_mat = y_hot\n",
    "    \n",
    "    # get the transcripts from the train split with the chosen code\n",
    "    cat_idxes = get_idxes_with_cat(gold_mat, code)  \n",
    "    \n",
    "    # Get a table showing the predictions and true labels\n",
    "    return get_truth_pred_pairs(gold_mat, y_pred_mat, cat_idxes)\n",
    "\n",
    "\n",
    "interact(show_truth_pred_tbl, code=mult_lbl_enc.classes_)  # use interactive UI to set the code from any one of the ICPC codes"
   ]
  },
  {
   "cell_type": "code",
   "execution_count": 28,
   "id": "a52ba2e7",
   "metadata": {
    "pycharm": {
     "name": "#%%\n"
    }
   },
   "outputs": [
    {
     "data": {
      "application/vnd.jupyter.widget-view+json": {
       "model_id": "01cf7f4e25534e678f9477ff6ae05d85",
       "version_major": 2,
       "version_minor": 0
      },
      "text/plain": [
       "interactive(children=(Dropdown(description='cat', options=('A', 'B', 'D', 'F', 'H', 'K', 'L', 'N', 'P', 'R', '…"
      ]
     },
     "metadata": {},
     "output_type": "display_data"
    },
    {
     "data": {
      "text/plain": [
       "<function __main__.plot_explain_category(cat: str)>"
      ]
     },
     "execution_count": 28,
     "metadata": {},
     "output_type": "execute_result"
    },
    {
     "data": {
      "image/png": "[encoded data removed]",
      "text/plain": [
       "<Figure size 432x288 with 1 Axes>"
      ]
     },
     "metadata": {
      "needs_background": "light"
     },
     "output_type": "display_data"
    }
   ],
   "source": [
    "from wordcloud import WordCloud\n",
    "\n",
    "# Explain a category -- show the keywords from the descriptions as a word cloud\n",
    "\n",
    "lookup = [x for _,x in sorted(zip(text_vectorizer.vocabulary_.values(), text_vectorizer.vocabulary_.keys()))]\n",
    "features_arr = np.array(text_vectorizer.get_feature_names())\n",
    "\n",
    "def explain_bow_vector(vec:scipy.sparse.csr_matrix, ax=plt):\n",
    "    # _, idxs = scipy.sparse.csr_matrix.nonzero(vec)\n",
    "    # words = [lookup[k] for k in idxs]\n",
    "    # word_cloud = WordCloud().generate(' '.join(words))\n",
    "    test = pd.DataFrame(vec.todense(), columns=features_arr).T.to_dict()[0]\n",
    "    word_cloud = WordCloud(background_color=\"white\").generate_from_frequencies(test)\n",
    "    ax.imshow(word_cloud, interpolation='bilinear')\n",
    "    ax.axis(\"off\")\n",
    "\n",
    "def explain_category(cat:str, ax=plt):\n",
    "    target = list(mult_lbl_enc.classes_).index(cat)\n",
    "    target = description_vec[target]\n",
    "    explain_bow_vector(target, ax=ax)\n",
    "\n",
    "def plot_explain_category(cat:str):\n",
    "    explain_category(cat)\n",
    "\n",
    "interact(plot_explain_category, cat=mult_lbl_enc.classes_)"
   ]
  },
  {
   "cell_type": "code",
   "execution_count": 29,
   "id": "3dd9f4eb",
   "metadata": {
    "pycharm": {
     "name": "#%%\n"
    }
   },
   "outputs": [
    {
     "data": {
      "application/vnd.jupyter.widget-view+json": {
       "model_id": "724ec4d09f4648f48a763786cd4a1598",
       "version_major": 2,
       "version_minor": 0
      },
      "text/plain": [
       "interactive(children=(Dropdown(description='_cat', options=('A', 'B', 'D', 'F', 'H', 'K', 'L', 'N', 'P', 'R', …"
      ]
     },
     "metadata": {},
     "output_type": "display_data"
    },
    {
     "data": {
      "text/plain": [
       "<function __main__.view_record(_cat, _id)>"
      ]
     },
     "execution_count": 29,
     "metadata": {},
     "output_type": "execute_result"
    },
    {
     "data": {
      "image/png": "[encoded data removed]",
      "text/plain": [
       "<Figure size 720x360 with 2 Axes>"
      ]
     },
     "metadata": {
      "needs_background": "light"
     },
     "output_type": "display_data"
    },
    {
     "data": {
      "image/png": "[encoded data removed]",
      "text/plain": [
       "<Figure size 432x288 with 2 Axes>"
      ]
     },
     "metadata": {
      "needs_background": "light"
     },
     "output_type": "display_data"
    }
   ],
   "source": [
    "from sklearn.metrics.pairwise import cosine_similarity\n",
    "import seaborn as sns\n",
    "\n",
    "# Choose the instances we will be using -- can be set to y_hot for whole dataset or y_train for the training split\n",
    "gold_mat = y_hot  # y_train  # one-hot encoding\n",
    "# Can be set to transcript_test for whole dataset or X_train for training split\n",
    "transcript_vec = transcript_test  # X_train\n",
    "# Can be set to orig_dataset for whole dataset or train_set for training split\n",
    "transcript_dataframe = orig_dataset\n",
    "\n",
    "cat_dropdown = widgets.Dropdown(options=mult_lbl_enc.classes_)\n",
    "id_dropdown = widgets.Dropdown(options=get_idxes_with_cat(gold_mat, cat_dropdown.value))\n",
    "\n",
    "def refresh_id_dropdown(*args):\n",
    "    id_dropdown.options = get_idxes_with_cat(gold_mat, cat_dropdown.value)\n",
    "\n",
    "cat_dropdown.observe(refresh_id_dropdown, 'value')\n",
    "\n",
    "def show_cosine_similarity(_id):   \n",
    "    cos_sim = cosine_similarity(transcript_vec[_id], description_vec)[0]\n",
    "    cos_sim = pd.DataFrame(list(zip(mult_lbl_enc.classes_, cos_sim)), columns=['category', 'cos sim'])\n",
    "    cos_sim = cos_sim.set_index('category').T\n",
    "    grid_kws = {\"height_ratios\": (.9, .05), \"hspace\": -0.5}\n",
    "    f, (ax, cbar_ax) = plt.subplots(2, gridspec_kw=grid_kws)\n",
    "    sns.heatmap(cos_sim, square=True, ax=ax,\n",
    "                cbar_ax=cbar_ax,\n",
    "                cbar_kws={\"orientation\": \"horizontal\"},\n",
    "                cmap='Greens')\n",
    "\n",
    "    \n",
    "def show_keywords_true_pred(_id, _cat):\n",
    "    fig, (ax1, ax2) = plt.subplots(1, 2, figsize=(10,5))\n",
    "    ax1.title.set_text('BOW from sample transcipt')\n",
    "    ax2.title.set_text('BOW of predicted class')            \n",
    "    explain_bow_vector(transcript_vec[_id], ax=ax1)\n",
    "    explain_category(_cat, ax=ax2)\n",
    "\n",
    "    \n",
    "def view_record(_cat, _id):\n",
    "    # _id: index of a selected transcript instance\n",
    "    # _cat: category to investigate. We can select instances with this category as their true label.?\n",
    "    \n",
    "    global test\n",
    "    \n",
    "    # get the predicted category labels for the selected instance\n",
    "    pred_cat = mult_lbl_enc.inverse_transform(np.array(y_pred_mat)[_id:_id+1])[0][0]\n",
    "    \n",
    "    # get the selected instance. Change this to train_set if using the training split.\n",
    "    record = transcript_dataframe.iloc[_id]\n",
    "    \n",
    "    # get the vector of the selected transcript\n",
    "    record\n",
    "    \n",
    "    info = [f\"Index: {_id}\",\n",
    "           f\"Id: {record['record_id']}\",\n",
    "           f\"Actual: {mult_lbl_enc.inverse_transform(gold_mat[_id:_id+1])}\",\n",
    "           f\"Predicted: {pred_cat}\"]\n",
    "    display(*info)\n",
    "    \n",
    "    # show keywords from the transcript and from the description vector of the predicted class\n",
    "    show_keywords_true_pred(_id, pred_cat)    \n",
    "    \n",
    "    # Compute similarity between the description vectors for each class and the vector of the selected transcript\n",
    "    show_cosine_similarity(_id)\n",
    "    \n",
    "interact(view_record, _cat=cat_dropdown, _id=id_dropdown)"
   ]
  },
  {
   "cell_type": "code",
   "execution_count": 30,
   "id": "57da71e4",
   "metadata": {
    "pycharm": {
     "name": "#%%\n"
    }
   },
   "outputs": [
    {
     "name": "stdout",
     "output_type": "stream",
     "text": [
      "multilabel_confusion_matrix:\n"
     ]
    },
    {
     "name": "stderr",
     "output_type": "stream",
     "text": [
      "<ipython-input-30-26a701f12261>:17: UserWarning: Matplotlib is currently using module://matplotlib_inline.backend_inline, which is a non-GUI backend, so cannot show the figure.\n",
      "  fig.show()\n"
     ]
    },
    {
     "data": {
      "image/png": "[encoded data removed]",
      "text/plain": [
       "<Figure size 72x72 with 2 Axes>"
      ]
     },
     "metadata": {
      "needs_background": "light"
     },
     "output_type": "display_data"
    },
    {
     "data": {
      "image/png": "[encoded data removed]",
      "text/plain": [
       "<Figure size 72x72 with 2 Axes>"
      ]
     },
     "metadata": {
      "needs_background": "light"
     },
     "output_type": "display_data"
    },
    {
     "data": {
      "image/png": "[encoded data removed]",
      "text/plain": [
       "<Figure size 72x72 with 2 Axes>"
      ]
     },
     "metadata": {
      "needs_background": "light"
     },
     "output_type": "display_data"
    },
    {
     "data": {
      "image/png": "[encoded data removed]",
      "text/plain": [
       "<Figure size 72x72 with 2 Axes>"
      ]
     },
     "metadata": {
      "needs_background": "light"
     },
     "output_type": "display_data"
    },
    {
     "data": {
      "image/png": "[encoded data removed]",
      "text/plain": [
       "<Figure size 72x72 with 2 Axes>"
      ]
     },
     "metadata": {
      "needs_background": "light"
     },
     "output_type": "display_data"
    },
    {
     "data": {
      "image/png": "[encoded data removed]",
      "text/plain": [
       "<Figure size 72x72 with 2 Axes>"
      ]
     },
     "metadata": {
      "needs_background": "light"
     },
     "output_type": "display_data"
    },
    {
     "data": {
      "image/png": "[encoded data removed]",
      "text/plain": [
       "<Figure size 72x72 with 2 Axes>"
      ]
     },
     "metadata": {
      "needs_background": "light"
     },
     "output_type": "display_data"
    },
    {
     "data": {
      "image/png": "[encoded data removed]",
      "text/plain": [
       "<Figure size 72x72 with 2 Axes>"
      ]
     },
     "metadata": {
      "needs_background": "light"
     },
     "output_type": "display_data"
    },
    {
     "data": {
      "image/png": "[encoded data removed]",
      "text/plain": [
       "<Figure size 72x72 with 2 Axes>"
      ]
     },
     "metadata": {
      "needs_background": "light"
     },
     "output_type": "display_data"
    },
    {
     "data": {
      "image/png": "[encoded data removed]",
      "text/plain": [
       "<Figure size 72x72 with 2 Axes>"
      ]
     },
     "metadata": {
      "needs_background": "light"
     },
     "output_type": "display_data"
    },
    {
     "data": {
      "image/png": "[encoded data removed]",
      "text/plain": [
       "<Figure size 72x72 with 2 Axes>"
      ]
     },
     "metadata": {
      "needs_background": "light"
     },
     "output_type": "display_data"
    },
    {
     "data": {
      "image/png": "[encoded data removed]",
      "text/plain": [
       "<Figure size 72x72 with 2 Axes>"
      ]
     },
     "metadata": {
      "needs_background": "light"
     },
     "output_type": "display_data"
    },
    {
     "data": {
      "image/png": "[encoded data removed]",
      "text/plain": [
       "<Figure size 72x72 with 2 Axes>"
      ]
     },
     "metadata": {
      "needs_background": "light"
     },
     "output_type": "display_data"
    },
    {
     "data": {
      "image/png": "[encoded data removed]",
      "text/plain": [
       "<Figure size 72x72 with 2 Axes>"
      ]
     },
     "metadata": {
      "needs_background": "light"
     },
     "output_type": "display_data"
    },
    {
     "data": {
      "image/png": "[encoded data removed]",
      "text/plain": [
       "<Figure size 72x72 with 2 Axes>"
      ]
     },
     "metadata": {
      "needs_background": "light"
     },
     "output_type": "display_data"
    },
    {
     "data": {
      "image/png": "[encoded data removed]",
      "text/plain": [
       "<Figure size 72x72 with 2 Axes>"
      ]
     },
     "metadata": {
      "needs_background": "light"
     },
     "output_type": "display_data"
    }
   ],
   "source": [
    "from sklearn.metrics import multilabel_confusion_matrix\n",
    "\n",
    "# Note: print statements does not work in PyCharm\n",
    "\n",
    "def plot_multilabel_conf_matrix(targets, predictions):\n",
    "    print(f\"multilabel_confusion_matrix:\")\n",
    "    conf_mat = multilabel_confusion_matrix(targets, predictions)\n",
    "   \n",
    "    for c, (cls, mat) in enumerate(zip(mult_lbl_enc.classes_, conf_mat)):\n",
    "        fig = plt.figure(figsize=(1,1))\n",
    "        ax = fig.add_subplot()\n",
    "                \n",
    "        ax.set_title(cls)\n",
    "        sns.heatmap(mat, ax=ax, cmap='Blues', annot=True, fmt=\"d\")\n",
    "        ax.set_xlabel('pred')\n",
    "        ax.set_ylabel('true')\n",
    "        fig.show()\n",
    "\n",
    "plot_multilabel_conf_matrix(y_hot, y_pred_mat)"
   ]
  },
  {
   "cell_type": "markdown",
   "id": "129f2fa0",
   "metadata": {},
   "source": [
    "## Fine-grained classification\n",
    "\n",
    "Here we train and predict the CKS topics. To evaluated, we map predictions back to ICPC codes and use the test labels."
   ]
  },
  {
   "cell_type": "code",
   "execution_count": 29,
   "id": "5c2db788",
   "metadata": {},
   "outputs": [],
   "source": [
    "import json\n",
    "from oneinamillion.resources import DL_DATA, ICPC2CKS, CKS_DESC, PCC_CODES_DIR, PCC_CKS_DIR\n",
    "from sklearn.preprocessing import MultiLabelBinarizer\n",
    "from utils.utils import prediction_cks2icpc"
   ]
  },
  {
   "cell_type": "code",
   "execution_count": 30,
   "id": "87112c43",
   "metadata": {},
   "outputs": [
    {
     "name": "stderr",
     "output_type": "stream",
     "text": [
      "<ipython-input-30-d8f8db1c5356>:7: FutureWarning: Passing a dict as an indexer is deprecated and will raise in a future version. Use a list instead.\n",
      "  health_topics = health_topics.loc[selected_topics]\n"
     ]
    }
   ],
   "source": [
    "# load topics trained in DL methods to keep consitent\n",
    "topics_file = os.path.join(DL_DATA, 'fg_label2id.json')\n",
    "with open(topics_file, 'r') as f:\n",
    "    selected_topics = json.load(f)\n",
    "# load health topics\n",
    "health_topics = pd.read_csv(os.path.join(PCC_CKS_DIR, CKS_DESC), index_col=0)\n",
    "health_topics = health_topics.loc[selected_topics]\n",
    "\n",
    "description_vec, text_vectorizer = get_description_vectors(health_topics['topics'], stopwords)\n",
    "# obtain labels\n",
    "mult_lbl_enc2 = MultiLabelBinarizer()\n",
    "y = [[i] for i in health_topics.index]\n",
    "y_desc = mult_lbl_enc2.fit_transform(y)\n",
    "\n",
    "# obtain test data\n",
    "transcript_test = text_vectorizer.transform(transcript_data)"
   ]
  },
  {
   "cell_type": "code",
   "execution_count": 31,
   "id": "2222f647-1f3f-47c3-bf33-a481d72ba356",
   "metadata": {},
   "outputs": [
    {
     "data": {
      "text/plain": [
       "Superficial vein thrombosis (superficial thrombophlebitis)    superficial vein thrombosis (also known superf...\n",
       "Bipolar disorder                                              bipolar disorder thought caused interplay gene...\n",
       "Carpal tunnel syndrome                                        people cause carpal tunnel syndrome known.anyt...\n",
       "Cholesteatoma                                                 cholesteatoma abnormal accumulation squamous e...\n",
       "DVT prevention for travellers                                 deep vein thrombosis (dvt) term used describe ...\n",
       "                                                                                    ...                        \n",
       "Conjunctivitis - allergic                                     allergic conjunctivitis caused immunoglobulin ...\n",
       "Urethritis - male                                             urethritis commonly (but always) caused sexual...\n",
       "Herpes simplex - oral                                         oral herpes simplex virus (hsv) usually cause ...\n",
       "Stroke and TIA                                                stroke clinical syndrome characterised sudden ...\n",
       "Vaginal discharge                                             normal physiological vaginal discharge white c...\n",
       "Name: topics, Length: 315, dtype: object"
      ]
     },
     "execution_count": 31,
     "metadata": {},
     "output_type": "execute_result"
    }
   ],
   "source": [
    "health_topics['topics']"
   ]
  },
  {
   "cell_type": "markdown",
   "id": "cbad6ad6",
   "metadata": {},
   "source": [
    "#### NB Classifier "
   ]
  },
  {
   "cell_type": "code",
   "execution_count": 32,
   "id": "3252a9f9",
   "metadata": {},
   "outputs": [
    {
     "name": "stdout",
     "output_type": "stream",
     "text": [
      "Binary NB fine-grained: \n",
      "0.003787878787878788\n"
     ]
    }
   ],
   "source": [
    "y_pred_mat, y_pred_probs = run_binary_naive_bayes(description_vec, y_desc, transcript_test)\n",
    "# convert label_id to class names\n",
    "pred_labels = mult_lbl_enc2.inverse_transform(y_pred_mat)\n",
    "\n",
    "map_file = os.path.join(PCC_CKS_DIR, ICPC2CKS)\n",
    "# create a fake label2name\n",
    "label2name = {label:label for label in mult_lbl_enc.classes_}\n",
    "# map cks to icpc\n",
    "mapped_predictions = prediction_cks2icpc(map_file, pred_labels, label2name)\n",
    "\n",
    "\n",
    "predictions = mult_lbl_enc.transform(mapped_predictions)\n",
    "\n",
    "print('Binary NB fine-grained: ')\n",
    "print(evaluate_classifications(y_hot, predictions, mult_lbl_enc.classes_))"
   ]
  },
  {
   "cell_type": "code",
   "execution_count": 33,
   "id": "695b7087-424a-4acb-ae05-d42f49575f71",
   "metadata": {},
   "outputs": [
    {
     "name": "stdout",
     "output_type": "stream",
     "text": [
      "Multiclass NB fine-grained: \n",
      "0.23201562287071104\n"
     ]
    }
   ],
   "source": [
    "y_pred_mat, y_pred_probs = run_multiclass_naive_bayes(description_vec, y_desc, transcript_test)\n",
    "# convert label_id to class names\n",
    "pred_labels = mult_lbl_enc2.inverse_transform(y_pred_mat)\n",
    "\n",
    "map_file = os.path.join(PCC_CKS_DIR, ICPC2CKS)\n",
    "# create a fake label2name\n",
    "label2name = {label:label for label in mult_lbl_enc.classes_}\n",
    "# map cks to icpc\n",
    "mapped_predictions = prediction_cks2icpc(map_file, pred_labels, label2name)\n",
    "\n",
    "\n",
    "predictions = mult_lbl_enc.transform(mapped_predictions)\n",
    "\n",
    "print('Multiclass NB fine-grained: ')\n",
    "print(evaluate_classifications(y_hot, predictions, mult_lbl_enc.classes_))"
   ]
  },
  {
   "cell_type": "code",
   "execution_count": 34,
   "id": "deeb2768",
   "metadata": {},
   "outputs": [
    {
     "name": "stdout",
     "output_type": "stream",
     "text": [
      "Binary SVM fine-grained: \n",
      "0.17888062045905176\n"
     ]
    }
   ],
   "source": [
    "y_pred_mat, y_pred_probs = run_binary_svm(description_vec, y_desc, transcript_test)\n",
    "pred_labels = mult_lbl_enc2.inverse_transform(y_pred_mat)\n",
    "map_file = os.path.join(PCC_CKS_DIR, ICPC2CKS)\n",
    "# create a fake label2name\n",
    "label2name = {label:label for label in mult_lbl_enc.classes_}\n",
    "# map cks to icpc\n",
    "mapped_predictions = prediction_cks2icpc(map_file, pred_labels, label2name)\n",
    "predictions = mult_lbl_enc.transform(mapped_predictions)\n",
    "\n",
    "print('Binary SVM fine-grained: ')\n",
    "print(evaluate_classifications(y_hot, predictions, mult_lbl_enc.classes_))"
   ]
  },
  {
   "cell_type": "code",
   "execution_count": 35,
   "id": "01452b25-9087-43fa-945b-e3b02e9a7ef8",
   "metadata": {},
   "outputs": [
    {
     "name": "stdout",
     "output_type": "stream",
     "text": [
      "Multiclass SVM fine-grained: \n",
      "0.35516238803557787\n"
     ]
    }
   ],
   "source": [
    "y_pred_mat, y_pred_probs = run_multiclass_svm(description_vec, y_desc, transcript_test)\n",
    "pred_labels = mult_lbl_enc2.inverse_transform(y_pred_mat)\n",
    "map_file = os.path.join(PCC_CKS_DIR, ICPC2CKS)\n",
    "# create a fake label2name\n",
    "label2name = {label:label for label in mult_lbl_enc.classes_}\n",
    "# map cks to icpc\n",
    "mapped_predictions = prediction_cks2icpc(map_file, pred_labels, label2name)\n",
    "predictions = mult_lbl_enc.transform(mapped_predictions)\n",
    "\n",
    "print('Multiclass SVM fine-grained: ')\n",
    "print(evaluate_classifications(y_hot, predictions, mult_lbl_enc.classes_))"
   ]
  },
  {
   "cell_type": "code",
   "execution_count": 36,
   "id": "f4065206-0588-4789-84f0-894d37a83d10",
   "metadata": {},
   "outputs": [
    {
     "name": "stdout",
     "output_type": "stream",
     "text": [
      "Nearest centroid fine-grained: \n",
      "0.35516238803557787\n"
     ]
    }
   ],
   "source": [
    "y_pred_mat, y_pred_probs = run_nearest_centroid(description_vec, y_desc, transcript_test)\n",
    "pred_labels = mult_lbl_enc2.inverse_transform(y_pred_mat)\n",
    "map_file = os.path.join(PCC_CKS_DIR, ICPC2CKS)\n",
    "# create a fake label2name\n",
    "label2name = {label:label for label in mult_lbl_enc.classes_}\n",
    "# map cks to icpc\n",
    "mapped_predictions = prediction_cks2icpc(map_file, pred_labels, label2name)\n",
    "predictions = mult_lbl_enc.transform(mapped_predictions)\n",
    "\n",
    "print('Nearest centroid fine-grained: ')\n",
    "print(evaluate_classifications(y_hot, predictions, mult_lbl_enc.classes_))"
   ]
  },
  {
   "cell_type": "code",
   "execution_count": 42,
   "id": "5a989483-1ed2-440e-96bf-84fe7946435a",
   "metadata": {},
   "outputs": [
    {
     "name": "stdout",
     "output_type": "stream",
     "text": [
      "(239, 1)\n",
      "    record_id             icpc_codes cks_nearest_centroid_prediction\n",
      "0       30301         ['U99', 'B80']             Acute kidney injury\n",
      "1       40416         ['S96', 'P76']                Autism in adults\n",
      "2       20106  ['Y07', 'T91', 'A91']  Vitamin D deficiency in adults\n",
      "3       50614                ['L86']              Leg ulcer - venous\n",
      "4       11107         ['L99', 'W11']                      Chest pain\n",
      "..        ...                    ...                             ...\n",
      "234     50715                ['S80']               Itch - widespread\n",
      "235     40414         ['A11', 'A91']                      Chest pain\n",
      "236    101703         ['T93', 'K86']                    Hypertension\n",
      "237     91504  ['P76', 'L15', 'T82']          Depression in children\n",
      "238     50607                ['X11']                       Menopause\n",
      "\n",
      "[239 rows x 3 columns]\n"
     ]
    }
   ],
   "source": [
    "# create a data frame\n",
    "# Column 1: consultation ID\n",
    "col1 = orig_dataset['record_id'].to_numpy()[:, None]\n",
    "\n",
    "# Column 2: ICPC coarse-grained labels\n",
    "col2 = orig_dataset['icpc_codes'].to_numpy()[:, None]\n",
    "\n",
    "# Column 3: CKS topics that were chosen by nearest centroid\n",
    "col3 = np.array([labels[0] for labels in pred_labels])[:, None]\n",
    "print(col3.shape)\n",
    "# col3 = pd.DataFrame(col3, \n",
    "\n",
    "df = pd.DataFrame(np.concatenate((col1, col2, col3), axis=1), columns=['record_id', 'icpc_codes', 'cks_nearest_centroid_prediction']) \n",
    "\n",
    "print(df)\n",
    "\n",
    "df.to_csv('./fine-grained_nearest_centroid_predictions.tsv', sep='\\t')"
   ]
  },
  {
   "cell_type": "code",
   "execution_count": 43,
   "id": "a9de2448-728b-4044-b11a-db4532a843e8",
   "metadata": {},
   "outputs": [
    {
     "name": "stdout",
     "output_type": "stream",
     "text": [
      "                            cks_topic icpc_codes\n",
      "0               Achilles tendinopathy        [L]\n",
      "1                       Acne vulgaris        [S]\n",
      "2                Acute childhood limp        [L]\n",
      "3                 Acute kidney injury        [U]\n",
      "4                   Addison's disease        [T]\n",
      "..                                ...        ...\n",
      "310    Vitamin D deficiency in adults        [T]\n",
      "311  Vitamin D deficiency in children        [T]\n",
      "312                          Vitiligo        [S]\n",
      "313                Warts - anogenital  [S, X, Y]\n",
      "314                    Whooping cough        [R]\n",
      "\n",
      "[315 rows x 2 columns]\n"
     ]
    }
   ],
   "source": [
    "from utils.utils import prediction_cks2icpc\n",
    "\n",
    "# Save the original mapping between CKS and ICPC as a TSV file\n",
    "\n",
    "# list all the cks topics\n",
    "cks_topics = [(topic,) for topic in mult_lbl_enc2.classes_]\n",
    "# print(cks_topics)\n",
    "\n",
    "map_file = os.path.join(PCC_CKS_DIR, ICPC2CKS)\n",
    "\n",
    "# create a fake label2name\n",
    "label2name = {label:label for label in mult_lbl_enc.classes_}\n",
    "\n",
    "# map cks to icpc\n",
    "mapped_predictions = np.array(prediction_cks2icpc(map_file, cks_topics, label2name), dtype=object)[:, None]\n",
    "\n",
    "df = pd.DataFrame(np.concatenate((cks_topics, mapped_predictions), axis=1), columns=['cks_topic', 'icpc_codes']) \n",
    "\n",
    "print(df)\n",
    "\n",
    "df.to_csv('./cks_icpc_mapping.tsv', sep='\\t')"
   ]
  },
  {
   "cell_type": "code",
   "execution_count": 44,
   "id": "0910dd48",
   "metadata": {
    "pycharm": {
     "name": "#%%\n"
    }
   },
   "outputs": [
    {
     "data": {
      "text/plain": [
       "Text(0.5, 1.0, 'bag-of-words Vector')"
      ]
     },
     "execution_count": 44,
     "metadata": {},
     "output_type": "execute_result"
    },
    {
     "data": {
      "image/png": "[encoded data removed]",
      "text/plain": [
       "<Figure size 432x288 with 1 Axes>"
      ]
     },
     "metadata": {
      "needs_background": "light"
     },
     "output_type": "display_data"
    }
   ],
   "source": [
    "import seaborn as sns\n",
    "sns.heatmap(description_vec.todense()==0, vmin=0, vmax=1, cbar=False).set_title('bag-of-words Vector')"
   ]
  },
  {
   "cell_type": "code",
   "execution_count": 45,
   "id": "218eb77a",
   "metadata": {
    "pycharm": {
     "name": "#%%\n"
    }
   },
   "outputs": [],
   "source": [
    "# from wordcloud import WordCloud\n",
    "# test_vec = description_vec[1].todense()\n",
    "# col_names = np.array(text_vectorizer.get_feature_names())\n",
    "# test = pd.DataFrame(test_vec, columns=col_names).T.to_dict()[0]\n",
    "# print(test)\n",
    "# word_cloud = WordCloud(background_color=\"white\").generate_from_frequencies(test)\n",
    "# plt.imshow(word_cloud)"
   ]
  },
  {
   "cell_type": "code",
   "execution_count": 46,
   "id": "5c4785ad",
   "metadata": {
    "pycharm": {
     "name": "#%%\n"
    }
   },
   "outputs": [
    {
     "data": {
      "image/png": "[encoded data removed]",
      "text/plain": [
       "<Figure size 576x288 with 1 Axes>"
      ]
     },
     "metadata": {
      "needs_background": "light"
     },
     "output_type": "display_data"
    },
    {
     "name": "stdout",
     "output_type": "stream",
     "text": [
      "['virus', 'injury', 'factor', 'term', 'inflammatory', 'cell', 'ear', 'eye', 'type', 'rash', 'liver', 'feature', 'lesion', 'body', 'inflammation', 'contact', 'area', 'occurs', 'primary', 'urinary', 'severe', 'tract', 'hair', 'age', 'typically', 'clinical', 'history', 'headache', 'risk', 'woman', 'pregnancy', 'fever', 'due', 'including', 'syndrome', 'blood', 'non', 'occur', 'loss', 'child', 'caused', 'common', 'associated', 'acute', 'chronic', 'present', 'include', 'cancer', 'example', 'see', 'person', 'skin', 'pain', 'infection']\n"
     ]
    }
   ],
   "source": [
    "keyword_dist_over_train = np.array(description_vec.sum(axis=0)).flatten()\n",
    "\n",
    "def show_common_keywords(threshold:int = 3):\n",
    "    frequent_words = [[k,n] for k,n in zip(lookup, keyword_dist_over_train) if n > threshold]\n",
    "    frequent_words_df = pd.DataFrame(frequent_words,columns=['keyword', 'count']).sort_values('count')\n",
    "\n",
    "    plt.figure(figsize=(8,4))\n",
    "    ax = sns.barplot(x='keyword', y='count', data=frequent_words_df)\n",
    "    ax.set_xticklabels(ax.get_xticklabels(), rotation=40, ha=\"right\")\n",
    "    plt.tight_layout()\n",
    "    plt.show()\n",
    "\n",
    "    print([k._text for k in ax.get_xticklabels()])\n",
    "\n",
    "show_common_keywords()"
   ]
  },
  {
   "cell_type": "markdown",
   "id": "6b6368eb-c7d8-4393-983b-1ef762c5f501",
   "metadata": {},
   "source": [
    "# Supervision with Transcripts\n",
    "\n",
    "Here we use 5-fold cross validation to train and test classifiers on transcript data. The descriptions are not used.\n",
    "\n",
    "We predict the coarse-grained codes."
   ]
  },
  {
   "cell_type": "code",
   "execution_count": 47,
   "id": "f0c0f43b",
   "metadata": {},
   "outputs": [],
   "source": [
    "from sklearn.model_selection import StratifiedKFold\n",
    "\n",
    "X = np.arange(orig_dataset['index'].shape[0]).reshape((-1, 1))\n",
    "\n",
    "kfolds = StratifiedKFold(n_splits=5, random_state=3, shuffle=True)\n",
    "\n",
    "y_desc = mult_lbl_enc.fit_transform(mult_lbl_enc.classes_)\n",
    "\n",
    "def cross_validate(clf, key, text_vectorizer):\n",
    "    \n",
    "    f1s = []\n",
    "    aurocs = []\n",
    "    \n",
    "    for train_idxs, test_idxs in kfolds.split(X, np.argmax(y_hot, 1)):\n",
    "\n",
    "        train_set = orig_dataset.iloc[train_idxs]  \n",
    "        y_train = y_hot[train_idxs]\n",
    "        \n",
    "        test_set = orig_dataset.iloc[test_idxs]\n",
    "        y_test = y_hot[test_idxs]\n",
    "        \n",
    "        description_vec, text_vectorizer = get_description_vectors(description_corpus, stopwords)\n",
    "        y_desc = mult_lbl_enc.fit_transform(mult_lbl_enc.classes_)\n",
    "            \n",
    "        X_train = text_vectorizer.transform(train_set[key])\n",
    "        X_test = text_vectorizer.transform(test_set[key])\n",
    "        \n",
    "        y_pred_mat, y_pred_probs = clf(X_train, y_train, X_test)  # performance on training set\n",
    "                \n",
    "        f1_k = evaluate_classifications(y_test, y_pred_mat, mult_lbl_enc.classes_, show_report=False)\n",
    "        auroc_k = evaluate_probabilities(y_test, y_pred_probs)\n",
    "        \n",
    "        f1s.append(f1_k)\n",
    "        aurocs.append(auroc_k)\n",
    "        \n",
    "    f1 = np.mean(f1s)\n",
    "    auroc = np.mean(aurocs)\n",
    "    \n",
    "    print(f'F1 score: {f1}. AUROC: {auroc}')\n",
    "        \n",
    "    return f1, auroc\n"
   ]
  },
  {
   "cell_type": "markdown",
   "id": "c90dbae6",
   "metadata": {
    "pycharm": {
     "name": "#%% md\n"
    }
   },
   "source": [
    "For `average` parameter to take the average metrics over all classes, please see [documentation](https://scikit-learn.org/stable/modules/model_evaluation.html#from-binary-to-multiclass-and-multilabel)."
   ]
  },
  {
   "cell_type": "markdown",
   "id": "f8215587",
   "metadata": {
    "pycharm": {
     "name": "#%% md\n"
    }
   },
   "source": [
    "## Binary Naive Bayes Classifier"
   ]
  },
  {
   "cell_type": "code",
   "execution_count": 48,
   "id": "0fbd55fa",
   "metadata": {},
   "outputs": [
    {
     "name": "stderr",
     "output_type": "stream",
     "text": [
      "/Users/es1595/opt/anaconda3/envs/py39/lib/python3.9/site-packages/sklearn/model_selection/_split.py:666: UserWarning: The least populated class in y has only 1 members, which is less than n_splits=5.\n",
      "  warnings.warn((\"The least populated class in y has only %d\"\n"
     ]
    },
    {
     "name": "stdout",
     "output_type": "stream",
     "text": [
      "F1 score: 0.28355871806760413. AUROC: 0.7669997541865177\n"
     ]
    },
    {
     "data": {
      "text/plain": [
       "(0.28355871806760413, 0.7669997541865177)"
      ]
     },
     "execution_count": 48,
     "metadata": {},
     "output_type": "execute_result"
    }
   ],
   "source": [
    "cross_validate(run_binary_naive_bayes, key, text_vectorizer)"
   ]
  },
  {
   "cell_type": "markdown",
   "id": "f61f4540",
   "metadata": {
    "pycharm": {
     "name": "#%% md\n"
    }
   },
   "source": [
    "## Multiclass Naïve Bayes Classifier"
   ]
  },
  {
   "cell_type": "code",
   "execution_count": 49,
   "id": "7513251d",
   "metadata": {},
   "outputs": [
    {
     "name": "stderr",
     "output_type": "stream",
     "text": [
      "/Users/es1595/opt/anaconda3/envs/py39/lib/python3.9/site-packages/sklearn/model_selection/_split.py:666: UserWarning: The least populated class in y has only 1 members, which is less than n_splits=5.\n",
      "  warnings.warn((\"The least populated class in y has only %d\"\n"
     ]
    },
    {
     "name": "stdout",
     "output_type": "stream",
     "text": [
      "F1 score: 0.30425799910172463. AUROC: 0.7725439199103569\n"
     ]
    },
    {
     "data": {
      "text/plain": [
       "(0.30425799910172463, 0.7725439199103569)"
      ]
     },
     "execution_count": 49,
     "metadata": {},
     "output_type": "execute_result"
    }
   ],
   "source": [
    "cross_validate(run_multiclass_naive_bayes, key, text_vectorizer)"
   ]
  },
  {
   "cell_type": "markdown",
   "id": "b5d84ce8",
   "metadata": {
    "pycharm": {
     "name": "#%% md\n"
    }
   },
   "source": [
    "## SVM Classifier"
   ]
  },
  {
   "cell_type": "code",
   "execution_count": 50,
   "id": "e5082741",
   "metadata": {},
   "outputs": [
    {
     "name": "stderr",
     "output_type": "stream",
     "text": [
      "/Users/es1595/opt/anaconda3/envs/py39/lib/python3.9/site-packages/sklearn/model_selection/_split.py:666: UserWarning: The least populated class in y has only 1 members, which is less than n_splits=5.\n",
      "  warnings.warn((\"The least populated class in y has only %d\"\n"
     ]
    },
    {
     "name": "stdout",
     "output_type": "stream",
     "text": [
      "F1 score: 0.18421724281269874. AUROC: 0.6832399743220912\n"
     ]
    },
    {
     "data": {
      "text/plain": [
       "(0.18421724281269874, 0.6832399743220912)"
      ]
     },
     "execution_count": 50,
     "metadata": {},
     "output_type": "execute_result"
    }
   ],
   "source": [
    "cross_validate(run_multiclass_svm, key, text_vectorizer)"
   ]
  },
  {
   "cell_type": "code",
   "execution_count": 51,
   "id": "bbfc0e16",
   "metadata": {},
   "outputs": [
    {
     "name": "stderr",
     "output_type": "stream",
     "text": [
      "/Users/es1595/opt/anaconda3/envs/py39/lib/python3.9/site-packages/sklearn/model_selection/_split.py:666: UserWarning: The least populated class in y has only 1 members, which is less than n_splits=5.\n",
      "  warnings.warn((\"The least populated class in y has only %d\"\n"
     ]
    },
    {
     "name": "stdout",
     "output_type": "stream",
     "text": [
      "F1 score: 0.1801720630259227. AUROC: 0.7685660903070616\n"
     ]
    },
    {
     "data": {
      "text/plain": [
       "(0.1801720630259227, 0.7685660903070616)"
      ]
     },
     "execution_count": 51,
     "metadata": {},
     "output_type": "execute_result"
    }
   ],
   "source": [
    "cross_validate(run_binary_svm, key, text_vectorizer)"
   ]
  },
  {
   "cell_type": "markdown",
   "id": "efefbc2a-c78f-4c2c-ac59-dde8961e82e5",
   "metadata": {},
   "source": [
    "### Nearest neighbours"
   ]
  },
  {
   "cell_type": "code",
   "execution_count": 55,
   "id": "271097c8-006e-4d75-b827-86efd95b9883",
   "metadata": {},
   "outputs": [
    {
     "name": "stderr",
     "output_type": "stream",
     "text": [
      "/Users/es1595/opt/anaconda3/envs/py39/lib/python3.9/site-packages/sklearn/model_selection/_split.py:666: UserWarning: The least populated class in y has only 1 members, which is less than n_splits=5.\n",
      "  warnings.warn((\"The least populated class in y has only %d\"\n"
     ]
    },
    {
     "name": "stdout",
     "output_type": "stream",
     "text": [
      "F1 score: 0.15708105426751948. AUROC: 0.5881446220708885\n"
     ]
    },
    {
     "data": {
      "text/plain": [
       "(0.15708105426751948, 0.5881446220708885)"
      ]
     },
     "execution_count": 55,
     "metadata": {},
     "output_type": "execute_result"
    }
   ],
   "source": [
    "cross_validate(run_nearest_neighbors, key, text_vectorizer)"
   ]
  },
  {
   "cell_type": "markdown",
   "id": "0407da9a",
   "metadata": {
    "pycharm": {
     "name": "#%% md\n"
    }
   },
   "source": [
    "## Test Different Stopwords and Descriptions"
   ]
  },
  {
   "cell_type": "code",
   "execution_count": 85,
   "id": "e11c6061",
   "metadata": {
    "pycharm": {
     "name": "#%%\n"
    }
   },
   "outputs": [],
   "source": [
    "import warnings\n",
    "warnings.filterwarnings(\"ignore\")\n",
    "\n",
    "def tune_transcript_supervision(method):\n",
    "    stopword_settings = [\n",
    "         [],\n",
    "         ['m'],\n",
    "         ['c'],\n",
    "         ['e'],\n",
    "         ['m', 'c'],\n",
    "         ['m', 'e'],\n",
    "         ['c', 'e'],\n",
    "         ['m', 'c', 'e']\n",
    "    ]\n",
    "\n",
    "    f1_matrix = np.zeros((len(stopword_settings)))\n",
    "    auroc_matrix = np.zeros((len(stopword_settings)))\n",
    "\n",
    "    for i, s in enumerate(stopword_settings):\n",
    "        set_stopwords('m' in s, 'c' in s, 'e' in s)\n",
    "        description_vec, text_vectorizer = get_description_vectors(description_corpus, stopwords)\n",
    "        y_desc = mult_lbl_enc.fit_transform(mult_lbl_enc.classes_)\n",
    "\n",
    "        if method == 'nearest centroid':  \n",
    "            clf = run_nearest_centroid\n",
    "        elif method == 'nearest neighbours':  \n",
    "            clf = run_nearest_neighbors\n",
    "        elif method == 'binary NB':\n",
    "            clf = run_binary_naive_bayes\n",
    "        elif method == 'multiclass NB':\n",
    "            clf = run_multiclass_naive_bayes\n",
    "        elif method == 'binary SVM':\n",
    "            clf = run_binary_svm\n",
    "        elif method == 'multiclass SVM':\n",
    "            clf = run_multiclass_svm\n",
    "\n",
    "        f1_matrix[i], auroc_matrix[i] = cross_validate(clf, key, text_vectorizer)\n",
    "\n",
    "    max_idx = np.unravel_index(np.argmax(f1_matrix), f1_matrix.shape)\n",
    "    selected_auroc = auroc_matrix[max_idx[0]]  # not necessarily the best, but the value we get with best f1 score\n",
    "    best_tr_f1 = np.max(f1_matrix)\n",
    "    best_stopwords = stopword_settings[max_idx[0]]\n",
    "    print(f'Method: {method}. The best score with distant supervision was {best_tr_f1} with {best_stopwords} stopwords and AUROC={selected_auroc}.')\n",
    "\n",
    "    print('F1 score matrix for the different settings we tried:')\n",
    "    print(f1_matrix)\n",
    "\n",
    "    return best_tr_f1, selected_auroc, best_stopwords\n",
    "    \n",
    "    \n",
    "    \n",
    "def tune_distant_supervision(method):\n",
    "    stopword_settings = [\n",
    "         # [],\n",
    "         # ['m'],\n",
    "         # ['c'],\n",
    "         # ['e'],\n",
    "         ['m', 'c'],\n",
    "         ['m', 'e'],\n",
    "         ['c', 'e'],\n",
    "         ['m', 'c', 'e']\n",
    "    ]\n",
    "\n",
    "    description_settings = ['CKS only']  # ['ICPC only', 'CKS only', 'both']\n",
    "\n",
    "    f1_matrix = np.zeros((len(stopword_settings), len(description_settings)))\n",
    "    auroc_matrix = np.zeros((len(stopword_settings), len(description_settings)))\n",
    "\n",
    "    X_test = transcript_test\n",
    "    y_test = y_hot\n",
    "    \n",
    "    for j, selected_mode in enumerate(description_settings):\n",
    "        description_corpus = load_descriptions(selected_mode, mult_lbl_enc.classes_)\n",
    "        for i, s in enumerate(stopword_settings):\n",
    "            set_stopwords('m' in s, 'c' in s, 'e' in s)\n",
    "            description_vec, text_vectorizer = get_description_vectors(description_corpus, stopwords)\n",
    "            y_desc = mult_lbl_enc.fit_transform(mult_lbl_enc.classes_)\n",
    "            \n",
    "            if method == 'nearest centroid':  \n",
    "                clf = run_nearest_centroid\n",
    "            elif method == 'nearest neighbours':  \n",
    "                clf = run_nearest_neighbors\n",
    "            elif method == 'binary NB':\n",
    "                clf = run_binary_naive_bayes\n",
    "            elif method == 'multiclass NB':\n",
    "                clf = run_multiclass_naive_bayes\n",
    "            elif method == 'binary SVM':\n",
    "                clf = run_binary_svm\n",
    "            elif method == 'multiclass SVM':\n",
    "                clf = run_multiclass_svm\n",
    "                \n",
    "            y_pred_mat, y_pred_probs = clf(description_vec, y_desc, X_test)\n",
    "            f1_matrix[i, j] = evaluate_classifications(y_test, y_pred_mat, mult_lbl_enc.classes_, show_report=False)\n",
    "            auroc_matrix[i, j] = evaluate_probabilities(y_test, y_pred_probs)\n",
    "\n",
    "\n",
    "    max_idx = np.unravel_index(np.argmax(f1_matrix), f1_matrix.shape)\n",
    "    best_tr_f1 = np.max(f1_matrix)\n",
    "    selected_auroc = auroc_matrix[max_idx[0], max_idx[1]]  # not necessarily the best, but the value we get with best f1 score\n",
    "    best_stopwords = stopword_settings[max_idx[0]]\n",
    "    best_desc = description_settings[max_idx[1]]\n",
    "    print(f'Method: {method}. The best score with transcript supervision was {best_tr_f1} with {best_stopwords} stopwords and {best_desc} code descriptions and AUROC={selected_auroc}.')\n",
    "\n",
    "    print('F1 score matrix for the different settings we tried:')\n",
    "    print(f1_matrix)\n",
    "    print(f'...rows are stopword settings, {stopword_settings}, and columns are code descriptions, {description_settings}')\n",
    "\n",
    "    return best_tr_f1, selected_auroc, best_desc, best_stopwords\n"
   ]
  },
  {
   "cell_type": "code",
   "execution_count": 86,
   "id": "f30a779c",
   "metadata": {
    "pycharm": {
     "name": "#%%\n"
    }
   },
   "outputs": [
    {
     "name": "stdout",
     "output_type": "stream",
     "text": [
      "Method: nearest centroid. The best score with transcript supervision was 0.37401847795082044 with ['m', 'c', 'e'] stopwords and CKS only code descriptions and AUROC=0.642285834009731.\n",
      "F1 score matrix for the different settings we tried:\n",
      "[[0.06067145]\n",
      " [0.07796462]\n",
      " [0.05200586]\n",
      " [0.37401848]]\n",
      "...rows are stopword settings, [['m', 'c'], ['m', 'e'], ['c', 'e'], ['m', 'c', 'e']], and columns are code descriptions, ['CKS only']\n"
     ]
    }
   ],
   "source": [
    "dist_f1scores = {}\n",
    "dist_auroc = {}\n",
    "\n",
    "dist_descriptions = {}\n",
    "dist_stopwords = {}\n",
    "\n",
    "\n",
    "classifiers_to_run = [\n",
    "    'nearest centroid',\n",
    "    # 'nearest neighbours',\n",
    "    # 'binary NB',\n",
    "    # 'multiclass NB',\n",
    "    # 'binary SVM', \n",
    "    # 'multiclass SVM'\n",
    "]    \n",
    "\n",
    "for classifier in classifiers_to_run:\n",
    "\n",
    "    dist_f1scores[classifier], dist_auroc[classifier], dist_descriptions[classifier], dist_stopwords[classifier] \\\n",
    "        = tune_distant_supervision(classifier)"
   ]
  },
  {
   "cell_type": "code",
   "execution_count": 64,
   "id": "017d261a",
   "metadata": {
    "pycharm": {
     "name": "#%%\n"
    }
   },
   "outputs": [
    {
     "data": {
      "text/plain": [
       "{'nearest centroid': 0.09397416167234354}"
      ]
     },
     "execution_count": 64,
     "metadata": {},
     "output_type": "execute_result"
    }
   ],
   "source": [
    "dist_f1scores"
   ]
  },
  {
   "cell_type": "code",
   "execution_count": 65,
   "id": "d78a5275",
   "metadata": {
    "pycharm": {
     "name": "#%%\n"
    }
   },
   "outputs": [
    {
     "data": {
      "text/plain": [
       "{'nearest centroid': 0.5195645193085672}"
      ]
     },
     "execution_count": 65,
     "metadata": {},
     "output_type": "execute_result"
    }
   ],
   "source": [
    "dist_auroc"
   ]
  },
  {
   "cell_type": "code",
   "execution_count": 66,
   "id": "4c85f2e1",
   "metadata": {
    "pycharm": {
     "name": "#%%\n"
    }
   },
   "outputs": [
    {
     "data": {
      "text/plain": [
       "{'nearest centroid': 'both'}"
      ]
     },
     "execution_count": 66,
     "metadata": {},
     "output_type": "execute_result"
    }
   ],
   "source": [
    "dist_descriptions"
   ]
  },
  {
   "cell_type": "code",
   "execution_count": 67,
   "id": "59253178-7639-47fc-a2ee-a3420d547101",
   "metadata": {},
   "outputs": [
    {
     "data": {
      "text/plain": [
       "{'nearest centroid': ['m']}"
      ]
     },
     "execution_count": 67,
     "metadata": {},
     "output_type": "execute_result"
    }
   ],
   "source": [
    "dist_stopwords"
   ]
  },
  {
   "cell_type": "code",
   "execution_count": 58,
   "id": "00cbd295-a804-47ad-ac8e-a191d0dd4f23",
   "metadata": {},
   "outputs": [
    {
     "name": "stdout",
     "output_type": "stream",
     "text": [
      "F1 score: 0.1801720630259227. AUROC: 0.7489727850473286\n",
      "F1 score: 0.1801720630259227. AUROC: 0.7578897898073964\n",
      "F1 score: 0.1801720630259227. AUROC: 0.7536443758867863\n",
      "F1 score: 0.1801720630259227. AUROC: 0.7704816260032824\n",
      "F1 score: 0.1801720630259227. AUROC: 0.7685660903070616\n",
      "F1 score: 0.1801720630259227. AUROC: 0.7641920771473479\n",
      "F1 score: 0.1801720630259227. AUROC: 0.7757771076535123\n",
      "F1 score: 0.1801720630259227. AUROC: 0.7642042265383272\n",
      "Method: binary SVM. The best score with transcript supervision was 0.1801720630259227 with [] stopwords and AUROC=0.7489727850473286.\n",
      "F1 score matrix for the different settings we tried:\n",
      "[0.18017206 0.18017206 0.18017206 0.18017206 0.18017206 0.18017206\n",
      " 0.18017206 0.18017206]\n"
     ]
    }
   ],
   "source": [
    "tr_sup_auroc = {}\n",
    "tr_sup_f1scores = {}\n",
    "\n",
    "tr_sup_stopwords = {}\n",
    "\n",
    "classifiers_to_run = [\n",
    "    # 'nearest centroid',\n",
    "    # 'nearest neighbours',\n",
    "    # 'binary NB',\n",
    "    # 'multiclass NB',\n",
    "    'binary SVM', \n",
    "    # 'multiclass SVM'\n",
    "]    \n",
    "\n",
    "for classifier in classifiers_to_run:\n",
    "    tr_sup_f1scores[classifier], tr_sup_auroc[classifier], tr_sup_stopwords[classifier] \\\n",
    "        = tune_transcript_supervision(classifier)"
   ]
  },
  {
   "cell_type": "markdown",
   "id": "f0567a1f",
   "metadata": {},
   "source": [
    "It looks like there is lots of overfitting of the classifiers above, as there is high trainign set performance and low test set performance, especially when using multiple binary classifiers. "
   ]
  },
  {
   "cell_type": "markdown",
   "id": "50488764-df11-49c6-b4c4-f538aab7a188",
   "metadata": {},
   "source": [
    "These results are not very meaningful. They show distant supervision, coarse-grained performance using the stop-word setting selected using the transcript-supervision setup. It would be more useful to replicate the stopword experiments with distant supervision only. This is also required to test whether CKS topics are the best source of distant supervision. "
   ]
  },
  {
   "cell_type": "code",
   "execution_count": 48,
   "id": "9300eab6",
   "metadata": {
    "pycharm": {
     "name": "#%%\n"
    }
   },
   "outputs": [
    {
     "data": {
      "text/plain": [
       "{'nearest centroid': 0.6189661809356714,\n",
       " 'nearest neighbours': 0.5860960179823788,\n",
       " 'binary NB': 0.7721322347937744,\n",
       " 'multiclass NB': 0.7745668560970265,\n",
       " 'binary SVM': 0.7704816260032824,\n",
       " 'multiclass SVM': 0.7073559090966471}"
      ]
     },
     "execution_count": 48,
     "metadata": {},
     "output_type": "execute_result"
    }
   ],
   "source": [
    "tr_sup_auroc"
   ]
  },
  {
   "cell_type": "code",
   "execution_count": 50,
   "id": "632fcd94",
   "metadata": {
    "pycharm": {
     "name": "#%%\n"
    }
   },
   "outputs": [
    {
     "data": {
      "text/plain": [
       "{'nearest centroid': 0.3001183985218428,\n",
       " 'nearest neighbours': 0.1750321144498776,\n",
       " 'binary NB': 0.30277118954287746,\n",
       " 'multiclass NB': 0.3189401035999218,\n",
       " 'binary SVM': 0.18306066973457433,\n",
       " 'multiclass SVM': 0.20082118856814674}"
      ]
     },
     "execution_count": 50,
     "metadata": {},
     "output_type": "execute_result"
    }
   ],
   "source": [
    "tr_sup_f1scores"
   ]
  },
  {
   "cell_type": "code",
   "execution_count": 51,
   "id": "5bd2b464",
   "metadata": {
    "pycharm": {
     "name": "#%%\n"
    }
   },
   "outputs": [
    {
     "data": {
      "text/plain": [
       "{'nearest centroid': ['m', 'e'],\n",
       " 'nearest neighbours': ['m', 'c', 'e'],\n",
       " 'binary NB': ['m'],\n",
       " 'multiclass NB': ['m', 'c', 'e'],\n",
       " 'binary SVM': ['e'],\n",
       " 'multiclass SVM': ['c', 'e']}"
      ]
     },
     "execution_count": 51,
     "metadata": {},
     "output_type": "execute_result"
    }
   ],
   "source": [
    "tr_sup_stopwords"
   ]
  },
  {
   "cell_type": "code",
   "execution_count": null,
   "id": "9cad4071-9a3e-4f4a-9886-912905ab7844",
   "metadata": {},
   "outputs": [],
   "source": []
  }
 ],
 "metadata": {
  "interpreter": {
   "hash": "c3a989c1c4f35d9c79558ac666af47d36cc0a04287b51672eb032c91327315c2"
  },
  "kernelspec": {
   "display_name": "NLP_GP",
   "language": "python",
   "name": "nlp_gp"
  },
  "language_info": {
   "codemirror_mode": {
    "name": "ipython",
    "version": 3
   },
   "file_extension": ".py",
   "mimetype": "text/x-python",
   "name": "python",
   "nbconvert_exporter": "python",
   "pygments_lexer": "ipython3",
   "version": "3.9.6"
  }
 },
 "nbformat": 4,
 "nbformat_minor": 5
}
