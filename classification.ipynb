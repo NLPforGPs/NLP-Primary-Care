{
 "cells": [
  {
   "cell_type": "code",
   "execution_count": 1,
   "id": "f2bec071",
   "metadata": {
    "scrolled": true
   },
   "outputs": [],
   "source": [
    "import os\n",
    "\n",
    "import ipywidgets as widgets\n",
    "import numpy as np\n",
    "import pandas as pd\n",
    "import scipy.sparse\n",
    "from IPython.display import display\n",
    "from ipywidgets import interact\n",
    "from matplotlib import pyplot as plt\n",
    "%load_ext autoreload\n",
    "%autoreload 2"
   ]
  },
  {
   "cell_type": "markdown",
   "id": "a1ea4eb6-0bd9-43b8-98cc-c26caca9fa97",
   "metadata": {
    "pycharm": {
     "name": "#%% md\n"
    }
   },
   "source": [
    "# Data preparation\n",
    "\n",
    "First split the orig_dataset into train and test set, then we need to\n",
    "pre-process the transcript data\n",
    "\n",
    "This includes, cleaning text, stemming and lemmatization"
   ]
  },
  {
   "cell_type": "code",
   "execution_count": 3,
   "id": "310fb443-83b6-4e2d-a5d7-79b9b8c662fd",
   "metadata": {
    "pycharm": {
     "name": "#%%\n"
    }
   },
   "outputs": [
    {
     "name": "stderr",
     "output_type": "stream",
     "text": [
      "The current IDs only have record documents.\n",
      "['011119' '020105' '030311' '030501' '030509' '030510' '050609' '050717'\n",
      " '050719' '071010' '071201' '071202' '071203' '071204' '071205' '071206'\n",
      " '071207' '071208' '071209' '071210' '071211' '071212' '071213' '071214'\n",
      " '081310' '081608' '081610' '091410' '091411' '091416' '101705' '101707'\n",
      " '111906' '111908' '112004' '122110']\n",
      "The current IDs only have transcript documents.\n",
      "['-081308' '010103' '010105' '020107' '030501(p.2)' '030501(p1)'\n",
      " '030509(p.1)' '030509(p.2)' '030510 (p.1)' '030510 (p.2)' '040417'\n",
      " '050605' '050609a' '050717 (Dr reads wrong number)' '060806' '060811'\n",
      " '060812' '060906' '071002' '071010(a)' '071012' '081310(b)' '081310(c)'\n",
      " '081310a' '081601' '081606' '081608 (1 of 2)' '081608 (2 of 2)' '091402'\n",
      " '091404' '091405' '091410 & 091411' '091503' '101705 and 101707' '101801'\n",
      " '111906 (2of2)' '111906(1 of 2)' '112002' '112004 & 1112005' '112014'\n",
      " '200105' '50719']\n"
     ]
    },
    {
     "name": "stdout",
     "output_type": "stream",
     "text": [
      "RDSF base directory located at /Volumes/NLP_One_In_A_Million/\n",
      "16 classification categories: ['A' 'B' 'D' 'F' 'H' 'K' 'L' 'N' 'P' 'R' 'S' 'T' 'U' 'W' 'X' 'Y']\n"
     ]
    }
   ],
   "source": [
    "from prepare_data import prepare_original_data\n",
    "\n",
    "# YOU MAY NEED TO SET THE LOCATION OF THE DATASET IN oneinamillion/resources.py.\n",
    "orig_dataset, mult_lbl_enc, y_hot = prepare_original_data()"
   ]
  },
  {
   "cell_type": "markdown",
   "id": "c71abd38",
   "metadata": {
    "pycharm": {
     "name": "#%% md\n"
    }
   },
   "source": [
    "## Train test Split"
   ]
  },
  {
   "cell_type": "code",
   "execution_count": 4,
   "id": "f0c0f43b",
   "metadata": {
    "pycharm": {
     "name": "#%%\n"
    }
   },
   "outputs": [
    {
     "data": {
      "text/html": [
       "<div>\n",
       "<style scoped>\n",
       "    .dataframe tbody tr th:only-of-type {\n",
       "        vertical-align: middle;\n",
       "    }\n",
       "\n",
       "    .dataframe tbody tr th {\n",
       "        vertical-align: top;\n",
       "    }\n",
       "\n",
       "    .dataframe thead th {\n",
       "        text-align: right;\n",
       "    }\n",
       "</style>\n",
       "<table border=\"1\" class=\"dataframe\">\n",
       "  <thead>\n",
       "    <tr style=\"text-align: right;\">\n",
       "      <th></th>\n",
       "      <th>index</th>\n",
       "      <th>record_id</th>\n",
       "      <th>icpc_codes</th>\n",
       "      <th>pt_records</th>\n",
       "      <th>transcript__start_date</th>\n",
       "      <th>transcript__duration</th>\n",
       "      <th>transcript__conversation</th>\n",
       "      <th>codes</th>\n",
       "      <th>transcript__conversation_clean</th>\n",
       "      <th>transcript__conversation_both</th>\n",
       "      <th>transcript__conversation_gp</th>\n",
       "      <th>transcript__conversation_patient</th>\n",
       "    </tr>\n",
       "  </thead>\n",
       "  <tbody>\n",
       "    <tr>\n",
       "      <th>0</th>\n",
       "      <td>0</td>\n",
       "      <td>10112</td>\n",
       "      <td>['K85', 'P76']</td>\n",
       "      <td>[{'date': datetime.datetime(2014, 8, 13, 0, 0)...</td>\n",
       "      <td>2014-06-16 10:33:28</td>\n",
       "      <td>0:16:17</td>\n",
       "      <td>[('GP', 'How are you sir?'), ('Patient', \"I'm ...</td>\n",
       "      <td>[K, P]</td>\n",
       "      <td>[[GP, sir?], [Patient, i'm bad moment actually...</td>\n",
       "      <td>sir? i'm bad moment actually. right, okay good...</td>\n",
       "      <td>sir? right, okay good. prednisolone. okay. yes...</td>\n",
       "      <td>i'm bad moment actually. thought i'd come touc...</td>\n",
       "    </tr>\n",
       "    <tr>\n",
       "      <th>2</th>\n",
       "      <td>2</td>\n",
       "      <td>20208</td>\n",
       "      <td>['H82']</td>\n",
       "      <td>[{'date': datetime.datetime(2014, 11, 3, 0, 0)...</td>\n",
       "      <td>2014-09-08 10:43:09</td>\n",
       "      <td>0:11:33</td>\n",
       "      <td>[('Doc', 'Morning NAME.'), ('Pat', 'Hi, how yo...</td>\n",
       "      <td>[H]</td>\n",
       "      <td>[[Doc, morning name.], [Pat, hi, doing?], [Doc...</td>\n",
       "      <td>morning name. hi, doing? doing? bad. thank com...</td>\n",
       "      <td>morning name. doing? thank coming along. dr na...</td>\n",
       "      <td>hi, doing? bad. yes. doc worry. i'll take numb...</td>\n",
       "    </tr>\n",
       "    <tr>\n",
       "      <th>5</th>\n",
       "      <td>5</td>\n",
       "      <td>101708</td>\n",
       "      <td>['K84', 'Y08']</td>\n",
       "      <td>[{'date': datetime.datetime(2015, 4, 24, 0, 0)...</td>\n",
       "      <td>2015-02-24 12:39:49</td>\n",
       "      <td>0:18:49</td>\n",
       "      <td>[('PAT', 'He was supposed to come in and take ...</td>\n",
       "      <td>[K, Y]</td>\n",
       "      <td>[[PAT, supposed come take ___], [info, 0:00:01...</td>\n",
       "      <td>supposed come take ___ , ___. yes, that's alri...</td>\n",
       "      <td>yes, that's alright you. seat. patient 101708....</td>\n",
       "      <td>supposed come take ___ , ___. okay. reason i'v...</td>\n",
       "    </tr>\n",
       "    <tr>\n",
       "      <th>6</th>\n",
       "      <td>6</td>\n",
       "      <td>20212</td>\n",
       "      <td>['L10', 'R05']</td>\n",
       "      <td>[{'date': datetime.datetime(2014, 9, 17, 0, 0)...</td>\n",
       "      <td>2014-09-08 14:24:39</td>\n",
       "      <td>0:07:58</td>\n",
       "      <td>[('Doc', \"...you have symptoms of acid reflux,...</td>\n",
       "      <td>[L, R]</td>\n",
       "      <td>[[Doc, ...you symptom acid reflux, four week t...</td>\n",
       "      <td>...you symptom acid reflux, four week trial an...</td>\n",
       "      <td>...you symptom acid reflux, four week trial an...</td>\n",
       "      <td>acid. okay, indication acid something diet wou...</td>\n",
       "    </tr>\n",
       "    <tr>\n",
       "      <th>8</th>\n",
       "      <td>8</td>\n",
       "      <td>111911</td>\n",
       "      <td>['B80', 'D18']</td>\n",
       "      <td>[{'date': datetime.datetime(2015, 7, 21, 0, 0)...</td>\n",
       "      <td>2015-04-28 10:48:20</td>\n",
       "      <td>0:11:01</td>\n",
       "      <td>[('DOC', 'Hi, I am Doctor Name thanks for wait...</td>\n",
       "      <td>[B, D]</td>\n",
       "      <td>[[DOC, hi, doctor name thanks waiting. doing, ...</td>\n",
       "      <td>hi, doctor name thanks waiting. doing, help? a...</td>\n",
       "      <td>hi, doctor name thanks waiting. doing, help? o...</td>\n",
       "      <td>alright thank you. last friday went give blood...</td>\n",
       "    </tr>\n",
       "  </tbody>\n",
       "</table>\n",
       "</div>"
      ],
      "text/plain": [
       "   index  record_id      icpc_codes  \\\n",
       "0      0      10112  ['K85', 'P76']   \n",
       "2      2      20208         ['H82']   \n",
       "5      5     101708  ['K84', 'Y08']   \n",
       "6      6      20212  ['L10', 'R05']   \n",
       "8      8     111911  ['B80', 'D18']   \n",
       "\n",
       "                                          pt_records transcript__start_date  \\\n",
       "0  [{'date': datetime.datetime(2014, 8, 13, 0, 0)...    2014-06-16 10:33:28   \n",
       "2  [{'date': datetime.datetime(2014, 11, 3, 0, 0)...    2014-09-08 10:43:09   \n",
       "5  [{'date': datetime.datetime(2015, 4, 24, 0, 0)...    2015-02-24 12:39:49   \n",
       "6  [{'date': datetime.datetime(2014, 9, 17, 0, 0)...    2014-09-08 14:24:39   \n",
       "8  [{'date': datetime.datetime(2015, 7, 21, 0, 0)...    2015-04-28 10:48:20   \n",
       "\n",
       "  transcript__duration                           transcript__conversation  \\\n",
       "0              0:16:17  [('GP', 'How are you sir?'), ('Patient', \"I'm ...   \n",
       "2              0:11:33  [('Doc', 'Morning NAME.'), ('Pat', 'Hi, how yo...   \n",
       "5              0:18:49  [('PAT', 'He was supposed to come in and take ...   \n",
       "6              0:07:58  [('Doc', \"...you have symptoms of acid reflux,...   \n",
       "8              0:11:01  [('DOC', 'Hi, I am Doctor Name thanks for wait...   \n",
       "\n",
       "    codes                     transcript__conversation_clean  \\\n",
       "0  [K, P]  [[GP, sir?], [Patient, i'm bad moment actually...   \n",
       "2     [H]  [[Doc, morning name.], [Pat, hi, doing?], [Doc...   \n",
       "5  [K, Y]  [[PAT, supposed come take ___], [info, 0:00:01...   \n",
       "6  [L, R]  [[Doc, ...you symptom acid reflux, four week t...   \n",
       "8  [B, D]  [[DOC, hi, doctor name thanks waiting. doing, ...   \n",
       "\n",
       "                       transcript__conversation_both  \\\n",
       "0  sir? i'm bad moment actually. right, okay good...   \n",
       "2  morning name. hi, doing? doing? bad. thank com...   \n",
       "5  supposed come take ___ , ___. yes, that's alri...   \n",
       "6  ...you symptom acid reflux, four week trial an...   \n",
       "8  hi, doctor name thanks waiting. doing, help? a...   \n",
       "\n",
       "                         transcript__conversation_gp  \\\n",
       "0  sir? right, okay good. prednisolone. okay. yes...   \n",
       "2  morning name. doing? thank coming along. dr na...   \n",
       "5  yes, that's alright you. seat. patient 101708....   \n",
       "6  ...you symptom acid reflux, four week trial an...   \n",
       "8  hi, doctor name thanks waiting. doing, help? o...   \n",
       "\n",
       "                    transcript__conversation_patient  \n",
       "0  i'm bad moment actually. thought i'd come touc...  \n",
       "2  hi, doing? bad. yes. doc worry. i'll take numb...  \n",
       "5  supposed come take ___ , ___. okay. reason i'v...  \n",
       "6  acid. okay, indication acid something diet wou...  \n",
       "8  alright thank you. last friday went give blood...  "
      ]
     },
     "execution_count": 4,
     "metadata": {},
     "output_type": "execute_result"
    }
   ],
   "source": [
    "from skmultilearn.model_selection import iterative_train_test_split\n",
    "\n",
    "X = np.arange(orig_dataset['index'].shape[0]).reshape((-1, 1))\n",
    "\n",
    "X_train, y_train, X_test, y_test = iterative_train_test_split(X, y_hot, test_size=0.2)\n",
    "\n",
    "train_set = orig_dataset.iloc[X_train.flatten()]\n",
    "test_set = orig_dataset.iloc[X_test.flatten()]\n",
    "train_set.head()"
   ]
  },
  {
   "cell_type": "code",
   "execution_count": 5,
   "id": "8f9fbb9f",
   "metadata": {},
   "outputs": [
    {
     "data": {
      "text/plain": [
       "{'K': 29,\n",
       " 'P': 48,\n",
       " 'R': 35,\n",
       " 'U': 20,\n",
       " 'H': 10,\n",
       " 'D': 38,\n",
       " 'Y': 8,\n",
       " 'L': 68,\n",
       " 'B': 7,\n",
       " 'S': 32,\n",
       " 'X': 11,\n",
       " 'T': 17,\n",
       " 'N': 14,\n",
       " 'W': 12,\n",
       " 'F': 3,\n",
       " 'A': 17}"
      ]
     },
     "execution_count": 5,
     "metadata": {},
     "output_type": "execute_result"
    }
   ],
   "source": [
    "labels = {}\n",
    "for codes in orig_dataset['codes']:\n",
    "    #print(codes)\n",
    "    for code in codes:\n",
    "        if code not in labels:\n",
    "            labels[code] = 0\n",
    "            \n",
    "        labels[code] += 1\n",
    "        \n",
    "labels"
   ]
  },
  {
   "cell_type": "markdown",
   "id": "f44e8574",
   "metadata": {
    "pycharm": {
     "name": "#%% md\n"
    }
   },
   "source": [
    "## ICPC descriptions"
   ]
  },
  {
   "cell_type": "code",
   "execution_count": 6,
   "id": "6de7bd1b",
   "metadata": {
    "pycharm": {
     "name": "#%%\n"
    }
   },
   "outputs": [
    {
     "data": {
      "application/vnd.jupyter.widget-view+json": {
       "model_id": "a935cb671e5a4d758c83a55fad259b3a",
       "version_major": 2,
       "version_minor": 0
      },
      "text/plain": [
       "interactive(children=(Dropdown(description='mode', options=('ICPC only', 'CKS only', 'ICPC and CKS'), value='I…"
      ]
     },
     "metadata": {},
     "output_type": "display_data"
    },
    {
     "data": {
      "text/plain": [
       "<function __main__.control_description(mode='ICPC only')>"
      ]
     },
     "execution_count": 6,
     "metadata": {},
     "output_type": "execute_result"
    }
   ],
   "source": [
    "selected_mode = None\n",
    "modes = ['ICPC only', 'CKS only', 'ICPC and CKS']\n",
    "def control_description(mode=modes[0]):\n",
    "    global selected_mode\n",
    "    selected_mode = mode\n",
    "\n",
    "interact(control_description, mode=modes)"
   ]
  },
  {
   "cell_type": "code",
   "execution_count": 7,
   "id": "8032abed",
   "metadata": {},
   "outputs": [
    {
     "data": {
      "text/plain": [
       "'ICPC only'"
      ]
     },
     "execution_count": 7,
     "metadata": {},
     "output_type": "execute_result"
    }
   ],
   "source": [
    "selected_mode"
   ]
  },
  {
   "cell_type": "code",
   "execution_count": 8,
   "id": "319ecbc0",
   "metadata": {
    "pycharm": {
     "name": "#%% combine the two\n"
    }
   },
   "outputs": [],
   "source": [
    "from prepare_data import load_descriptions\n",
    "description_corpus = load_descriptions(selected_mode, mult_lbl_enc)"
   ]
  },
  {
   "cell_type": "code",
   "execution_count": 9,
   "id": "9a1dd1fb",
   "metadata": {},
   "outputs": [
    {
     "data": {
      "text/plain": [
       "A    pain general/multiple site  chronic general pa...\n",
       "B    lymph gland(s) enlarged/painful  lymphadenopat...\n",
       "D    abdominal pain/cramps general  abdominal colic...\n",
       "F    eye pain   red eye  bloodshot/inflamed eye eye...\n",
       "H    ear pain/earache   hearing complaint  auditory...\n",
       "K    heart pain  pain attributed heart pressure/tig...\n",
       "L    neck symptom/complaint  pain attributed cervic...\n",
       "N    headache  post-traumatic headache pain face   ...\n",
       "P    feeling anxious/nervous/tense feeling reported...\n",
       "R    pain respiratory system  painful respiration; ...\n",
       "S    pain/tenderness skin  burning sensation; painf...\n",
       "T    excessive thirst  polydipsia excessive appetit...\n",
       "U    dysuria/painful urination  burning urination u...\n",
       "W    question pregnancy  delayed menstruation; symp...\n",
       "X    genital pain female  pelvic pain; vulval pain ...\n",
       "Y    pain penis   pain testis/scrotum  pain pelvis;...\n",
       "Name: keyword, dtype: object"
      ]
     },
     "execution_count": 9,
     "metadata": {},
     "output_type": "execute_result"
    }
   ],
   "source": [
    "description_corpus"
   ]
  },
  {
   "cell_type": "markdown",
   "id": "18e2f127",
   "metadata": {
    "pycharm": {
     "name": "#%% md\n"
    }
   },
   "source": [
    "## Bag of words classifiers\n",
    "\n",
    "**Tf-idf from ICPC codes**\n",
    "\n",
    "- extract keyword/ keyphrases from ICPC code descriptions\n",
    " - use three columns (inclusion/ preferred and criteria)\n",
    "\n",
    "- OR, with TF-iDF, assign a score to every word (or bigram) in the utterance,\n",
    "filter those with only high scores\n",
    "\n",
    "- For each utterance in a transcript, count the number of keyword or phrase matches for each ICPC code.\n",
    "- If number of matches > threshold, assign ICPC code"
   ]
  },
  {
   "cell_type": "markdown",
   "id": "15d987e4",
   "metadata": {
    "pycharm": {
     "name": "#%% md\n"
    }
   },
   "source": [
    "One might want to modify the list of stopwords to eliminate from the tf-idf vocabulary,\n",
    "or might impose a limit of the number of features to reduce unwanted words/ bi-grams."
   ]
  },
  {
   "cell_type": "code",
   "execution_count": 10,
   "id": "0405f32d",
   "metadata": {
    "pycharm": {
     "is_executing": true,
     "name": "#%%\n"
    }
   },
   "outputs": [
    {
     "data": {
      "application/vnd.jupyter.widget-view+json": {
       "model_id": "72b110badf23420ba60fb31c1cd1131a",
       "version_major": 2,
       "version_minor": 0
      },
      "text/plain": [
       "interactive(children=(Checkbox(value=True, description='m'), Checkbox(value=True, description='c'), Checkbox(v…"
      ]
     },
     "metadata": {},
     "output_type": "display_data"
    },
    {
     "data": {
      "text/plain": [
       "<function __main__.set_stopwords(m, c, e)>"
      ]
     },
     "execution_count": 10,
     "metadata": {},
     "output_type": "execute_result"
    }
   ],
   "source": [
    "from utils.stopwords import get_medical_stopwords, get_custom_stopwords, get_english_stopwords\n",
    "medical_stopwords = get_medical_stopwords()\n",
    "custom_stopwords = get_custom_stopwords()\n",
    "english_stopwords = get_english_stopwords()\n",
    "\n",
    "use_med, use_cus, use_eng = False, False, False\n",
    "stopwords = []\n",
    "\n",
    "def update_stopwords():\n",
    "    global stopwords\n",
    "    stopwords = []\n",
    "    if use_med:\n",
    "        stopwords += medical_stopwords\n",
    "    if use_cus:\n",
    "        stopwords += custom_stopwords\n",
    "    if use_eng:\n",
    "        stopwords += english_stopwords\n",
    "    # display(f\"number of stopwords: {len(stopwords)}\")\n",
    "\n",
    "def set_stopwords(m,c,e):\n",
    "    global use_med, use_cus, use_eng\n",
    "    use_med = m\n",
    "    use_cus = c\n",
    "    use_eng = e\n",
    "    update_stopwords()\n",
    "\n",
    "interact(set_stopwords, m=True, c=True, e=False)"
   ]
  },
  {
   "cell_type": "code",
   "execution_count": 11,
   "id": "e9f0aaa4",
   "metadata": {
    "pycharm": {
     "name": "#%%\n"
    }
   },
   "outputs": [],
   "source": [
    "from sklearn.feature_extraction.text import TfidfVectorizer\n",
    "\n",
    "def get_description_vectors(description_corpus, stopwords):\n",
    "    max_features=5000\n",
    "\n",
    "    text_vectorizer = TfidfVectorizer(ngram_range=(1,2), stop_words=stopwords, max_features=max_features)\n",
    "    description_vec = text_vectorizer.fit_transform(description_corpus)\n",
    "    # print(f\"icpc description bag-of-word matrix shape: {description_vec.shape}\")\n",
    "    vec_vocab = text_vectorizer.vocabulary_ # dictionary that contain the BOW tokens\n",
    "\n",
    "    # print(f\"bag-of-word tokens: {', '.join(list(vec_vocab.keys())[:5])}...\")\n",
    "    # print(f\"vocabulary size: {len(vec_vocab)}\")\n",
    "\n",
    "    return description_vec, text_vectorizer\n",
    "\n",
    "description_vec, text_vectorizer = get_description_vectors(description_corpus, stopwords)"
   ]
  },
  {
   "cell_type": "code",
   "execution_count": 12,
   "id": "0910dd48",
   "metadata": {
    "pycharm": {
     "name": "#%%\n"
    }
   },
   "outputs": [
    {
     "data": {
      "text/plain": [
       "Text(0.5, 1.0, 'bag-of-words Vector')"
      ]
     },
     "execution_count": 12,
     "metadata": {},
     "output_type": "execute_result"
    }
   ],
   "source": [
    "import seaborn as sns\n",
    "sns.heatmap(description_vec.todense()==0, vmin=0, vmax=1, cbar=False).set_title('bag-of-words Vector')"
   ]
  },
  {
   "cell_type": "code",
   "execution_count": 13,
   "id": "218eb77a",
   "metadata": {
    "pycharm": {
     "name": "#%%\n"
    }
   },
   "outputs": [],
   "source": [
    "# from wordcloud import WordCloud\n",
    "# test_vec = description_vec[1].todense()\n",
    "# col_names = np.array(text_vectorizer.get_feature_names())\n",
    "# test = pd.DataFrame(test_vec, columns=col_names).T.to_dict()[0]\n",
    "# print(test)\n",
    "# word_cloud = WordCloud(background_color=\"white\").generate_from_frequencies(test)\n",
    "# plt.imshow(word_cloud)"
   ]
  },
  {
   "cell_type": "code",
   "execution_count": 14,
   "id": "a52ba2e7",
   "metadata": {
    "pycharm": {
     "name": "#%%\n"
    }
   },
   "outputs": [
    {
     "data": {
      "image/png": "[encoded data removed]",
      "text/plain": [
       "<Figure size 640x480 with 1 Axes>"
      ]
     },
     "metadata": {},
     "output_type": "display_data"
    },
    {
     "data": {
      "application/vnd.jupyter.widget-view+json": {
       "model_id": "4884880ff6c8466f9e71487039d75b23",
       "version_major": 2,
       "version_minor": 0
      },
      "text/plain": [
       "interactive(children=(Dropdown(description='cat', options=('A', 'B', 'D', 'F', 'H', 'K', 'L', 'N', 'P', 'R', '…"
      ]
     },
     "metadata": {},
     "output_type": "display_data"
    },
    {
     "data": {
      "text/plain": [
       "<function __main__.plot_explain_category(cat: str)>"
      ]
     },
     "execution_count": 14,
     "metadata": {},
     "output_type": "execute_result"
    }
   ],
   "source": [
    "from wordcloud import WordCloud\n",
    "\n",
    "# Explain a category\n",
    "\n",
    "lookup = [x for _,x in sorted(zip(text_vectorizer.vocabulary_.values(), text_vectorizer.vocabulary_.keys()))]\n",
    "features_arr = np.array(text_vectorizer.get_feature_names())\n",
    "\n",
    "def explain_bow_vector(vec: scipy.sparse.csr.csr_matrix, ax=plt):\n",
    "    # _, idxs = scipy.sparse.csr_matrix.nonzero(vec)\n",
    "    # words = [lookup[k] for k in idxs]\n",
    "    # word_cloud = WordCloud().generate(' '.join(words))\n",
    "    test = pd.DataFrame(vec.todense(), columns=features_arr).T.to_dict()[0]\n",
    "    word_cloud = WordCloud(background_color=\"white\").generate_from_frequencies(test)\n",
    "    ax.imshow(word_cloud, interpolation='bilinear')\n",
    "    ax.axis(\"off\")\n",
    "\n",
    "def explain_category(cat:str, ax=plt):\n",
    "    target = list(mult_lbl_enc.classes_).index(cat)\n",
    "    target = description_vec[target]\n",
    "    explain_bow_vector(target, ax=ax)\n",
    "\n",
    "def plot_explain_category(cat:str):\n",
    "    explain_category(cat)\n",
    "\n",
    "interact(plot_explain_category, cat=mult_lbl_enc.classes_)"
   ]
  },
  {
   "cell_type": "code",
   "execution_count": 15,
   "id": "ebe627be",
   "metadata": {
    "pycharm": {
     "name": "#%%\n"
    }
   },
   "outputs": [],
   "source": [
    "key = 'transcript__conversation_both'\n",
    "# key = 'transcript__conversation_gp'\n",
    "# key = 'transcript__conversation_patient'\n",
    "\n",
    "X_train = text_vectorizer.transform(train_set[key])\n",
    "X_test = text_vectorizer.transform(test_set[key])"
   ]
  },
  {
   "cell_type": "code",
   "execution_count": 16,
   "id": "3196f0e6",
   "metadata": {
    "pycharm": {
     "name": "#%%\n"
    }
   },
   "outputs": [
    {
     "data": {
      "text/plain": [
       "Text(0.5, 1.0, 'Train set bag-of-words matrix')"
      ]
     },
     "execution_count": 16,
     "metadata": {},
     "output_type": "execute_result"
    }
   ],
   "source": [
    "# import seaborn as sns\n",
    "sns.heatmap(X_train.todense()==0, vmin=0, vmax=1, cbar=False).set_title('Train set bag-of-words matrix')"
   ]
  },
  {
   "cell_type": "code",
   "execution_count": 17,
   "id": "5c4785ad",
   "metadata": {
    "pycharm": {
     "name": "#%%\n"
    }
   },
   "outputs": [
    {
     "data": {
      "image/png": "[encoded data removed]",
      "text/plain": [
       "<Figure size 640x480 with 1 Axes>"
      ]
     },
     "metadata": {},
     "output_type": "display_data"
    },
    {
     "data": {
      "image/png": "[encoded data removed]",
      "text/plain": [
       "<Figure size 800x400 with 1 Axes>"
      ]
     },
     "metadata": {},
     "output_type": "display_data"
    },
    {
     "name": "stdout",
     "output_type": "stream",
     "text": [
      "['within', 'kidney', 'iron', 'possible', 'particular', 'either', 'neck', 'anxiety', 'situation', 'nose', 'ill', 'stick', 'hours', 'acid', 'mood', 'infection', 'health', 'cold', 'family', 'shoulder', 'inflammatory', 'vitamin', 'area', 'level', 'arthritis', 'skin', 'urine', 'food', 'short', 'operation', 'rest', 'bone', 'breath', 'risk', 'trouble', 'otherwise', 'nerve', 'old', 'years', 'painful', 'change', 'exercise', 'muscle', 'eye', 'foot', 'move', 'eating', 'knee', 'heart', 'case', 'bowel', 'particularly', 'part', 'sore', 'eat', 'hour', 'cough', 'ear', 'low', 'head', 'hand', 'stomach', 'leg', 'chest', 'sick', 'sleep', 'pressure', 'sound', 'pain', 'blood pressure', 'blood', 'mean']\n"
     ]
    }
   ],
   "source": [
    "keyword_dist_over_train = np.array(X_train.sum(axis=0)).flatten()\n",
    "\n",
    "def show_common_keywords(threshold:int = 3):\n",
    "    frequent_words = [[k,n] for k,n in zip(lookup, keyword_dist_over_train) if n > threshold]\n",
    "    frequent_words_df = pd.DataFrame(frequent_words,columns=['keyword', 'count']).sort_values('count')\n",
    "\n",
    "    plt.figure(figsize=(8,4))\n",
    "    ax = sns.barplot(x='keyword', y='count', data=frequent_words_df)\n",
    "    ax.set_xticklabels(ax.get_xticklabels(), rotation=40, ha=\"right\")\n",
    "    plt.tight_layout()\n",
    "    plt.show()\n",
    "\n",
    "    print([k._text for k in ax.get_xticklabels()])\n",
    "\n",
    "show_common_keywords()"
   ]
  },
  {
   "cell_type": "code",
   "execution_count": 18,
   "id": "b2d2660a",
   "metadata": {
    "pycharm": {
     "name": "#%%\n"
    }
   },
   "outputs": [],
   "source": [
    "from sklearn.metrics import classification_report, f1_score, multilabel_confusion_matrix, roc_auc_score\n",
    "\n",
    "def evaluate_classifications(targets, predictions, class_names, show_report=False):\n",
    "    \"\"\"\n",
    "    Evaluates the discrete classification labels.\n",
    "    :param targets: A matrix where each row is a one-hot representation of the gold labels for the sample.\n",
    "    :param predictions: A matrix where each row is a one-hot representation of the predicted labels for the sample.\n",
    "    :param class_names: The names of the classes in an ordered list.\n",
    "    :return:\n",
    "    \"\"\"\n",
    "\n",
    "    keepclasses = np.any(targets, axis=0)\n",
    "    targets = targets[:, keepclasses]\n",
    "    predictions = predictions[:, keepclasses]\n",
    "\n",
    "    if show_report:\n",
    "        print(f\"classification_report:\\n{classification_report(targets, predictions, target_names=class_names, zero_division=0)}\")\n",
    "\n",
    "    return f1_score(targets, predictions, average='macro')\n",
    "\n",
    "\n",
    "def evaluate_probabilities(targets, predictions):\n",
    "    \"\"\"\n",
    "    Evaluates the probabilities output by a classifier using the ROC curve.\n",
    "    :param targets: A matrix where each row is a one-hot representation of the gold labels for the sample.\n",
    "    :param predictions: A matrix where each row is a one-hot representation of the predicted labels for the sample.\n",
    "    :return:\n",
    "    \"\"\"\n",
    "\n",
    "    keepclasses = np.any(targets, axis=0)\n",
    "    targets = targets[:, keepclasses]\n",
    "    predictions = predictions[:, keepclasses]\n",
    "\n",
    "    auroc = roc_auc_score(targets, predictions, average='macro') # [:, keepclasses], predictions[:, keepclasses])\n",
    "    # print(f'area under ROC curve: {auroc}')\n",
    "\n",
    "    return auroc"
   ]
  },
  {
   "cell_type": "markdown",
   "id": "f8344d8f",
   "metadata": {
    "pycharm": {
     "name": "#%% md\n"
    }
   },
   "source": [
    "### Nearest Centroid classifier"
   ]
  },
  {
   "cell_type": "code",
   "execution_count": 19,
   "id": "417bc9c7",
   "metadata": {
    "pycharm": {
     "name": "#%%\n"
    }
   },
   "outputs": [
    {
     "name": "stdout",
     "output_type": "stream",
     "text": [
      "0.36670836855051503\n"
     ]
    }
   ],
   "source": [
    "from sklearn.neighbors import NearestCentroid\n",
    "from sklearn.neighbors import KNeighborsClassifier\n",
    "\n",
    "\n",
    "def run_nearest_centroid(description_vec, mult_lbl_enc, X_test):\n",
    "    nc_clf = NearestCentroid(metric='euclidean')\n",
    "    nc_clf.fit(description_vec, mult_lbl_enc.classes_)\n",
    "    y_pred = nc_clf.predict(X_test)\n",
    "\n",
    "    y_pred_mat = np.matrix(mult_lbl_enc.transform(y_pred))\n",
    "\n",
    "    return y_pred_mat\n",
    "\n",
    "y_pred_mat = run_nearest_centroid(description_vec, mult_lbl_enc, X_train)\n",
    "print(evaluate_classifications(y_train, y_pred_mat, mult_lbl_enc.classes_))\n",
    "\n",
    "def run_distance_classifier(description_vec, X_train, y_train, X_test):\n",
    "\n",
    "    kn_clf = KNeighborsClassifier(n_neighbors=5, weights='distance', metric='cosine')\n",
    "    kn_clf.fit(description_vec, mult_lbl_enc.classes_)\n",
    "\n",
    "    max_acc = 0\n",
    "    threshold = 0.8\n",
    "    best_threshold = 0\n",
    "    while threshold <= 1:\n",
    "        y_dists, y_pred = kn_clf.kneighbors(X_train, 3)\n",
    "        y_tr_pred = np.zeros((X_train.shape[0], y_train.shape[1]))\n",
    "        for i in range(y_tr_pred.shape[0]):\n",
    "            y_tr_pred[i, y_pred[i]] = (y_dists[i] < threshold).astype(int)\n",
    "\n",
    "        acc = f1_score(y_train, y_tr_pred, average='micro')\n",
    "        # print(f'F1: {acc}, threshold: {threshold}')\n",
    "\n",
    "        if acc > max_acc:\n",
    "            max_acc = acc\n",
    "            best_threshold = threshold\n",
    "        threshold += 0.01\n",
    "\n",
    "    # print('predicting...')\n",
    "    y_dists, y_pred = kn_clf.kneighbors(X_test, 3)\n",
    "    y_pred_mat = np.zeros((X_test.shape[0], y_train.shape[1]))\n",
    "    for i in range(y_pred.shape[0]):\n",
    "        y_pred_mat[i, y_pred[i][0]] = (y_dists[i][0] < best_threshold).astype(int)\n",
    "\n",
    "    # dists = cosine_similarity(X_train, description_vec)\n",
    "    # print(dists)\n",
    "\n",
    "    #\n",
    "    # dists = cosine_similarity(X_test, description_vec)\n",
    "    # y_pred_mat = dists > best_threshold\n",
    "\n",
    "    return y_pred_mat\n",
    "\n",
    "# y_pred_mat = run_distance_classifier(description_vec, X_train, y_train, X_train)\n",
    "# evaluate_classifications(y_train, y_pred_mat, mult_lbl_enc.classes_)"
   ]
  },
  {
   "cell_type": "code",
   "execution_count": null,
   "id": "88a5848b",
   "metadata": {},
   "outputs": [],
   "source": [
    "def get_idxes_with_cat(_y_train: np.ndarray, code:str):\n",
    "    y_train_raw = mult_lbl_enc.inverse_transform(_y_train)\n",
    "    return [i for i,cs in enumerate(y_train_raw) if code in cs]\n",
    "\n",
    "def get_truth_pred_pairs(_y_train, _y_pred, indices):\n",
    "    truth = mult_lbl_enc.inverse_transform(_y_train[indices])\n",
    "    pred = _y_pred[indices]\n",
    "    data = list(zip(indices, truth, pred))\n",
    "    return pd.DataFrame(data, columns=['id', 'truth', 'predicted'])\n",
    "\n",
    "def show_truth_pred_tbl(code):\n",
    "    cat_idxes = get_idxes_with_cat(y_train, code)\n",
    "    return get_truth_pred_pairs(y_train, y_pred_mat, cat_idxes)\n",
    "\n",
    "interact(show_truth_pred_tbl, code=mult_lbl_enc.classes_)"
   ]
  },
  {
   "cell_type": "markdown",
   "id": "a209ba5c",
   "metadata": {
    "pycharm": {
     "name": "#%% md\n"
    }
   },
   "source": [
    "Seems like the baseline is not performing well on predicting classes for:\n",
    "\n",
    "A, F, N, S, T, W, X, Y"
   ]
  },
  {
   "cell_type": "code",
   "execution_count": null,
   "id": "3dd9f4eb",
   "metadata": {
    "pycharm": {
     "name": "#%%\n"
    }
   },
   "outputs": [],
   "source": [
    "from sklearn.metrics.pairwise import cosine_similarity\n",
    "\n",
    "cat_dropdown = widgets.Dropdown(options=mult_lbl_enc.classes_)\n",
    "id_dropdown = widgets.Dropdown(options=get_idxes_with_cat(y_train, cat_dropdown.value))\n",
    "\n",
    "def refresh_id_dropdown(*args):\n",
    "    id_dropdown.options = get_idxes_with_cat(y_train, cat_dropdown.value)\n",
    "\n",
    "cat_dropdown.observe(refresh_id_dropdown, 'value')\n",
    "\n",
    "def show_cosine_similarity(_id):\n",
    "    cos_sim = cosine_similarity(X_train[_id], description_vec)[0]\n",
    "    cos_sim = pd.DataFrame(list(zip(mult_lbl_enc.classes_, cos_sim)), columns=['category', 'cos sim'])\n",
    "    cos_sim = cos_sim.set_index('category').T\n",
    "    grid_kws = {\"height_ratios\": (.9, .05), \"hspace\": -0.5}\n",
    "    f, (ax, cbar_ax) = plt.subplots(2, gridspec_kw=grid_kws)\n",
    "    sns.heatmap(cos_sim, square=True, ax=ax,\n",
    "                cbar_ax=cbar_ax,\n",
    "                cbar_kws={\"orientation\": \"horizontal\"},\n",
    "                cmap='Greens')\n",
    "\n",
    "def show_keywords_true_pred(_id, _cat):\n",
    "    fig, (ax1, ax2) = plt.subplots(1, 2, figsize=(10,5))\n",
    "    ax1.title.set_text('BOW from sample transcipt')\n",
    "    ax2.title.set_text('BOW of predicted class')\n",
    "    explain_bow_vector(X_train[_id], ax=ax1)\n",
    "    explain_category(_cat, ax=ax2)\n",
    "\n",
    "def view_record(_cat, _id):\n",
    "    global test\n",
    "    pred_cat = mult_lbl_enc.inverse_transform(np.array(y_pred_mat)[_id:_id+1])[0][0]\n",
    "    record = train_set.iloc[_id]\n",
    "    info = [f\"Index: {_id}\",\n",
    "           f\"Id: {record['record_id']}\",\n",
    "           f\"Actual: {mult_lbl_enc.inverse_transform(y_train[_id:_id+1])}\",\n",
    "           f\"Predicted: {pred_cat}\"]\n",
    "    display(*info)\n",
    "    show_keywords_true_pred(_id, pred_cat)\n",
    "    show_cosine_similarity(_id)\n",
    "\n",
    "interact(view_record, _cat=cat_dropdown, _id=id_dropdown)"
   ]
  },
  {
   "cell_type": "code",
   "execution_count": null,
   "id": "57da71e4",
   "metadata": {
    "pycharm": {
     "name": "#%%\n"
    }
   },
   "outputs": [],
   "source": [
    "# Note: print statements does not work in PyCharm\n",
    "evaluate_classifications(y_train, y_pred_mat, mult_lbl_enc.classes_)\n",
    "\n",
    "def plot_multilabel_conf_matrix(targets, predictions):\n",
    "    print(f\"multilabel_confusion_matrix:\")\n",
    "    conf_mat = multilabel_confusion_matrix(targets, predictions)\n",
    "\n",
    "    for cls, mat in zip(mult_lbl_enc.classes_, conf_mat):\n",
    "        fig = plt.figure(figsize=(1,1))\n",
    "        ax = fig.add_subplot()\n",
    "        ax.set_title(cls)\n",
    "        sns.heatmap(mat, ax=ax, cmap='Blues', annot=True, fmt=\"d\")\n",
    "        ax.set_xlabel('pred')\n",
    "        ax.set_ylabel('true')\n",
    "        fig.show()\n",
    "\n",
    "# plot_multilabel_conf_matrix(y_train, y_pred_mat)"
   ]
  },
  {
   "cell_type": "markdown",
   "id": "c90dbae6",
   "metadata": {
    "pycharm": {
     "name": "#%% md\n"
    }
   },
   "source": [
    "For `average` parameter to take the average metrics over all classes, please see [documentation](https://scikit-learn.org/stable/modules/model_evaluation.html#from-binary-to-multiclass-and-multilabel)."
   ]
  },
  {
   "cell_type": "markdown",
   "id": "f8215587",
   "metadata": {
    "pycharm": {
     "name": "#%% md\n"
    }
   },
   "source": [
    "## Binary Naive Bayes Classifier"
   ]
  },
  {
   "cell_type": "code",
   "execution_count": 29,
   "id": "c76bead7",
   "metadata": {},
   "outputs": [],
   "source": [
    "from sklearn.naive_bayes import MultinomialNB"
   ]
  },
  {
   "cell_type": "code",
   "execution_count": 30,
   "id": "0fbd55fa",
   "metadata": {},
   "outputs": [
    {
     "name": "stdout",
     "output_type": "stream",
     "text": [
      "0.9030987263301062\n",
      "0.9685422009049662\n"
     ]
    }
   ],
   "source": [
    "def run_binary_naive_bayes(X_train, y_train, X_test):\n",
    "    nclasses = y_train.shape[1]\n",
    "\n",
    "    y_pred_mat = np.zeros((X_test.shape[0], nclasses))\n",
    "    y_pred_probs = np.zeros((X_test.shape[0], nclasses))\n",
    "\n",
    "    for c in range(nclasses):\n",
    "        # iterate over the classes and make a classifier for each class\n",
    "\n",
    "        # skip classes with no test instances!\n",
    "        if not np.any(y_test[:, c]):\n",
    "            continue\n",
    "\n",
    "        clf = MultinomialNB(alpha=0.001)\n",
    "        clf.fit(X_train, y_train[:, c])\n",
    "\n",
    "        y_te_pred_c = clf.predict(X_test)\n",
    "        # y_pred_mat[:, c] = y_te_pred_c\n",
    "\n",
    "        y_pred_probs[:, c] = clf.predict_proba(X_test)[:, 1]\n",
    "        y_pred_mat[:, c] = y_pred_probs[:, c] > 0.1\n",
    "\n",
    "    return y_pred_mat, y_pred_probs\n",
    "\n",
    "y_pred_mat, y_pred_probs = run_binary_naive_bayes(X_train, y_train, X_train)  # performance on training set\n",
    "print(evaluate_classifications(y_train, y_pred_mat, mult_lbl_enc.classes_))\n",
    "print(evaluate_probabilities(y_train, y_pred_probs))"
   ]
  },
  {
   "cell_type": "markdown",
   "id": "f61f4540",
   "metadata": {
    "pycharm": {
     "name": "#%% md\n"
    }
   },
   "source": [
    "## Multiclass Naïve Bayes Classifier"
   ]
  },
  {
   "cell_type": "code",
   "execution_count": 31,
   "id": "7513251d",
   "metadata": {},
   "outputs": [
    {
     "data": {
      "text/plain": [
       "0.8209232004845437"
      ]
     },
     "execution_count": 31,
     "metadata": {},
     "output_type": "execute_result"
    }
   ],
   "source": [
    "def run_multiclass_naive_bayes(X_train, y_train, X_test):\n",
    "    clf = MultinomialNB(alpha=0.001, fit_prior=False)\n",
    "    clf.fit(X_train, np.argmax(y_train, 1))\n",
    "\n",
    "    y_pred_probs = clf.predict_proba(X_test)\n",
    "\n",
    "    y_pred_mat = y_pred_probs > 0.1\n",
    "\n",
    "    return y_pred_mat, y_pred_probs\n",
    "\n",
    "y_pred_mat, y_pred_probs = run_multiclass_naive_bayes(X_train, y_train, X_train)\n",
    "evaluate_classifications(y_train, y_pred_mat, mult_lbl_enc.classes_)\n",
    "evaluate_probabilities(y_train, y_pred_probs)"
   ]
  },
  {
   "cell_type": "markdown",
   "id": "b5d84ce8",
   "metadata": {
    "pycharm": {
     "name": "#%% md\n"
    }
   },
   "source": [
    "## SVM Classifier"
   ]
  },
  {
   "cell_type": "code",
   "execution_count": 22,
   "id": "e5082741",
   "metadata": {},
   "outputs": [
    {
     "data": {
      "text/plain": [
       "0.7251912904771003"
      ]
     },
     "execution_count": 22,
     "metadata": {},
     "output_type": "execute_result"
    }
   ],
   "source": [
    "from sklearn.svm import SVC\n",
    "\n",
    "def run_svm(X_train, y_train, X_test):\n",
    "    nclasses = y_train.shape[1]\n",
    "\n",
    "    clf = SVC(kernel='rbf', C=2)\n",
    "\n",
    "    clf.fit(X_train, np.argmax(y_train, 1))\n",
    "\n",
    "    y_pred = clf.predict(X_test)\n",
    "\n",
    "    y_pred_mat = np.zeros((y_pred.shape[0], nclasses))\n",
    "    y_pred_mat[np.arange(y_pred.shape[0]), y_pred] = 1\n",
    "\n",
    "    return y_pred_mat\n",
    "\n",
    "y_pred_mat = run_svm(X_train, y_train, X_train)\n",
    "evaluate_classifications(y_train, y_pred_mat, mult_lbl_enc.classes_)"
   ]
  },
  {
   "cell_type": "code",
   "execution_count": 23,
   "id": "bbfc0e16",
   "metadata": {},
   "outputs": [
    {
     "data": {
      "text/plain": [
       "0.9319308740445331"
      ]
     },
     "execution_count": 23,
     "metadata": {},
     "output_type": "execute_result"
    }
   ],
   "source": [
    "def run_binary_svm(X_train, y_train, X_test):\n",
    "    nclasses = y_train.shape[1]\n",
    "\n",
    "    y_pred_mat = np.zeros((X_test.shape[0], nclasses))\n",
    "\n",
    "    for c in range(nclasses):\n",
    "        # iterate over the classes and make a classifier for each class\n",
    "\n",
    "        # skip classes with no test instances!\n",
    "        if not np.any(y_test[:, c]):\n",
    "            continue\n",
    "\n",
    "        clf = SVC(kernel='rbf', C=2)\n",
    "        clf.fit(X_train, y_train[:, c])\n",
    "\n",
    "        y_te_pred_c = clf.predict(X_test)\n",
    "        y_pred_mat[:, c] = y_te_pred_c\n",
    "\n",
    "    return y_pred_mat\n",
    "\n",
    "y_pred_mat = run_binary_svm(X_train, y_train, X_train)\n",
    "evaluate_classifications(y_train, y_pred_mat, mult_lbl_enc.classes_)"
   ]
  },
  {
   "cell_type": "markdown",
   "id": "0407da9a",
   "metadata": {
    "pycharm": {
     "name": "#%% md\n"
    }
   },
   "source": [
    "## Test Different Stopwords and Descriptions"
   ]
  },
  {
   "cell_type": "code",
   "execution_count": 39,
   "id": "e11c6061",
   "metadata": {
    "pycharm": {
     "name": "#%%\n"
    }
   },
   "outputs": [],
   "source": [
    "def run_performance_assessment(method):\n",
    "    stopword_settings = [\n",
    "#          [],\n",
    "#          ['m'],\n",
    "#          ['c'],\n",
    "#          ['e'],\n",
    "#          ['m', 'c'],\n",
    "#          ['m', 'e'],\n",
    "         ['c', 'e'],\n",
    "#          ['m', 'c', 'e']\n",
    "    ]\n",
    "\n",
    "    description_settings = ['both']  # ['ICPC only', 'CKS only', 'both']\n",
    "\n",
    "    f1_matrix = np.zeros((len(stopword_settings), len(description_settings)))\n",
    "    auroc_matrix = np.zeros((len(stopword_settings), len(description_settings)))\n",
    "\n",
    "    for j, selected_mode in enumerate(description_settings):\n",
    "        description_corpus = load_descriptions(selected_mode, mult_lbl_enc)\n",
    "        for i, s in enumerate(stopword_settings):\n",
    "            set_stopwords('m' in s, 'c' in s, 'e' in s)\n",
    "            description_vec, text_vectorizer = get_description_vectors(description_corpus, stopwords)\n",
    "\n",
    "            X_train = text_vectorizer.transform(train_set[key])\n",
    "\n",
    "            if method == 'nearest centroid':\n",
    "                y_pred_mat = run_nearest_centroid(description_vec, mult_lbl_enc, X_train)  # performance on training set\n",
    "                f1_matrix[i, j] = evaluate_classifications(y_train, y_pred_mat, mult_lbl_enc.classes_, show_report=False)\n",
    "            elif method == 'distance':\n",
    "                y_pred_mat = run_distance_classifier(description_vec, X_train, y_train, X_train)  # performance on training set\n",
    "                f1_matrix[i, j] = evaluate_classifications(y_train, y_pred_mat, mult_lbl_enc.classes_, show_report=False)\n",
    "            elif method == 'binary NB':\n",
    "                y_pred_mat, y_pred_probs = run_binary_naive_bayes(X_train, y_train, X_train)  # performance on training set\n",
    "                f1_matrix[i, j] = evaluate_classifications(y_train, y_pred_mat, mult_lbl_enc.classes_, show_report=False)\n",
    "                auroc_matrix[i, j] = evaluate_probabilities(y_train, y_pred_probs)\n",
    "            elif method == 'multiclass NB':\n",
    "                y_pred_mat, y_pred_probs = run_multiclass_naive_bayes(X_train, y_train, X_train)  # performance on training set\n",
    "                f1_matrix[i, j] = evaluate_classifications(y_train, y_pred_mat, mult_lbl_enc.classes_, show_report=False)\n",
    "                auroc_matrix[i, j] = evaluate_probabilities(y_train, y_pred_probs)\n",
    "            elif method == 'binary SVM':\n",
    "                y_pred_mat = run_binary_svm(X_train, y_train, X_train)  # performance on training set\n",
    "                f1_matrix[i, j] = evaluate_classifications(y_train, y_pred_mat, mult_lbl_enc.classes_, show_report=False)\n",
    "            elif method == 'multiclass SVM':\n",
    "                y_pred_mat = run_svm(X_train, y_train, X_train)  # performance on training set\n",
    "                f1_matrix[i, j] = evaluate_classifications(y_train, y_pred_mat, mult_lbl_enc.classes_, show_report=False)\n",
    "\n",
    "    max_idx = np.unravel_index(np.argmax(f1_matrix), f1_matrix.shape)\n",
    "    best_tr_f1 = np.max(f1_matrix)\n",
    "    best_stopwords = stopword_settings[max_idx[0]]\n",
    "    best_desc = description_settings[max_idx[1]]\n",
    "    print(f'Method: {method}. The best score on the training set was {best_tr_f1} with {best_stopwords} stopwords and {best_desc} code descriptions.')\n",
    "\n",
    "    print('F1 score matrix for the different settings we tried:')\n",
    "    print(f1_matrix)\n",
    "    print(f'...rows are stopword settings, {stopword_settings}, and columns are code descriptions, {description_settings}')\n",
    "\n",
    "    # use the best settings to run the classifier on the test set\n",
    "    description_corpus = load_descriptions(selected_mode, mult_lbl_enc)\n",
    "    set_stopwords('m' in s, 'c' in s, 'e' in s)\n",
    "    description_vec, text_vectorizer = get_description_vectors(description_corpus, stopwords)\n",
    "\n",
    "    X_test = text_vectorizer.transform(orig_dataset[key])\n",
    "    y_test = y_hot\n",
    "\n",
    "    if method == 'nearest centroid':\n",
    "        y_pred_mat = run_nearest_centroid(description_vec, mult_lbl_enc, X_test)  # performance on training set\n",
    "        f1 = evaluate_classifications(y_test, y_pred_mat, mult_lbl_enc.classes_, show_report=False)\n",
    "        auroc = evaluate_probabilities(y_test, y_pred_mat)\n",
    "    elif method == 'distance':\n",
    "        y_pred_mat = run_distance_classifier(description_vec, X_train, y_train, X_test)  # performance on training set\n",
    "        f1 = evaluate_classifications(y_test, y_pred_mat, mult_lbl_enc.classes_, show_report=False)\n",
    "        auroc = evaluate_probabilities(y_test, y_pred_mat)\n",
    "    elif method == 'binary NB':\n",
    "        y_pred_mat, y_pred_probs = run_binary_naive_bayes(description_vec, mult_lbl_enc.transform(mult_lbl_enc.classes_), X_test)  # performance on training set\n",
    "        f1 = evaluate_classifications(y_test, y_pred_mat, mult_lbl_enc.classes_, show_report=False)\n",
    "        auroc = evaluate_probabilities(y_test, y_pred_probs)\n",
    "    elif method == 'multiclass NB':\n",
    "        y_pred_mat, y_pred_probs = run_multiclass_naive_bayes(description_vec, mult_lbl_enc.transform(mult_lbl_enc.classes_), X_test)  # performance on training set\n",
    "        f1 = evaluate_classifications(y_test, y_pred_mat, mult_lbl_enc.classes_, show_report=False)\n",
    "        auroc = evaluate_probabilities(y_test, y_pred_probs)\n",
    "    elif method == 'binary SVM':\n",
    "        y_pred_mat = run_binary_svm(description_vec, mult_lbl_enc.transform(mult_lbl_enc.classes_), X_test)  # performance on training set\n",
    "        f1 = evaluate_classifications(y_test, y_pred_mat, mult_lbl_enc.classes_, show_report=False)\n",
    "        auroc = evaluate_probabilities(y_test, y_pred_mat)\n",
    "    elif method == 'multiclass SVM':\n",
    "        y_pred_mat = run_svm(description_vec, mult_lbl_enc.transform(mult_lbl_enc.classes_), X_test)  # performance on training set\n",
    "        f1 = evaluate_classifications(y_test, y_pred_mat, mult_lbl_enc.classes_, show_report=False)\n",
    "        auroc = evaluate_probabilities(y_test, y_pred_mat)\n",
    "\n",
    "    print(f'Method: {method}. The F1 score on the test set was {f1}.')\n",
    "\n",
    "    return auroc, f1, best_tr_f1, best_desc, best_stopwords\n"
   ]
  },
  {
   "cell_type": "code",
   "execution_count": 40,
   "id": "c675ce2a",
   "metadata": {},
   "outputs": [
    {
     "data": {
      "text/plain": [
       "array([[1, 0, 0, 0, 0, 0, 0, 0, 0, 0, 0, 0, 0, 0, 0, 0],\n",
       "       [0, 1, 0, 0, 0, 0, 0, 0, 0, 0, 0, 0, 0, 0, 0, 0],\n",
       "       [0, 0, 1, 0, 0, 0, 0, 0, 0, 0, 0, 0, 0, 0, 0, 0],\n",
       "       [0, 0, 0, 1, 0, 0, 0, 0, 0, 0, 0, 0, 0, 0, 0, 0],\n",
       "       [0, 0, 0, 0, 1, 0, 0, 0, 0, 0, 0, 0, 0, 0, 0, 0],\n",
       "       [0, 0, 0, 0, 0, 1, 0, 0, 0, 0, 0, 0, 0, 0, 0, 0],\n",
       "       [0, 0, 0, 0, 0, 0, 1, 0, 0, 0, 0, 0, 0, 0, 0, 0],\n",
       "       [0, 0, 0, 0, 0, 0, 0, 1, 0, 0, 0, 0, 0, 0, 0, 0],\n",
       "       [0, 0, 0, 0, 0, 0, 0, 0, 1, 0, 0, 0, 0, 0, 0, 0],\n",
       "       [0, 0, 0, 0, 0, 0, 0, 0, 0, 1, 0, 0, 0, 0, 0, 0],\n",
       "       [0, 0, 0, 0, 0, 0, 0, 0, 0, 0, 1, 0, 0, 0, 0, 0],\n",
       "       [0, 0, 0, 0, 0, 0, 0, 0, 0, 0, 0, 1, 0, 0, 0, 0],\n",
       "       [0, 0, 0, 0, 0, 0, 0, 0, 0, 0, 0, 0, 1, 0, 0, 0],\n",
       "       [0, 0, 0, 0, 0, 0, 0, 0, 0, 0, 0, 0, 0, 1, 0, 0],\n",
       "       [0, 0, 0, 0, 0, 0, 0, 0, 0, 0, 0, 0, 0, 0, 1, 0],\n",
       "       [0, 0, 0, 0, 0, 0, 0, 0, 0, 0, 0, 0, 0, 0, 0, 1]])"
      ]
     },
     "execution_count": 40,
     "metadata": {},
     "output_type": "execute_result"
    }
   ],
   "source": [
    "mult_lbl_enc.transform(mult_lbl_enc.classes_)"
   ]
  },
  {
   "cell_type": "code",
   "execution_count": 41,
   "id": "f30a779c",
   "metadata": {
    "pycharm": {
     "name": "#%%\n"
    }
   },
   "outputs": [
    {
     "name": "stdout",
     "output_type": "stream",
     "text": [
      "Method: nearest centroid. The best score on the training set was 0.385337018678755 with ['c', 'e'] stopwords and both code descriptions.\n",
      "F1 score matrix for the different settings we tried:\n",
      "[[0.38533702]]\n",
      "...rows are stopword settings, [['c', 'e']], and columns are code descriptions, ['both']\n",
      "Method: nearest centroid. The F1 score on the test set was 0.41892152303546837.\n",
      "Method: distance. The best score on the training set was 0.36838100570258936 with ['c', 'e'] stopwords and both code descriptions.\n",
      "F1 score matrix for the different settings we tried:\n",
      "[[0.36838101]]\n",
      "...rows are stopword settings, [['c', 'e']], and columns are code descriptions, ['both']\n",
      "Method: distance. The F1 score on the test set was 0.4050089324109435.\n",
      "Method: binary NB. The best score on the training set was 0.9259840163089578 with ['c', 'e'] stopwords and both code descriptions.\n",
      "F1 score matrix for the different settings we tried:\n",
      "[[0.92598402]]\n",
      "...rows are stopword settings, [['c', 'e']], and columns are code descriptions, ['both']\n",
      "Method: binary NB. The F1 score on the test set was 0.3028159056461449.\n",
      "Method: multiclass NB. The best score on the training set was 0.7235784190900085 with ['c', 'e'] stopwords and both code descriptions.\n",
      "F1 score matrix for the different settings we tried:\n",
      "[[0.72357842]]\n",
      "...rows are stopword settings, [['c', 'e']], and columns are code descriptions, ['both']\n",
      "Method: multiclass NB. The F1 score on the test set was 0.40439935042741476.\n",
      "Method: binary SVM. The best score on the training set was 0.9375 with ['c', 'e'] stopwords and both code descriptions.\n",
      "F1 score matrix for the different settings we tried:\n",
      "[[0.9375]]\n",
      "...rows are stopword settings, [['c', 'e']], and columns are code descriptions, ['both']\n",
      "Method: binary SVM. The F1 score on the test set was 0.0.\n",
      "Method: multiclass SVM. The best score on the training set was 0.7243101406982112 with ['c', 'e'] stopwords and both code descriptions.\n",
      "F1 score matrix for the different settings we tried:\n",
      "[[0.72431014]]\n",
      "...rows are stopword settings, [['c', 'e']], and columns are code descriptions, ['both']\n",
      "Method: multiclass SVM. The F1 score on the test set was 0.41892152303546837.\n"
     ]
    }
   ],
   "source": [
    "auroc = {}\n",
    "f1scores = {}\n",
    "tr_f1scores = {}\n",
    "best_descriptions = {}\n",
    "best_stopwords = {}\n",
    "\n",
    "def run_and_record_metrics(classifier_name):\n",
    "    auroc[classifier_name], f1scores[classifier_name], tr_f1scores[classifier_name], \\\n",
    "        best_descriptions[classifier_name], best_stopwords[classifier_name] \\\n",
    "    = run_performance_assessment(classifier_name)\n",
    "\n",
    "classifiers_to_run = [\n",
    "    'nearest centroid',\n",
    "    'distance',\n",
    "    'binary NB',\n",
    "    'multiclass NB',\n",
    "    'binary SVM', \n",
    "    'multiclass SVM'\n",
    "]    \n",
    "\n",
    "for classifier in classifiers_to_run:\n",
    "    run_and_record_metrics(classifier)"
   ]
  },
  {
   "cell_type": "markdown",
   "id": "f0567a1f",
   "metadata": {},
   "source": [
    "It looks like there is lots of overfitting of the classifiers above, as there is high trainign set performance and low test set performance, especially when using multiple binary classifiers. "
   ]
  },
  {
   "cell_type": "code",
   "execution_count": null,
   "id": "9300eab6",
   "metadata": {
    "pycharm": {
     "name": "#%%\n"
    }
   },
   "outputs": [],
   "source": [
    "f1scores"
   ]
  },
  {
   "cell_type": "code",
   "execution_count": null,
   "id": "632fcd94",
   "metadata": {
    "pycharm": {
     "name": "#%%\n"
    }
   },
   "outputs": [],
   "source": [
    "tr_f1scores"
   ]
  },
  {
   "cell_type": "code",
   "execution_count": null,
   "id": "5bd2b464",
   "metadata": {
    "pycharm": {
     "name": "#%%\n"
    }
   },
   "outputs": [],
   "source": [
    "best_stopwords"
   ]
  },
  {
   "cell_type": "code",
   "execution_count": null,
   "id": "017d261a",
   "metadata": {
    "pycharm": {
     "name": "#%%\n"
    }
   },
   "outputs": [],
   "source": [
    "best_descriptions"
   ]
  },
  {
   "cell_type": "code",
   "execution_count": null,
   "id": "d78a5275",
   "metadata": {
    "pycharm": {
     "name": "#%%\n"
    }
   },
   "outputs": [],
   "source": [
    "auroc"
   ]
  },
  {
   "cell_type": "code",
   "execution_count": null,
   "id": "4c85f2e1",
   "metadata": {
    "pycharm": {
     "name": "#%%\n"
    }
   },
   "outputs": [],
   "source": []
  }
 ],
 "metadata": {
  "kernelspec": {
   "display_name": "py39",
   "language": "python",
   "name": "py39"
  },
  "language_info": {
   "codemirror_mode": {
    "name": "ipython",
    "version": 3
   },
   "file_extension": ".py",
   "mimetype": "text/x-python",
   "name": "python",
   "nbconvert_exporter": "python",
   "pygments_lexer": "ipython3",
   "version": "3.9.5"
  }
 },
 "nbformat": 4,
 "nbformat_minor": 5
}
