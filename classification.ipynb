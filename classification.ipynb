{
 "cells": [
  {
   "cell_type": "code",
   "execution_count": 1,
   "id": "f2bec071",
   "metadata": {
    "scrolled": true
   },
   "outputs": [],
   "source": [
    "import os\n",
    "\n",
    "import ipywidgets as widgets\n",
    "import numpy as np\n",
    "import pandas as pd\n",
    "import scipy.sparse\n",
    "from IPython.display import display\n",
    "from ipywidgets import interact\n",
    "from matplotlib import pyplot as plt\n",
    "%load_ext autoreload\n",
    "%autoreload 2"
   ]
  },
  {
   "cell_type": "markdown",
   "id": "a1ea4eb6-0bd9-43b8-98cc-c26caca9fa97",
   "metadata": {
    "pycharm": {
     "name": "#%% md\n"
    }
   },
   "source": [
    "# Data preparation\n",
    "\n",
    "First split the orig_dataset into train and test set, then we need to\n",
    "pre-process the transcript data\n",
    "\n",
    "This includes, cleaning text, stemming and lemmatization"
   ]
  },
  {
   "cell_type": "code",
   "execution_count": 2,
   "id": "310fb443-83b6-4e2d-a5d7-79b9b8c662fd",
   "metadata": {
    "pycharm": {
     "name": "#%%\n"
    }
   },
   "outputs": [
    {
     "name": "stderr",
     "output_type": "stream",
     "text": [
      "[nltk_data] Downloading package wordnet to /Users/es1595/nltk_data...\n",
      "[nltk_data]   Package wordnet is already up-to-date!\n",
      "The current IDs only have record documents.\n",
      "['011119' '020105' '030311' '030501' '030509' '030510' '050609' '050717'\n",
      " '050719' '071010' '071201' '071202' '071203' '071204' '071205' '071206'\n",
      " '071207' '071208' '071209' '071210' '071211' '071212' '071213' '071214'\n",
      " '081310' '081608' '081610' '091410' '091411' '091416' '101705' '101707'\n",
      " '111906' '111908' '112004' '122110']\n",
      "The current IDs only have transcript documents.\n",
      "['-081308' '010103' '010105' '020107' '030501(p.2)' '030501(p1)'\n",
      " '030509(p.1)' '030509(p.2)' '030510 (p.1)' '030510 (p.2)' '040417'\n",
      " '050605' '050609a' '050717 (Dr reads wrong number)' '060806' '060811'\n",
      " '060812' '060906' '071002' '071010(a)' '071012' '081310(b)' '081310(c)'\n",
      " '081310a' '081601' '081606' '081608 (1 of 2)' '081608 (2 of 2)' '091402'\n",
      " '091404' '091405' '091410 & 091411' '091503' '101705 and 101707' '101801'\n",
      " '111906 (2of2)' '111906(1 of 2)' '112002' '112004 & 1112005' '112014'\n",
      " '200105' '50719']\n"
     ]
    },
    {
     "name": "stdout",
     "output_type": "stream",
     "text": [
      "RDSF base directory located at /Volumes/NLP_One_In_A_Million/\n",
      "16 classification categories: ['A' 'B' 'D' 'F' 'H' 'K' 'L' 'N' 'P' 'R' 'S' 'T' 'U' 'W' 'X' 'Y']\n"
     ]
    }
   ],
   "source": [
    "from prepare_data import prepare_original_data\n",
    "\n",
    "orig_dataset, mult_lbl_enc, y_hot = prepare_original_data()"
   ]
  },
  {
   "cell_type": "markdown",
   "id": "c71abd38",
   "metadata": {
    "pycharm": {
     "name": "#%% md\n"
    }
   },
   "source": [
    "## Train test Split"
   ]
  },
  {
   "cell_type": "code",
   "execution_count": 3,
   "id": "f0c0f43b",
   "metadata": {
    "pycharm": {
     "name": "#%%\n"
    }
   },
   "outputs": [
    {
     "data": {
      "text/plain": "    index  record_id      icpc_codes  \\\n0       0      10112  ['K85', 'P76']   \n5       5     101708  ['K84', 'Y08']   \n8       8     111911  ['B80', 'D18']   \n9       9      11105         ['L05']   \n11     11      91510  ['K86', 'R96']   \n\n                                           pt_records transcript__start_date  \\\n0   [{'date': datetime.datetime(2014, 8, 13, 0, 0)...    2014-06-16 10:33:28   \n5   [{'date': datetime.datetime(2015, 4, 24, 0, 0)...    2015-02-24 12:39:49   \n8   [{'date': datetime.datetime(2015, 7, 21, 0, 0)...    2015-04-28 10:48:20   \n9   [{'date': datetime.datetime(2015, 2, 23, 0, 0)...    2014-12-08 10:50:34   \n11  [{'date': datetime.datetime(2015, 3, 27, 0, 0)...    2015-01-14 16:45:30   \n\n   transcript__duration                           transcript__conversation  \\\n0               0:16:17  [('GP', 'How are you sir?'), ('Patient', \"I'm ...   \n5               0:18:49  [('PAT', 'He was supposed to come in and take ...   \n8               0:11:01  [('DOC', 'Hi, I am Doctor Name thanks for wait...   \n9               0:09:09  [('Doc', \"Good morning, I'm Dr Name. 011105, w...   \n11              0:07:22  [('DOC', \"Turn this on. That's it. Number 0915...   \n\n     codes                     transcript__conversation_clean  \\\n0   [K, P]  [[GP, sir?], [Patient, i'm bad moment actually...   \n5   [K, Y]  [[PAT, supposed come take ___], [info, 0:00:01...   \n8   [B, D]  [[DOC, hi, doctor name thanks waiting. doing, ...   \n9      [L]  [[Doc, good morning, i'm dr name. 011105, well...   \n11  [K, R]  [[DOC, turn on. that's it. number 091510. that...   \n\n                        transcript__conversation_both  \\\n0   sir? i'm bad moment actually. right, okay good...   \n5   supposed come take ___ , ___. yes, that's alri...   \n8   hi, doctor name thanks waiting. doing, help? a...   \n9   good morning, i'm dr name. 011105, well done, ...   \n11  turn on. that's it. number 091510. that's you....   \n\n                          transcript__conversation_gp  \\\n0   sir? right, okay good. prednisolone. okay. yes...   \n5   yes, that's alright you. seat. patient 101708....   \n8   hi, doctor name thanks waiting. doing, help? o...   \n9   good morning, i'm dr name. 011105, well done, ...   \n11  turn on. that's it. number 091510. that's you....   \n\n                     transcript__conversation_patient  \n0   i'm bad moment actually. thought i'd come touc...  \n5   supposed come take ___ , ___. okay. reason i'v...  \n8   alright thank you. last friday went give blood...  \n9   pardon? think have, no. well, started saturday...  \n11  bad. went southmead last week get result test ...  ",
      "text/html": "<div>\n<style scoped>\n    .dataframe tbody tr th:only-of-type {\n        vertical-align: middle;\n    }\n\n    .dataframe tbody tr th {\n        vertical-align: top;\n    }\n\n    .dataframe thead th {\n        text-align: right;\n    }\n</style>\n<table border=\"1\" class=\"dataframe\">\n  <thead>\n    <tr style=\"text-align: right;\">\n      <th></th>\n      <th>index</th>\n      <th>record_id</th>\n      <th>icpc_codes</th>\n      <th>pt_records</th>\n      <th>transcript__start_date</th>\n      <th>transcript__duration</th>\n      <th>transcript__conversation</th>\n      <th>codes</th>\n      <th>transcript__conversation_clean</th>\n      <th>transcript__conversation_both</th>\n      <th>transcript__conversation_gp</th>\n      <th>transcript__conversation_patient</th>\n    </tr>\n  </thead>\n  <tbody>\n    <tr>\n      <th>0</th>\n      <td>0</td>\n      <td>10112</td>\n      <td>['K85', 'P76']</td>\n      <td>[{'date': datetime.datetime(2014, 8, 13, 0, 0)...</td>\n      <td>2014-06-16 10:33:28</td>\n      <td>0:16:17</td>\n      <td>[('GP', 'How are you sir?'), ('Patient', \"I'm ...</td>\n      <td>[K, P]</td>\n      <td>[[GP, sir?], [Patient, i'm bad moment actually...</td>\n      <td>sir? i'm bad moment actually. right, okay good...</td>\n      <td>sir? right, okay good. prednisolone. okay. yes...</td>\n      <td>i'm bad moment actually. thought i'd come touc...</td>\n    </tr>\n    <tr>\n      <th>5</th>\n      <td>5</td>\n      <td>101708</td>\n      <td>['K84', 'Y08']</td>\n      <td>[{'date': datetime.datetime(2015, 4, 24, 0, 0)...</td>\n      <td>2015-02-24 12:39:49</td>\n      <td>0:18:49</td>\n      <td>[('PAT', 'He was supposed to come in and take ...</td>\n      <td>[K, Y]</td>\n      <td>[[PAT, supposed come take ___], [info, 0:00:01...</td>\n      <td>supposed come take ___ , ___. yes, that's alri...</td>\n      <td>yes, that's alright you. seat. patient 101708....</td>\n      <td>supposed come take ___ , ___. okay. reason i'v...</td>\n    </tr>\n    <tr>\n      <th>8</th>\n      <td>8</td>\n      <td>111911</td>\n      <td>['B80', 'D18']</td>\n      <td>[{'date': datetime.datetime(2015, 7, 21, 0, 0)...</td>\n      <td>2015-04-28 10:48:20</td>\n      <td>0:11:01</td>\n      <td>[('DOC', 'Hi, I am Doctor Name thanks for wait...</td>\n      <td>[B, D]</td>\n      <td>[[DOC, hi, doctor name thanks waiting. doing, ...</td>\n      <td>hi, doctor name thanks waiting. doing, help? a...</td>\n      <td>hi, doctor name thanks waiting. doing, help? o...</td>\n      <td>alright thank you. last friday went give blood...</td>\n    </tr>\n    <tr>\n      <th>9</th>\n      <td>9</td>\n      <td>11105</td>\n      <td>['L05']</td>\n      <td>[{'date': datetime.datetime(2015, 2, 23, 0, 0)...</td>\n      <td>2014-12-08 10:50:34</td>\n      <td>0:09:09</td>\n      <td>[('Doc', \"Good morning, I'm Dr Name. 011105, w...</td>\n      <td>[L]</td>\n      <td>[[Doc, good morning, i'm dr name. 011105, well...</td>\n      <td>good morning, i'm dr name. 011105, well done, ...</td>\n      <td>good morning, i'm dr name. 011105, well done, ...</td>\n      <td>pardon? think have, no. well, started saturday...</td>\n    </tr>\n    <tr>\n      <th>11</th>\n      <td>11</td>\n      <td>91510</td>\n      <td>['K86', 'R96']</td>\n      <td>[{'date': datetime.datetime(2015, 3, 27, 0, 0)...</td>\n      <td>2015-01-14 16:45:30</td>\n      <td>0:07:22</td>\n      <td>[('DOC', \"Turn this on. That's it. Number 0915...</td>\n      <td>[K, R]</td>\n      <td>[[DOC, turn on. that's it. number 091510. that...</td>\n      <td>turn on. that's it. number 091510. that's you....</td>\n      <td>turn on. that's it. number 091510. that's you....</td>\n      <td>bad. went southmead last week get result test ...</td>\n    </tr>\n  </tbody>\n</table>\n</div>"
     },
     "execution_count": 3,
     "metadata": {},
     "output_type": "execute_result"
    }
   ],
   "source": [
    "from skmultilearn.model_selection import iterative_train_test_split\n",
    "\n",
    "X = np.arange(orig_dataset['index'].shape[0]).reshape((-1, 1))\n",
    "\n",
    "X_train, y_train, X_test, y_test = iterative_train_test_split(X, y_hot, test_size=0.2)\n",
    "\n",
    "train_set = orig_dataset.iloc[X_train.flatten()]\n",
    "test_set = orig_dataset.iloc[X_test.flatten()]\n",
    "train_set.head()"
   ]
  },
  {
   "cell_type": "markdown",
   "id": "f44e8574",
   "metadata": {
    "pycharm": {
     "name": "#%% md\n"
    }
   },
   "source": [
    "## ICPC descriptions"
   ]
  },
  {
   "cell_type": "code",
   "execution_count": 4,
   "id": "6de7bd1b",
   "metadata": {
    "pycharm": {
     "name": "#%%\n"
    }
   },
   "outputs": [
    {
     "data": {
      "text/plain": "interactive(children=(Dropdown(description='mode', options=('ICPC only', 'CKS only', 'ICPC and CKS'), value='I…",
      "application/vnd.jupyter.widget-view+json": {
       "version_major": 2,
       "version_minor": 0,
       "model_id": "a3cc8b1ce9ef4b078e392aaabe1582cc"
      }
     },
     "metadata": {},
     "output_type": "display_data"
    },
    {
     "data": {
      "text/plain": "<function __main__.control_description(mode='ICPC only')>"
     },
     "execution_count": 4,
     "metadata": {},
     "output_type": "execute_result"
    }
   ],
   "source": [
    "selected_mode = None\n",
    "modes = ['ICPC only', 'CKS only', 'ICPC and CKS']\n",
    "def control_description(mode=modes[0]):\n",
    "    global selected_mode\n",
    "    selected_mode = mode\n",
    "\n",
    "interact(control_description, mode=modes)"
   ]
  },
  {
   "cell_type": "code",
   "execution_count": 5,
   "id": "8032abed",
   "metadata": {},
   "outputs": [
    {
     "data": {
      "text/plain": "'ICPC only'"
     },
     "execution_count": 5,
     "metadata": {},
     "output_type": "execute_result"
    }
   ],
   "source": [
    "selected_mode"
   ]
  },
  {
   "cell_type": "code",
   "execution_count": 6,
   "id": "319ecbc0",
   "metadata": {
    "pycharm": {
     "name": "#%% combine the two\n"
    }
   },
   "outputs": [
    {
     "name": "stdout",
     "output_type": "stream",
     "text": [
      "dataset categories: ['A' 'B' 'D' 'F' 'H' 'K' 'L' 'N' 'P' 'R' 'S' 'T' 'U' 'W' 'X' 'Y']\n",
      "icpc descriptions:  ['A' 'B' 'D' 'F' 'H' 'K' 'L' 'N' 'P' 'R' 'S' 'T' 'U' 'W' 'X' 'Y']\n",
      "Description: ICPC only\n"
     ]
    }
   ],
   "source": [
    "from prepare_data import load_descriptions\n",
    "description_corpus = load_descriptions(selected_mode, mult_lbl_enc)"
   ]
  },
  {
   "cell_type": "markdown",
   "id": "18e2f127",
   "metadata": {
    "pycharm": {
     "name": "#%% md\n"
    }
   },
   "source": [
    "## Bag of words classifiers\n",
    "\n",
    "**Tf-idf from ICPC codes**\n",
    "\n",
    "- extract keyword/ keyphrases from ICPC code descriptions\n",
    " - use three columns (inclusion/ preferred and criteria)\n",
    "\n",
    "- OR, with TF-iDF, assign a score to every word (or bigram) in the utterance,\n",
    "filter those with only high scores\n",
    "\n",
    "- For each utterance in a transcript, count the number of keyword or phrase matches for each ICPC code.\n",
    "- If number of matches > threshold, assign ICPC code"
   ]
  },
  {
   "cell_type": "markdown",
   "id": "15d987e4",
   "metadata": {
    "pycharm": {
     "name": "#%% md\n"
    }
   },
   "source": [
    "One might want to modify the list of stopwords to eliminate from the tf-idf vocabulary,\n",
    "or might impose a limit of the number of features to reduce unwanted words/ bi-grams."
   ]
  },
  {
   "cell_type": "code",
   "execution_count": 224,
   "id": "0405f32d",
   "metadata": {
    "pycharm": {
     "name": "#%%\n"
    }
   },
   "outputs": [
    {
     "data": {
      "text/plain": "interactive(children=(Checkbox(value=True, description='m'), Checkbox(value=True, description='c'), Checkbox(v…",
      "application/vnd.jupyter.widget-view+json": {
       "version_major": 2,
       "version_minor": 0,
       "model_id": "e3e1e1d30ffe4d5ead0e96ac63b9c08d"
      }
     },
     "metadata": {},
     "output_type": "display_data"
    },
    {
     "data": {
      "text/plain": "<function __main__.set_stopwords(m, c, e)>"
     },
     "execution_count": 224,
     "metadata": {},
     "output_type": "execute_result"
    }
   ],
   "source": [
    "from utils.stopwords import get_medical_stopwords, get_custom_stopwords, get_english_stopwords\n",
    "medical_stopwords = get_medical_stopwords()\n",
    "custom_stopwords = get_custom_stopwords()\n",
    "english_stopwords = get_english_stopwords()\n",
    "\n",
    "use_med, use_cus, use_eng = False, False, False\n",
    "stopwords = []\n",
    "\n",
    "def update_stopwords():\n",
    "    global stopwords\n",
    "    stopwords = []\n",
    "    if use_med:\n",
    "        stopwords += medical_stopwords\n",
    "    if use_cus:\n",
    "        stopwords += custom_stopwords\n",
    "    if use_eng:\n",
    "        stopwords += english_stopwords\n",
    "    # display(f\"number of stopwords: {len(stopwords)}\")\n",
    "\n",
    "def set_stopwords(m,c,e):\n",
    "    global use_med, use_cus, use_eng\n",
    "    use_med = m\n",
    "    use_cus = c\n",
    "    use_eng = e\n",
    "    update_stopwords()\n",
    "\n",
    "interact(set_stopwords, m=True, c=True, e=False)"
   ]
  },
  {
   "cell_type": "code",
   "execution_count": 175,
   "id": "e9f0aaa4",
   "metadata": {
    "pycharm": {
     "name": "#%%\n"
    }
   },
   "outputs": [
    {
     "name": "stderr",
     "output_type": "stream",
     "text": [
      "/Users/es1595/opt/anaconda3/envs/py39/lib/python3.9/site-packages/sklearn/feature_extraction/text.py:388: UserWarning: Your stop_words may be inconsistent with your preprocessing. Tokenizing the stop words generated tokens ['counter', 'effects'] not in stop_words.\n",
      "  warnings.warn('Your stop_words may be inconsistent with '\n"
     ]
    }
   ],
   "source": [
    "from sklearn.feature_extraction.text import TfidfVectorizer\n",
    "\n",
    "def get_description_vectors(description_corpus, stopwords):\n",
    "    max_features=5000\n",
    "\n",
    "    text_vectorizer = TfidfVectorizer(ngram_range=(1,2), stop_words=stopwords, max_features=max_features)\n",
    "    description_vec = text_vectorizer.fit_transform(description_corpus)\n",
    "    # print(f\"icpc description bag-of-word matrix shape: {description_vec.shape}\")\n",
    "    vec_vocab = text_vectorizer.vocabulary_ # dictionary that contain the BOW tokens\n",
    "\n",
    "    # print(f\"bag-of-word tokens: {', '.join(list(vec_vocab.keys())[:5])}...\")\n",
    "    # print(f\"vocabulary size: {len(vec_vocab)}\")\n",
    "\n",
    "    return description_vec, text_vectorizer\n",
    "\n",
    "description_vec, text_vectorizer = get_description_vectors(description_corpus, stopwords)"
   ]
  },
  {
   "cell_type": "code",
   "execution_count": 176,
   "id": "0910dd48",
   "metadata": {
    "pycharm": {
     "name": "#%%\n"
    }
   },
   "outputs": [
    {
     "data": {
      "text/plain": "Text(0.5, 1.0, 'bag-of-words Vector')"
     },
     "execution_count": 176,
     "metadata": {},
     "output_type": "execute_result"
    },
    {
     "data": {
      "text/plain": "<Figure size 432x288 with 1 Axes>",
      "image/png": "[encoded data removed]"
     },
     "metadata": {
      "needs_background": "light"
     },
     "output_type": "display_data"
    }
   ],
   "source": [
    "import seaborn as sns\n",
    "sns.heatmap(description_vec.todense()==0, vmin=0, vmax=1, cbar=False).set_title('bag-of-words Vector')"
   ]
  },
  {
   "cell_type": "code",
   "execution_count": 177,
   "id": "218eb77a",
   "metadata": {
    "pycharm": {
     "name": "#%%\n"
    }
   },
   "outputs": [],
   "source": [
    "# from wordcloud import WordCloud\n",
    "# test_vec = description_vec[1].todense()\n",
    "# col_names = np.array(text_vectorizer.get_feature_names())\n",
    "# test = pd.DataFrame(test_vec, columns=col_names).T.to_dict()[0]\n",
    "# print(test)\n",
    "# word_cloud = WordCloud(background_color=\"white\").generate_from_frequencies(test)\n",
    "# plt.imshow(word_cloud)"
   ]
  },
  {
   "cell_type": "code",
   "execution_count": 178,
   "id": "a52ba2e7",
   "metadata": {
    "pycharm": {
     "name": "#%%\n"
    }
   },
   "outputs": [
    {
     "data": {
      "text/plain": "interactive(children=(Dropdown(description='cat', options=('A', 'B', 'D', 'F', 'H', 'K', 'L', 'N', 'P', 'R', '…",
      "application/vnd.jupyter.widget-view+json": {
       "version_major": 2,
       "version_minor": 0,
       "model_id": "227238ca32a74ccfa9462ea9ee1e3dbc"
      }
     },
     "metadata": {},
     "output_type": "display_data"
    },
    {
     "data": {
      "text/plain": "<function __main__.plot_explain_category(cat: str)>"
     },
     "execution_count": 178,
     "metadata": {},
     "output_type": "execute_result"
    }
   ],
   "source": [
    "from wordcloud import WordCloud\n",
    "\n",
    "# Explain a category\n",
    "\n",
    "lookup = [x for _,x in sorted(zip(text_vectorizer.vocabulary_.values(), text_vectorizer.vocabulary_.keys()))]\n",
    "features_arr = np.array(text_vectorizer.get_feature_names())\n",
    "\n",
    "def explain_bow_vector(vec: scipy.sparse.csr.csr_matrix, ax=plt):\n",
    "    # _, idxs = scipy.sparse.csr_matrix.nonzero(vec)\n",
    "    # words = [lookup[k] for k in idxs]\n",
    "    # word_cloud = WordCloud().generate(' '.join(words))\n",
    "    test = pd.DataFrame(vec.todense(), columns=features_arr).T.to_dict()[0]\n",
    "    word_cloud = WordCloud(background_color=\"white\").generate_from_frequencies(test)\n",
    "    ax.imshow(word_cloud, interpolation='bilinear')\n",
    "    ax.axis(\"off\")\n",
    "\n",
    "def explain_category(cat:str, ax=plt):\n",
    "    target = list(mult_lbl_enc.classes_).index(cat)\n",
    "    target = description_vec[target]\n",
    "    explain_bow_vector(target, ax=ax)\n",
    "\n",
    "def plot_explain_category(cat:str):\n",
    "    explain_category(cat)\n",
    "\n",
    "interact(plot_explain_category, cat=mult_lbl_enc.classes_)"
   ]
  },
  {
   "cell_type": "code",
   "execution_count": 179,
   "id": "ebe627be",
   "metadata": {
    "pycharm": {
     "name": "#%%\n"
    }
   },
   "outputs": [],
   "source": [
    "key = 'transcript__conversation_both'\n",
    "# key = 'transcript__conversation_gp'\n",
    "# key = 'transcript__conversation_patient'\n",
    "\n",
    "X_train = text_vectorizer.transform(train_set[key])\n",
    "X_test = text_vectorizer.transform(test_set[key])"
   ]
  },
  {
   "cell_type": "code",
   "execution_count": 180,
   "id": "3196f0e6",
   "metadata": {
    "pycharm": {
     "name": "#%%\n"
    }
   },
   "outputs": [
    {
     "data": {
      "text/plain": "Text(0.5, 1.0, 'Train set bag-of-words matrix')"
     },
     "execution_count": 180,
     "metadata": {},
     "output_type": "execute_result"
    },
    {
     "data": {
      "text/plain": "<Figure size 432x288 with 1 Axes>",
      "image/png": "[encoded data removed]"
     },
     "metadata": {
      "needs_background": "light"
     },
     "output_type": "display_data"
    }
   ],
   "source": [
    "# import seaborn as sns\n",
    "sns.heatmap(X_train.todense()==0, vmin=0, vmax=1, cbar=False).set_title('Train set bag-of-words matrix')"
   ]
  },
  {
   "cell_type": "code",
   "execution_count": 181,
   "id": "5c4785ad",
   "metadata": {
    "pycharm": {
     "name": "#%%\n"
    }
   },
   "outputs": [
    {
     "data": {
      "text/plain": "<Figure size 576x288 with 1 Axes>",
      "image/png": "[encoded data removed]"
     },
     "metadata": {
      "needs_background": "light"
     },
     "output_type": "display_data"
    },
    {
     "name": "stdout",
     "output_type": "stream",
     "text": [
      "['breathing', 'within', 'together', 'particular', 'kidney', 'hearing', 'joint', 'area', 'ill', 'iron', 'possible', 'skin', 'infection', 'nose', 'either', 'mood', 'hours', 'throat', 'cold', 'situation', 'family', 'vitamin', 'stick', 'urine', 'health', 'arthritis', 'food', 'operation', 'anxiety', 'level', 'rest', 'asthma', 'inflammatory', 'trouble', 'shoulder', 'neck', 'risk', 'nerve', 'otherwise', 'old', 'short', 'bone', 'breath', 'exercise', 'eye', 'painful', 'muscle', 'years', 'change', 'eating', 'case', 'eat', 'foot', 'bowel', 'heart', 'knee', 'move', 'part', 'sore', 'particularly', 'hour', 'cough', 'head', 'hand', 'ear', 'leg', 'stomach', 'sick', 'chest', 'sleep', 'pressure', 'sound', 'pain', 'blood pressure', 'blood']\n"
     ]
    }
   ],
   "source": [
    "keyword_dist_over_train = np.array(X_train.sum(axis=0)).flatten()\n",
    "\n",
    "def show_common_keywords(threshold:int = 3):\n",
    "    frequent_words = [[k,n] for k,n in zip(lookup, keyword_dist_over_train) if n > threshold]\n",
    "    frequent_words_df = pd.DataFrame(frequent_words,columns=['keyword', 'count']).sort_values('count')\n",
    "\n",
    "    plt.figure(figsize=(8,4))\n",
    "    ax = sns.barplot(x='keyword', y='count', data=frequent_words_df)\n",
    "    ax.set_xticklabels(ax.get_xticklabels(), rotation=40, ha=\"right\")\n",
    "    plt.tight_layout()\n",
    "    plt.show()\n",
    "\n",
    "    print([k._text for k in ax.get_xticklabels()])\n",
    "\n",
    "show_common_keywords()"
   ]
  },
  {
   "cell_type": "markdown",
   "id": "f8344d8f",
   "metadata": {
    "pycharm": {
     "name": "#%% md\n"
    }
   },
   "source": [
    "### Nearest Centroid classifier"
   ]
  },
  {
   "cell_type": "code",
   "execution_count": 184,
   "id": "417bc9c7",
   "metadata": {
    "pycharm": {
     "name": "#%%\n"
    }
   },
   "outputs": [
    {
     "name": "stdout",
     "output_type": "stream",
     "text": [
      "0.36822583671132025\n"
     ]
    },
    {
     "data": {
      "text/plain": "0.3714676513494131"
     },
     "execution_count": 184,
     "metadata": {},
     "output_type": "execute_result"
    }
   ],
   "source": [
    "from sklearn.neighbors import NearestCentroid\n",
    "from sklearn.neighbors import KNeighborsClassifier\n",
    "\n",
    "\n",
    "def run_nearest_centroid(description_vec, mult_lbl_enc, X_test):\n",
    "    nc_clf = NearestCentroid(metric='euclidean')\n",
    "    nc_clf.fit(description_vec, mult_lbl_enc.classes_)\n",
    "    y_pred = nc_clf.predict(X_test)\n",
    "\n",
    "    y_pred_mat = np.matrix(mult_lbl_enc.transform(y_pred))\n",
    "\n",
    "    return y_pred_mat\n",
    "\n",
    "y_pred_mat = run_nearest_centroid(description_vec, mult_lbl_enc, X_train)\n",
    "print(evaluate_classifications(y_train, y_pred_mat, mult_lbl_enc.classes_))\n",
    "\n",
    "def run_distance_classifier(description_vec, X_train, y_train, X_test):\n",
    "\n",
    "    kn_clf = KNeighborsClassifier(n_neighbors=5, weights='distance', metric='cosine')\n",
    "    kn_clf.fit(description_vec, mult_lbl_enc.classes_)\n",
    "\n",
    "    max_acc = 0\n",
    "    threshold = 0.8\n",
    "    best_threshold = 0\n",
    "    while threshold <= 1:\n",
    "        y_dists, y_pred = kn_clf.kneighbors(X_train, 3)\n",
    "        y_tr_pred = np.zeros((X_train.shape[0], y_train.shape[1]))\n",
    "        for i in range(y_tr_pred.shape[0]):\n",
    "            y_tr_pred[i, y_pred[i]] = (y_dists[i] < threshold).astype(int)\n",
    "\n",
    "        acc = f1_score(y_train, y_tr_pred, average='micro')\n",
    "        # print(f'F1: {acc}, threshold: {threshold}')\n",
    "\n",
    "        if acc > max_acc:\n",
    "            max_acc = acc\n",
    "            best_threshold = threshold\n",
    "        threshold += 0.01\n",
    "\n",
    "    # print('predicting...')\n",
    "    y_dists, y_pred = kn_clf.kneighbors(X_test, 3)\n",
    "    y_pred_mat = np.zeros((X_test.shape[0], y_train.shape[1]))\n",
    "    for i in range(y_pred.shape[0]):\n",
    "        y_pred_mat[i, y_pred[i][0]] = (y_dists[i][0] < best_threshold).astype(int)\n",
    "\n",
    "    # dists = cosine_similarity(X_train, description_vec)\n",
    "    # print(dists)\n",
    "\n",
    "    #\n",
    "    # dists = cosine_similarity(X_test, description_vec)\n",
    "    # y_pred_mat = dists > best_threshold\n",
    "\n",
    "    return y_pred_mat\n",
    "\n",
    "y_pred_mat = run_distance_classifier(description_vec, X_train, y_train, X_train)\n",
    "evaluate_classifications(y_train, y_pred_mat, mult_lbl_enc.classes_)"
   ]
  },
  {
   "cell_type": "code",
   "execution_count": 55,
   "id": "88a5848b",
   "metadata": {},
   "outputs": [
    {
     "data": {
      "text/plain": "interactive(children=(Dropdown(description='code', options=('A', 'B', 'D', 'F', 'H', 'K', 'L', 'N', 'P', 'R', …",
      "application/vnd.jupyter.widget-view+json": {
       "version_major": 2,
       "version_minor": 0,
       "model_id": "0c8151515531483e9b3ec66e6fe673cb"
      }
     },
     "metadata": {},
     "output_type": "display_data"
    },
    {
     "data": {
      "text/plain": "<function __main__.show_truth_pred_tbl(code)>"
     },
     "execution_count": 55,
     "metadata": {},
     "output_type": "execute_result"
    }
   ],
   "source": [
    "def get_idxes_with_cat(_y_train: np.ndarray, code:str):\n",
    "    y_train_raw = mult_lbl_enc.inverse_transform(_y_train)\n",
    "    return [i for i,cs in enumerate(y_train_raw) if code in cs]\n",
    "\n",
    "def get_truth_pred_pairs(_y_train, _y_pred, indices):\n",
    "    truth = mult_lbl_enc.inverse_transform(_y_train[indices])\n",
    "    pred = _y_pred[indices]\n",
    "    data = list(zip(indices, truth, pred))\n",
    "    return pd.DataFrame(data, columns=['id', 'truth', 'predicted'])\n",
    "\n",
    "def show_truth_pred_tbl(code):\n",
    "    cat_idxes = get_idxes_with_cat(y_train, code)\n",
    "    return get_truth_pred_pairs(y_train, y_pred, cat_idxes)\n",
    "\n",
    "interact(show_truth_pred_tbl, code=mult_lbl_enc.classes_)"
   ]
  },
  {
   "cell_type": "markdown",
   "id": "a209ba5c",
   "metadata": {
    "pycharm": {
     "name": "#%% md\n"
    }
   },
   "source": [
    "Seems like the baseline is not performing well on predicting classes for:\n",
    "\n",
    "A, F, N, S, T, W, X, Y"
   ]
  },
  {
   "cell_type": "code",
   "execution_count": 30,
   "id": "3dd9f4eb",
   "metadata": {
    "pycharm": {
     "name": "#%%\n"
    }
   },
   "outputs": [
    {
     "data": {
      "text/plain": "interactive(children=(Dropdown(description='_cat', options=('A', 'B', 'D', 'F', 'H', 'K', 'L', 'N', 'P', 'R', …",
      "application/vnd.jupyter.widget-view+json": {
       "version_major": 2,
       "version_minor": 0,
       "model_id": "5df230e92e4a4aa2b73f5c021f43d310"
      }
     },
     "metadata": {},
     "output_type": "display_data"
    },
    {
     "data": {
      "text/plain": "<function __main__.view_record(_cat, _id)>"
     },
     "execution_count": 30,
     "metadata": {},
     "output_type": "execute_result"
    }
   ],
   "source": [
    "from sklearn.metrics.pairwise import cosine_similarity\n",
    "\n",
    "cat_dropdown = widgets.Dropdown(options=mult_lbl_enc.classes_)\n",
    "id_dropdown = widgets.Dropdown(options=get_idxes_with_cat(y_train, cat_dropdown.value))\n",
    "\n",
    "def refresh_id_dropdown(*args):\n",
    "    id_dropdown.options = get_idxes_with_cat(y_train, cat_dropdown.value)\n",
    "\n",
    "cat_dropdown.observe(refresh_id_dropdown, 'value')\n",
    "\n",
    "def show_cosine_similarity(_id):\n",
    "    cos_sim = cosine_similarity(X_train[_id], description_vec)[0]\n",
    "    cos_sim = pd.DataFrame(list(zip(mult_lbl_enc.classes_, cos_sim)), columns=['category', 'cos sim'])\n",
    "    cos_sim = cos_sim.set_index('category').T\n",
    "    grid_kws = {\"height_ratios\": (.9, .05), \"hspace\": -0.5}\n",
    "    f, (ax, cbar_ax) = plt.subplots(2, gridspec_kw=grid_kws)\n",
    "    sns.heatmap(cos_sim, square=True, ax=ax,\n",
    "                cbar_ax=cbar_ax,\n",
    "                cbar_kws={\"orientation\": \"horizontal\"},\n",
    "                cmap='Greens')\n",
    "\n",
    "def show_keywords_true_pred(_id):\n",
    "    fig, (ax1, ax2) = plt.subplots(1, 2, figsize=(10,5))\n",
    "    ax1.title.set_text('BOW from sample transcipt')\n",
    "    ax2.title.set_text('BOW of predicted class')\n",
    "    explain_bow_vector(X_train[_id], ax=ax1)\n",
    "    explain_category(y_pred[_id], ax=ax2)\n",
    "\n",
    "def view_record(_cat, _id):\n",
    "    global test\n",
    "    record = train_set.iloc[_id]\n",
    "    info = [f\"Index: {_id}\",\n",
    "           f\"Id: {record['record_id']}\",\n",
    "           f\"Actual: {mult_lbl_enc.inverse_transform(y_train[_id:_id+1])}\",\n",
    "           f\"Predicted: {y_pred[_id]}\"]\n",
    "    display(*info)\n",
    "    show_keywords_true_pred(_id)\n",
    "    show_cosine_similarity(_id)\n",
    "\n",
    "interact(view_record, _cat=cat_dropdown, _id=id_dropdown)"
   ]
  },
  {
   "cell_type": "code",
   "execution_count": 70,
   "id": "14b569de",
   "metadata": {
    "pycharm": {
     "name": "#%%\n"
    }
   },
   "outputs": [],
   "source": [
    "# y_train_mat = np.array(np.matrix(y_train))\n",
    "# y_test_mat = np.array(np.matrix(y_test))"
   ]
  },
  {
   "cell_type": "code",
   "execution_count": 100,
   "id": "57da71e4",
   "metadata": {
    "pycharm": {
     "name": "#%%\n"
    }
   },
   "outputs": [],
   "source": [
    "# Note: print statements does not work in PyCharm\n",
    "\n",
    "from sklearn.metrics import accuracy_score, classification_report, f1_score, multilabel_confusion_matrix, precision_recall_fscore_support, roc_auc_score, plot_roc_curve\n",
    "\n",
    "def evaluate_classifications(targets, predictions, class_names, show_report=False):\n",
    "    \"\"\"\n",
    "    Evaluates the discrete classification labels.\n",
    "    :param targets: A matrix where each row is a one-hot representation of the gold labels for the sample.\n",
    "    :param predictions: A matrix where each row is a one-hot representation of the predicted labels for the sample.\n",
    "    :param class_names: The names of the classes in an ordered list.\n",
    "    :return:\n",
    "    \"\"\"\n",
    "\n",
    "    keepclasses = np.any(targets, axis=0)\n",
    "    targets = targets[:, keepclasses]\n",
    "    predictions = predictions[:, keepclasses]\n",
    "\n",
    "    if show_report:\n",
    "        print(f\"classification_report:\\n{classification_report(targets, predictions, target_names=class_names, zero_division=0)}\")\n",
    "\n",
    "    return f1_score(targets, predictions, average='macro')\n",
    "\n",
    "\n",
    "def evaluate_probabilities(targets, predictions):\n",
    "    \"\"\"\n",
    "    Evaluates the probabilities output by a classifier using the ROC curve.\n",
    "    :param targets: A matrix where each row is a one-hot representation of the gold labels for the sample.\n",
    "    :param predictions: A matrix where each row is a one-hot representation of the predicted labels for the sample.\n",
    "    :return:\n",
    "    \"\"\"\n",
    "\n",
    "    keepclasses = np.any(targets, axis=0)\n",
    "    targets = targets[:, keepclasses]\n",
    "    predictions = predictions[:, keepclasses]\n",
    "\n",
    "    auroc = roc_auc_score(targets, predictions, average='macro') # [:, keepclasses], predictions[:, keepclasses])\n",
    "    # print(f'area under ROC curve: {auroc}')\n",
    "\n",
    "    return auroc\n",
    "\n",
    "evaluate_classifications(y_train_mat, y_pred_mat, mult_lbl_enc.classes_)\n",
    "\n",
    "def plot_multilabel_conf_matrix(targets, predictions):\n",
    "    print(f\"multilabel_confusion_matrix:\")\n",
    "    conf_mat = multilabel_confusion_matrix(targets, predictions)\n",
    "\n",
    "    for cls, mat in zip(mult_lbl_enc.classes_, conf_mat):\n",
    "        fig = plt.figure(figsize=(1,1))\n",
    "        ax = fig.add_subplot()\n",
    "        ax.set_title(cls)\n",
    "        sns.heatmap(mat, ax=ax, cmap='Blues', annot=True, fmt=\"d\")\n",
    "        ax.set_xlabel('pred')\n",
    "        ax.set_ylabel('true')\n",
    "        fig.show()\n",
    "\n",
    "# plot_multilabel_conf_matrix(y_train_mat, y_pred_mat)"
   ]
  },
  {
   "cell_type": "markdown",
   "id": "c90dbae6",
   "metadata": {
    "pycharm": {
     "name": "#%% md\n"
    }
   },
   "source": [
    "For `average` parameter to take the average metrics over all classes, please see [documentation](https://scikit-learn.org/stable/modules/model_evaluation.html#from-binary-to-multiclass-and-multilabel)."
   ]
  },
  {
   "cell_type": "markdown",
   "source": [
    "## Binary Naive Bayes Classifier"
   ],
   "metadata": {
    "collapsed": false,
    "pycharm": {
     "name": "#%% md\n"
    }
   }
  },
  {
   "cell_type": "code",
   "execution_count": 20,
   "id": "c76bead7",
   "metadata": {},
   "outputs": [],
   "source": [
    "from sklearn.naive_bayes import MultinomialNB"
   ]
  },
  {
   "cell_type": "code",
   "execution_count": 115,
   "id": "0fbd55fa",
   "metadata": {},
   "outputs": [
    {
     "name": "stdout",
     "output_type": "stream",
     "text": [
      "0.8899971488177463\n",
      "0.9681688906407542\n"
     ]
    }
   ],
   "source": [
    "def run_binary_naive_bayes(X_train, y_train, X_test):\n",
    "    nclasses = y_train.shape[1]\n",
    "\n",
    "    y_pred_mat = np.zeros((X_test.shape[0], nclasses))\n",
    "    y_pred_probs = np.zeros((X_test.shape[0], nclasses))\n",
    "\n",
    "    for c in range(nclasses):\n",
    "        # iterate over the classes and make a classifier for each class\n",
    "\n",
    "        # skip classes with no test instances!\n",
    "        if not np.any(y_test[:, c]):\n",
    "            continue\n",
    "\n",
    "        clf = MultinomialNB(alpha=0.001)\n",
    "        clf.fit(X_train, y_train[:, c])\n",
    "\n",
    "        y_te_pred_c = clf.predict(X_test)\n",
    "        # y_pred_mat[:, c] = y_te_pred_c\n",
    "\n",
    "        y_pred_probs[:, c] = clf.predict_proba(X_test)[:, 1]\n",
    "        y_pred_mat[:, c] = y_pred_probs[:, c] > 0.1\n",
    "\n",
    "    return y_pred_mat, y_pred_probs\n",
    "\n",
    "y_pred_mat, y_pred_probs = run_binary_naive_bayes(X_train, y_train, X_train)  # performance on training set\n",
    "print(evaluate_classifications(y_train_mat, y_pred_mat, mult_lbl_enc.classes_))\n",
    "print(evaluate_probabilities(y_train_mat, y_pred_probs))"
   ]
  },
  {
   "cell_type": "markdown",
   "source": [
    "## Multiclass Naïve Bayes Classifier"
   ],
   "metadata": {
    "collapsed": false,
    "pycharm": {
     "name": "#%% md\n"
    }
   }
  },
  {
   "cell_type": "code",
   "execution_count": 22,
   "id": "7513251d",
   "metadata": {},
   "outputs": [
    {
     "name": "stdout",
     "output_type": "stream",
     "text": [
      "classification_report:\n",
      "              precision    recall  f1-score   support\n",
      "\n",
      "           A       0.74      1.00      0.85        14\n",
      "           B       0.86      1.00      0.92         6\n",
      "           D       0.86      0.83      0.85        30\n",
      "           F       1.00      1.00      1.00         3\n",
      "           H       1.00      0.88      0.93         8\n",
      "           K       0.69      0.82      0.75        22\n",
      "           L       0.86      0.83      0.84        52\n",
      "           N       1.00      0.40      0.57        10\n",
      "           P       0.93      0.71      0.81        38\n",
      "           R       0.95      0.67      0.78        27\n",
      "           S       1.00      0.48      0.65        23\n",
      "           T       0.86      0.43      0.57        14\n",
      "           U       1.00      0.38      0.55        16\n",
      "           W       1.00      0.40      0.57        10\n",
      "           X       1.00      0.33      0.50         9\n",
      "           Y       1.00      0.17      0.29         6\n",
      "\n",
      "   micro avg       0.87      0.68      0.76       288\n",
      "   macro avg       0.92      0.64      0.71       288\n",
      "weighted avg       0.90      0.68      0.75       288\n",
      " samples avg       0.93      0.79      0.82       288\n",
      "\n",
      "area under ROC curve: 0.8248392258837409\n"
     ]
    }
   ],
   "source": [
    "def run_multiclass_naive_bayes(X_train, y_train, X_test):\n",
    "    clf = MultinomialNB(alpha=0.001, fit_prior=False)\n",
    "    clf.fit(X_train, np.argmax(y_train, 1))\n",
    "\n",
    "    y_pred_probs = clf.predict_proba(X_test)\n",
    "\n",
    "    y_pred_mat = y_pred_probs > 0.1\n",
    "\n",
    "    return y_pred_mat, y_pred_probs\n",
    "\n",
    "y_pred_mat, y_pred_probs = run_multiclass_naive_bayes(X_train, y_train, X_train)\n",
    "evaluate_classifications(y_train_mat, y_pred_mat, mult_lbl_enc.classes_)\n",
    "evaluate_probabilities(y_train_mat, y_pred_probs)"
   ]
  },
  {
   "cell_type": "markdown",
   "source": [
    "## SVM Classifier"
   ],
   "metadata": {
    "collapsed": false,
    "pycharm": {
     "name": "#%% md\n"
    }
   }
  },
  {
   "cell_type": "code",
   "execution_count": 66,
   "id": "e5082741",
   "metadata": {},
   "outputs": [
    {
     "data": {
      "text/plain": "0.7307841746202255"
     },
     "execution_count": 66,
     "metadata": {},
     "output_type": "execute_result"
    }
   ],
   "source": [
    "from sklearn.svm import SVC\n",
    "\n",
    "def run_svm(X_train, y_train, X_test):\n",
    "    nclasses = y_train.shape[1]\n",
    "\n",
    "    clf = SVC(kernel='poly', C=10)\n",
    "\n",
    "    clf.fit(X_train, np.argmax(y_train, 1))\n",
    "\n",
    "    y_pred = clf.predict(X_test)\n",
    "\n",
    "    y_pred_mat = np.zeros((y_pred.shape[0], nclasses))\n",
    "    y_pred_mat[np.arange(y_pred.shape[0]), y_pred] = 1\n",
    "\n",
    "    return y_pred_mat\n",
    "\n",
    "y_pred_mat = run_svm(X_train, y_train, X_train)\n",
    "evaluate_classifications(y_train_mat, y_pred_mat, mult_lbl_enc.classes_)"
   ]
  },
  {
   "cell_type": "code",
   "execution_count": 82,
   "id": "bbfc0e16",
   "metadata": {},
   "outputs": [
    {
     "data": {
      "text/plain": "0.9375"
     },
     "execution_count": 82,
     "metadata": {},
     "output_type": "execute_result"
    }
   ],
   "source": [
    "def run_binary_svm(X_train, y_train, X_test):\n",
    "    nclasses = y_train.shape[1]\n",
    "\n",
    "    y_pred_mat = np.zeros((X_test.shape[0], nclasses))\n",
    "\n",
    "    for c in range(nclasses):\n",
    "        # iterate over the classes and make a classifier for each class\n",
    "\n",
    "        # skip classes with no test instances!\n",
    "        if not np.any(y_test[:, c]):\n",
    "            continue\n",
    "\n",
    "        clf = SVC(kernel='poly', C=10)\n",
    "        clf.fit(X_train, y_train[:, c])\n",
    "\n",
    "        y_te_pred_c = clf.predict(X_test)\n",
    "        y_pred_mat[:, c] = y_te_pred_c\n",
    "\n",
    "    return y_pred_mat\n",
    "\n",
    "y_pred_mat = run_binary_svm(X_train, y_train, X_train)\n",
    "evaluate_classifications(y_train_mat, y_pred_mat, mult_lbl_enc.classes_)"
   ]
  },
  {
   "cell_type": "markdown",
   "id": "0407da9a",
   "metadata": {
    "pycharm": {
     "name": "#%% md\n"
    }
   },
   "source": [
    "## Test Different Stopwords and Descriptions"
   ]
  },
  {
   "cell_type": "code",
   "execution_count": 225,
   "outputs": [],
   "source": [
    "def run_performance_assessment(method):\n",
    "    stopword_settings = [\n",
    "         [],\n",
    "         ['m'],\n",
    "         ['c'],\n",
    "         ['e'],\n",
    "         ['m', 'c'],\n",
    "         ['m', 'e'],\n",
    "         ['c', 'e'],\n",
    "         ['m', 'c', 'e']\n",
    "    ]\n",
    "\n",
    "    description_settings = ['ICPC only', 'CKS only', 'both']\n",
    "\n",
    "    f1_matrix = np.zeros((len(stopword_settings), len(description_settings)))\n",
    "    auroc_matrix = np.zeros((len(stopword_settings), len(description_settings)))\n",
    "\n",
    "    for j, selected_mode in enumerate(description_settings):\n",
    "        description_corpus = load_descriptions(selected_mode, mult_lbl_enc)\n",
    "        for i, s in enumerate(stopword_settings):\n",
    "            set_stopwords('m' in s, 'c' in s, 'e' in s)\n",
    "            description_vec, text_vectorizer = get_description_vectors(description_corpus, stopwords)\n",
    "\n",
    "            X_train = text_vectorizer.transform(train_set[key])\n",
    "\n",
    "            if method == 'nearest centroid':\n",
    "                y_pred_mat = run_nearest_centroid(description_vec, mult_lbl_enc, X_train)  # performance on training set\n",
    "                f1_matrix[i, j] = evaluate_classifications(y_train_mat, y_pred_mat, mult_lbl_enc.classes_, show_report=False)\n",
    "            elif method == 'distance':\n",
    "                y_pred_mat = run_distance_classifier(description_vec, X_train, y_train, X_train)  # performance on training set\n",
    "                f1_matrix[i, j] = evaluate_classifications(y_train_mat, y_pred_mat, mult_lbl_enc.classes_, show_report=False)\n",
    "            elif method == 'binary NB':\n",
    "                y_pred_mat, y_pred_probs = run_binary_naive_bayes(X_train, y_train, X_train)  # performance on training set\n",
    "                f1_matrix[i, j] = evaluate_classifications(y_train_mat, y_pred_mat, mult_lbl_enc.classes_, show_report=False)\n",
    "                auroc_matrix[i, j] = evaluate_probabilities(y_train_mat, y_pred_probs)\n",
    "            elif method == 'multiclass NB':\n",
    "                y_pred_mat, y_pred_probs = run_multiclass_naive_bayes(X_train, y_train, X_train)  # performance on training set\n",
    "                f1_matrix[i, j] = evaluate_classifications(y_train_mat, y_pred_mat, mult_lbl_enc.classes_, show_report=False)\n",
    "                auroc_matrix[i, j] = evaluate_probabilities(y_train_mat, y_pred_probs)\n",
    "            elif method == 'binary SVM':\n",
    "                y_pred_mat = run_binary_svm(X_train, y_train, X_train)  # performance on training set\n",
    "                f1_matrix[i, j] = evaluate_classifications(y_train_mat, y_pred_mat, mult_lbl_enc.classes_, show_report=False)\n",
    "            elif method == 'multiclass SVM':\n",
    "                y_pred_mat = run_svm(X_train, y_train, X_train)  # performance on training set\n",
    "                f1_matrix[i, j] = evaluate_classifications(y_train_mat, y_pred_mat, mult_lbl_enc.classes_, show_report=False)\n",
    "\n",
    "    max_idx = np.unravel_index(np.argmax(f1_matrix), f1_matrix.shape)\n",
    "    best_tr_f1 = np.max(f1_matrix)\n",
    "    best_stopwords = stopword_settings[max_idx[0]]\n",
    "    best_desc = description_settings[max_idx[1]]\n",
    "    print(f'Method: {method}. The best score on the training set was {best_tr_f1} with {best_stopwords} stopwords and {best_desc} code descriptions.')\n",
    "\n",
    "    print('F1 score matrix for the different settings we tried:')\n",
    "    print(f1_matrix)\n",
    "    print(f'...rows are stopword settings, {stopword_settings}, and columns are code descriptions, {description_settings}')\n",
    "\n",
    "    # use the best settings to run the classifier on the test set\n",
    "    description_corpus = load_descriptions(selected_mode, mult_lbl_enc)\n",
    "    set_stopwords('m' in s, 'c' in s, 'e' in s)\n",
    "    description_vec, text_vectorizer = get_description_vectors(description_corpus, stopwords)\n",
    "\n",
    "    X_test = text_vectorizer.transform(test_set[key])\n",
    "\n",
    "\n",
    "\n",
    "    if method == 'nearest centroid':\n",
    "        y_pred_mat = run_nearest_centroid(description_vec, mult_lbl_enc, X_test)  # performance on training set\n",
    "        f1 = evaluate_classifications(y_test_mat, y_pred_mat, mult_lbl_enc.classes_, show_report=False)\n",
    "        auroc = evaluate_probabilities(y_test_mat, y_pred_mat)\n",
    "    elif method == 'distance':\n",
    "        y_pred_mat = run_distance_classifier(description_vec, X_train, y_train, X_test)  # performance on training set\n",
    "        f1 = evaluate_classifications(y_test_mat, y_pred_mat, mult_lbl_enc.classes_, show_report=False)\n",
    "        auroc = evaluate_probabilities(y_test_mat, y_pred_mat)\n",
    "    elif method == 'binary NB':\n",
    "        y_pred_mat, y_pred_probs = run_binary_naive_bayes(X_train, y_train, X_test)  # performance on training set\n",
    "        f1 = evaluate_classifications(y_test_mat, y_pred_mat, mult_lbl_enc.classes_, show_report=False)\n",
    "        auroc = evaluate_probabilities(y_test_mat, y_pred_probs)\n",
    "    elif method == 'multiclass NB':\n",
    "        y_pred_mat, y_pred_probs = run_multiclass_naive_bayes(X_train, y_train, X_test)  # performance on training set\n",
    "        f1 = evaluate_classifications(y_test_mat, y_pred_mat, mult_lbl_enc.classes_, show_report=False)\n",
    "        auroc = evaluate_probabilities(y_test_mat, y_pred_probs)\n",
    "    elif method == 'binary SVM':\n",
    "        y_pred_mat = run_binary_svm(X_train, y_train, X_test)  # performance on training set\n",
    "        f1 = evaluate_classifications(y_test_mat, y_pred_mat, mult_lbl_enc.classes_, show_report=False)\n",
    "        auroc = evaluate_probabilities(y_test_mat, y_pred_mat)\n",
    "    elif method == 'multiclass SVM':\n",
    "        y_pred_mat = run_svm(X_train, y_train, X_test)  # performance on training set\n",
    "        f1 = evaluate_classifications(y_test_mat, y_pred_mat, mult_lbl_enc.classes_, show_report=False)\n",
    "        auroc = evaluate_probabilities(y_test_mat, y_pred_mat)\n",
    "\n",
    "    print(f'Method: {method}. The F1 score on the test set was {f1}.')\n",
    "\n",
    "    return auroc, f1, best_tr_f1, best_desc, best_stopwords\n"
   ],
   "metadata": {
    "collapsed": false,
    "pycharm": {
     "name": "#%%\n"
    }
   }
  },
  {
   "cell_type": "code",
   "execution_count": 226,
   "outputs": [
    {
     "name": "stdout",
     "output_type": "stream",
     "text": [
      "Method: nearest centroid. The best score on the training set was 0.3724601411231244 with ['m', 'c'] stopwords and both code descriptions.\n",
      "F1 score matrix for the different settings we tried:\n",
      "[[0.31801174 0.30342028 0.32187402]\n",
      " [0.31822688 0.31768857 0.33212168]\n",
      " [0.34249784 0.32259541 0.36090305]\n",
      " [0.34056891 0.32696881 0.35595095]\n",
      " [0.36822584 0.33861078 0.37246014]\n",
      " [0.333507   0.32743475 0.35104834]\n",
      " [0.36641005 0.33712546 0.34811037]\n",
      " [0.36822873 0.34221492 0.34943158]]\n",
      "...rows are stopword settings, [[], ['m'], ['c'], ['e'], ['m', 'c'], ['m', 'e'], ['c', 'e'], ['m', 'c', 'e']], and columns are code descriptions, ['ICPC only', 'CKS only', 'both']\n",
      "Method: nearest centroid. The F1 score on the test set was 0.49430047077105904.\n",
      "Method: distance. The best score on the training set was 0.3714676513494131 with ['m', 'c'] stopwords and ICPC only code descriptions.\n",
      "F1 score matrix for the different settings we tried:\n",
      "[[0.31830919 0.30173059 0.2952498 ]\n",
      " [0.31850842 0.27374773 0.30444037]\n",
      " [0.34147099 0.31421672 0.34171153]\n",
      " [0.32170898 0.32138611 0.34227562]\n",
      " [0.37146765 0.31492948 0.34868987]\n",
      " [0.32854822 0.32370896 0.34203417]\n",
      " [0.36417011 0.33938592 0.33813562]\n",
      " [0.36515014 0.31816857 0.34726442]]\n",
      "...rows are stopword settings, [[], ['m'], ['c'], ['e'], ['m', 'c'], ['m', 'e'], ['c', 'e'], ['m', 'c', 'e']], and columns are code descriptions, ['ICPC only', 'CKS only', 'both']\n",
      "Method: distance. The F1 score on the test set was 0.48746286393345223.\n",
      "Method: binary NB. The best score on the training set was 0.9261847546360517 with ['m', 'c'] stopwords and CKS only code descriptions.\n",
      "F1 score matrix for the different settings we tried:\n",
      "[[0.88999715 0.91593991 0.92222623]\n",
      " [0.88699087 0.92392626 0.92297652]\n",
      " [0.91023998 0.92184016 0.92056578]\n",
      " [0.89845151 0.92445384 0.92445384]\n",
      " [0.90218336 0.92618475 0.92568017]\n",
      " [0.89595581 0.92578363 0.9254139 ]\n",
      " [0.9053524  0.92383107 0.92608483]\n",
      " [0.90287004 0.92403737 0.92573828]]\n",
      "...rows are stopword settings, [[], ['m'], ['c'], ['e'], ['m', 'c'], ['m', 'e'], ['c', 'e'], ['m', 'c', 'e']], and columns are code descriptions, ['ICPC only', 'CKS only', 'both']\n",
      "Method: binary NB. The F1 score on the test set was 0.3417094017094017.\n",
      "Method: multiclass NB. The best score on the training set was 0.7338378245560975 with ['m'] stopwords and both code descriptions.\n",
      "F1 score matrix for the different settings we tried:\n",
      "[[0.71416139 0.72548586 0.72798693]\n",
      " [0.70942555 0.73224686 0.73383782]\n",
      " [0.7138461  0.72712878 0.72813619]\n",
      " [0.71759418 0.73009735 0.73245016]\n",
      " [0.71682379 0.7328296  0.73296629]\n",
      " [0.71158981 0.73181499 0.73181499]\n",
      " [0.71701168 0.730184   0.730184  ]\n",
      " [0.70574876 0.73134416 0.73240124]]\n",
      "...rows are stopword settings, [[], ['m'], ['c'], ['e'], ['m', 'c'], ['m', 'e'], ['c', 'e'], ['m', 'c', 'e']], and columns are code descriptions, ['ICPC only', 'CKS only', 'both']\n",
      "Method: multiclass NB. The F1 score on the test set was 0.3667126337714573.\n",
      "Method: binary SVM. The best score on the training set was 0.9375 with [] stopwords and ICPC only code descriptions.\n",
      "F1 score matrix for the different settings we tried:\n",
      "[[0.9375 0.9375 0.9375]\n",
      " [0.9375 0.9375 0.9375]\n",
      " [0.9375 0.9375 0.9375]\n",
      " [0.9375 0.9375 0.9375]\n",
      " [0.9375 0.9375 0.9375]\n",
      " [0.9375 0.9375 0.9375]\n",
      " [0.9375 0.9375 0.9375]\n",
      " [0.9375 0.9375 0.9375]]\n",
      "...rows are stopword settings, [[], ['m'], ['c'], ['e'], ['m', 'c'], ['m', 'e'], ['c', 'e'], ['m', 'c', 'e']], and columns are code descriptions, ['ICPC only', 'CKS only', 'both']\n",
      "Method: binary SVM. The F1 score on the test set was 0.11030139451192084.\n",
      "Method: multiclass SVM. The best score on the training set was 0.7307841746202255 with [] stopwords and ICPC only code descriptions.\n",
      "F1 score matrix for the different settings we tried:\n",
      "[[0.73078417 0.73078417 0.73078417]\n",
      " [0.73078417 0.73078417 0.73078417]\n",
      " [0.73078417 0.73078417 0.73078417]\n",
      " [0.73078417 0.73078417 0.73078417]\n",
      " [0.73078417 0.73078417 0.73078417]\n",
      " [0.73078417 0.73078417 0.73078417]\n",
      " [0.73078417 0.73078417 0.73078417]\n",
      " [0.73078417 0.73078417 0.73078417]]\n",
      "...rows are stopword settings, [[], ['m'], ['c'], ['e'], ['m', 'c'], ['m', 'e'], ['c', 'e'], ['m', 'c', 'e']], and columns are code descriptions, ['ICPC only', 'CKS only', 'both']\n",
      "Method: multiclass SVM. The F1 score on the test set was 0.14402116402116405.\n"
     ]
    }
   ],
   "source": [
    "auroc = {}\n",
    "f1scores = {}\n",
    "tr_f1scores = {}\n",
    "best_descriptions = {}\n",
    "best_stopwords = {}\n",
    "\n",
    "auroc['nearest centroid'], f1scores['nearest centroid'], tr_f1scores['nearest centroid'], best_descriptions['nearest centroid'], best_stopwords['nearest centroid'] = run_performance_assessment('nearest centroid')\n",
    "auroc['distance'], f1scores['distance'], tr_f1scores['distance'], best_descriptions['distance'], best_stopwords['distance'] = run_performance_assessment('distance')\n",
    "auroc['binary NB'], f1scores['binary NB'], tr_f1scores['binary NB'], best_descriptions['binary NB'], best_stopwords['binary NB'] = run_performance_assessment('binary NB')\n",
    "auroc['multiclass NB'], f1scores['multiclass NB'], tr_f1scores['multiclass NB'], best_descriptions['multiclass NB'], best_stopwords['multiclass NB'] = run_performance_assessment('multiclass NB')\n",
    "# auroc['binary SVM'], f1scores['binary SVM'], tr_f1scores['binary SVM'], best_descriptions['binary SVM'], best_stopwords['binary SVM'] = run_performance_assessment('binary SVM')\n",
    "# auroc['multiclass SVM'], f1scores['multiclass SVM'], tr_f1scores['multiclass SVM'], best_descriptions['multiclass SVM'], best_stopwords['multiclass SVM'] = run_performance_assessment('multiclass SVM')\n"
   ],
   "metadata": {
    "collapsed": false,
    "pycharm": {
     "name": "#%%\n"
    }
   }
  },
  {
   "cell_type": "code",
   "execution_count": 227,
   "outputs": [
    {
     "data": {
      "text/plain": "{'nearest centroid': 0.49430047077105904,\n 'distance': 0.48746286393345223,\n 'binary NB': 0.3417094017094017,\n 'multiclass NB': 0.3667126337714573,\n 'binary SVM': 0.11030139451192084,\n 'multiclass SVM': 0.14402116402116405}"
     },
     "execution_count": 227,
     "metadata": {},
     "output_type": "execute_result"
    }
   ],
   "source": [
    "f1scores"
   ],
   "metadata": {
    "collapsed": false,
    "pycharm": {
     "name": "#%%\n"
    }
   }
  },
  {
   "cell_type": "code",
   "execution_count": 228,
   "outputs": [
    {
     "data": {
      "text/plain": "{'nearest centroid': 0.3724601411231244,\n 'distance': 0.3714676513494131,\n 'binary NB': 0.9261847546360517,\n 'multiclass NB': 0.7338378245560975,\n 'binary SVM': 0.9375,\n 'multiclass SVM': 0.7307841746202255}"
     },
     "execution_count": 228,
     "metadata": {},
     "output_type": "execute_result"
    }
   ],
   "source": [
    "tr_f1scores"
   ],
   "metadata": {
    "collapsed": false,
    "pycharm": {
     "name": "#%%\n"
    }
   }
  },
  {
   "cell_type": "code",
   "execution_count": 229,
   "outputs": [
    {
     "data": {
      "text/plain": "{'nearest centroid': ['m', 'c'],\n 'distance': ['m', 'c'],\n 'binary NB': ['m', 'c'],\n 'multiclass NB': ['m'],\n 'binary SVM': [],\n 'multiclass SVM': []}"
     },
     "execution_count": 229,
     "metadata": {},
     "output_type": "execute_result"
    }
   ],
   "source": [
    "best_stopwords"
   ],
   "metadata": {
    "collapsed": false,
    "pycharm": {
     "name": "#%%\n"
    }
   }
  },
  {
   "cell_type": "code",
   "execution_count": 230,
   "outputs": [
    {
     "data": {
      "text/plain": "{'nearest centroid': 'both',\n 'distance': 'ICPC only',\n 'binary NB': 'CKS only',\n 'multiclass NB': 'both',\n 'binary SVM': 'ICPC only',\n 'multiclass SVM': 'ICPC only'}"
     },
     "execution_count": 230,
     "metadata": {},
     "output_type": "execute_result"
    }
   ],
   "source": [
    "best_descriptions"
   ],
   "metadata": {
    "collapsed": false,
    "pycharm": {
     "name": "#%%\n"
    }
   }
  },
  {
   "cell_type": "code",
   "execution_count": 231,
   "outputs": [
    {
     "data": {
      "text/plain": "{'nearest centroid': 0.7165258175109191,\n 'distance': 0.7117639127490144,\n 'binary NB': 0.8001302545082444,\n 'multiclass NB': 0.7959313933577251,\n 'binary SVM': 0.5356562881562881,\n 'multiclass SVM': 0.5510758204983129}"
     },
     "execution_count": 231,
     "metadata": {},
     "output_type": "execute_result"
    }
   ],
   "source": [
    "auroc"
   ],
   "metadata": {
    "collapsed": false,
    "pycharm": {
     "name": "#%%\n"
    }
   }
  },
  {
   "cell_type": "code",
   "execution_count": null,
   "outputs": [],
   "source": [],
   "metadata": {
    "collapsed": false,
    "pycharm": {
     "name": "#%%\n"
    }
   }
  }
 ],
 "metadata": {
  "kernelspec": {
   "display_name": "py39",
   "language": "python",
   "name": "py39"
  },
  "language_info": {
   "codemirror_mode": {
    "name": "ipython",
    "version": 3
   },
   "file_extension": ".py",
   "mimetype": "text/x-python",
   "name": "python",
   "nbconvert_exporter": "python",
   "pygments_lexer": "ipython3",
   "version": "3.9.5"
  }
 },
 "nbformat": 4,
 "nbformat_minor": 5
}