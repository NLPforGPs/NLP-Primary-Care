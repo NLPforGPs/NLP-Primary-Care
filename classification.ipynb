{
 "cells": [
  {
   "cell_type": "code",
   "execution_count": 1,
   "id": "f2bec071",
   "metadata": {
    "scrolled": true
   },
   "outputs": [],
   "source": [
    "import os\n",
    "\n",
    "import ipywidgets as widgets\n",
    "import numpy as np\n",
    "import pandas as pd\n",
    "import scipy.sparse\n",
    "from IPython.display import display\n",
    "from ipywidgets import interact\n",
    "from matplotlib import pyplot as plt\n",
    "%load_ext autoreload\n",
    "%autoreload 2"
   ]
  },
  {
   "cell_type": "markdown",
   "id": "a1ea4eb6-0bd9-43b8-98cc-c26caca9fa97",
   "metadata": {
    "pycharm": {
     "name": "#%% md\n"
    }
   },
   "source": [
    "# Data preparation\n",
    "\n",
    "First split the orig_dataset into train and test set, then we need to\n",
    "pre-process the transcript data\n",
    "\n",
    "This includes, cleaning text, stemming and lemmatization"
   ]
  },
  {
   "cell_type": "code",
   "execution_count": 173,
   "id": "310fb443-83b6-4e2d-a5d7-79b9b8c662fd",
   "metadata": {
    "pycharm": {
     "name": "#%%\n"
    }
   },
   "outputs": [
    {
     "name": "stderr",
     "output_type": "stream",
     "text": [
      "The current IDs only have record documents.\n",
      "['011119' '020105' '030311' '030501' '030509' '030510' '050609' '050717'\n",
      " '050719' '071010' '071201' '071202' '071203' '071204' '071205' '071206'\n",
      " '071207' '071208' '071209' '071210' '071211' '071212' '071213' '071214'\n",
      " '081310' '081608' '081610' '091410' '091411' '091416' '101705' '101707'\n",
      " '111906' '111908' '112004' '122110']\n",
      "The current IDs only have transcript documents.\n",
      "['-081308' '010103' '010105' '020107' '030501(p.2)' '030501(p1)'\n",
      " '030509(p.1)' '030509(p.2)' '030510 (p.1)' '030510 (p.2)' '040417'\n",
      " '050605' '050609a' '050717 (Dr reads wrong number)' '060806' '060811'\n",
      " '060812' '060906' '071002' '071010(a)' '071012' '081310(b)' '081310(c)'\n",
      " '081310a' '081601' '081606' '081608 (1 of 2)' '081608 (2 of 2)' '091402'\n",
      " '091404' '091405' '091410 & 091411' '091503' '101705 and 101707' '101801'\n",
      " '111906 (2of2)' '111906(1 of 2)' '112002' '112004 & 1112005' '112014'\n",
      " '200105' '50719']\n"
     ]
    },
    {
     "name": "stdout",
     "output_type": "stream",
     "text": [
      "RDSF base directory located at /Volumes/NLP_One_In_A_Million\n",
      "16 classification categories: ['A' 'B' 'D' 'F' 'H' 'K' 'L' 'N' 'P' 'R' 'S' 'T' 'U' 'W' 'X' 'Y']\n"
     ]
    }
   ],
   "source": [
    "from prepare_data import prepare_original_data\n",
    "\n",
    "# YOU MAY NEED TO SET THE LOCATION OF THE DATASET IN oneinamillion/resources.py.\n",
    "orig_dataset, mult_lbl_enc, y_hot = prepare_original_data()"
   ]
  },
  {
   "cell_type": "markdown",
   "id": "c71abd38",
   "metadata": {
    "pycharm": {
     "name": "#%% md\n"
    }
   },
   "source": [
    "## Train test Split"
   ]
  },
  {
   "cell_type": "code",
   "execution_count": 3,
   "id": "f0c0f43b",
   "metadata": {
    "pycharm": {
     "name": "#%%\n"
    }
   },
   "outputs": [
    {
     "data": {
      "text/html": [
       "<div>\n",
       "<style scoped>\n",
       "    .dataframe tbody tr th:only-of-type {\n",
       "        vertical-align: middle;\n",
       "    }\n",
       "\n",
       "    .dataframe tbody tr th {\n",
       "        vertical-align: top;\n",
       "    }\n",
       "\n",
       "    .dataframe thead th {\n",
       "        text-align: right;\n",
       "    }\n",
       "</style>\n",
       "<table border=\"1\" class=\"dataframe\">\n",
       "  <thead>\n",
       "    <tr style=\"text-align: right;\">\n",
       "      <th></th>\n",
       "      <th>index</th>\n",
       "      <th>record_id</th>\n",
       "      <th>icpc_codes</th>\n",
       "      <th>pt_records</th>\n",
       "      <th>transcript__start_date</th>\n",
       "      <th>transcript__duration</th>\n",
       "      <th>transcript__conversation</th>\n",
       "      <th>codes</th>\n",
       "      <th>transcript__conversation_clean</th>\n",
       "      <th>transcript__conversation_both</th>\n",
       "      <th>transcript__conversation_gp</th>\n",
       "      <th>transcript__conversation_patient</th>\n",
       "    </tr>\n",
       "  </thead>\n",
       "  <tbody>\n",
       "    <tr>\n",
       "      <th>0</th>\n",
       "      <td>0</td>\n",
       "      <td>10112</td>\n",
       "      <td>['K85', 'P76']</td>\n",
       "      <td>[{'date': datetime.datetime(2014, 8, 13, 0, 0)...</td>\n",
       "      <td>2014-06-16 10:33:28</td>\n",
       "      <td>0:16:17</td>\n",
       "      <td>[('GP', 'How are you sir?'), ('Patient', \"I'm ...</td>\n",
       "      <td>[K, P]</td>\n",
       "      <td>[[GP, sir?], [Patient, i'm bad moment actually...</td>\n",
       "      <td>sir? i'm bad moment actually. right, okay good...</td>\n",
       "      <td>sir? right, okay good. prednisolone. okay. yes...</td>\n",
       "      <td>i'm bad moment actually. thought i'd come touc...</td>\n",
       "    </tr>\n",
       "    <tr>\n",
       "      <th>5</th>\n",
       "      <td>5</td>\n",
       "      <td>101708</td>\n",
       "      <td>['K84', 'Y08']</td>\n",
       "      <td>[{'date': datetime.datetime(2015, 4, 24, 0, 0)...</td>\n",
       "      <td>2015-02-24 12:39:49</td>\n",
       "      <td>0:18:49</td>\n",
       "      <td>[('PAT', 'He was supposed to come in and take ...</td>\n",
       "      <td>[K, Y]</td>\n",
       "      <td>[[PAT, supposed come take ___], [info, 0:00:01...</td>\n",
       "      <td>supposed come take ___ , ___. yes, that's alri...</td>\n",
       "      <td>yes, that's alright you. seat. patient 101708....</td>\n",
       "      <td>supposed come take ___ , ___. okay. reason i'v...</td>\n",
       "    </tr>\n",
       "    <tr>\n",
       "      <th>8</th>\n",
       "      <td>8</td>\n",
       "      <td>111911</td>\n",
       "      <td>['B80', 'D18']</td>\n",
       "      <td>[{'date': datetime.datetime(2015, 7, 21, 0, 0)...</td>\n",
       "      <td>2015-04-28 10:48:20</td>\n",
       "      <td>0:11:01</td>\n",
       "      <td>[('DOC', 'Hi, I am Doctor Name thanks for wait...</td>\n",
       "      <td>[B, D]</td>\n",
       "      <td>[[DOC, hi, doctor name thanks waiting. doing, ...</td>\n",
       "      <td>hi, doctor name thanks waiting. doing, help? a...</td>\n",
       "      <td>hi, doctor name thanks waiting. doing, help? o...</td>\n",
       "      <td>alright thank you. last friday went give blood...</td>\n",
       "    </tr>\n",
       "    <tr>\n",
       "      <th>9</th>\n",
       "      <td>9</td>\n",
       "      <td>11105</td>\n",
       "      <td>['L05']</td>\n",
       "      <td>[{'date': datetime.datetime(2015, 2, 23, 0, 0)...</td>\n",
       "      <td>2014-12-08 10:50:34</td>\n",
       "      <td>0:09:09</td>\n",
       "      <td>[('Doc', \"Good morning, I'm Dr Name. 011105, w...</td>\n",
       "      <td>[L]</td>\n",
       "      <td>[[Doc, good morning, i'm dr name. 011105, well...</td>\n",
       "      <td>good morning, i'm dr name. 011105, well done, ...</td>\n",
       "      <td>good morning, i'm dr name. 011105, well done, ...</td>\n",
       "      <td>pardon? think have, no. well, started saturday...</td>\n",
       "    </tr>\n",
       "    <tr>\n",
       "      <th>11</th>\n",
       "      <td>11</td>\n",
       "      <td>91510</td>\n",
       "      <td>['K86', 'R96']</td>\n",
       "      <td>[{'date': datetime.datetime(2015, 3, 27, 0, 0)...</td>\n",
       "      <td>2015-01-14 16:45:30</td>\n",
       "      <td>0:07:22</td>\n",
       "      <td>[('DOC', \"Turn this on. That's it. Number 0915...</td>\n",
       "      <td>[K, R]</td>\n",
       "      <td>[[DOC, turn on. that's it. number 091510. that...</td>\n",
       "      <td>turn on. that's it. number 091510. that's you....</td>\n",
       "      <td>turn on. that's it. number 091510. that's you....</td>\n",
       "      <td>bad. went southmead last week get result test ...</td>\n",
       "    </tr>\n",
       "  </tbody>\n",
       "</table>\n",
       "</div>"
      ],
      "text/plain": [
       "    index  record_id      icpc_codes  \\\n",
       "0       0      10112  ['K85', 'P76']   \n",
       "5       5     101708  ['K84', 'Y08']   \n",
       "8       8     111911  ['B80', 'D18']   \n",
       "9       9      11105         ['L05']   \n",
       "11     11      91510  ['K86', 'R96']   \n",
       "\n",
       "                                           pt_records transcript__start_date  \\\n",
       "0   [{'date': datetime.datetime(2014, 8, 13, 0, 0)...    2014-06-16 10:33:28   \n",
       "5   [{'date': datetime.datetime(2015, 4, 24, 0, 0)...    2015-02-24 12:39:49   \n",
       "8   [{'date': datetime.datetime(2015, 7, 21, 0, 0)...    2015-04-28 10:48:20   \n",
       "9   [{'date': datetime.datetime(2015, 2, 23, 0, 0)...    2014-12-08 10:50:34   \n",
       "11  [{'date': datetime.datetime(2015, 3, 27, 0, 0)...    2015-01-14 16:45:30   \n",
       "\n",
       "   transcript__duration                           transcript__conversation  \\\n",
       "0               0:16:17  [('GP', 'How are you sir?'), ('Patient', \"I'm ...   \n",
       "5               0:18:49  [('PAT', 'He was supposed to come in and take ...   \n",
       "8               0:11:01  [('DOC', 'Hi, I am Doctor Name thanks for wait...   \n",
       "9               0:09:09  [('Doc', \"Good morning, I'm Dr Name. 011105, w...   \n",
       "11              0:07:22  [('DOC', \"Turn this on. That's it. Number 0915...   \n",
       "\n",
       "     codes                     transcript__conversation_clean  \\\n",
       "0   [K, P]  [[GP, sir?], [Patient, i'm bad moment actually...   \n",
       "5   [K, Y]  [[PAT, supposed come take ___], [info, 0:00:01...   \n",
       "8   [B, D]  [[DOC, hi, doctor name thanks waiting. doing, ...   \n",
       "9      [L]  [[Doc, good morning, i'm dr name. 011105, well...   \n",
       "11  [K, R]  [[DOC, turn on. that's it. number 091510. that...   \n",
       "\n",
       "                        transcript__conversation_both  \\\n",
       "0   sir? i'm bad moment actually. right, okay good...   \n",
       "5   supposed come take ___ , ___. yes, that's alri...   \n",
       "8   hi, doctor name thanks waiting. doing, help? a...   \n",
       "9   good morning, i'm dr name. 011105, well done, ...   \n",
       "11  turn on. that's it. number 091510. that's you....   \n",
       "\n",
       "                          transcript__conversation_gp  \\\n",
       "0   sir? right, okay good. prednisolone. okay. yes...   \n",
       "5   yes, that's alright you. seat. patient 101708....   \n",
       "8   hi, doctor name thanks waiting. doing, help? o...   \n",
       "9   good morning, i'm dr name. 011105, well done, ...   \n",
       "11  turn on. that's it. number 091510. that's you....   \n",
       "\n",
       "                     transcript__conversation_patient  \n",
       "0   i'm bad moment actually. thought i'd come touc...  \n",
       "5   supposed come take ___ , ___. okay. reason i'v...  \n",
       "8   alright thank you. last friday went give blood...  \n",
       "9   pardon? think have, no. well, started saturday...  \n",
       "11  bad. went southmead last week get result test ...  "
      ]
     },
     "execution_count": 3,
     "metadata": {},
     "output_type": "execute_result"
    }
   ],
   "source": [
    "from skmultilearn.model_selection import iterative_train_test_split\n",
    "\n",
    "X = np.arange(orig_dataset['index'].shape[0]).reshape((-1, 1))\n",
    "\n",
    "X_train, y_train, X_test, y_test = iterative_train_test_split(X, y_hot, test_size=0.2)\n",
    "\n",
    "train_set = orig_dataset.iloc[X_train.flatten()]\n",
    "test_set = orig_dataset.iloc[X_test.flatten()]\n",
    "train_set.head()"
   ]
  },
  {
   "cell_type": "markdown",
   "id": "f44e8574",
   "metadata": {
    "pycharm": {
     "name": "#%% md\n"
    }
   },
   "source": [
    "## ICPC descriptions"
   ]
  },
  {
   "cell_type": "code",
   "execution_count": 4,
   "id": "6de7bd1b",
   "metadata": {
    "pycharm": {
     "name": "#%%\n"
    }
   },
   "outputs": [
    {
     "data": {
      "application/vnd.jupyter.widget-view+json": {
       "model_id": "1e687ba2cb1f4b4490810cc486f4e08a",
       "version_major": 2,
       "version_minor": 0
      },
      "text/plain": [
       "interactive(children=(Dropdown(description='mode', options=('ICPC only', 'CKS only', 'ICPC and CKS'), value='I…"
      ]
     },
     "metadata": {},
     "output_type": "display_data"
    },
    {
     "data": {
      "text/plain": [
       "<function __main__.control_description(mode='ICPC only')>"
      ]
     },
     "execution_count": 4,
     "metadata": {},
     "output_type": "execute_result"
    }
   ],
   "source": [
    "selected_mode = None\n",
    "modes = ['ICPC only', 'CKS only', 'ICPC and CKS']\n",
    "def control_description(mode=modes[0]):\n",
    "    global selected_mode\n",
    "    selected_mode = mode\n",
    "\n",
    "interact(control_description, mode=modes)"
   ]
  },
  {
   "cell_type": "code",
   "execution_count": 5,
   "id": "8032abed",
   "metadata": {},
   "outputs": [
    {
     "data": {
      "text/plain": [
       "'ICPC only'"
      ]
     },
     "execution_count": 5,
     "metadata": {},
     "output_type": "execute_result"
    }
   ],
   "source": [
    "selected_mode"
   ]
  },
  {
   "cell_type": "code",
   "execution_count": 6,
   "id": "319ecbc0",
   "metadata": {
    "pycharm": {
     "name": "#%% combine the two\n"
    }
   },
   "outputs": [],
   "source": [
    "from prepare_data import load_descriptions\n",
    "description_corpus = load_descriptions(selected_mode, mult_lbl_enc)"
   ]
  },
  {
   "cell_type": "markdown",
   "id": "18e2f127",
   "metadata": {
    "pycharm": {
     "name": "#%% md\n"
    }
   },
   "source": [
    "## Bag of words classifiers\n",
    "\n",
    "**Tf-idf from ICPC codes**\n",
    "\n",
    "- extract keyword/ keyphrases from ICPC code descriptions\n",
    " - use three columns (inclusion/ preferred and criteria)\n",
    "\n",
    "- OR, with TF-iDF, assign a score to every word (or bigram) in the utterance,\n",
    "filter those with only high scores\n",
    "\n",
    "- For each utterance in a transcript, count the number of keyword or phrase matches for each ICPC code.\n",
    "- If number of matches > threshold, assign ICPC code"
   ]
  },
  {
   "cell_type": "markdown",
   "id": "15d987e4",
   "metadata": {
    "pycharm": {
     "name": "#%% md\n"
    }
   },
   "source": [
    "One might want to modify the list of stopwords to eliminate from the tf-idf vocabulary,\n",
    "or might impose a limit of the number of features to reduce unwanted words/ bi-grams."
   ]
  },
  {
   "cell_type": "code",
   "execution_count": null,
   "id": "0405f32d",
   "metadata": {
    "pycharm": {
     "is_executing": true,
     "name": "#%%\n"
    }
   },
   "outputs": [
    {
     "data": {
      "application/vnd.jupyter.widget-view+json": {
       "model_id": "7d4e4bf33d28477882f33bd87c631a56",
       "version_major": 2,
       "version_minor": 0
      },
      "text/plain": [
       "interactive(children=(Checkbox(value=True, description='m'), Checkbox(value=True, description='c'), Checkbox(v…"
      ]
     },
     "metadata": {},
     "output_type": "display_data"
    },
    {
     "data": {
      "text/plain": [
       "<function __main__.set_stopwords(m, c, e)>"
      ]
     },
     "execution_count": 7,
     "metadata": {},
     "output_type": "execute_result"
    }
   ],
   "source": [
    "from utils.stopwords import get_medical_stopwords, get_custom_stopwords, get_english_stopwords\n",
    "medical_stopwords = get_medical_stopwords()\n",
    "custom_stopwords = get_custom_stopwords()\n",
    "english_stopwords = get_english_stopwords()\n",
    "\n",
    "use_med, use_cus, use_eng = False, False, False\n",
    "stopwords = []\n",
    "\n",
    "def update_stopwords():\n",
    "    global stopwords\n",
    "    stopwords = []\n",
    "    if use_med:\n",
    "        stopwords += medical_stopwords\n",
    "    if use_cus:\n",
    "        stopwords += custom_stopwords\n",
    "    if use_eng:\n",
    "        stopwords += english_stopwords\n",
    "    # display(f\"number of stopwords: {len(stopwords)}\")\n",
    "\n",
    "def set_stopwords(m,c,e):\n",
    "    global use_med, use_cus, use_eng\n",
    "    use_med = m\n",
    "    use_cus = c\n",
    "    use_eng = e\n",
    "    update_stopwords()\n",
    "\n",
    "interact(set_stopwords, m=True, c=True, e=False)"
   ]
  },
  {
   "cell_type": "code",
   "execution_count": 8,
   "id": "e9f0aaa4",
   "metadata": {
    "pycharm": {
     "name": "#%%\n"
    }
   },
   "outputs": [],
   "source": [
    "from sklearn.feature_extraction.text import TfidfVectorizer\n",
    "\n",
    "def get_description_vectors(description_corpus, stopwords):\n",
    "    max_features=5000\n",
    "\n",
    "    text_vectorizer = TfidfVectorizer(ngram_range=(1,2), stop_words=stopwords, max_features=max_features)\n",
    "    description_vec = text_vectorizer.fit_transform(description_corpus)\n",
    "    # print(f\"icpc description bag-of-word matrix shape: {description_vec.shape}\")\n",
    "    vec_vocab = text_vectorizer.vocabulary_ # dictionary that contain the BOW tokens\n",
    "\n",
    "    # print(f\"bag-of-word tokens: {', '.join(list(vec_vocab.keys())[:5])}...\")\n",
    "    # print(f\"vocabulary size: {len(vec_vocab)}\")\n",
    "\n",
    "    return description_vec, text_vectorizer\n",
    "\n",
    "description_vec, text_vectorizer = get_description_vectors(description_corpus, stopwords)"
   ]
  },
  {
   "cell_type": "code",
   "execution_count": 9,
   "id": "0910dd48",
   "metadata": {
    "pycharm": {
     "name": "#%%\n"
    }
   },
   "outputs": [
    {
     "data": {
      "text/plain": [
       "Text(0.5, 1.0, 'bag-of-words Vector')"
      ]
     },
     "execution_count": 9,
     "metadata": {},
     "output_type": "execute_result"
    },
    {
     "data": {
      "image/png": "[encoded data removed]",
      "text/plain": [
       "<Figure size 432x288 with 1 Axes>"
      ]
     },
     "metadata": {
      "needs_background": "light"
     },
     "output_type": "display_data"
    }
   ],
   "source": [
    "import seaborn as sns\n",
    "sns.heatmap(description_vec.todense()==0, vmin=0, vmax=1, cbar=False).set_title('bag-of-words Vector')"
   ]
  },
  {
   "cell_type": "code",
   "execution_count": 10,
   "id": "218eb77a",
   "metadata": {
    "pycharm": {
     "name": "#%%\n"
    }
   },
   "outputs": [],
   "source": [
    "# from wordcloud import WordCloud\n",
    "# test_vec = description_vec[1].todense()\n",
    "# col_names = np.array(text_vectorizer.get_feature_names())\n",
    "# test = pd.DataFrame(test_vec, columns=col_names).T.to_dict()[0]\n",
    "# print(test)\n",
    "# word_cloud = WordCloud(background_color=\"white\").generate_from_frequencies(test)\n",
    "# plt.imshow(word_cloud)"
   ]
  },
  {
   "cell_type": "code",
   "execution_count": 11,
   "id": "a52ba2e7",
   "metadata": {
    "pycharm": {
     "name": "#%%\n"
    }
   },
   "outputs": [
    {
     "data": {
      "application/vnd.jupyter.widget-view+json": {
       "model_id": "6d445804d4234c40bd7181c754ad3284",
       "version_major": 2,
       "version_minor": 0
      },
      "text/plain": [
       "interactive(children=(Dropdown(description='cat', options=('A', 'B', 'D', 'F', 'H', 'K', 'L', 'N', 'P', 'R', '…"
      ]
     },
     "metadata": {},
     "output_type": "display_data"
    },
    {
     "data": {
      "text/plain": [
       "<function __main__.plot_explain_category(cat: str)>"
      ]
     },
     "execution_count": 11,
     "metadata": {},
     "output_type": "execute_result"
    }
   ],
   "source": [
    "from wordcloud import WordCloud\n",
    "\n",
    "# Explain a category\n",
    "\n",
    "lookup = [x for _,x in sorted(zip(text_vectorizer.vocabulary_.values(), text_vectorizer.vocabulary_.keys()))]\n",
    "features_arr = np.array(text_vectorizer.get_feature_names())\n",
    "\n",
    "def explain_bow_vector(vec: scipy.sparse.csr.csr_matrix, ax=plt):\n",
    "    # _, idxs = scipy.sparse.csr_matrix.nonzero(vec)\n",
    "    # words = [lookup[k] for k in idxs]\n",
    "    # word_cloud = WordCloud().generate(' '.join(words))\n",
    "    test = pd.DataFrame(vec.todense(), columns=features_arr).T.to_dict()[0]\n",
    "    word_cloud = WordCloud(background_color=\"white\").generate_from_frequencies(test)\n",
    "    ax.imshow(word_cloud, interpolation='bilinear')\n",
    "    ax.axis(\"off\")\n",
    "\n",
    "def explain_category(cat:str, ax=plt):\n",
    "    target = list(mult_lbl_enc.classes_).index(cat)\n",
    "    target = description_vec[target]\n",
    "    explain_bow_vector(target, ax=ax)\n",
    "\n",
    "def plot_explain_category(cat:str):\n",
    "    explain_category(cat)\n",
    "\n",
    "interact(plot_explain_category, cat=mult_lbl_enc.classes_)"
   ]
  },
  {
   "cell_type": "code",
   "execution_count": 12,
   "id": "ebe627be",
   "metadata": {
    "pycharm": {
     "name": "#%%\n"
    }
   },
   "outputs": [],
   "source": [
    "key = 'transcript__conversation_both'\n",
    "# key = 'transcript__conversation_gp'\n",
    "# key = 'transcript__conversation_patient'\n",
    "\n",
    "X_train = text_vectorizer.transform(train_set[key])\n",
    "X_test = text_vectorizer.transform(test_set[key])"
   ]
  },
  {
   "cell_type": "code",
   "execution_count": 13,
   "id": "3196f0e6",
   "metadata": {
    "pycharm": {
     "name": "#%%\n"
    }
   },
   "outputs": [
    {
     "data": {
      "text/plain": [
       "Text(0.5, 1.0, 'Train set bag-of-words matrix')"
      ]
     },
     "execution_count": 13,
     "metadata": {},
     "output_type": "execute_result"
    },
    {
     "data": {
      "image/png": "[encoded data removed]",
      "text/plain": [
       "<Figure size 432x288 with 1 Axes>"
      ]
     },
     "metadata": {
      "needs_background": "light"
     },
     "output_type": "display_data"
    }
   ],
   "source": [
    "# import seaborn as sns\n",
    "sns.heatmap(X_train.todense()==0, vmin=0, vmax=1, cbar=False).set_title('Train set bag-of-words matrix')"
   ]
  },
  {
   "cell_type": "code",
   "execution_count": 14,
   "id": "5c4785ad",
   "metadata": {
    "pycharm": {
     "name": "#%%\n"
    }
   },
   "outputs": [
    {
     "data": {
      "image/png": "[encoded data removed]",
      "text/plain": [
       "<Figure size 576x288 with 1 Axes>"
      ]
     },
     "metadata": {
      "needs_background": "light"
     },
     "output_type": "display_data"
    },
    {
     "name": "stdout",
     "output_type": "stream",
     "text": [
      "['iron', 'possible', 'mood', 'hearing', 'joint', 'nose', 'health', 'hours', 'either', 'kidney', 'infection', 'asthma', 'stick', 'cold', 'throat', 'inflammatory', 'situation', 'family', 'anxiety', 'vitamin', 'bone', 'skin', 'neck', 'food', 'shoulder', 'area', 'level', 'old', 'trouble', 'operation', 'rest', 'arthritis', 'urine', 'risk', 'breath', 'foot', 'otherwise', 'short', 'nerve', 'exercise', 'years', 'painful', 'change', 'move', 'eating', 'eat', 'heart', 'muscle', 'eye', 'case', 'part', 'sore', 'bowel', 'particularly', 'hour', 'knee', 'cough', 'head', 'low', 'hand', 'ear', 'stomach', 'leg', 'sick', 'chest', 'sleep', 'pressure', 'sound', 'pain', 'blood pressure', 'blood', 'mean']\n"
     ]
    }
   ],
   "source": [
    "keyword_dist_over_train = np.array(X_train.sum(axis=0)).flatten()\n",
    "\n",
    "def show_common_keywords(threshold:int = 3):\n",
    "    frequent_words = [[k,n] for k,n in zip(lookup, keyword_dist_over_train) if n > threshold]\n",
    "    frequent_words_df = pd.DataFrame(frequent_words,columns=['keyword', 'count']).sort_values('count')\n",
    "\n",
    "    plt.figure(figsize=(8,4))\n",
    "    ax = sns.barplot(x='keyword', y='count', data=frequent_words_df)\n",
    "    ax.set_xticklabels(ax.get_xticklabels(), rotation=40, ha=\"right\")\n",
    "    plt.tight_layout()\n",
    "    plt.show()\n",
    "\n",
    "    print([k._text for k in ax.get_xticklabels()])\n",
    "\n",
    "show_common_keywords()"
   ]
  },
  {
   "cell_type": "code",
   "execution_count": 15,
   "id": "b2d2660a",
   "metadata": {
    "pycharm": {
     "name": "#%%\n"
    }
   },
   "outputs": [],
   "source": [
    "from sklearn.metrics import classification_report, f1_score, multilabel_confusion_matrix, roc_auc_score\n",
    "\n",
    "def evaluate_classifications(targets, predictions, class_names, show_report=False):\n",
    "    \"\"\"\n",
    "    Evaluates the discrete classification labels.\n",
    "    :param targets: A matrix where each row is a one-hot representation of the gold labels for the sample.\n",
    "    :param predictions: A matrix where each row is a one-hot representation of the predicted labels for the sample.\n",
    "    :param class_names: The names of the classes in an ordered list.\n",
    "    :return:\n",
    "    \"\"\"\n",
    "\n",
    "    keepclasses = np.any(targets, axis=0)\n",
    "    targets = targets[:, keepclasses]\n",
    "    predictions = predictions[:, keepclasses]\n",
    "\n",
    "    if show_report:\n",
    "        print(f\"classification_report:\\n{classification_report(targets, predictions, target_names=class_names, zero_division=0)}\")\n",
    "\n",
    "    return f1_score(targets, predictions, average='macro')\n",
    "\n",
    "\n",
    "def evaluate_probabilities(targets, predictions):\n",
    "    \"\"\"\n",
    "    Evaluates the probabilities output by a classifier using the ROC curve.\n",
    "    :param targets: A matrix where each row is a one-hot representation of the gold labels for the sample.\n",
    "    :param predictions: A matrix where each row is a one-hot representation of the predicted labels for the sample.\n",
    "    :return:\n",
    "    \"\"\"\n",
    "\n",
    "    keepclasses = np.any(targets, axis=0)\n",
    "    targets = targets[:, keepclasses]\n",
    "    predictions = predictions[:, keepclasses]\n",
    "\n",
    "    auroc = roc_auc_score(targets, predictions, average='macro') # [:, keepclasses], predictions[:, keepclasses])\n",
    "    # print(f'area under ROC curve: {auroc}')\n",
    "\n",
    "    return auroc"
   ]
  },
  {
   "cell_type": "markdown",
   "id": "f8344d8f",
   "metadata": {
    "pycharm": {
     "name": "#%% md\n"
    }
   },
   "source": [
    "### Nearest Centroid classifier"
   ]
  },
  {
   "cell_type": "code",
   "execution_count": 82,
   "id": "417bc9c7",
   "metadata": {
    "pycharm": {
     "name": "#%%\n"
    }
   },
   "outputs": [
    {
     "name": "stdout",
     "output_type": "stream",
     "text": [
      "0.3660179021020698\n"
     ]
    }
   ],
   "source": [
    "from sklearn.neighbors import NearestCentroid\n",
    "from sklearn.neighbors import KNeighborsClassifier\n",
    "\n",
    "\n",
    "def run_nearest_centroid(description_vec, mult_lbl_enc, X_test):\n",
    "    nc_clf = NearestCentroid(metric='euclidean')\n",
    "    nc_clf.fit(description_vec, mult_lbl_enc.classes_)\n",
    "    y_pred = nc_clf.predict(X_test)\n",
    "\n",
    "    y_pred_mat = np.matrix(mult_lbl_enc.transform(y_pred))\n",
    "\n",
    "    return y_pred_mat\n",
    "\n",
    "y_pred_mat = run_nearest_centroid(description_vec, mult_lbl_enc, X_train)\n",
    "print(evaluate_classifications(y_train, y_pred_mat, mult_lbl_enc.classes_))\n",
    "\n",
    "def run_distance_classifier(description_vec, X_train, y_train, X_test):\n",
    "\n",
    "    kn_clf = KNeighborsClassifier(n_neighbors=5, weights='distance', metric='cosine')\n",
    "    kn_clf.fit(description_vec, mult_lbl_enc.classes_)\n",
    "\n",
    "    max_acc = 0\n",
    "    threshold = 0.8\n",
    "    best_threshold = 0\n",
    "    while threshold <= 1:\n",
    "        y_dists, y_pred = kn_clf.kneighbors(X_train, 3)\n",
    "        y_tr_pred = np.zeros((X_train.shape[0], y_train.shape[1]))\n",
    "        for i in range(y_tr_pred.shape[0]):\n",
    "            y_tr_pred[i, y_pred[i]] = (y_dists[i] < threshold).astype(int)\n",
    "\n",
    "        acc = f1_score(y_train, y_tr_pred, average='micro')\n",
    "        # print(f'F1: {acc}, threshold: {threshold}')\n",
    "\n",
    "        if acc > max_acc:\n",
    "            max_acc = acc\n",
    "            best_threshold = threshold\n",
    "        threshold += 0.01\n",
    "\n",
    "    # print('predicting...')\n",
    "    y_dists, y_pred = kn_clf.kneighbors(X_test, 3)\n",
    "    y_pred_mat = np.zeros((X_test.shape[0], y_train.shape[1]))\n",
    "    for i in range(y_pred.shape[0]):\n",
    "        y_pred_mat[i, y_pred[i][0]] = (y_dists[i][0] < best_threshold).astype(int)\n",
    "\n",
    "    # dists = cosine_similarity(X_train, description_vec)\n",
    "    # print(dists)\n",
    "\n",
    "    #\n",
    "    # dists = cosine_similarity(X_test, description_vec)\n",
    "    # y_pred_mat = dists > best_threshold\n",
    "\n",
    "    return y_pred_mat\n",
    "\n",
    "# y_pred_mat = run_distance_classifier(description_vec, X_train, y_train, X_train)\n",
    "# evaluate_classifications(y_train, y_pred_mat, mult_lbl_enc.classes_)"
   ]
  },
  {
   "cell_type": "code",
   "execution_count": 83,
   "id": "88a5848b",
   "metadata": {},
   "outputs": [
    {
     "data": {
      "application/vnd.jupyter.widget-view+json": {
       "model_id": "aae1ef746a3d47568407adbe3203e0b7",
       "version_major": 2,
       "version_minor": 0
      },
      "text/plain": [
       "interactive(children=(Dropdown(description='code', options=('A', 'B', 'D', 'F', 'H', 'K', 'L', 'N', 'P', 'R', …"
      ]
     },
     "metadata": {},
     "output_type": "display_data"
    },
    {
     "data": {
      "text/plain": [
       "<function __main__.show_truth_pred_tbl(code)>"
      ]
     },
     "execution_count": 83,
     "metadata": {},
     "output_type": "execute_result"
    }
   ],
   "source": [
    "def get_idxes_with_cat(_y_train: np.ndarray, code:str):\n",
    "    y_train_raw = mult_lbl_enc.inverse_transform(_y_train)\n",
    "    return [i for i,cs in enumerate(y_train_raw) if code in cs]\n",
    "\n",
    "def get_truth_pred_pairs(_y_train, _y_pred, indices):\n",
    "    truth = mult_lbl_enc.inverse_transform(_y_train[indices])\n",
    "    pred = _y_pred[indices]\n",
    "    data = list(zip(indices, truth, pred))\n",
    "    return pd.DataFrame(data, columns=['id', 'truth', 'predicted'])\n",
    "\n",
    "def show_truth_pred_tbl(code):\n",
    "    cat_idxes = get_idxes_with_cat(y_train, code)\n",
    "    return get_truth_pred_pairs(y_train, y_pred_mat, cat_idxes)\n",
    "\n",
    "interact(show_truth_pred_tbl, code=mult_lbl_enc.classes_)"
   ]
  },
  {
   "cell_type": "markdown",
   "id": "a209ba5c",
   "metadata": {
    "pycharm": {
     "name": "#%% md\n"
    }
   },
   "source": [
    "Seems like the baseline is not performing well on predicting classes for:\n",
    "\n",
    "A, F, N, S, T, W, X, Y"
   ]
  },
  {
   "cell_type": "code",
   "execution_count": 93,
   "id": "3dd9f4eb",
   "metadata": {
    "pycharm": {
     "name": "#%%\n"
    }
   },
   "outputs": [
    {
     "data": {
      "application/vnd.jupyter.widget-view+json": {
       "model_id": "b8e61eecaf204c8c975baeb702f7ae19",
       "version_major": 2,
       "version_minor": 0
      },
      "text/plain": [
       "interactive(children=(Dropdown(description='_cat', options=('A', 'B', 'D', 'F', 'H', 'K', 'L', 'N', 'P', 'R', …"
      ]
     },
     "metadata": {},
     "output_type": "display_data"
    },
    {
     "data": {
      "text/plain": [
       "<function __main__.view_record(_cat, _id)>"
      ]
     },
     "execution_count": 93,
     "metadata": {},
     "output_type": "execute_result"
    }
   ],
   "source": [
    "from sklearn.metrics.pairwise import cosine_similarity\n",
    "\n",
    "cat_dropdown = widgets.Dropdown(options=mult_lbl_enc.classes_)\n",
    "id_dropdown = widgets.Dropdown(options=get_idxes_with_cat(y_train, cat_dropdown.value))\n",
    "\n",
    "def refresh_id_dropdown(*args):\n",
    "    id_dropdown.options = get_idxes_with_cat(y_train, cat_dropdown.value)\n",
    "\n",
    "cat_dropdown.observe(refresh_id_dropdown, 'value')\n",
    "\n",
    "def show_cosine_similarity(_id):\n",
    "    cos_sim = cosine_similarity(X_train[_id], description_vec)[0]\n",
    "    cos_sim = pd.DataFrame(list(zip(mult_lbl_enc.classes_, cos_sim)), columns=['category', 'cos sim'])\n",
    "    cos_sim = cos_sim.set_index('category').T\n",
    "    grid_kws = {\"height_ratios\": (.9, .05), \"hspace\": -0.5}\n",
    "    f, (ax, cbar_ax) = plt.subplots(2, gridspec_kw=grid_kws)\n",
    "    sns.heatmap(cos_sim, square=True, ax=ax,\n",
    "                cbar_ax=cbar_ax,\n",
    "                cbar_kws={\"orientation\": \"horizontal\"},\n",
    "                cmap='Greens')\n",
    "\n",
    "def show_keywords_true_pred(_id, _cat):\n",
    "    fig, (ax1, ax2) = plt.subplots(1, 2, figsize=(10,5))\n",
    "    ax1.title.set_text('BOW from sample transcipt')\n",
    "    ax2.title.set_text('BOW of predicted class')\n",
    "    explain_bow_vector(X_train[_id], ax=ax1)\n",
    "    explain_category(_cat, ax=ax2)\n",
    "\n",
    "def view_record(_cat, _id):\n",
    "    global test\n",
    "    pred_cat = mult_lbl_enc.inverse_transform(np.array(y_pred_mat)[_id:_id+1])[0][0]\n",
    "    record = train_set.iloc[_id]\n",
    "    info = [f\"Index: {_id}\",\n",
    "           f\"Id: {record['record_id']}\",\n",
    "           f\"Actual: {mult_lbl_enc.inverse_transform(y_train[_id:_id+1])}\",\n",
    "           f\"Predicted: {pred_cat}\"]\n",
    "    display(*info)\n",
    "    show_keywords_true_pred(_id, pred_cat)\n",
    "    show_cosine_similarity(_id)\n",
    "\n",
    "interact(view_record, _cat=cat_dropdown, _id=id_dropdown)"
   ]
  },
  {
   "cell_type": "code",
   "execution_count": 100,
   "id": "57da71e4",
   "metadata": {
    "pycharm": {
     "name": "#%%\n"
    }
   },
   "outputs": [],
   "source": [
    "# Note: print statements does not work in PyCharm\n",
    "evaluate_classifications(y_train, y_pred_mat, mult_lbl_enc.classes_)\n",
    "\n",
    "def plot_multilabel_conf_matrix(targets, predictions):\n",
    "    print(f\"multilabel_confusion_matrix:\")\n",
    "    conf_mat = multilabel_confusion_matrix(targets, predictions)\n",
    "\n",
    "    for cls, mat in zip(mult_lbl_enc.classes_, conf_mat):\n",
    "        fig = plt.figure(figsize=(1,1))\n",
    "        ax = fig.add_subplot()\n",
    "        ax.set_title(cls)\n",
    "        sns.heatmap(mat, ax=ax, cmap='Blues', annot=True, fmt=\"d\")\n",
    "        ax.set_xlabel('pred')\n",
    "        ax.set_ylabel('true')\n",
    "        fig.show()\n",
    "\n",
    "# plot_multilabel_conf_matrix(y_train, y_pred_mat)"
   ]
  },
  {
   "cell_type": "markdown",
   "id": "c90dbae6",
   "metadata": {
    "pycharm": {
     "name": "#%% md\n"
    }
   },
   "source": [
    "For `average` parameter to take the average metrics over all classes, please see [documentation](https://scikit-learn.org/stable/modules/model_evaluation.html#from-binary-to-multiclass-and-multilabel)."
   ]
  },
  {
   "cell_type": "markdown",
   "id": "f8215587",
   "metadata": {
    "pycharm": {
     "name": "#%% md\n"
    }
   },
   "source": [
    "## Binary Naive Bayes Classifier"
   ]
  },
  {
   "cell_type": "code",
   "execution_count": 101,
   "id": "c76bead7",
   "metadata": {},
   "outputs": [],
   "source": [
    "from sklearn.naive_bayes import MultinomialNB"
   ]
  },
  {
   "cell_type": "code",
   "execution_count": 104,
   "id": "0fbd55fa",
   "metadata": {},
   "outputs": [
    {
     "name": "stdout",
     "output_type": "stream",
     "text": [
      "0.8996624316147458\n",
      "0.9686068136604249\n"
     ]
    }
   ],
   "source": [
    "def run_binary_naive_bayes(X_train, y_train, X_test):\n",
    "    nclasses = y_train.shape[1]\n",
    "\n",
    "    y_pred_mat = np.zeros((X_test.shape[0], nclasses))\n",
    "    y_pred_probs = np.zeros((X_test.shape[0], nclasses))\n",
    "\n",
    "    for c in range(nclasses):\n",
    "        # iterate over the classes and make a classifier for each class\n",
    "\n",
    "        # skip classes with no test instances!\n",
    "        if not np.any(y_test[:, c]):\n",
    "            continue\n",
    "\n",
    "        clf = MultinomialNB(alpha=0.001)\n",
    "        clf.fit(X_train, y_train[:, c])\n",
    "\n",
    "        y_te_pred_c = clf.predict(X_test)\n",
    "        # y_pred_mat[:, c] = y_te_pred_c\n",
    "\n",
    "        y_pred_probs[:, c] = clf.predict_proba(X_test)[:, 1]\n",
    "        y_pred_mat[:, c] = y_pred_probs[:, c] > 0.1\n",
    "\n",
    "    return y_pred_mat, y_pred_probs\n",
    "\n",
    "y_pred_mat, y_pred_probs = run_binary_naive_bayes(X_train, y_train, X_train)  # performance on training set\n",
    "print(evaluate_classifications(y_train, y_pred_mat, mult_lbl_enc.classes_))\n",
    "print(evaluate_probabilities(y_train, y_pred_probs))"
   ]
  },
  {
   "cell_type": "markdown",
   "id": "f61f4540",
   "metadata": {
    "pycharm": {
     "name": "#%% md\n"
    }
   },
   "source": [
    "## Multiclass Naïve Bayes Classifier"
   ]
  },
  {
   "cell_type": "code",
   "execution_count": 106,
   "id": "7513251d",
   "metadata": {},
   "outputs": [
    {
     "data": {
      "text/plain": [
       "0.8245774213881883"
      ]
     },
     "execution_count": 106,
     "metadata": {},
     "output_type": "execute_result"
    }
   ],
   "source": [
    "def run_multiclass_naive_bayes(X_train, y_train, X_test):\n",
    "    clf = MultinomialNB(alpha=0.001, fit_prior=False)\n",
    "    clf.fit(X_train, np.argmax(y_train, 1))\n",
    "\n",
    "    y_pred_probs = clf.predict_proba(X_test)\n",
    "\n",
    "    y_pred_mat = y_pred_probs > 0.1\n",
    "\n",
    "    return y_pred_mat, y_pred_probs\n",
    "\n",
    "y_pred_mat, y_pred_probs = run_multiclass_naive_bayes(X_train, y_train, X_train)\n",
    "evaluate_classifications(y_train, y_pred_mat, mult_lbl_enc.classes_)\n",
    "evaluate_probabilities(y_train, y_pred_probs)"
   ]
  },
  {
   "cell_type": "markdown",
   "id": "b5d84ce8",
   "metadata": {
    "pycharm": {
     "name": "#%% md\n"
    }
   },
   "source": [
    "## SVM Classifier"
   ]
  },
  {
   "cell_type": "code",
   "execution_count": 165,
   "id": "e5082741",
   "metadata": {},
   "outputs": [
    {
     "data": {
      "text/plain": [
       "0.7270600612412199"
      ]
     },
     "execution_count": 165,
     "metadata": {},
     "output_type": "execute_result"
    }
   ],
   "source": [
    "from sklearn.svm import SVC\n",
    "\n",
    "def run_svm(X_train, y_train, X_test):\n",
    "    nclasses = y_train.shape[1]\n",
    "\n",
    "    clf = SVC(kernel='rbf', C=2)\n",
    "\n",
    "    clf.fit(X_train, np.argmax(y_train, 1))\n",
    "\n",
    "    y_pred = clf.predict(X_test)\n",
    "\n",
    "    y_pred_mat = np.zeros((y_pred.shape[0], nclasses))\n",
    "    y_pred_mat[np.arange(y_pred.shape[0]), y_pred] = 1\n",
    "\n",
    "    return y_pred_mat\n",
    "\n",
    "y_pred_mat = run_svm(X_train, y_train, X_train)\n",
    "evaluate_classifications(y_train, y_pred_mat, mult_lbl_enc.classes_)"
   ]
  },
  {
   "cell_type": "code",
   "execution_count": 166,
   "id": "bbfc0e16",
   "metadata": {},
   "outputs": [
    {
     "data": {
      "text/plain": [
       "0.9319308740445331"
      ]
     },
     "execution_count": 166,
     "metadata": {},
     "output_type": "execute_result"
    }
   ],
   "source": [
    "def run_binary_svm(X_train, y_train, X_test):\n",
    "    nclasses = y_train.shape[1]\n",
    "\n",
    "    y_pred_mat = np.zeros((X_test.shape[0], nclasses))\n",
    "\n",
    "    for c in range(nclasses):\n",
    "        # iterate over the classes and make a classifier for each class\n",
    "\n",
    "        # skip classes with no test instances!\n",
    "        if not np.any(y_test[:, c]):\n",
    "            continue\n",
    "\n",
    "        clf = SVC(kernel='rbf', C=2)\n",
    "        clf.fit(X_train, y_train[:, c])\n",
    "\n",
    "        y_te_pred_c = clf.predict(X_test)\n",
    "        y_pred_mat[:, c] = y_te_pred_c\n",
    "\n",
    "    return y_pred_mat\n",
    "\n",
    "y_pred_mat = run_binary_svm(X_train, y_train, X_train)\n",
    "evaluate_classifications(y_train, y_pred_mat, mult_lbl_enc.classes_)"
   ]
  },
  {
   "cell_type": "markdown",
   "id": "0407da9a",
   "metadata": {
    "pycharm": {
     "name": "#%% md\n"
    }
   },
   "source": [
    "## Test Different Stopwords and Descriptions"
   ]
  },
  {
   "cell_type": "code",
   "execution_count": 171,
   "id": "e11c6061",
   "metadata": {
    "pycharm": {
     "name": "#%%\n"
    }
   },
   "outputs": [],
   "source": [
    "def run_performance_assessment(method):\n",
    "    stopword_settings = [\n",
    "         [],\n",
    "         ['m'],\n",
    "         ['c'],\n",
    "         ['e'],\n",
    "         ['m', 'c'],\n",
    "         ['m', 'e'],\n",
    "         ['c', 'e'],\n",
    "         ['m', 'c', 'e']\n",
    "    ]\n",
    "\n",
    "    description_settings = ['ICPC only', 'CKS only', 'both']\n",
    "\n",
    "    f1_matrix = np.zeros((len(stopword_settings), len(description_settings)))\n",
    "    auroc_matrix = np.zeros((len(stopword_settings), len(description_settings)))\n",
    "\n",
    "    for j, selected_mode in enumerate(description_settings):\n",
    "        description_corpus = load_descriptions(selected_mode, mult_lbl_enc)\n",
    "        for i, s in enumerate(stopword_settings):\n",
    "            set_stopwords('m' in s, 'c' in s, 'e' in s)\n",
    "            description_vec, text_vectorizer = get_description_vectors(description_corpus, stopwords)\n",
    "\n",
    "            X_train = text_vectorizer.transform(train_set[key])\n",
    "\n",
    "            if method == 'nearest centroid':\n",
    "                y_pred_mat = run_nearest_centroid(description_vec, mult_lbl_enc, X_train)  # performance on training set\n",
    "                f1_matrix[i, j] = evaluate_classifications(y_train, y_pred_mat, mult_lbl_enc.classes_, show_report=False)\n",
    "            elif method == 'distance':\n",
    "                y_pred_mat = run_distance_classifier(description_vec, X_train, y_train, X_train)  # performance on training set\n",
    "                f1_matrix[i, j] = evaluate_classifications(y_train, y_pred_mat, mult_lbl_enc.classes_, show_report=False)\n",
    "            elif method == 'binary NB':\n",
    "                y_pred_mat, y_pred_probs = run_binary_naive_bayes(X_train, y_train, X_train)  # performance on training set\n",
    "                f1_matrix[i, j] = evaluate_classifications(y_train, y_pred_mat, mult_lbl_enc.classes_, show_report=False)\n",
    "                auroc_matrix[i, j] = evaluate_probabilities(y_train, y_pred_probs)\n",
    "            elif method == 'multiclass NB':\n",
    "                y_pred_mat, y_pred_probs = run_multiclass_naive_bayes(X_train, y_train, X_train)  # performance on training set\n",
    "                f1_matrix[i, j] = evaluate_classifications(y_train, y_pred_mat, mult_lbl_enc.classes_, show_report=False)\n",
    "                auroc_matrix[i, j] = evaluate_probabilities(y_train, y_pred_probs)\n",
    "            elif method == 'binary SVM':\n",
    "                y_pred_mat = run_binary_svm(X_train, y_train, X_train)  # performance on training set\n",
    "                f1_matrix[i, j] = evaluate_classifications(y_train, y_pred_mat, mult_lbl_enc.classes_, show_report=False)\n",
    "            elif method == 'multiclass SVM':\n",
    "                y_pred_mat = run_svm(X_train, y_train, X_train)  # performance on training set\n",
    "                f1_matrix[i, j] = evaluate_classifications(y_train, y_pred_mat, mult_lbl_enc.classes_, show_report=False)\n",
    "\n",
    "    max_idx = np.unravel_index(np.argmax(f1_matrix), f1_matrix.shape)\n",
    "    best_tr_f1 = np.max(f1_matrix)\n",
    "    best_stopwords = stopword_settings[max_idx[0]]\n",
    "    best_desc = description_settings[max_idx[1]]\n",
    "    print(f'Method: {method}. The best score on the training set was {best_tr_f1} with {best_stopwords} stopwords and {best_desc} code descriptions.')\n",
    "\n",
    "    print('F1 score matrix for the different settings we tried:')\n",
    "    print(f1_matrix)\n",
    "    print(f'...rows are stopword settings, {stopword_settings}, and columns are code descriptions, {description_settings}')\n",
    "\n",
    "    # use the best settings to run the classifier on the test set\n",
    "    description_corpus = load_descriptions(selected_mode, mult_lbl_enc)\n",
    "    set_stopwords('m' in s, 'c' in s, 'e' in s)\n",
    "    description_vec, text_vectorizer = get_description_vectors(description_corpus, stopwords)\n",
    "\n",
    "    X_test = text_vectorizer.transform(test_set[key])\n",
    "\n",
    "\n",
    "    if method == 'nearest centroid':\n",
    "        y_pred_mat = run_nearest_centroid(description_vec, mult_lbl_enc, X_test)  # performance on training set\n",
    "        f1 = evaluate_classifications(y_test, y_pred_mat, mult_lbl_enc.classes_, show_report=False)\n",
    "        auroc = evaluate_probabilities(y_test, y_pred_mat)\n",
    "    elif method == 'distance':\n",
    "        y_pred_mat = run_distance_classifier(description_vec, X_train, y_train, X_test)  # performance on training set\n",
    "        f1 = evaluate_classifications(y_test, y_pred_mat, mult_lbl_enc.classes_, show_report=False)\n",
    "        auroc = evaluate_probabilities(y_test, y_pred_mat)\n",
    "    elif method == 'binary NB':\n",
    "        y_pred_mat, y_pred_probs = run_binary_naive_bayes(X_train, y_train, X_test)  # performance on training set\n",
    "        f1 = evaluate_classifications(y_test, y_pred_mat, mult_lbl_enc.classes_, show_report=False)\n",
    "        auroc = evaluate_probabilities(y_test, y_pred_probs)\n",
    "    elif method == 'multiclass NB':\n",
    "        y_pred_mat, y_pred_probs = run_multiclass_naive_bayes(X_train, y_train, X_test)  # performance on training set\n",
    "        f1 = evaluate_classifications(y_test, y_pred_mat, mult_lbl_enc.classes_, show_report=False)\n",
    "        auroc = evaluate_probabilities(y_test, y_pred_probs)\n",
    "    elif method == 'binary SVM':\n",
    "        y_pred_mat = run_binary_svm(X_train, y_train, X_test)  # performance on training set\n",
    "        f1 = evaluate_classifications(y_test, y_pred_mat, mult_lbl_enc.classes_, show_report=False)\n",
    "        auroc = evaluate_probabilities(y_test, y_pred_mat)\n",
    "    elif method == 'multiclass SVM':\n",
    "        y_pred_mat = run_svm(X_train, y_train, X_test)  # performance on training set\n",
    "        f1 = evaluate_classifications(y_test, y_pred_mat, mult_lbl_enc.classes_, show_report=False)\n",
    "        auroc = evaluate_probabilities(y_test, y_pred_mat)\n",
    "\n",
    "    print(f'Method: {method}. The F1 score on the test set was {f1}.')\n",
    "\n",
    "    return auroc, f1, best_tr_f1, best_desc, best_stopwords\n"
   ]
  },
  {
   "cell_type": "code",
   "execution_count": 172,
   "id": "f30a779c",
   "metadata": {
    "pycharm": {
     "name": "#%%\n"
    }
   },
   "outputs": [
    {
     "name": "stdout",
     "output_type": "stream",
     "text": [
      "Method: nearest centroid. The best score on the training set was 0.3816126701225858 with ['c', 'e'] stopwords and both code descriptions.\n",
      "F1 score matrix for the different settings we tried:\n",
      "[[0.31520765 0.29348166 0.31008144]\n",
      " [0.31466271 0.30640457 0.32163871]\n",
      " [0.33729835 0.33198259 0.35640173]\n",
      " [0.3351539  0.31645548 0.3458048 ]\n",
      " [0.3660179  0.33138109 0.36245326]\n",
      " [0.32854623 0.31650406 0.34077005]\n",
      " [0.36591073 0.33935224 0.38161267]\n",
      " [0.36597902 0.35665587 0.37136543]]\n",
      "...rows are stopword settings, [[], ['m'], ['c'], ['e'], ['m', 'c'], ['m', 'e'], ['c', 'e'], ['m', 'c', 'e']], and columns are code descriptions, ['ICPC only', 'CKS only', 'both']\n",
      "Method: nearest centroid. The F1 score on the test set was 0.5801717580664949.\n",
      "Method: distance. The best score on the training set was 0.36615124885455985 with ['c', 'e'] stopwords and both code descriptions.\n",
      "F1 score matrix for the different settings we tried:\n",
      "[[0.31551099 0.29150394 0.28930735]\n",
      " [0.31494936 0.29517093 0.30069482]\n",
      " [0.33843554 0.32893537 0.342584  ]\n",
      " [0.31735226 0.31088084 0.33126457]\n",
      " [0.36292114 0.31341319 0.33715944]\n",
      " [0.3239798  0.31098005 0.33158829]\n",
      " [0.36440345 0.33022426 0.36615125]\n",
      " [0.36309384 0.32815486 0.33845522]]\n",
      "...rows are stopword settings, [[], ['m'], ['c'], ['e'], ['m', 'c'], ['m', 'e'], ['c', 'e'], ['m', 'c', 'e']], and columns are code descriptions, ['ICPC only', 'CKS only', 'both']\n",
      "Method: distance. The F1 score on the test set was 0.47580808080808085.\n",
      "Method: binary NB. The best score on the training set was 0.9292373183330631 with ['m', 'c'] stopwords and both code descriptions.\n",
      "F1 score matrix for the different settings we tried:\n",
      "[[0.88820138 0.91610868 0.921119  ]\n",
      " [0.88355946 0.92540634 0.92444016]\n",
      " [0.90821469 0.92283298 0.9228317 ]\n",
      " [0.89686578 0.92358082 0.92358082]\n",
      " [0.89966243 0.92738597 0.92923732]\n",
      " [0.89219562 0.92541519 0.92507694]\n",
      " [0.90027265 0.92717629 0.92796717]\n",
      " [0.89794758 0.9290036  0.9290036 ]]\n",
      "...rows are stopword settings, [[], ['m'], ['c'], ['e'], ['m', 'c'], ['m', 'e'], ['c', 'e'], ['m', 'c', 'e']], and columns are code descriptions, ['ICPC only', 'CKS only', 'both']\n",
      "Method: binary NB. The F1 score on the test set was 0.38634425156164287.\n",
      "Method: multiclass NB. The best score on the training set was 0.7299215096080476 with ['m', 'c'] stopwords and both code descriptions.\n",
      "F1 score matrix for the different settings we tried:\n",
      "[[0.71088964 0.7199865  0.7217231 ]\n",
      " [0.70668628 0.72420553 0.72855921]\n",
      " [0.7115389  0.72132484 0.72308895]\n",
      " [0.71513906 0.72600383 0.72588428]\n",
      " [0.71239502 0.72813768 0.72992151]\n",
      " [0.70922834 0.72712307 0.72712307]\n",
      " [0.70650803 0.72660265 0.72848437]\n",
      " [0.70237949 0.72770932 0.72726829]]\n",
      "...rows are stopword settings, [[], ['m'], ['c'], ['e'], ['m', 'c'], ['m', 'e'], ['c', 'e'], ['m', 'c', 'e']], and columns are code descriptions, ['ICPC only', 'CKS only', 'both']\n",
      "Method: multiclass NB. The F1 score on the test set was 0.4498662598525299.\n",
      "Method: binary SVM. The best score on the training set was 0.9375 with ['c', 'e'] stopwords and CKS only code descriptions.\n",
      "F1 score matrix for the different settings we tried:\n",
      "[[0.84771495 0.77767077 0.80329477]\n",
      " [0.8276151  0.88460355 0.88000796]\n",
      " [0.93153671 0.82314663 0.82963988]\n",
      " [0.90978916 0.922189   0.92007877]\n",
      " [0.93193087 0.91671948 0.91343001]\n",
      " [0.90720534 0.92375525 0.92375525]\n",
      " [0.93047739 0.9375     0.9375    ]\n",
      " [0.93193087 0.9375     0.9375    ]]\n",
      "...rows are stopword settings, [[], ['m'], ['c'], ['e'], ['m', 'c'], ['m', 'e'], ['c', 'e'], ['m', 'c', 'e']], and columns are code descriptions, ['ICPC only', 'CKS only', 'both']\n",
      "Method: binary SVM. The F1 score on the test set was 0.20587301587301587.\n",
      "Method: multiclass SVM. The best score on the training set was 0.7270600612412199 with ['m', 'c'] stopwords and ICPC only code descriptions.\n",
      "F1 score matrix for the different settings we tried:\n",
      "[[0.69524165 0.66679389 0.66679389]\n",
      " [0.69199152 0.71153569 0.70243731]\n",
      " [0.72356078 0.68010388 0.6829531 ]\n",
      " [0.72190048 0.72617891 0.72617891]\n",
      " [0.72706006 0.72617891 0.72617891]\n",
      " [0.72190048 0.72617891 0.72617891]\n",
      " [0.72706006 0.72617891 0.72617891]\n",
      " [0.72706006 0.72617891 0.72617891]]\n",
      "...rows are stopword settings, [[], ['m'], ['c'], ['e'], ['m', 'c'], ['m', 'e'], ['c', 'e'], ['m', 'c', 'e']], and columns are code descriptions, ['ICPC only', 'CKS only', 'both']\n",
      "Method: multiclass SVM. The F1 score on the test set was 0.2431389307859896.\n"
     ]
    }
   ],
   "source": [
    "auroc = {}\n",
    "f1scores = {}\n",
    "tr_f1scores = {}\n",
    "best_descriptions = {}\n",
    "best_stopwords = {}\n",
    "\n",
    "def run_and_record_metrics(classifier_name):\n",
    "    auroc[classifier_name], f1scores[classifier_name], tr_f1scores[classifier_name], \\\n",
    "        best_descriptions[classifier_name], best_stopwords[classifier_name] \\\n",
    "    = run_performance_assessment(classifier_name)\n",
    "\n",
    "classifiers_to_run = [\n",
    "    'nearest centroid',\n",
    "    'distance',\n",
    "    'binary NB',\n",
    "    'multiclass NB',\n",
    "    'binary SVM', \n",
    "    'multiclass SVM'\n",
    "]    \n",
    "\n",
    "for classifier in classifiers_to_run:\n",
    "    run_and_record_metrics(classifier)"
   ]
  },
  {
   "cell_type": "markdown",
   "id": "f0567a1f",
   "metadata": {},
   "source": [
    "It looks like there is lots of overfitting of the classifiers above, as there is high trainign set performance and low test set performance, especially when using multiple binary classifiers. "
   ]
  },
  {
   "cell_type": "code",
   "execution_count": null,
   "id": "9300eab6",
   "metadata": {
    "pycharm": {
     "name": "#%%\n"
    }
   },
   "outputs": [],
   "source": [
    "f1scores"
   ]
  },
  {
   "cell_type": "code",
   "execution_count": null,
   "id": "632fcd94",
   "metadata": {
    "pycharm": {
     "name": "#%%\n"
    }
   },
   "outputs": [],
   "source": [
    "tr_f1scores"
   ]
  },
  {
   "cell_type": "code",
   "execution_count": null,
   "id": "5bd2b464",
   "metadata": {
    "pycharm": {
     "name": "#%%\n"
    }
   },
   "outputs": [],
   "source": [
    "best_stopwords"
   ]
  },
  {
   "cell_type": "code",
   "execution_count": null,
   "id": "017d261a",
   "metadata": {
    "pycharm": {
     "name": "#%%\n"
    }
   },
   "outputs": [],
   "source": [
    "best_descriptions"
   ]
  },
  {
   "cell_type": "code",
   "execution_count": null,
   "id": "d78a5275",
   "metadata": {
    "pycharm": {
     "name": "#%%\n"
    }
   },
   "outputs": [],
   "source": [
    "auroc"
   ]
  },
  {
   "cell_type": "code",
   "execution_count": null,
   "id": "4c85f2e1",
   "metadata": {
    "pycharm": {
     "name": "#%%\n"
    }
   },
   "outputs": [],
   "source": []
  }
 ],
 "metadata": {
  "kernelspec": {
   "display_name": "py39",
   "language": "python",
   "name": "py39"
  },
  "language_info": {
   "codemirror_mode": {
    "name": "ipython",
    "version": 3
   },
   "file_extension": ".py",
   "mimetype": "text/x-python",
   "name": "python",
   "nbconvert_exporter": "python",
   "pygments_lexer": "ipython3",
   "version": "3.9.5"
  }
 },
 "nbformat": 4,
 "nbformat_minor": 5
}