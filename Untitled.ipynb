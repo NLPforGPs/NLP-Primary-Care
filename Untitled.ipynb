{
 "cells": [
  {
   "cell_type": "code",
   "execution_count": 1,
   "outputs": [],
   "source": [
    "import numpy as np\n",
    "import pandas as pd\n",
    "%load_ext autoreload\n",
    "%autoreload 2"
   ],
   "metadata": {
    "collapsed": false,
    "pycharm": {
     "name": "#%%\n"
    }
   }
  },
  {
   "cell_type": "code",
   "execution_count": 2,
   "id": "fecac653-2d0a-4fcd-a20a-10adb23cb237",
   "metadata": {},
   "outputs": [],
   "source": [
    "\n",
    "from oneinamillion.pc_consultation import PCConsultation"
   ]
  },
  {
   "cell_type": "code",
   "execution_count": 3,
   "id": "1c6e09ab-d450-4d5c-8323-0f566e3856ca",
   "metadata": {},
   "outputs": [
    {
     "name": "stderr",
     "output_type": "stream",
     "text": [
      "The current IDs only have record documents.\n",
      "['011119' '020105' '030311' '030501' '030509' '030510' '050609' '050717'\n",
      " '050719' '071010' '071201' '071202' '071203' '071204' '071205' '071206'\n",
      " '071207' '071208' '071209' '071210' '071211' '071212' '071213' '071214'\n",
      " '081310' '081608' '081610' '091410' '091411' '091416' '101705' '101707'\n",
      " '111906' '111908' '112004' '122110']\n",
      "The current IDs only have transcript documents.\n",
      "['-081308' '010103' '010105' '020107' '030501(p.2)' '030501(p1)'\n",
      " '030509(p.1)' '030509(p.2)' '030510 (p.1)' '030510 (p.2)' '040417'\n",
      " '050605' '050609a' '050717 (Dr reads wrong number)' '060806' '060811'\n",
      " '060812' '060906' '071002' '071010(a)' '071012' '081310(b)' '081310(c)'\n",
      " '081310a' '081601' '081606' '081608 (1 of 2)' '081608 (2 of 2)' '091402'\n",
      " '091404' '091405' '091410 & 091411' '091503' '101705 and 101707' '101801'\n",
      " '111906 (2of2)' '111906(1 of 2)' '112002' '112004 & 1112005' '112014'\n",
      " '200105' '50719']\n"
     ]
    }
   ],
   "source": [
    "\n",
    "parser = PCConsultation()\n",
    "\n",
    "orig_dataset = parser.get_pd()"
   ]
  },
  {
   "cell_type": "markdown",
   "id": "a1ea4eb6-0bd9-43b8-98cc-c26caca9fa97",
   "metadata": {
    "pycharm": {
     "name": "#%% md\n"
    }
   },
   "source": [
    "# Data preparation\n",
    "\n",
    "First split the orig_dataset into train and test set, then we need to\n",
    "pre-process the transcript data\n",
    "\n",
    "This includes, cleaning text, stemming and lemmatization\n"
   ]
  },
  {
   "cell_type": "code",
   "execution_count": 4,
   "id": "94ebd565-9874-4be0-ad07-95cc6545e433",
   "metadata": {},
   "outputs": [
    {
     "data": {
      "text/plain": "   index  record_id      icpc_codes  \\\n0      0      10112  ['K85', 'P76']   \n1      1      50709  ['R04', 'U04']   \n2      2      20208         ['H82']   \n3      3      50601  ['K85', 'P15']   \n4      4     111915  ['D95', 'P74']   \n\n                                          pt_records transcript__start_date  \\\n0  [{'date': datetime.datetime(2014, 8, 13, 0, 0)...    2014-06-16 10:33:28   \n1  [{'date': datetime.datetime(2015, 1, 26, 0, 0)...    2014-11-05 19:40:49   \n2  [{'date': datetime.datetime(2014, 11, 3, 0, 0)...    2014-09-08 10:43:09   \n3  [{'date': datetime.datetime(2014, 12, 5, 0, 0)...    2014-11-05 09:27:26   \n4  [{'date': datetime.datetime(2015, 5, 29, 0, 0)...    2015-04-28 12:17:47   \n\n  transcript__duration                           transcript__conversation  \n0              0:16:17  [('GP', 'How are you sir?'), ('Patient', \"I'm ...  \n1              0:13:20  [('info', 'Oh, can I 0:00:00'), ('GP', \"___. Y...  \n2              0:11:33  [('Doc', 'Morning NAME.'), ('Pat', 'Hi, how yo...  \n3              0:19:21  [('GP', \"Thank you very much for this. Right, ...  \n4              0:19:41  [('DOC', 'Thank you, what number are you on? S...  ",
      "text/html": "<div>\n<style scoped>\n    .dataframe tbody tr th:only-of-type {\n        vertical-align: middle;\n    }\n\n    .dataframe tbody tr th {\n        vertical-align: top;\n    }\n\n    .dataframe thead th {\n        text-align: right;\n    }\n</style>\n<table border=\"1\" class=\"dataframe\">\n  <thead>\n    <tr style=\"text-align: right;\">\n      <th></th>\n      <th>index</th>\n      <th>record_id</th>\n      <th>icpc_codes</th>\n      <th>pt_records</th>\n      <th>transcript__start_date</th>\n      <th>transcript__duration</th>\n      <th>transcript__conversation</th>\n    </tr>\n  </thead>\n  <tbody>\n    <tr>\n      <th>0</th>\n      <td>0</td>\n      <td>10112</td>\n      <td>['K85', 'P76']</td>\n      <td>[{'date': datetime.datetime(2014, 8, 13, 0, 0)...</td>\n      <td>2014-06-16 10:33:28</td>\n      <td>0:16:17</td>\n      <td>[('GP', 'How are you sir?'), ('Patient', \"I'm ...</td>\n    </tr>\n    <tr>\n      <th>1</th>\n      <td>1</td>\n      <td>50709</td>\n      <td>['R04', 'U04']</td>\n      <td>[{'date': datetime.datetime(2015, 1, 26, 0, 0)...</td>\n      <td>2014-11-05 19:40:49</td>\n      <td>0:13:20</td>\n      <td>[('info', 'Oh, can I 0:00:00'), ('GP', \"___. Y...</td>\n    </tr>\n    <tr>\n      <th>2</th>\n      <td>2</td>\n      <td>20208</td>\n      <td>['H82']</td>\n      <td>[{'date': datetime.datetime(2014, 11, 3, 0, 0)...</td>\n      <td>2014-09-08 10:43:09</td>\n      <td>0:11:33</td>\n      <td>[('Doc', 'Morning NAME.'), ('Pat', 'Hi, how yo...</td>\n    </tr>\n    <tr>\n      <th>3</th>\n      <td>3</td>\n      <td>50601</td>\n      <td>['K85', 'P15']</td>\n      <td>[{'date': datetime.datetime(2014, 12, 5, 0, 0)...</td>\n      <td>2014-11-05 09:27:26</td>\n      <td>0:19:21</td>\n      <td>[('GP', \"Thank you very much for this. Right, ...</td>\n    </tr>\n    <tr>\n      <th>4</th>\n      <td>4</td>\n      <td>111915</td>\n      <td>['D95', 'P74']</td>\n      <td>[{'date': datetime.datetime(2015, 5, 29, 0, 0)...</td>\n      <td>2015-04-28 12:17:47</td>\n      <td>0:19:41</td>\n      <td>[('DOC', 'Thank you, what number are you on? S...</td>\n    </tr>\n  </tbody>\n</table>\n</div>"
     },
     "execution_count": 4,
     "metadata": {},
     "output_type": "execute_result"
    }
   ],
   "source": [
    "orig_dataset.head()"
   ]
  },
  {
   "cell_type": "code",
   "execution_count": 5,
   "id": "310fb443-83b6-4e2d-a5d7-79b9b8c662fd",
   "metadata": {
    "pycharm": {
     "name": "#%%\n"
    }
   },
   "outputs": [
    {
     "name": "stderr",
     "output_type": "stream",
     "text": [
      "[nltk_data] Downloading package wordnet to\n",
      "[nltk_data]     C:\\Users\\Vico\\AppData\\Roaming\\nltk_data...\n",
      "[nltk_data]   Package wordnet is already up-to-date!\n"
     ]
    },
    {
     "data": {
      "text/plain": "   index  record_id      icpc_codes  \\\n0      0      10112  ['K85', 'P76']   \n1      1      50709  ['R04', 'U04']   \n2      2      20208         ['H82']   \n3      3      50601  ['K85', 'P15']   \n4      4     111915  ['D95', 'P74']   \n\n                                          pt_records transcript__start_date  \\\n0  [{'date': datetime.datetime(2014, 8, 13, 0, 0)...    2014-06-16 10:33:28   \n1  [{'date': datetime.datetime(2015, 1, 26, 0, 0)...    2014-11-05 19:40:49   \n2  [{'date': datetime.datetime(2014, 11, 3, 0, 0)...    2014-09-08 10:43:09   \n3  [{'date': datetime.datetime(2014, 12, 5, 0, 0)...    2014-11-05 09:27:26   \n4  [{'date': datetime.datetime(2015, 5, 29, 0, 0)...    2015-04-28 12:17:47   \n\n  transcript__duration                           transcript__conversation  \\\n0              0:16:17  [('GP', 'How are you sir?'), ('Patient', \"I'm ...   \n1              0:13:20  [('info', 'Oh, can I 0:00:00'), ('GP', \"___. Y...   \n2              0:11:33  [('Doc', 'Morning NAME.'), ('Pat', 'Hi, how yo...   \n3              0:19:21  [('GP', \"Thank you very much for this. Right, ...   \n4              0:19:41  [('DOC', 'Thank you, what number are you on? S...   \n\n    codes                     transcript__conversation_clean  \n0  [K, P]  [[GP, How sir], [Patient, Im bad moment actual...  \n1  [R, U]  [[info, Oh I 00000], [GP, Youre 050709 So I gi...  \n2     [H]  [[Doc, Morning NAME], [Pat, Hi], [Doc, How], [...  \n3  [K, P]  [[GP, Thank much Right youre 050601 according]...  \n4  [D, P]  [[DOC, Thank number Sixteen Hi I Doctor Name I...  ",
      "text/html": "<div>\n<style scoped>\n    .dataframe tbody tr th:only-of-type {\n        vertical-align: middle;\n    }\n\n    .dataframe tbody tr th {\n        vertical-align: top;\n    }\n\n    .dataframe thead th {\n        text-align: right;\n    }\n</style>\n<table border=\"1\" class=\"dataframe\">\n  <thead>\n    <tr style=\"text-align: right;\">\n      <th></th>\n      <th>index</th>\n      <th>record_id</th>\n      <th>icpc_codes</th>\n      <th>pt_records</th>\n      <th>transcript__start_date</th>\n      <th>transcript__duration</th>\n      <th>transcript__conversation</th>\n      <th>codes</th>\n      <th>transcript__conversation_clean</th>\n    </tr>\n  </thead>\n  <tbody>\n    <tr>\n      <th>0</th>\n      <td>0</td>\n      <td>10112</td>\n      <td>['K85', 'P76']</td>\n      <td>[{'date': datetime.datetime(2014, 8, 13, 0, 0)...</td>\n      <td>2014-06-16 10:33:28</td>\n      <td>0:16:17</td>\n      <td>[('GP', 'How are you sir?'), ('Patient', \"I'm ...</td>\n      <td>[K, P]</td>\n      <td>[[GP, How sir], [Patient, Im bad moment actual...</td>\n    </tr>\n    <tr>\n      <th>1</th>\n      <td>1</td>\n      <td>50709</td>\n      <td>['R04', 'U04']</td>\n      <td>[{'date': datetime.datetime(2015, 1, 26, 0, 0)...</td>\n      <td>2014-11-05 19:40:49</td>\n      <td>0:13:20</td>\n      <td>[('info', 'Oh, can I 0:00:00'), ('GP', \"___. Y...</td>\n      <td>[R, U]</td>\n      <td>[[info, Oh I 00000], [GP, Youre 050709 So I gi...</td>\n    </tr>\n    <tr>\n      <th>2</th>\n      <td>2</td>\n      <td>20208</td>\n      <td>['H82']</td>\n      <td>[{'date': datetime.datetime(2014, 11, 3, 0, 0)...</td>\n      <td>2014-09-08 10:43:09</td>\n      <td>0:11:33</td>\n      <td>[('Doc', 'Morning NAME.'), ('Pat', 'Hi, how yo...</td>\n      <td>[H]</td>\n      <td>[[Doc, Morning NAME], [Pat, Hi], [Doc, How], [...</td>\n    </tr>\n    <tr>\n      <th>3</th>\n      <td>3</td>\n      <td>50601</td>\n      <td>['K85', 'P15']</td>\n      <td>[{'date': datetime.datetime(2014, 12, 5, 0, 0)...</td>\n      <td>2014-11-05 09:27:26</td>\n      <td>0:19:21</td>\n      <td>[('GP', \"Thank you very much for this. Right, ...</td>\n      <td>[K, P]</td>\n      <td>[[GP, Thank much Right youre 050601 according]...</td>\n    </tr>\n    <tr>\n      <th>4</th>\n      <td>4</td>\n      <td>111915</td>\n      <td>['D95', 'P74']</td>\n      <td>[{'date': datetime.datetime(2015, 5, 29, 0, 0)...</td>\n      <td>2015-04-28 12:17:47</td>\n      <td>0:19:41</td>\n      <td>[('DOC', 'Thank you, what number are you on? S...</td>\n      <td>[D, P]</td>\n      <td>[[DOC, Thank number Sixteen Hi I Doctor Name I...</td>\n    </tr>\n  </tbody>\n</table>\n</div>"
     },
     "execution_count": 5,
     "metadata": {},
     "output_type": "execute_result"
    }
   ],
   "source": [
    "from preprocessing.data import extract_icpc_categories\n",
    "from preprocessing.text import preprocess_transcripts\n",
    "\n",
    "orig_dataset['codes'] = orig_dataset['icpc_codes'].apply(extract_icpc_categories)\n",
    "orig_dataset['transcript__conversation_clean'] = orig_dataset['transcript__conversation'].apply(preprocess_transcripts)\n",
    "\n",
    "# dataset = orig_dataset.explode(column='codes')\n",
    "# dataset['codes'] = dataset['codes'].astype('category')\n",
    "\n",
    "orig_dataset.head()"
   ]
  },
  {
   "cell_type": "code",
   "execution_count": 6,
   "outputs": [
    {
     "name": "stdout",
     "output_type": "stream",
     "text": [
      "<class 'pandas.core.frame.DataFrame'>\n",
      "RangeIndex: 241 entries, 0 to 240\n",
      "Data columns (total 9 columns):\n",
      " #   Column                          Non-Null Count  Dtype \n",
      "---  ------                          --------------  ----- \n",
      " 0   index                           241 non-null    int64 \n",
      " 1   record_id                       241 non-null    int64 \n",
      " 2   icpc_codes                      241 non-null    object\n",
      " 3   pt_records                      241 non-null    object\n",
      " 4   transcript__start_date          241 non-null    object\n",
      " 5   transcript__duration            241 non-null    object\n",
      " 6   transcript__conversation        241 non-null    object\n",
      " 7   codes                           241 non-null    object\n",
      " 8   transcript__conversation_clean  241 non-null    object\n",
      "dtypes: int64(2), object(7)\n",
      "memory usage: 17.1+ KB\n"
     ]
    }
   ],
   "source": [
    "orig_dataset.info()"
   ],
   "metadata": {
    "collapsed": false,
    "pycharm": {
     "name": "#%%\n"
    }
   }
  },
  {
   "cell_type": "code",
   "execution_count": 7,
   "outputs": [
    {
     "data": {
      "text/plain": "0    [K, P]\n1    [R, U]\n2       [H]\n3    [K, P]\n4    [D, P]\nName: codes, dtype: object"
     },
     "execution_count": 7,
     "metadata": {},
     "output_type": "execute_result"
    }
   ],
   "source": [
    "y = orig_dataset['codes']\n",
    "\n",
    "y.head()"
   ],
   "metadata": {
    "collapsed": false,
    "pycharm": {
     "name": "#%%\n"
    }
   }
  },
  {
   "cell_type": "code",
   "execution_count": 8,
   "outputs": [
    {
     "name": "stdout",
     "output_type": "stream",
     "text": [
      "['-' 'A' 'B' 'D' 'F' 'H' 'K' 'L' 'N' 'P' 'R' 'S' 'T' 'U' 'W' 'X' 'Y']\n"
     ]
    }
   ],
   "source": [
    "\n",
    "from sklearn.preprocessing import MultiLabelBinarizer\n",
    "\n",
    "mult_lbl_enc = MultiLabelBinarizer()\n",
    "y_hot = mult_lbl_enc.fit_transform(y)\n",
    "print(mult_lbl_enc.classes_)"
   ],
   "metadata": {
    "collapsed": false,
    "pycharm": {
     "name": "#%%\n"
    }
   }
  },
  {
   "cell_type": "code",
   "execution_count": 9,
   "outputs": [],
   "source": [
    "X = np.arange(orig_dataset['index'].shape[0]).reshape((-1, 1))"
   ],
   "metadata": {
    "collapsed": false,
    "pycharm": {
     "name": "#%%\n"
    }
   }
  },
  {
   "cell_type": "code",
   "execution_count": 10,
   "outputs": [],
   "source": [
    "from skmultilearn.model_selection import iterative_train_test_split\n",
    "\n",
    "X_train, y_train, X_test, y_test = iterative_train_test_split(X, y_hot, test_size=0.2)\n",
    "\n",
    "train_set = orig_dataset.iloc[X_train.flatten()]\n",
    "test_set = orig_dataset.iloc[X_test.flatten()]"
   ],
   "metadata": {
    "collapsed": false,
    "pycharm": {
     "name": "#%%\n"
    }
   }
  },
  {
   "cell_type": "code",
   "execution_count": 11,
   "outputs": [
    {
     "data": {
      "text/plain": "    index  record_id      icpc_codes  \\\n0       0      10112  ['K85', 'P76']   \n5       5     101708  ['K84', 'Y08']   \n8       8     111911  ['B80', 'D18']   \n10     10      30303  ['L09', 'L15']   \n13     13     112010         ['R76']   \n\n                                           pt_records transcript__start_date  \\\n0   [{'date': datetime.datetime(2014, 8, 13, 0, 0)...    2014-06-16 10:33:28   \n5   [{'date': datetime.datetime(2015, 4, 24, 0, 0)...    2015-02-24 12:39:49   \n8   [{'date': datetime.datetime(2015, 7, 21, 0, 0)...    2015-04-28 10:48:20   \n10  [{'date': datetime.datetime(2014, 12, 17, 0, 0...    2014-09-29 09:42:56   \n13  [{'date': datetime.datetime(2015, 5, 22, 0, 0)...    2015-03-23 16:10:30   \n\n   transcript__duration                           transcript__conversation  \\\n0               0:16:17  [('GP', 'How are you sir?'), ('Patient', \"I'm ...   \n5               0:18:49  [('PAT', 'He was supposed to come in and take ...   \n8               0:11:01  [('DOC', 'Hi, I am Doctor Name thanks for wait...   \n10              0:18:24  [('Doc', \"-been raised for a while, actually. ...   \n13              0:07:38  [('DOC', 'So?'), ('PAT', \"I had a fluey thing ...   \n\n     codes                     transcript__conversation_clean  \n0   [K, P]  [[GP, How sir], [Patient, Im bad moment actual...  \n5   [K, Y]  [[PAT, He supposed come take], [info, 00001], ...  \n8   [B, D]  [[DOC, Hi I Doctor Name thanks waiting How I h...  \n10  [L, L]  [[Doc, raised actually Ive worn knee], [Pat, O...  \n13     [R]  [[DOC, So], [PAT, I fluey thing five day Ive g...  ",
      "text/html": "<div>\n<style scoped>\n    .dataframe tbody tr th:only-of-type {\n        vertical-align: middle;\n    }\n\n    .dataframe tbody tr th {\n        vertical-align: top;\n    }\n\n    .dataframe thead th {\n        text-align: right;\n    }\n</style>\n<table border=\"1\" class=\"dataframe\">\n  <thead>\n    <tr style=\"text-align: right;\">\n      <th></th>\n      <th>index</th>\n      <th>record_id</th>\n      <th>icpc_codes</th>\n      <th>pt_records</th>\n      <th>transcript__start_date</th>\n      <th>transcript__duration</th>\n      <th>transcript__conversation</th>\n      <th>codes</th>\n      <th>transcript__conversation_clean</th>\n    </tr>\n  </thead>\n  <tbody>\n    <tr>\n      <th>0</th>\n      <td>0</td>\n      <td>10112</td>\n      <td>['K85', 'P76']</td>\n      <td>[{'date': datetime.datetime(2014, 8, 13, 0, 0)...</td>\n      <td>2014-06-16 10:33:28</td>\n      <td>0:16:17</td>\n      <td>[('GP', 'How are you sir?'), ('Patient', \"I'm ...</td>\n      <td>[K, P]</td>\n      <td>[[GP, How sir], [Patient, Im bad moment actual...</td>\n    </tr>\n    <tr>\n      <th>5</th>\n      <td>5</td>\n      <td>101708</td>\n      <td>['K84', 'Y08']</td>\n      <td>[{'date': datetime.datetime(2015, 4, 24, 0, 0)...</td>\n      <td>2015-02-24 12:39:49</td>\n      <td>0:18:49</td>\n      <td>[('PAT', 'He was supposed to come in and take ...</td>\n      <td>[K, Y]</td>\n      <td>[[PAT, He supposed come take], [info, 00001], ...</td>\n    </tr>\n    <tr>\n      <th>8</th>\n      <td>8</td>\n      <td>111911</td>\n      <td>['B80', 'D18']</td>\n      <td>[{'date': datetime.datetime(2015, 7, 21, 0, 0)...</td>\n      <td>2015-04-28 10:48:20</td>\n      <td>0:11:01</td>\n      <td>[('DOC', 'Hi, I am Doctor Name thanks for wait...</td>\n      <td>[B, D]</td>\n      <td>[[DOC, Hi I Doctor Name thanks waiting How I h...</td>\n    </tr>\n    <tr>\n      <th>10</th>\n      <td>10</td>\n      <td>30303</td>\n      <td>['L09', 'L15']</td>\n      <td>[{'date': datetime.datetime(2014, 12, 17, 0, 0...</td>\n      <td>2014-09-29 09:42:56</td>\n      <td>0:18:24</td>\n      <td>[('Doc', \"-been raised for a while, actually. ...</td>\n      <td>[L, L]</td>\n      <td>[[Doc, raised actually Ive worn knee], [Pat, O...</td>\n    </tr>\n    <tr>\n      <th>13</th>\n      <td>13</td>\n      <td>112010</td>\n      <td>['R76']</td>\n      <td>[{'date': datetime.datetime(2015, 5, 22, 0, 0)...</td>\n      <td>2015-03-23 16:10:30</td>\n      <td>0:07:38</td>\n      <td>[('DOC', 'So?'), ('PAT', \"I had a fluey thing ...</td>\n      <td>[R]</td>\n      <td>[[DOC, So], [PAT, I fluey thing five day Ive g...</td>\n    </tr>\n  </tbody>\n</table>\n</div>"
     },
     "execution_count": 11,
     "metadata": {},
     "output_type": "execute_result"
    }
   ],
   "source": [
    "# from sklearn.model_selection import StratifiedShuffleSplit\n",
    "#\n",
    "# split = StratifiedShuffleSplit(n_splits=1, test_size=0.3)\n",
    "# splits = split.split(dataset, dataset['codes'])\n",
    "#\n",
    "# for train_index, test_index in splits:\n",
    "#     train_set = dataset.iloc[train_index]\n",
    "#     test_set = dataset.iloc[test_index]\n",
    "\n",
    "train_set.head()"
   ],
   "metadata": {
    "collapsed": false,
    "pycharm": {
     "name": "#%%\n"
    }
   }
  },
  {
   "cell_type": "code",
   "execution_count": 12,
   "outputs": [],
   "source": [
    "# from matplotlib import pyplot as plt\n",
    "#\n",
    "# fig, (ax1, ax2) = plt.subplots(1,2)\n",
    "# fig.suptitle('Number of records')\n",
    "# ax1.set_title('train set')\n",
    "# ax2.set_title('test set')\n",
    "#\n",
    "#\n",
    "# train_set['codes'].value_counts().sort_index().plot(kind='bar', ax=ax1)\n",
    "# test_set['codes'].value_counts().sort_index().plot(kind='bar', ax=ax2)"
   ],
   "metadata": {
    "collapsed": false,
    "pycharm": {
     "name": "#%%\n"
    }
   }
  },
  {
   "cell_type": "code",
   "execution_count": 13,
   "outputs": [],
   "source": [
    "# from collections import Counter\n",
    "# from skmultilearn.model_selection.measures import get_combination_wise_output_matrix\n",
    "# \n",
    "# pd.DataFrame({\n",
    "#     'train': Counter(str(combination) for row in get_combination_wise_output_matrix(y_train, order=3) for combination in row),\n",
    "#     'test' : Counter(str(combination) for row in get_combination_wise_output_matrix(y_test, order=3) for combination in row)\n",
    "# }).T.fillna(0.0)"
   ],
   "metadata": {
    "collapsed": false,
    "pycharm": {
     "name": "#%%\n"
    }
   }
  },
  {
   "cell_type": "code",
   "execution_count": 14,
   "outputs": [],
   "source": [
    "from oneinamillion.clinical_codes.icpc import IcpcParser\n",
    "\n",
    "icpc_parser = IcpcParser()\n",
    "\n",
    "icpc_df = icpc_parser.get_pd()"
   ],
   "metadata": {
    "collapsed": false,
    "pycharm": {
     "name": "#%%\n"
    }
   }
  },
  {
   "cell_type": "code",
   "execution_count": 15,
   "outputs": [],
   "source": [
    "from preprocessing.text import utils_preprocess_text\n",
    "\n",
    "icpc_df['cat'] = icpc_df['Code'].astype('string').apply(lambda x: x[0].lower())\n",
    "\n",
    "clean_col = lambda x: utils_preprocess_text(x) if not pd.isna(x) else x\n",
    "icpc_df['criteria_prepared'] = icpc_df['criteria'].apply(clean_col)\n",
    "icpc_df['inclusion_prepared'] = icpc_df['inclusion'].apply(clean_col)\n",
    "icpc_df['preferred_prepared'] = icpc_df['preferred'].apply(clean_col)\n",
    "\n",
    "icpc_df['keywords'] = icpc_df[['preferred_prepared', 'criteria_prepared', 'inclusion_prepared']].fillna('').agg(\n",
    "    ' '.join, axis=1)\n",
    "\n",
    "icpc_keywords_df = icpc_df[['cat', 'keywords']].groupby('cat').agg(' '.join)"
   ],
   "metadata": {
    "collapsed": false,
    "pycharm": {
     "name": "#%%\n"
    }
   }
  },
  {
   "cell_type": "code",
   "execution_count": 16,
   "outputs": [],
   "source": [
    "icpc_corpus = icpc_keywords_df.iloc[1:, 0]"
   ],
   "metadata": {
    "collapsed": false,
    "pycharm": {
     "name": "#%%\n"
    }
   }
  },
  {
   "cell_type": "markdown",
   "source": [
    "## Baseline - Tf-idf from ICPC codes\n",
    "\n",
    "- extract keyword/ keyphrases from ICPC code descriptions\n",
    " - use three columns (inclusion/ preferred and criteria)\n",
    "\n",
    "- OR, with TF-iDF, assign a score to every word (or bigram) in the utterance,\n",
    "filter those with only high scores\n",
    "\n",
    "- For each utterance in a transcript, count the number of keyword or phrase matches for each ICPC code.\n",
    "- If number of matches > threshold, assign ICPC code\n"
   ],
   "metadata": {
    "collapsed": false,
    "pycharm": {
     "name": "#%% md\n"
    }
   }
  },
  {
   "cell_type": "code",
   "execution_count": 17,
   "outputs": [],
   "source": [
    "from sklearn.feature_extraction.text import CountVectorizer\n",
    "count_vec = CountVectorizer(binary=True, ngram_range=(1,2))\n",
    "\n",
    "icpc_count_vec = count_vec.fit_transform(icpc_corpus)\n",
    "vec_vocab = count_vec.vocabulary_"
   ],
   "metadata": {
    "collapsed": false,
    "pycharm": {
     "name": "#%%\n"
    }
   }
  },
  {
   "cell_type": "code",
   "execution_count": 18,
   "outputs": [
    {
     "data": {
      "text/plain": "{'pain': 6241,\n 'general': 3711,\n 'multiple': 5576,\n 'site': 7965,\n 'chronic': 1425,\n 'ache': 147,\n 'chills': 1392,\n 'rigor': 7645,\n 'shiver': 7884,\n 'fever': 3392,\n 'pyrexia': 7281,\n 'weakness': 9479,\n 'tiredness': 8818,\n 'fatigue': 3279,\n 'syndrome': 8503,\n 'exhaustion': 3122,\n 'lassitude': 4851,\n 'lethargy': 4925,\n 'postviral': 6860,\n 'feeling': 3337,\n 'ill': 4244,\n 'malaise': 5174,\n 'fainting': 3261,\n 'syncope': 8500,\n 'blackout': 881,\n 'collapse': 1543,\n 'vasovagal': 9307,\n 'attack': 674,\n 'coma': 1564,\n 'stupor': 8349,\n 'swelling': 8451,\n 'lump': 5088,\n 'mass': 5271,\n 'nos': 5888,\n 'sweating': 8447,\n 'problem': 7015,\n 'hyperhydrosis': 4161,\n 'diffuse': 2285,\n 'localised': 5016,\n 'bleeding': 893,\n 'haemorrhage': 3902,\n 'one': 6065,\n 'organ': 6134,\n 'chest': 1356,\n 'concern': 1681,\n 'fear': 3289,\n 'medical': 5325,\n 'treatment': 8951,\n 'consequence': 1759,\n 'drug': 2597,\n 'irritable': 4682,\n 'infant': 4382,\n 'excessively': 3112,\n 'cry': 1925,\n 'restless': 7563,\n 'appearance': 523,\n 'euthanasia': 3036,\n 'request': 7514,\n 'discussion': 2349,\n 'risk': 7655,\n 'factor': 3231,\n 'malignancy': 5205,\n 'past': 6445,\n 'personal': 6588,\n 'family': 3270,\n 'history': 4076,\n 'contact': 1781,\n 'infectious': 4449,\n 'disease': 2351,\n 'previous': 6991,\n 'episode': 2980,\n 'death': 2027,\n 'dying': 2674,\n 'cancer': 1148,\n 'related': 7456,\n 'specific': 8131,\n 'chapter': 1322,\n 'patient': 6461,\n 'without': 9546,\n 'diagnosis': 2256,\n 'proven': 7147,\n 'limited': 4981,\n 'function': 3643,\n 'disability': 2313,\n 'limitation': 4977,\n 'symptom': 8479,\n 'complaint': 1573,\n 'clumsiness': 1500,\n 'drowsiness': 2595,\n 'fall': 3263,\n 'somnolence': 8099,\n 'tuberculosis': 9002,\n 'conversion': 1815,\n 'positive': 6810,\n 'tuberculin': 9000,\n 'skin': 7992,\n 'test': 8675,\n 'demonstration': 2137,\n 'mycobacterium': 5630,\n 'microscopy': 5442,\n 'culture': 1938,\n 'characteristic': 1325,\n 'xray': 9612,\n 'histological': 4070,\n 'biopsy': 859,\n 'late': 4858,\n 'effect': 2793,\n 'infection': 4404,\n 'body': 972,\n 'measles': 5303,\n 'prodrome': 7083,\n 'injected': 4516,\n 'conjunctiva': 1740,\n 'cough': 1851,\n 'plus': 6713,\n 'white': 9521,\n 'speck': 8145,\n 'red': 7402,\n 'base': 786,\n 'mucous': 5569,\n 'membrane': 5369,\n 'cheek': 1346,\n 'kopliks': 4788,\n 'spot': 8199,\n 'confluent': 1717,\n 'maculopapular': 5156,\n 'eruption': 3004,\n 'spreading': 8207,\n 'face': 3217,\n 'atypical': 702,\n 'exanthem': 3095,\n 'partially': 6419,\n 'immune': 4276,\n 'person': 6585,\n 'epidemic': 2956,\n 'serological': 7843,\n 'evidence': 3048,\n 'acute': 181,\n 'complication': 1656,\n 'chickenpox': 1365,\n 'vesicular': 9364,\n 'appears': 549,\n 'successive': 8382,\n 'crop': 1915,\n 'lesion': 4909,\n 'evolving': 3086,\n 'rapidly': 7334,\n 'superficial': 8398,\n 'papule': 6359,\n 'vesicle': 9357,\n 'eventually': 3046,\n 'scab': 7709,\n 'malaria': 5177,\n 'intermittent': 4601,\n 'chill': 1389,\n 'resident': 7532,\n 'recent': 7373,\n 'visitor': 9402,\n 'malarial': 5180,\n 'region': 7440,\n 'parasite': 6386,\n 'form': 3576,\n 'peripheral': 6562,\n 'blood': 938,\n 'rubella': 7678,\n 'enlarged': 2926,\n 'lymph': 5116,\n 'node': 5838,\n 'often': 6046,\n 'suboccipital': 8374,\n 'postauricular': 6824,\n 'macular': 5151,\n 'rash': 7336,\n 'trunk': 8992,\n 'proximal': 7162,\n 'portion': 6801,\n 'limb': 4969,\n 'mononucleosis': 5508,\n 'inflammation': 4471,\n 'tonsil': 8851,\n 'pharynx': 6613,\n 'lymphadenopathy': 5129,\n 'confined': 1707,\n 'anterior': 481,\n 'cervical': 1282,\n 'either': 2822,\n 'lymphocyte': 5136,\n 'smear': 8059,\n 'splenomegaly': 8182,\n 'abnormal': 49,\n 'heterophile': 4039,\n 'antibody': 483,\n 'titre': 8823,\n 'epsteinbarr': 2991,\n 'virus': 9390,\n 'glandular': 3778,\n 'pfeiffer': 6600,\n 'viral': 9378,\n 'cowpox': 1874,\n 'erythema': 3012,\n 'infectiosum': 4447,\n 'fifth': 3443,\n 'hand': 3931,\n 'foot': 3559,\n 'mouth': 5543,\n 'roseola': 7668,\n 'infantum': 4391,\n 'adenovirus': 227,\n 'coxsackie': 1876,\n 'dengue': 2161,\n 'ross': 7670,\n 'river': 7658,\n 'brucellosis': 1083,\n 'unspecified': 9120,\n 'lyme': 5114,\n 'mycoplasma': 5632,\n 'rickettsial': 7635,\n 'scarlet': 7733,\n 'sexually': 7872,\n 'transmitted': 8926,\n 'thrush': 8771,\n 'toxoplasmosis': 8884,\n 'carcinomatosis': 1194,\n 'unknown': 9111,\n 'primary': 7007,\n 'secondary': 7774,\n 'metastatic': 5430,\n 'neoplasm': 5711,\n 'trauma': 8932,\n 'injury': 4521,\n 'road': 7660,\n 'traffic': 8906,\n 'accident': 131,\n 'internal': 4606,\n 'deformity': 2080,\n 'scarring': 7735,\n 'resulting': 7574,\n 'old': 6052,\n 'amputation': 374,\n 'poisoning': 6746,\n 'agent': 287,\n 'toxicity': 8882,\n 'impairment': 4288,\n 'produced': 7085,\n 'accidental': 135,\n 'deliberate': 2105,\n 'overdose': 6216,\n 'remedial': 7481,\n 'property': 7109,\n 'usual': 9226,\n 'dosage': 2573,\n 'toxic': 8878,\n 'adverse': 258,\n 'attributed': 694,\n 'proper': 7106,\n 'use': 9215,\n 'medication': 5335,\n 'rather': 7349,\n 'due': 2626,\n 'side': 7913,\n 'allergy': 338,\n 'anaphylaxis': 409,\n 'dose': 2575,\n 'nonmedicinal': 5864,\n 'substance': 8376,\n 'local': 5013,\n 'carbon': 1179,\n 'monoxide': 5510,\n 'industrial': 4376,\n 'material': 5288,\n 'lead': 4870,\n 'poisonous': 6749,\n 'animal': 437,\n 'insect': 4553,\n 'plant': 6681,\n 'snake': 8072,\n 'unexpected': 9090,\n 'disorder': 2452,\n 'surgical': 8426,\n 'management': 5243,\n 'anaesthetic': 398,\n 'shock': 7886,\n 'immunization': 4279,\n 'transfusion': 8912,\n 'reaction': 7355,\n 'post': 6822,\n 'lymphoedema': 5140,\n 'postoperative': 6840,\n 'wound': 9602,\n 'disruption': 2512,\n 'radiation': 7306,\n 'physical': 6636,\n 'cold': 1525,\n 'heat': 3993,\n 'lightning': 4967,\n 'motion': 5535,\n 'pressure': 6962,\n 'chilblain': 1368,\n 'drowning': 2593,\n 'jet': 4728,\n 'lag': 4831,\n 'prosthetic': 7128,\n 'device': 2235,\n 'discomfort': 2342,\n 'handicap': 3935,\n 'fitting': 3479,\n 'wearing': 9490,\n 'supplying': 8406,\n 'amending': 366,\n 'deficiency': 2060,\n 'catheter': 1237,\n 'colostomy': 1558,\n 'gastrostomy': 3709,\n 'heart': 3967,\n 'valve': 9272,\n 'joint': 4730,\n 'replacement': 7508,\n 'transplant': 8929,\n 'pacemaker': 6237,\n 'congenital': 1719,\n 'anomaly': 450,\n 'no': 5833,\n 'chromosome': 1423,\n 'abnormality': 70,\n 'systemic': 8574,\n 'classified': 1470,\n 'elsewhere': 2863,\n 'result': 7570,\n 'investigation': 4645,\n 'known': 4785,\n 'unexplained': 9092,\n 'electrolyte': 2850,\n 'hyperglycaemia': 4159,\n 'pathology': 6458,\n 'imaging': 4260,\n 'allergic': 328,\n 'oedema': 6024,\n 'anaphylactic': 407,\n 'angioneurotic': 431,\n 'food': 3552,\n 'premature': 6922,\n 'newborn': 5815,\n 'livebirth': 5000,\n '37': 24,\n 'week': 9492,\n 'gestation': 3752,\n 'perinatal': 6546,\n 'morbidity': 5527,\n 'originating': 6156,\n 'utero': 9235,\n 'within': 9539,\n 'day': 2006,\n 'birth': 865,\n 'mortality': 5533,\n 'illness': 4251,\n 'dealt': 2025,\n 'encounter': 2889,\n 'health': 3958,\n 'maintenance': 5158,\n 'preventive': 6986,\n 'medicine': 5339,\n 'procedure': 7077,\n 'counselling': 1870,\n 'purpose': 7259,\n 'including': 4326,\n 'genetic': 3728,\n 'counseling': 1868,\n 'condition': 1693,\n 'nature': 5687,\n 'carrier': 1226,\n 'surveillance': 8434,\n 'ongoing': 6084,\n 'pain general': 6264,\n 'general multiple': 3715,\n 'multiple site': 5589,\n 'site chronic': 7966,\n 'chronic general': 1438,\n 'general pain': 3716,\n 'pain multiple': 6278,\n 'multiple ache': 5577,\n 'ache chills': 148,\n 'chills rigor': 1393,\n 'rigor shiver': 7648,\n 'shiver fever': 7885,\n 'fever pyrexia': 3407,\n 'pyrexia weakness': 7282,\n 'weakness tiredness': 9485,\n 'tiredness general': 8819,\n 'general chronic': 3713,\n 'chronic fatigue': 1437,\n 'fatigue syndrome': 3282,\n 'syndrome exhaustion': 8510,\n 'exhaustion fatigue': 3123,\n 'fatigue lassitude': 3281,\n 'lassitude lethargy': 4852,\n 'lethargy postviral': 4926,\n 'postviral fatigue': 6861,\n 'fatigue feeling': 3280,\n 'feeling ill': 3348,\n 'ill malaise': 4245,\n 'malaise fainting': 5176,\n 'fainting syncope': 3262,\n 'syncope blackout': 8501,\n 'blackout collapse': 882,\n 'collapse vasovagal': 1545,\n 'vasovagal attack': 9308,\n 'attack coma': 676,\n 'coma stupor': 1566,\n 'stupor swelling': 8350,\n 'swelling lump': 8462,\n 'lump mass': 5091,\n 'mass nos': 5275,\n 'nos sweating': 5944,\n 'sweating problem': 8450,\n 'problem hyperhydrosis': 7044,\n 'hyperhydrosis diffuse': 4162,\n 'diffuse localised': 2286,\n 'localised bleeding': 5018,\n 'bleeding haemorrhage': 901,\n 'haemorrhage nos': 3907,\n 'nos bleeding': 5897,\n 'haemorrhage one': 3908,\n 'one site': 6080,\n 'site organ': 7975,\n 'organ chest': 6135,\n 'chest pain': 1360,\n 'pain nos': 6279,\n 'nos concern': 5905,\n 'concern fear': 1686,\n 'fear medical': 3312,\n 'medical treatment': 5331,\n 'treatment concern': 8953,\n 'fear consequence': 3299,\n 'consequence drug': 1760,\n 'drug medical': 2601,\n 'treatment irritable': 8955,\n 'irritable infant': 4686,\n 'infant excessively': 4387,\n 'excessively cry': 3113,\n 'cry restless': 1927,\n 'restless infant': 7564,\n 'infant concern': 4386,\n 'concern appearance': 1683,\n 'appearance euthanasia': 532,\n 'euthanasia request': 3037,\n 'request discussion': 7515,\n 'discussion risk': 2350,\n 'risk factor': 7657,\n 'factor malignancy': 3235,\n 'malignancy risk': 5214,\n 'malignancy past': 5212,\n 'past treatment': 6448,\n 'treatment malignancy': 8956,\n 'malignancy personal': 5213,\n 'personal family': 6589,\n 'family history': 3271,\n 'history malignancy': 4081,\n 'factor nos': 3236,\n 'nos contact': 5906,\n 'contact infectious': 1784,\n 'infectious disease': 4450,\n 'disease risk': 2436,\n 'factor disease': 3234,\n 'disease personal': 2426,\n 'history disease': 4078,\n 'disease previous': 2430,\n 'previous episode': 6993,\n 'episode disease': 2982,\n 'disease fear': 2394,\n 'fear death': 3301,\n 'death dying': 2029,\n 'dying fear': 2675,\n 'fear cancer': 3295,\n 'cancer nos': 1159,\n 'cancer related': 1161,\n 'related specific': 7466,\n 'specific chapter': 8133,\n 'chapter patient': 1324,\n 'patient without': 6479,\n 'without disease': 9563,\n 'disease diagnosis': 2388,\n 'diagnosis proven': 2259,\n 'proven fear': 7153,\n 'fear disease': 3304,\n 'disease nos': 2417,\n 'disease related': 2434,\n 'proven limited': 7157,\n 'limited function': 4982,\n 'function disability': 3644,\n 'disability nos': 2318,\n 'nos limitation': 5928,\n 'limitation function': 4979,\n 'disability related': 2319,\n 'related problem': 7465,\n 'problem chapter': 7022,\n 'chapter general': 1323,\n 'general symptom': 3717,\n 'symptom complaint': 8483,\n 'complaint clumsiness': 1592,\n 'clumsiness drowsiness': 1501,\n 'drowsiness fall': 2596,\n 'fall somnolence': 3265,\n 'somnolence tuberculosis': 8100,\n 'tuberculosis conversion': 9003,\n 'conversion positive': 1817,\n 'positive tuberculin': 6816,\n 'tuberculin skin': 9001,\n 'skin test': 8026,\n 'test demonstration': 8680,\n 'demonstration mycobacterium': 2149,\n 'mycobacterium tuberculosis': 5631,\n 'tuberculosis microscopy': 9005,\n 'microscopy culture': 5443,\n 'culture characteristic': 1939,\n 'characteristic chest': 1328,\n 'chest xray': 1364,\n 'xray appearance': 9613,\n 'appearance characteristic': 530,\n 'characteristic histological': 1337,\n 'histological appearance': 4071,\n 'appearance biopsy': 527,\n 'biopsy late': 861,\n 'late effect': 4859,\n 'effect tuberculosis': 2808,\n 'tuberculosis tuberculosis': 9007,\n 'tuberculosis infection': 9004,\n 'infection body': 4408,\n 'body site': 985,\n 'site measles': 7974,\n 'measles prodrome': 5306,\n 'prodrome injected': 7084,\n 'injected conjunctiva': 4517,\n 'conjunctiva fever': 1744,\n 'fever cough': 3396,\n 'cough plus': 1860,\n 'plus white': 6730,\n 'white speck': 9524,\n 'speck red': 8146,\n 'red base': 7403,\n 'base mucous': 788,\n 'mucous membrane': 5572,\n 'membrane cheek': 5371,\n 'cheek kopliks': 1347,\n 'kopliks spot': 4789,\n 'spot confluent': 8200,\n 'confluent maculopapular': 1718,\n 'maculopapular eruption': 5157,\n 'eruption spreading': 3008,\n 'spreading face': 8208,\n 'face body': 3218,\n 'body atypical': 973,\n 'atypical exanthem': 703,\n 'exanthem partially': 3099,\n 'partially immune': 6420,\n 'immune person': 4278,\n 'person epidemic': 6586,\n 'epidemic measles': 2957,\n 'measles serological': 5307,\n 'serological evidence': 7844,\n 'evidence acute': 3051,\n 'acute measles': 203,\n 'measles complication': 5305,\n 'complication measles': 1660,\n 'measles chickenpox': 5304,\n 'chickenpox vesicular': 1367,\n 'vesicular exanthem': 9365,\n 'exanthem appears': 3096,\n 'appears successive': 550,\n 'successive crop': 8383,\n 'crop lesion': 1916,\n 'lesion evolving': 4913,\n 'evolving rapidly': 3087,\n 'rapidly superficial': 7335,\n 'superficial papule': 8401,\n 'papule vesicle': 6362,\n 'vesicle eventually': 9361,\n 'eventually scab': 3047,\n 'scab complication': 7711,\n 'complication chickenpox': 1657,\n 'chickenpox malaria': 1366,\n 'malaria intermittent': 5178,\n 'intermittent fever': 4604,\n 'fever chill': 3395,\n 'chill rigor': 1391,\n 'rigor resident': 7647,\n 'resident recent': 7533,\n 'recent visitor': 7376,\n 'visitor malarial': 9403,\n 'malarial region': 5182,\n 'region demonstration': 7441,\n 'demonstration malarial': 2147,\n 'malarial parasite': 5181,\n 'parasite form': 6388,\n 'form peripheral': 3579,\n 'peripheral blood': 6563,\n 'blood complication': 943,\n 'complication malaria': 1659,\n 'malaria rubella': 5179,\n 'rubella acute': 7679,\n 'acute exanthem': 193,\n 'exanthem enlarged': 3098,\n 'enlarged lymph': 2929,\n 'lymph node': 5123,\n 'node often': 5842,\n 'often suboccipital': 6049,\n 'suboccipital postauricular': 8375,\n 'postauricular macular': 6825,\n 'macular rash': 5153,\n 'rash face': 7338,\n 'face spreading': 3222,\n 'spreading trunk': 8210,\n 'trunk proximal': 8994,\n 'proximal portion': 7163,\n 'portion limb': 6802,\n 'limb serological': 4972,\n 'evidence rubella': 3076,\n 'rubella infection': 7680,\n 'infection complication': 4417,\n 'complication rubella': 1665,\n 'rubella infectious': 7681,\n 'infectious mononucleosis': 4452,\n 'mononucleosis inflammation': 5509,\n 'inflammation tonsil': 4487,\n 'tonsil pharynx': 8855,\n 'pharynx lymphadenopathy': 6614,\n 'lymphadenopathy confined': 5130,\n 'confined anterior': 1708,\n 'anterior cervical': 482,\n 'cervical node': 1289,\n 'node either': 5840,\n 'either atypical': 2823,\n 'atypical lymphocyte': 704,\n 'lymphocyte blood': 5137,\n 'blood smear': 953,\n 'smear splenomegaly': 8063,\n 'splenomegaly abnormal': 8183,\n 'abnormal heterophile': 58,\n 'heterophile antibody': 4040,\n 'antibody titre': 484,\n 'titre epsteinbarr': 8824,\n 'epsteinbarr virus': 2992,\n 'virus titre': 9394,\n 'titre glandular': 8825,\n 'glandular fever': 3779,\n 'fever pfeiffer': 3404,\n 'pfeiffer viral': 6601,\n 'viral exanthem': 9383,\n 'exanthem cowpox': 3097,\n 'cowpox erythema': 1875,\n 'erythema infectiosum': 3013,\n 'infectiosum fever': 4448,\n 'fever rash': 3408,\n 'rash fifth': 7339,\n 'fifth disease': 3444,\n 'disease hand': 2397,\n 'hand foot': 3934,\n 'foot mouth': 3563,\n 'mouth disease': 5544,\n 'disease roseola': 2437,\n 'roseola infantum': 7669,\n 'infantum viral': 4392,\n 'viral disease': 9382,\n 'nos adenovirus': 5892,\n 'adenovirus coxsackie': 228,\n 'coxsackie disease': 1877,\n 'disease dengue': 2385,\n 'dengue fever': 2162,\n 'fever ross': 3411,\n 'ross river': 7671,\n 'river fever': 7659,\n 'fever infectious': 3399,\n 'nos brucellosis': 5901,\n 'brucellosis infection': 1084,\n 'infection unspecified': 4441,\n 'unspecified site': 9129,\n 'site lyme': 7973,\n 'lyme disease': 5115,\n 'disease mycoplasma': 2414,\n 'mycoplasma fever': 5633,\n 'fever rickettsial': 3410,\n 'rickettsial disease': 7636,\n 'disease scarlet': 2438,\n 'scarlet fever': 7734,\n 'fever sexually': 3413,\n 'sexually transmitted': 7873,\n 'transmitted disease': 8927,\n 'nos thrush': 5946,\n 'thrush nos': 8774,\n 'nos toxoplasmosis': 5947,\n 'toxoplasmosis malignancy': 8885,\n 'malignancy nos': 5210,\n 'nos histological': 5918,\n 'histological evidence': 4072,\n 'evidence malignancy': 3068,\n 'malignancy carcinomatosis': 5207,\n 'carcinomatosis unknown': 1195,\n 'unknown primary': 9112,\n 'primary secondary': 7010,\n 'secondary metastatic': 7780,\n 'metastatic neoplasm': 5431,\n 'neoplasm primary': 5734,\n 'primary site': 7011,\n 'site unknown': 7978,\n 'unknown trauma': 9113,\n 'trauma injury': 8936,\n 'injury nos': 4539,\n 'nos road': 5938,\n 'road traffic': 7661,\n 'traffic accident': 8907,\n 'accident multiple': 133,\n 'multiple trauma': 5590,\n 'injury multiple': 4535,\n 'multiple internal': 5581,\n 'internal injury': 4610,\n 'nos secondary': 5939,\n 'secondary effect': 7777,\n 'effect trauma': 2807,\n 'trauma deformity': 8934,\n 'deformity scarring': 2085,\n 'scarring resulting': 7736,\n 'resulting previous': 7579,\n 'previous injury': 6994,\n 'injury old': 4541,\n 'old amputation': 6053,\n 'amputation poisoning': 375,\n 'poisoning medical': 6748,\n 'medical agent': 5326,\n 'agent toxicity': 291,\n 'toxicity impairment': 8883,\n 'impairment produced': 4292,\n 'produced accidental': 7086,\n 'accidental deliberate': 136,\n 'deliberate overdose': 2106,\n 'overdose agent': 6217,\n 'agent remedial': 289,\n 'remedial property': 7482,\n 'property usual': 7110,\n 'usual dosage': 9227,\n 'dosage toxic': 2574,\n 'toxic effect': 8880,\n 'effect overdose': 2802,\n 'overdose medical': 6218,\n 'agent adverse': 288,\n 'adverse effect': 259,\n 'effect medical': 2800,\n 'agent symptom': 290,\n 'complaint attributed': 1582,\n 'attributed proper': 701,\n 'proper use': 7108,\n 'use medication': 9219,\n 'medication rather': 5338,\n 'rather due': 7350,\n 'due disease': 2633,\n 'disease injury': 2401,\n 'injury side': 4543,\n 'side effect': 7914,\n 'effect allergy': 2794,\n 'allergy anaphylaxis': 340,\n 'anaphylaxis due': 410,\n 'due medication': 2636,\n 'medication proper': 5337,\n 'proper dose': 7107,\n 'dose toxic': 2576,\n 'effect nonmedicinal': 2801,\n 'nonmedicinal substance': 5865,\n 'substance general': 8378,\n 'general local': 3714,\n 'local toxic': 5015,\n 'effect carbon': 2795,\n 'carbon monoxide': 1180,\n 'monoxide general': 5511,\n 'effect industrial': 2798,\n 'industrial material': 4377,\n 'material general': 5289,\n 'effect lead': 2799,\n 'lead general': 4871,\n 'effect poisonous': 2804,\n 'poisonous animal': 6750,\n 'animal insect': 439,\n 'insect plant': 4555,\n 'plant snake': 6682,\n 'snake complication': 8073,\n 'complication medical': 1661,\n 'treatment unexpected': 8959,\n 'unexpected disorder': 9091,\n 'disorder resulting': 2497,\n 'resulting surgical': 7580,\n 'surgical medical': 8429,\n 'medical xray': 5332,\n 'xray treatment': 9614,\n 'treatment medical': 8957,\n 'medical management': 5329,\n 'management anaesthetic': 5244,\n 'anaesthetic shock': 399,\n 'shock immunization': 7889,\n 'immunization transfusion': 4280,\n 'transfusion reaction': 8913,\n 'reaction post': 7358,\n 'post surgical': 6823,\n 'surgical lymphoedema': 8428,\n 'lymphoedema postoperative': 5142,\n 'postoperative infection': 6841,\n 'infection haemorrhage': 4423,\n 'haemorrhage wound': 3909,\n 'wound disruption': 9604,\n 'disruption problem': 2513,\n 'problem due': 7029,\n 'due radiation': 2644,\n 'radiation diagnosis': 7308,\n 'diagnosis treatment': 2262,\n 'treatment adverse': 8952,\n 'effect physical': 2803,\n 'physical factor': 6640,\n 'factor adverse': 3232,\n 'effect cold': 2796,\n 'cold heat': 1528,\n 'heat lightning': 3994,\n 'lightning motion': 4968,\n 'motion pressure': 5536,\n 'pressure radiation': 6971,\n 'radiation chilblain': 7307,\n 'chilblain drowning': 1369,\n 'drowning jet': 2594,\n 'jet lag': 4729,\n 'lag effect': 4832,\n 'effect prosthetic': 2806,\n 'prosthetic device': 7129,\n 'device discomfort': 2236,\n 'discomfort handicap': 2345,\n 'handicap pain': 3936,\n 'pain limitation': 6271,\n 'function resulting': 3653,\n 'resulting fitting': 7576,\n 'fitting wearing': 3480,\n 'wearing device': 9491,\n 'device supplying': 2237,\n 'supplying amending': 8407,\n 'amending deficiency': 367,\n 'deficiency catheter': 2063,\n 'catheter colostomy': 1238,\n 'colostomy gastrostomy': 1559,\n 'gastrostomy heart': 3710,\n 'heart valve': 3988,\n 'valve joint': 9277,\n 'joint replacement': 4738,\n 'replacement organ': 7509,\n 'organ transplant': 6138,\n 'transplant pacemaker': 8930,\n 'pacemaker congenital': 6238,\n 'congenital anomaly': 1722,\n 'anomaly no': 467,\n 'no multiple': 5835,\n 'multiple chromosome': 5578,\n 'chromosome abnormality': 1424,\n 'abnormality systemic': 79,\n 'systemic congenital': 8575,\n 'anomaly classified': 455,\n 'classified elsewhere': 1471,\n 'elsewhere abnormal': 2864,\n 'abnormal result': 64,\n 'result investigation': 7573,\n 'investigation nos': 4648,\n 'nos abnormal': 5889,\n 'result attributed': 7571,\n 'attributed known': 698,\n 'known disease': 4786,\n 'disease abnormal': 2352,\n 'abnormal unexplained': 66,\n 'unexplained electrolyte': 9095,\n 'electrolyte disorder': 2851,\n 'disorder abnormal': 2453,\n 'unexplained hyperglycaemia': 9097,\n 'hyperglycaemia abnormal': 4160,\n 'unexplained pathology': 9102,\n 'pathology imaging': 6459,\n 'imaging test': 4273,\n 'test allergy': 8677,\n 'allergy allergic': 339,\n 'allergic reaction': 335,\n 'reaction nos': 7357,\n 'nos allergic': 5894,\n 'allergic oedema': 332,\n 'oedema anaphylactic': 6025,\n 'anaphylactic shock': 408,\n 'shock angioneurotic': 7887,\n 'angioneurotic oedema': 432,\n 'oedema food': 6029,\n 'food allergy': 3553,\n 'allergy premature': 343,\n 'premature newborn': 6926,\n 'newborn livebirth': 5816,\n 'livebirth 37': 5001,\n '37 week': 25,\n 'week gestation': 9496,\n 'gestation perinatal': 3753,\n 'perinatal morbidity': 6547,\n 'morbidity morbidity': 5528,\n 'morbidity originating': 5529,\n 'originating utero': 6157,\n 'utero within': 9236,\n 'within day': 9541,\n 'day birth': 2007,\n 'birth perinatal': 868,\n 'perinatal mortality': 6548,\n 'mortality death': 5534,\n 'death utero': 2033,\n 'birth death': 867,\n 'death no': 2030,\n 'no disease': 5834,\n 'disease illness': 2399,\n 'illness disease': 4253,\n 'disease dealt': 2383,\n 'dealt encounter': 2026,\n 'encounter health': 2892,\n 'health maintenance': 3961,\n 'maintenance preventive': 5159,\n 'preventive medicine': 6987,\n 'medicine medical': 5340,\n 'medical procedure': 5330,\n 'procedure counselling': 7078,\n 'counselling preventive': 1871,\n 'preventive purpose': 6988,\n 'purpose including': 7260,\n 'including genetic': 4332,\n 'genetic counseling': 3729,\n 'counseling disease': 1869,\n 'disease condition': 2377,\n 'condition unspecified': 1700,\n 'unspecified nature': 9126,\n 'nature site': 5689,\n 'site disease': 7968,\n 'disease carrier': 2369,\n 'carrier nos': 1227,\n 'nos surveillance': 5943,\n 'surveillance ongoing': 8435,\n 'ongoing problem': 6085,\n 'problem nos': 7059,\n 'gland': 3772,\n 'painful': 6309,\n 'tenderness': 8637,\n 'aids': 305,\n 'hiv': 4091,\n 'forming': 3584,\n 'mechanism': 5314,\n 'lymphadenitis': 5125,\n 'inflamed': 4464,\n 'tender': 8630,\n 'anatomical': 411,\n 'location': 5028,\n 'onset': 6087,\n 'le': 4866,\n 'source': 8120,\n 'abscess': 90,\n 'nonspecific': 5870,\n 'present': 6951,\n 'mesenteric': 5418,\n 'surgery': 8417,\n 'sonography': 8101,\n 'lymphography': 5143,\n 'otherwise': 6196,\n 'hodgkin': 4102,\n 'lymphoma': 5145,\n 'histologic': 4068,\n 'leukaemia': 4927,\n 'type': 9029,\n 'malignant': 5220,\n 'myeloma': 5634,\n 'myeloproliferative': 5636,\n 'benign': 829,\n 'specified': 8140,\n 'available': 720,\n 'polycythaemia': 6760,\n 'rubra': 7682,\n 'vera': 9338,\n 'ruptured': 7689,\n 'spleen': 8178,\n 'traumatic': 8942,\n 'hereditary': 4019,\n 'haemolytic': 3896,\n 'anaemia': 379,\n 'finding': 3447,\n 'haemoglobin': 3893,\n 'electrophoresis': 2852,\n 'increased': 4346,\n 'osmotic': 6165,\n 'fragility': 3606,\n 'cell': 1250,\n 'sickle': 7907,\n 'trait': 8910,\n 'sicklecell': 7909,\n 'spherocytosis': 8160,\n 'thalassaemia': 8719,\n 'iron': 4669,\n 'decrease': 2035,\n 'haematocrit': 3881,\n 'level': 4936,\n 'appropriate': 560,\n 'age': 276,\n 'sex': 7859,\n 'loss': 5047,\n ...}"
     },
     "execution_count": 18,
     "metadata": {},
     "output_type": "execute_result"
    }
   ],
   "source": [
    "vec_vocab"
   ],
   "metadata": {
    "collapsed": false,
    "pycharm": {
     "name": "#%%\n"
    }
   }
  },
  {
   "cell_type": "code",
   "execution_count": 19,
   "outputs": [],
   "source": [
    "from sklearn.feature_extraction.text import TfidfVectorizer\n",
    "vectoriser = TfidfVectorizer(max_features=10000, ngram_range=(1, 2))\n",
    "icpc_vec = vectoriser.fit_transform(icpc_corpus)"
   ],
   "metadata": {
    "collapsed": false,
    "pycharm": {
     "name": "#%%\n"
    }
   }
  },
  {
   "cell_type": "code",
   "execution_count": 20,
   "outputs": [
    {
     "data": {
      "text/plain": "Text(0.5, 1.0, 'Sparse Matrix Sample')"
     },
     "execution_count": 20,
     "metadata": {},
     "output_type": "execute_result"
    },
    {
     "data": {
      "text/plain": "<Figure size 432x288 with 1 Axes>",
      "image/png": "[encoded data removed]"
     },
     "metadata": {
      "needs_background": "light"
     },
     "output_type": "display_data"
    }
   ],
   "source": [
    "import seaborn as sns\n",
    "import numpy as np\n",
    "\n",
    "dic_vocab = vectoriser.vocabulary_\n",
    "\n",
    "sns.heatmap(icpc_vec.todense()[:, np.random.randint(0, icpc_vec.shape[1], 100)] == 0, vmin=0, vmax=1,\n",
    "            cbar=False).set_title('Sparse Matrix Sample')"
   ],
   "metadata": {
    "collapsed": false,
    "pycharm": {
     "name": "#%%\n"
    }
   }
  },
  {
   "cell_type": "code",
   "execution_count": 21,
   "outputs": [
    {
     "data": {
      "text/plain": "{'pain': 6241,\n 'general': 3711,\n 'multiple': 5576,\n 'site': 7965,\n 'chronic': 1425,\n 'ache': 147,\n 'chills': 1392,\n 'rigor': 7645,\n 'shiver': 7884,\n 'fever': 3392,\n 'pyrexia': 7281,\n 'weakness': 9479,\n 'tiredness': 8818,\n 'fatigue': 3279,\n 'syndrome': 8503,\n 'exhaustion': 3122,\n 'lassitude': 4851,\n 'lethargy': 4925,\n 'postviral': 6860,\n 'feeling': 3337,\n 'ill': 4244,\n 'malaise': 5174,\n 'fainting': 3261,\n 'syncope': 8500,\n 'blackout': 881,\n 'collapse': 1543,\n 'vasovagal': 9307,\n 'attack': 674,\n 'coma': 1564,\n 'stupor': 8349,\n 'swelling': 8451,\n 'lump': 5088,\n 'mass': 5271,\n 'nos': 5888,\n 'sweating': 8447,\n 'problem': 7015,\n 'hyperhydrosis': 4161,\n 'diffuse': 2285,\n 'localised': 5016,\n 'bleeding': 893,\n 'haemorrhage': 3902,\n 'one': 6065,\n 'organ': 6134,\n 'chest': 1356,\n 'concern': 1681,\n 'fear': 3289,\n 'medical': 5325,\n 'treatment': 8951,\n 'consequence': 1759,\n 'drug': 2597,\n 'irritable': 4682,\n 'infant': 4382,\n 'excessively': 3112,\n 'cry': 1925,\n 'restless': 7563,\n 'appearance': 523,\n 'euthanasia': 3036,\n 'request': 7514,\n 'discussion': 2349,\n 'risk': 7655,\n 'factor': 3231,\n 'malignancy': 5205,\n 'past': 6445,\n 'personal': 6588,\n 'family': 3270,\n 'history': 4076,\n 'contact': 1781,\n 'infectious': 4449,\n 'disease': 2351,\n 'previous': 6991,\n 'episode': 2980,\n 'death': 2027,\n 'dying': 2674,\n 'cancer': 1148,\n 'related': 7456,\n 'specific': 8131,\n 'chapter': 1322,\n 'patient': 6461,\n 'without': 9546,\n 'diagnosis': 2256,\n 'proven': 7147,\n 'limited': 4981,\n 'function': 3643,\n 'disability': 2313,\n 'limitation': 4977,\n 'symptom': 8479,\n 'complaint': 1573,\n 'clumsiness': 1500,\n 'drowsiness': 2595,\n 'fall': 3263,\n 'somnolence': 8099,\n 'tuberculosis': 9002,\n 'conversion': 1815,\n 'positive': 6810,\n 'tuberculin': 9000,\n 'skin': 7992,\n 'test': 8675,\n 'demonstration': 2137,\n 'mycobacterium': 5630,\n 'microscopy': 5442,\n 'culture': 1938,\n 'characteristic': 1325,\n 'xray': 9612,\n 'histological': 4070,\n 'biopsy': 859,\n 'late': 4858,\n 'effect': 2793,\n 'infection': 4404,\n 'body': 972,\n 'measles': 5303,\n 'prodrome': 7083,\n 'injected': 4516,\n 'conjunctiva': 1740,\n 'cough': 1851,\n 'plus': 6713,\n 'white': 9521,\n 'speck': 8145,\n 'red': 7402,\n 'base': 786,\n 'mucous': 5569,\n 'membrane': 5369,\n 'cheek': 1346,\n 'kopliks': 4788,\n 'spot': 8199,\n 'confluent': 1717,\n 'maculopapular': 5156,\n 'eruption': 3004,\n 'spreading': 8207,\n 'face': 3217,\n 'atypical': 702,\n 'exanthem': 3095,\n 'partially': 6419,\n 'immune': 4276,\n 'person': 6585,\n 'epidemic': 2956,\n 'serological': 7843,\n 'evidence': 3048,\n 'acute': 181,\n 'complication': 1656,\n 'chickenpox': 1365,\n 'vesicular': 9364,\n 'appears': 549,\n 'successive': 8382,\n 'crop': 1915,\n 'lesion': 4909,\n 'evolving': 3086,\n 'rapidly': 7334,\n 'superficial': 8398,\n 'papule': 6359,\n 'vesicle': 9357,\n 'eventually': 3046,\n 'scab': 7709,\n 'malaria': 5177,\n 'intermittent': 4601,\n 'chill': 1389,\n 'resident': 7532,\n 'recent': 7373,\n 'visitor': 9402,\n 'malarial': 5180,\n 'region': 7440,\n 'parasite': 6386,\n 'form': 3576,\n 'peripheral': 6562,\n 'blood': 938,\n 'rubella': 7678,\n 'enlarged': 2926,\n 'lymph': 5116,\n 'node': 5838,\n 'often': 6046,\n 'suboccipital': 8374,\n 'postauricular': 6824,\n 'macular': 5151,\n 'rash': 7336,\n 'trunk': 8992,\n 'proximal': 7162,\n 'portion': 6801,\n 'limb': 4969,\n 'mononucleosis': 5508,\n 'inflammation': 4471,\n 'tonsil': 8851,\n 'pharynx': 6613,\n 'lymphadenopathy': 5129,\n 'confined': 1707,\n 'anterior': 481,\n 'cervical': 1282,\n 'either': 2822,\n 'lymphocyte': 5136,\n 'smear': 8059,\n 'splenomegaly': 8182,\n 'abnormal': 49,\n 'heterophile': 4039,\n 'antibody': 483,\n 'titre': 8823,\n 'epsteinbarr': 2991,\n 'virus': 9390,\n 'glandular': 3778,\n 'pfeiffer': 6600,\n 'viral': 9378,\n 'cowpox': 1874,\n 'erythema': 3012,\n 'infectiosum': 4447,\n 'fifth': 3443,\n 'hand': 3931,\n 'foot': 3559,\n 'mouth': 5543,\n 'roseola': 7668,\n 'infantum': 4391,\n 'adenovirus': 227,\n 'coxsackie': 1876,\n 'dengue': 2161,\n 'ross': 7670,\n 'river': 7658,\n 'brucellosis': 1083,\n 'unspecified': 9120,\n 'lyme': 5114,\n 'mycoplasma': 5632,\n 'rickettsial': 7635,\n 'scarlet': 7733,\n 'sexually': 7872,\n 'transmitted': 8926,\n 'thrush': 8771,\n 'toxoplasmosis': 8884,\n 'carcinomatosis': 1194,\n 'unknown': 9111,\n 'primary': 7007,\n 'secondary': 7774,\n 'metastatic': 5430,\n 'neoplasm': 5711,\n 'trauma': 8932,\n 'injury': 4521,\n 'road': 7660,\n 'traffic': 8906,\n 'accident': 131,\n 'internal': 4606,\n 'deformity': 2080,\n 'scarring': 7735,\n 'resulting': 7574,\n 'old': 6052,\n 'amputation': 374,\n 'poisoning': 6746,\n 'agent': 287,\n 'toxicity': 8882,\n 'impairment': 4288,\n 'produced': 7085,\n 'accidental': 135,\n 'deliberate': 2105,\n 'overdose': 6216,\n 'remedial': 7481,\n 'property': 7109,\n 'usual': 9226,\n 'dosage': 2573,\n 'toxic': 8878,\n 'adverse': 258,\n 'attributed': 694,\n 'proper': 7106,\n 'use': 9215,\n 'medication': 5335,\n 'rather': 7349,\n 'due': 2626,\n 'side': 7913,\n 'allergy': 338,\n 'anaphylaxis': 409,\n 'dose': 2575,\n 'nonmedicinal': 5864,\n 'substance': 8376,\n 'local': 5013,\n 'carbon': 1179,\n 'monoxide': 5510,\n 'industrial': 4376,\n 'material': 5288,\n 'lead': 4870,\n 'poisonous': 6749,\n 'animal': 437,\n 'insect': 4553,\n 'plant': 6681,\n 'snake': 8072,\n 'unexpected': 9090,\n 'disorder': 2452,\n 'surgical': 8426,\n 'management': 5243,\n 'anaesthetic': 398,\n 'shock': 7886,\n 'immunization': 4279,\n 'transfusion': 8912,\n 'reaction': 7355,\n 'post': 6822,\n 'lymphoedema': 5140,\n 'postoperative': 6840,\n 'wound': 9602,\n 'disruption': 2512,\n 'radiation': 7306,\n 'physical': 6636,\n 'cold': 1525,\n 'heat': 3993,\n 'lightning': 4967,\n 'motion': 5535,\n 'pressure': 6962,\n 'chilblain': 1368,\n 'drowning': 2593,\n 'jet': 4728,\n 'lag': 4831,\n 'prosthetic': 7128,\n 'device': 2235,\n 'discomfort': 2342,\n 'handicap': 3935,\n 'fitting': 3479,\n 'wearing': 9490,\n 'supplying': 8406,\n 'amending': 366,\n 'deficiency': 2060,\n 'catheter': 1237,\n 'colostomy': 1558,\n 'gastrostomy': 3709,\n 'heart': 3967,\n 'valve': 9272,\n 'joint': 4730,\n 'replacement': 7508,\n 'transplant': 8929,\n 'pacemaker': 6237,\n 'congenital': 1719,\n 'anomaly': 450,\n 'no': 5833,\n 'chromosome': 1423,\n 'abnormality': 70,\n 'systemic': 8574,\n 'classified': 1470,\n 'elsewhere': 2863,\n 'result': 7570,\n 'investigation': 4645,\n 'known': 4785,\n 'unexplained': 9092,\n 'electrolyte': 2850,\n 'hyperglycaemia': 4159,\n 'pathology': 6458,\n 'imaging': 4260,\n 'allergic': 328,\n 'oedema': 6024,\n 'anaphylactic': 407,\n 'angioneurotic': 431,\n 'food': 3552,\n 'premature': 6922,\n 'newborn': 5815,\n 'livebirth': 5000,\n '37': 24,\n 'week': 9492,\n 'gestation': 3752,\n 'perinatal': 6546,\n 'morbidity': 5527,\n 'originating': 6156,\n 'utero': 9235,\n 'within': 9539,\n 'day': 2006,\n 'birth': 865,\n 'mortality': 5533,\n 'illness': 4251,\n 'dealt': 2025,\n 'encounter': 2889,\n 'health': 3958,\n 'maintenance': 5158,\n 'preventive': 6986,\n 'medicine': 5339,\n 'procedure': 7077,\n 'counselling': 1870,\n 'purpose': 7259,\n 'including': 4326,\n 'genetic': 3728,\n 'counseling': 1868,\n 'condition': 1693,\n 'nature': 5687,\n 'carrier': 1226,\n 'surveillance': 8434,\n 'ongoing': 6084,\n 'pain general': 6264,\n 'general multiple': 3715,\n 'multiple site': 5589,\n 'site chronic': 7966,\n 'chronic general': 1438,\n 'general pain': 3716,\n 'pain multiple': 6278,\n 'multiple ache': 5577,\n 'ache chills': 148,\n 'chills rigor': 1393,\n 'rigor shiver': 7648,\n 'shiver fever': 7885,\n 'fever pyrexia': 3407,\n 'pyrexia weakness': 7282,\n 'weakness tiredness': 9485,\n 'tiredness general': 8819,\n 'general chronic': 3713,\n 'chronic fatigue': 1437,\n 'fatigue syndrome': 3282,\n 'syndrome exhaustion': 8510,\n 'exhaustion fatigue': 3123,\n 'fatigue lassitude': 3281,\n 'lassitude lethargy': 4852,\n 'lethargy postviral': 4926,\n 'postviral fatigue': 6861,\n 'fatigue feeling': 3280,\n 'feeling ill': 3348,\n 'ill malaise': 4245,\n 'malaise fainting': 5176,\n 'fainting syncope': 3262,\n 'syncope blackout': 8501,\n 'blackout collapse': 882,\n 'collapse vasovagal': 1545,\n 'vasovagal attack': 9308,\n 'attack coma': 676,\n 'coma stupor': 1566,\n 'stupor swelling': 8350,\n 'swelling lump': 8462,\n 'lump mass': 5091,\n 'mass nos': 5275,\n 'nos sweating': 5944,\n 'sweating problem': 8450,\n 'problem hyperhydrosis': 7044,\n 'hyperhydrosis diffuse': 4162,\n 'diffuse localised': 2286,\n 'localised bleeding': 5018,\n 'bleeding haemorrhage': 901,\n 'haemorrhage nos': 3907,\n 'nos bleeding': 5897,\n 'haemorrhage one': 3908,\n 'one site': 6080,\n 'site organ': 7975,\n 'organ chest': 6135,\n 'chest pain': 1360,\n 'pain nos': 6279,\n 'nos concern': 5905,\n 'concern fear': 1686,\n 'fear medical': 3312,\n 'medical treatment': 5331,\n 'treatment concern': 8953,\n 'fear consequence': 3299,\n 'consequence drug': 1760,\n 'drug medical': 2601,\n 'treatment irritable': 8955,\n 'irritable infant': 4686,\n 'infant excessively': 4387,\n 'excessively cry': 3113,\n 'cry restless': 1927,\n 'restless infant': 7564,\n 'infant concern': 4386,\n 'concern appearance': 1683,\n 'appearance euthanasia': 532,\n 'euthanasia request': 3037,\n 'request discussion': 7515,\n 'discussion risk': 2350,\n 'risk factor': 7657,\n 'factor malignancy': 3235,\n 'malignancy risk': 5214,\n 'malignancy past': 5212,\n 'past treatment': 6448,\n 'treatment malignancy': 8956,\n 'malignancy personal': 5213,\n 'personal family': 6589,\n 'family history': 3271,\n 'history malignancy': 4081,\n 'factor nos': 3236,\n 'nos contact': 5906,\n 'contact infectious': 1784,\n 'infectious disease': 4450,\n 'disease risk': 2436,\n 'factor disease': 3234,\n 'disease personal': 2426,\n 'history disease': 4078,\n 'disease previous': 2430,\n 'previous episode': 6993,\n 'episode disease': 2982,\n 'disease fear': 2394,\n 'fear death': 3301,\n 'death dying': 2029,\n 'dying fear': 2675,\n 'fear cancer': 3295,\n 'cancer nos': 1159,\n 'cancer related': 1161,\n 'related specific': 7466,\n 'specific chapter': 8133,\n 'chapter patient': 1324,\n 'patient without': 6479,\n 'without disease': 9563,\n 'disease diagnosis': 2388,\n 'diagnosis proven': 2259,\n 'proven fear': 7153,\n 'fear disease': 3304,\n 'disease nos': 2417,\n 'disease related': 2434,\n 'proven limited': 7157,\n 'limited function': 4982,\n 'function disability': 3644,\n 'disability nos': 2318,\n 'nos limitation': 5928,\n 'limitation function': 4979,\n 'disability related': 2319,\n 'related problem': 7465,\n 'problem chapter': 7022,\n 'chapter general': 1323,\n 'general symptom': 3717,\n 'symptom complaint': 8483,\n 'complaint clumsiness': 1592,\n 'clumsiness drowsiness': 1501,\n 'drowsiness fall': 2596,\n 'fall somnolence': 3265,\n 'somnolence tuberculosis': 8100,\n 'tuberculosis conversion': 9003,\n 'conversion positive': 1817,\n 'positive tuberculin': 6816,\n 'tuberculin skin': 9001,\n 'skin test': 8026,\n 'test demonstration': 8680,\n 'demonstration mycobacterium': 2149,\n 'mycobacterium tuberculosis': 5631,\n 'tuberculosis microscopy': 9005,\n 'microscopy culture': 5443,\n 'culture characteristic': 1939,\n 'characteristic chest': 1328,\n 'chest xray': 1364,\n 'xray appearance': 9613,\n 'appearance characteristic': 530,\n 'characteristic histological': 1337,\n 'histological appearance': 4071,\n 'appearance biopsy': 527,\n 'biopsy late': 861,\n 'late effect': 4859,\n 'effect tuberculosis': 2808,\n 'tuberculosis tuberculosis': 9007,\n 'tuberculosis infection': 9004,\n 'infection body': 4408,\n 'body site': 985,\n 'site measles': 7974,\n 'measles prodrome': 5306,\n 'prodrome injected': 7084,\n 'injected conjunctiva': 4517,\n 'conjunctiva fever': 1744,\n 'fever cough': 3396,\n 'cough plus': 1860,\n 'plus white': 6730,\n 'white speck': 9524,\n 'speck red': 8146,\n 'red base': 7403,\n 'base mucous': 788,\n 'mucous membrane': 5572,\n 'membrane cheek': 5371,\n 'cheek kopliks': 1347,\n 'kopliks spot': 4789,\n 'spot confluent': 8200,\n 'confluent maculopapular': 1718,\n 'maculopapular eruption': 5157,\n 'eruption spreading': 3008,\n 'spreading face': 8208,\n 'face body': 3218,\n 'body atypical': 973,\n 'atypical exanthem': 703,\n 'exanthem partially': 3099,\n 'partially immune': 6420,\n 'immune person': 4278,\n 'person epidemic': 6586,\n 'epidemic measles': 2957,\n 'measles serological': 5307,\n 'serological evidence': 7844,\n 'evidence acute': 3051,\n 'acute measles': 203,\n 'measles complication': 5305,\n 'complication measles': 1660,\n 'measles chickenpox': 5304,\n 'chickenpox vesicular': 1367,\n 'vesicular exanthem': 9365,\n 'exanthem appears': 3096,\n 'appears successive': 550,\n 'successive crop': 8383,\n 'crop lesion': 1916,\n 'lesion evolving': 4913,\n 'evolving rapidly': 3087,\n 'rapidly superficial': 7335,\n 'superficial papule': 8401,\n 'papule vesicle': 6362,\n 'vesicle eventually': 9361,\n 'eventually scab': 3047,\n 'scab complication': 7711,\n 'complication chickenpox': 1657,\n 'chickenpox malaria': 1366,\n 'malaria intermittent': 5178,\n 'intermittent fever': 4604,\n 'fever chill': 3395,\n 'chill rigor': 1391,\n 'rigor resident': 7647,\n 'resident recent': 7533,\n 'recent visitor': 7376,\n 'visitor malarial': 9403,\n 'malarial region': 5182,\n 'region demonstration': 7441,\n 'demonstration malarial': 2147,\n 'malarial parasite': 5181,\n 'parasite form': 6388,\n 'form peripheral': 3579,\n 'peripheral blood': 6563,\n 'blood complication': 943,\n 'complication malaria': 1659,\n 'malaria rubella': 5179,\n 'rubella acute': 7679,\n 'acute exanthem': 193,\n 'exanthem enlarged': 3098,\n 'enlarged lymph': 2929,\n 'lymph node': 5123,\n 'node often': 5842,\n 'often suboccipital': 6049,\n 'suboccipital postauricular': 8375,\n 'postauricular macular': 6825,\n 'macular rash': 5153,\n 'rash face': 7338,\n 'face spreading': 3222,\n 'spreading trunk': 8210,\n 'trunk proximal': 8994,\n 'proximal portion': 7163,\n 'portion limb': 6802,\n 'limb serological': 4972,\n 'evidence rubella': 3076,\n 'rubella infection': 7680,\n 'infection complication': 4417,\n 'complication rubella': 1665,\n 'rubella infectious': 7681,\n 'infectious mononucleosis': 4452,\n 'mononucleosis inflammation': 5509,\n 'inflammation tonsil': 4487,\n 'tonsil pharynx': 8855,\n 'pharynx lymphadenopathy': 6614,\n 'lymphadenopathy confined': 5130,\n 'confined anterior': 1708,\n 'anterior cervical': 482,\n 'cervical node': 1289,\n 'node either': 5840,\n 'either atypical': 2823,\n 'atypical lymphocyte': 704,\n 'lymphocyte blood': 5137,\n 'blood smear': 953,\n 'smear splenomegaly': 8063,\n 'splenomegaly abnormal': 8183,\n 'abnormal heterophile': 58,\n 'heterophile antibody': 4040,\n 'antibody titre': 484,\n 'titre epsteinbarr': 8824,\n 'epsteinbarr virus': 2992,\n 'virus titre': 9394,\n 'titre glandular': 8825,\n 'glandular fever': 3779,\n 'fever pfeiffer': 3404,\n 'pfeiffer viral': 6601,\n 'viral exanthem': 9383,\n 'exanthem cowpox': 3097,\n 'cowpox erythema': 1875,\n 'erythema infectiosum': 3013,\n 'infectiosum fever': 4448,\n 'fever rash': 3408,\n 'rash fifth': 7339,\n 'fifth disease': 3444,\n 'disease hand': 2397,\n 'hand foot': 3934,\n 'foot mouth': 3563,\n 'mouth disease': 5544,\n 'disease roseola': 2437,\n 'roseola infantum': 7669,\n 'infantum viral': 4392,\n 'viral disease': 9382,\n 'nos adenovirus': 5892,\n 'adenovirus coxsackie': 228,\n 'coxsackie disease': 1877,\n 'disease dengue': 2385,\n 'dengue fever': 2162,\n 'fever ross': 3411,\n 'ross river': 7671,\n 'river fever': 7659,\n 'fever infectious': 3399,\n 'nos brucellosis': 5901,\n 'brucellosis infection': 1084,\n 'infection unspecified': 4441,\n 'unspecified site': 9129,\n 'site lyme': 7973,\n 'lyme disease': 5115,\n 'disease mycoplasma': 2414,\n 'mycoplasma fever': 5633,\n 'fever rickettsial': 3410,\n 'rickettsial disease': 7636,\n 'disease scarlet': 2438,\n 'scarlet fever': 7734,\n 'fever sexually': 3413,\n 'sexually transmitted': 7873,\n 'transmitted disease': 8927,\n 'nos thrush': 5946,\n 'thrush nos': 8774,\n 'nos toxoplasmosis': 5947,\n 'toxoplasmosis malignancy': 8885,\n 'malignancy nos': 5210,\n 'nos histological': 5918,\n 'histological evidence': 4072,\n 'evidence malignancy': 3068,\n 'malignancy carcinomatosis': 5207,\n 'carcinomatosis unknown': 1195,\n 'unknown primary': 9112,\n 'primary secondary': 7010,\n 'secondary metastatic': 7780,\n 'metastatic neoplasm': 5431,\n 'neoplasm primary': 5734,\n 'primary site': 7011,\n 'site unknown': 7978,\n 'unknown trauma': 9113,\n 'trauma injury': 8936,\n 'injury nos': 4539,\n 'nos road': 5938,\n 'road traffic': 7661,\n 'traffic accident': 8907,\n 'accident multiple': 133,\n 'multiple trauma': 5590,\n 'injury multiple': 4535,\n 'multiple internal': 5581,\n 'internal injury': 4610,\n 'nos secondary': 5939,\n 'secondary effect': 7777,\n 'effect trauma': 2807,\n 'trauma deformity': 8934,\n 'deformity scarring': 2085,\n 'scarring resulting': 7736,\n 'resulting previous': 7579,\n 'previous injury': 6994,\n 'injury old': 4541,\n 'old amputation': 6053,\n 'amputation poisoning': 375,\n 'poisoning medical': 6748,\n 'medical agent': 5326,\n 'agent toxicity': 291,\n 'toxicity impairment': 8883,\n 'impairment produced': 4292,\n 'produced accidental': 7086,\n 'accidental deliberate': 136,\n 'deliberate overdose': 2106,\n 'overdose agent': 6217,\n 'agent remedial': 289,\n 'remedial property': 7482,\n 'property usual': 7110,\n 'usual dosage': 9227,\n 'dosage toxic': 2574,\n 'toxic effect': 8880,\n 'effect overdose': 2802,\n 'overdose medical': 6218,\n 'agent adverse': 288,\n 'adverse effect': 259,\n 'effect medical': 2800,\n 'agent symptom': 290,\n 'complaint attributed': 1582,\n 'attributed proper': 701,\n 'proper use': 7108,\n 'use medication': 9219,\n 'medication rather': 5338,\n 'rather due': 7350,\n 'due disease': 2633,\n 'disease injury': 2401,\n 'injury side': 4543,\n 'side effect': 7914,\n 'effect allergy': 2794,\n 'allergy anaphylaxis': 340,\n 'anaphylaxis due': 410,\n 'due medication': 2636,\n 'medication proper': 5337,\n 'proper dose': 7107,\n 'dose toxic': 2576,\n 'effect nonmedicinal': 2801,\n 'nonmedicinal substance': 5865,\n 'substance general': 8378,\n 'general local': 3714,\n 'local toxic': 5015,\n 'effect carbon': 2795,\n 'carbon monoxide': 1180,\n 'monoxide general': 5511,\n 'effect industrial': 2798,\n 'industrial material': 4377,\n 'material general': 5289,\n 'effect lead': 2799,\n 'lead general': 4871,\n 'effect poisonous': 2804,\n 'poisonous animal': 6750,\n 'animal insect': 439,\n 'insect plant': 4555,\n 'plant snake': 6682,\n 'snake complication': 8073,\n 'complication medical': 1661,\n 'treatment unexpected': 8959,\n 'unexpected disorder': 9091,\n 'disorder resulting': 2497,\n 'resulting surgical': 7580,\n 'surgical medical': 8429,\n 'medical xray': 5332,\n 'xray treatment': 9614,\n 'treatment medical': 8957,\n 'medical management': 5329,\n 'management anaesthetic': 5244,\n 'anaesthetic shock': 399,\n 'shock immunization': 7889,\n 'immunization transfusion': 4280,\n 'transfusion reaction': 8913,\n 'reaction post': 7358,\n 'post surgical': 6823,\n 'surgical lymphoedema': 8428,\n 'lymphoedema postoperative': 5142,\n 'postoperative infection': 6841,\n 'infection haemorrhage': 4423,\n 'haemorrhage wound': 3909,\n 'wound disruption': 9604,\n 'disruption problem': 2513,\n 'problem due': 7029,\n 'due radiation': 2644,\n 'radiation diagnosis': 7308,\n 'diagnosis treatment': 2262,\n 'treatment adverse': 8952,\n 'effect physical': 2803,\n 'physical factor': 6640,\n 'factor adverse': 3232,\n 'effect cold': 2796,\n 'cold heat': 1528,\n 'heat lightning': 3994,\n 'lightning motion': 4968,\n 'motion pressure': 5536,\n 'pressure radiation': 6971,\n 'radiation chilblain': 7307,\n 'chilblain drowning': 1369,\n 'drowning jet': 2594,\n 'jet lag': 4729,\n 'lag effect': 4832,\n 'effect prosthetic': 2806,\n 'prosthetic device': 7129,\n 'device discomfort': 2236,\n 'discomfort handicap': 2345,\n 'handicap pain': 3936,\n 'pain limitation': 6271,\n 'function resulting': 3653,\n 'resulting fitting': 7576,\n 'fitting wearing': 3480,\n 'wearing device': 9491,\n 'device supplying': 2237,\n 'supplying amending': 8407,\n 'amending deficiency': 367,\n 'deficiency catheter': 2063,\n 'catheter colostomy': 1238,\n 'colostomy gastrostomy': 1559,\n 'gastrostomy heart': 3710,\n 'heart valve': 3988,\n 'valve joint': 9277,\n 'joint replacement': 4738,\n 'replacement organ': 7509,\n 'organ transplant': 6138,\n 'transplant pacemaker': 8930,\n 'pacemaker congenital': 6238,\n 'congenital anomaly': 1722,\n 'anomaly no': 467,\n 'no multiple': 5835,\n 'multiple chromosome': 5578,\n 'chromosome abnormality': 1424,\n 'abnormality systemic': 79,\n 'systemic congenital': 8575,\n 'anomaly classified': 455,\n 'classified elsewhere': 1471,\n 'elsewhere abnormal': 2864,\n 'abnormal result': 64,\n 'result investigation': 7573,\n 'investigation nos': 4648,\n 'nos abnormal': 5889,\n 'result attributed': 7571,\n 'attributed known': 698,\n 'known disease': 4786,\n 'disease abnormal': 2352,\n 'abnormal unexplained': 66,\n 'unexplained electrolyte': 9095,\n 'electrolyte disorder': 2851,\n 'disorder abnormal': 2453,\n 'unexplained hyperglycaemia': 9097,\n 'hyperglycaemia abnormal': 4160,\n 'unexplained pathology': 9102,\n 'pathology imaging': 6459,\n 'imaging test': 4273,\n 'test allergy': 8677,\n 'allergy allergic': 339,\n 'allergic reaction': 335,\n 'reaction nos': 7357,\n 'nos allergic': 5894,\n 'allergic oedema': 332,\n 'oedema anaphylactic': 6025,\n 'anaphylactic shock': 408,\n 'shock angioneurotic': 7887,\n 'angioneurotic oedema': 432,\n 'oedema food': 6029,\n 'food allergy': 3553,\n 'allergy premature': 343,\n 'premature newborn': 6926,\n 'newborn livebirth': 5816,\n 'livebirth 37': 5001,\n '37 week': 25,\n 'week gestation': 9496,\n 'gestation perinatal': 3753,\n 'perinatal morbidity': 6547,\n 'morbidity morbidity': 5528,\n 'morbidity originating': 5529,\n 'originating utero': 6157,\n 'utero within': 9236,\n 'within day': 9541,\n 'day birth': 2007,\n 'birth perinatal': 868,\n 'perinatal mortality': 6548,\n 'mortality death': 5534,\n 'death utero': 2033,\n 'birth death': 867,\n 'death no': 2030,\n 'no disease': 5834,\n 'disease illness': 2399,\n 'illness disease': 4253,\n 'disease dealt': 2383,\n 'dealt encounter': 2026,\n 'encounter health': 2892,\n 'health maintenance': 3961,\n 'maintenance preventive': 5159,\n 'preventive medicine': 6987,\n 'medicine medical': 5340,\n 'medical procedure': 5330,\n 'procedure counselling': 7078,\n 'counselling preventive': 1871,\n 'preventive purpose': 6988,\n 'purpose including': 7260,\n 'including genetic': 4332,\n 'genetic counseling': 3729,\n 'counseling disease': 1869,\n 'disease condition': 2377,\n 'condition unspecified': 1700,\n 'unspecified nature': 9126,\n 'nature site': 5689,\n 'site disease': 7968,\n 'disease carrier': 2369,\n 'carrier nos': 1227,\n 'nos surveillance': 5943,\n 'surveillance ongoing': 8435,\n 'ongoing problem': 6085,\n 'problem nos': 7059,\n 'gland': 3772,\n 'painful': 6309,\n 'tenderness': 8637,\n 'aids': 305,\n 'hiv': 4091,\n 'forming': 3584,\n 'mechanism': 5314,\n 'lymphadenitis': 5125,\n 'inflamed': 4464,\n 'tender': 8630,\n 'anatomical': 411,\n 'location': 5028,\n 'onset': 6087,\n 'le': 4866,\n 'source': 8120,\n 'abscess': 90,\n 'nonspecific': 5870,\n 'present': 6951,\n 'mesenteric': 5418,\n 'surgery': 8417,\n 'sonography': 8101,\n 'lymphography': 5143,\n 'otherwise': 6196,\n 'hodgkin': 4102,\n 'lymphoma': 5145,\n 'histologic': 4068,\n 'leukaemia': 4927,\n 'type': 9029,\n 'malignant': 5220,\n 'myeloma': 5634,\n 'myeloproliferative': 5636,\n 'benign': 829,\n 'specified': 8140,\n 'available': 720,\n 'polycythaemia': 6760,\n 'rubra': 7682,\n 'vera': 9338,\n 'ruptured': 7689,\n 'spleen': 8178,\n 'traumatic': 8942,\n 'hereditary': 4019,\n 'haemolytic': 3896,\n 'anaemia': 379,\n 'finding': 3447,\n 'haemoglobin': 3893,\n 'electrophoresis': 2852,\n 'increased': 4346,\n 'osmotic': 6165,\n 'fragility': 3606,\n 'cell': 1250,\n 'sickle': 7907,\n 'trait': 8910,\n 'sicklecell': 7909,\n 'spherocytosis': 8160,\n 'thalassaemia': 8719,\n 'iron': 4669,\n 'decrease': 2035,\n 'haematocrit': 3881,\n 'level': 4936,\n 'appropriate': 560,\n 'age': 276,\n 'sex': 7859,\n 'loss': 5047,\n ...}"
     },
     "execution_count": 21,
     "metadata": {},
     "output_type": "execute_result"
    }
   ],
   "source": [
    "dic_vocab"
   ],
   "metadata": {
    "collapsed": false,
    "pycharm": {
     "name": "#%%\n"
    }
   }
  },
  {
   "cell_type": "code",
   "execution_count": 22,
   "outputs": [
    {
     "data": {
      "text/plain": "Index(['index', 'record_id', 'icpc_codes', 'pt_records',\n       'transcript__start_date', 'transcript__duration',\n       'transcript__conversation', 'codes', 'transcript__conversation_clean'],\n      dtype='object')"
     },
     "execution_count": 22,
     "metadata": {},
     "output_type": "execute_result"
    }
   ],
   "source": [
    "train_set.columns"
   ],
   "metadata": {
    "collapsed": false,
    "pycharm": {
     "name": "#%%\n"
    }
   }
  },
  {
   "cell_type": "code",
   "execution_count": 23,
   "outputs": [],
   "source": [
    "test_df = train_set[['record_id', 'transcript__conversation_clean', 'codes']]"
   ],
   "metadata": {
    "collapsed": false,
    "pycharm": {
     "name": "#%%\n"
    }
   }
  },
  {
   "cell_type": "code",
   "execution_count": 24,
   "outputs": [],
   "source": [
    "from typing import List\n",
    "\n",
    "\n",
    "def apply_to_transcript(transcript: List[List[str]], fn_speaker=None, fn_utterance=None, merge=False):\n",
    "    new_transcript = []\n",
    "    if not merge:\n",
    "        for speaker, utterance in transcript:\n",
    "            current = [speaker, utterance]\n",
    "            if fn_speaker is not None:\n",
    "                current[0] = fn_speaker(speaker)\n",
    "            if fn_utterance is not None:\n",
    "                current[1] = fn_utterance(utterance)\n",
    "            new_transcript.append(current)\n",
    "        return new_transcript\n",
    "    else:\n",
    "        speaker = [x[0] for x in transcript]\n",
    "        utterance = [x[1] for x in transcript]\n",
    "        if fn_speaker is not None:\n",
    "            speaker = fn_speaker(speaker)\n",
    "        if fn_utterance is not None:\n",
    "            utterance = fn_utterance(utterance)\n",
    "        return speaker, utterance"
   ],
   "metadata": {
    "collapsed": false,
    "pycharm": {
     "name": "#%%\n"
    }
   }
  },
  {
   "cell_type": "code",
   "execution_count": 25,
   "outputs": [
    {
     "data": {
      "text/plain": "Text(0.5, 1.0, 'keyword occ in utterances for 81301')"
     },
     "execution_count": 25,
     "metadata": {},
     "output_type": "execute_result"
    },
    {
     "data": {
      "text/plain": "<Figure size 432x288 with 1 Axes>",
      "image/png": "[encoded data removed]"
     },
     "metadata": {
      "needs_background": "light"
     },
     "output_type": "display_data"
    }
   ],
   "source": [
    "idx = 7\n",
    "\n",
    "dialogue = test_df.iloc[idx]['transcript__conversation_clean']\n",
    "\n",
    "test = apply_to_transcript(dialogue, fn_utterance=count_vec.transform, merge=True)\n",
    "\n",
    "matrix = test[1]\n",
    "\n",
    "sns.heatmap(matrix.todense()[:, np.random.randint(0, matrix.shape[1], 100)] == 0, vmin=0, vmax=1,\n",
    "            cbar=False).set_title(f'keyword occ in utterances for {test_df.iloc[idx][\"record_id\"]}')\n"
   ],
   "metadata": {
    "collapsed": false,
    "pycharm": {
     "name": "#%%\n"
    }
   }
  },
  {
   "cell_type": "code",
   "execution_count": 26,
   "outputs": [],
   "source": [
    "test_mat = np.array(matrix.todense())\n"
   ],
   "metadata": {
    "collapsed": false,
    "pycharm": {
     "name": "#%%\n"
    }
   }
  },
  {
   "cell_type": "code",
   "execution_count": 27,
   "outputs": [
    {
     "data": {
      "text/plain": "'12 hour'"
     },
     "execution_count": 27,
     "metadata": {},
     "output_type": "execute_result"
    }
   ],
   "source": [
    "inv_dic_vocab = {v: k for k, v in dic_vocab.items()}\n",
    "inv_dic_vocab[5]"
   ],
   "metadata": {
    "collapsed": false,
    "pycharm": {
     "name": "#%%\n"
    }
   }
  },
  {
   "cell_type": "code",
   "execution_count": 28,
   "outputs": [
    {
     "data": {
      "text/plain": "matrix([[0, 0, 0, ..., 0, 0, 0],\n        [0, 0, 0, ..., 0, 0, 0],\n        [0, 0, 0, ..., 0, 0, 0],\n        ...,\n        [0, 0, 0, ..., 0, 0, 0],\n        [0, 0, 0, ..., 0, 0, 0],\n        [0, 0, 0, ..., 0, 0, 0]], dtype=int64)"
     },
     "execution_count": 28,
     "metadata": {},
     "output_type": "execute_result"
    }
   ],
   "source": [
    "icpc_count_vec.todense()"
   ],
   "metadata": {
    "collapsed": false,
    "pycharm": {
     "name": "#%%\n"
    }
   }
  },
  {
   "cell_type": "code",
   "execution_count": 29,
   "outputs": [],
   "source": [
    "from scipy.spatial import KDTree\n",
    "\n",
    "lookup_tree = KDTree(icpc_count_vec.todense())"
   ],
   "metadata": {
    "collapsed": false,
    "pycharm": {
     "name": "#%%\n"
    }
   }
  },
  {
   "cell_type": "code",
   "execution_count": 30,
   "outputs": [
    {
     "data": {
      "text/plain": "matrix([[0, 0, 0, ..., 0, 0, 0],\n        [0, 0, 0, ..., 0, 0, 0],\n        [0, 0, 0, ..., 0, 0, 0],\n        ...,\n        [0, 0, 0, ..., 0, 0, 0],\n        [0, 0, 0, ..., 0, 0, 0],\n        [0, 0, 0, ..., 0, 0, 0]], dtype=int64)"
     },
     "execution_count": 30,
     "metadata": {},
     "output_type": "execute_result"
    }
   ],
   "source": [
    "idx = 7\n",
    "\n",
    "dialogue = test_df.iloc[idx]['transcript__conversation_clean']\n",
    "\n",
    "test = apply_to_transcript(dialogue, fn_utterance=count_vec.transform, merge=True)\n",
    "\n",
    "matrix = test[1]\n",
    "\n",
    "matrix.todense()"
   ],
   "metadata": {
    "collapsed": false,
    "pycharm": {
     "name": "#%%\n"
    }
   }
  },
  {
   "cell_type": "code",
   "execution_count": 49,
   "outputs": [],
   "source": [
    "from typing import Union\n",
    "from functools import reduce\n",
    "\n",
    "def logic_or_seq(xs: Union[List[int], List[bool]]):\n",
    "    res = reduce((lambda a,b: a or b), xs, False)\n",
    "    return res"
   ],
   "metadata": {
    "collapsed": false,
    "pycharm": {
     "name": "#%%\n"
    }
   }
  },
  {
   "cell_type": "code",
   "execution_count": 45,
   "outputs": [
    {
     "data": {
      "text/plain": "(156, 9631)"
     },
     "execution_count": 45,
     "metadata": {},
     "output_type": "execute_result"
    }
   ],
   "source": [
    "matrix.todense().shape"
   ],
   "metadata": {
    "collapsed": false,
    "pycharm": {
     "name": "#%%\n"
    }
   }
  },
  {
   "cell_type": "code",
   "execution_count": 54,
   "outputs": [
    {
     "name": "stdout",
     "output_type": "stream",
     "text": [
      "[0 0 0 ... 0 0 0]\n"
     ]
    },
    {
     "data": {
      "text/plain": "False"
     },
     "execution_count": 54,
     "metadata": {},
     "output_type": "execute_result"
    }
   ],
   "source": [
    "mat_red = np.apply_along_axis(logic_or_seq, 0, np.array(matrix.todense()))\n",
    "print(mat_red)\n",
    "\n",
    "np.all(mat_red==0)"
   ],
   "metadata": {
    "collapsed": false,
    "pycharm": {
     "name": "#%%\n"
    }
   }
  }
 ],
 "metadata": {
  "kernelspec": {
   "display_name": "Python 3",
   "language": "python",
   "name": "python3"
  },
  "language_info": {
   "codemirror_mode": {
    "name": "ipython",
    "version": 3
   },
   "file_extension": ".py",
   "mimetype": "text/x-python",
   "name": "python",
   "nbconvert_exporter": "python",
   "pygments_lexer": "ipython3",
   "version": "3.9.5"
  }
 },
 "nbformat": 4,
 "nbformat_minor": 5
}