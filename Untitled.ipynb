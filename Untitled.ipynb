{
 "cells": [
  {
   "cell_type": "code",
   "execution_count": 1,
   "id": "f2bec071",
   "metadata": {
    "scrolled": true
   },
   "outputs": [],
   "source": [
    "import ipywidgets as widgets\n",
    "import numpy as np\n",
    "import pandas as pd\n",
    "import scipy.sparse\n",
    "from IPython.display import display\n",
    "from ipywidgets import interact\n",
    "from matplotlib import pyplot as plt\n",
    "%load_ext autoreload\n",
    "%autoreload 2"
   ]
  },
  {
   "cell_type": "code",
   "execution_count": 2,
   "id": "fecac653-2d0a-4fcd-a20a-10adb23cb237",
   "metadata": {},
   "outputs": [
    {
     "name": "stderr",
     "output_type": "stream",
     "text": [
      "The current IDs only have record documents.\n",
      "['011119' '020105' '030311' '030501' '030509' '030510' '050609' '050717'\n",
      " '050719' '071010' '071201' '071202' '071203' '071204' '071205' '071206'\n",
      " '071207' '071208' '071209' '071210' '071211' '071212' '071213' '071214'\n",
      " '081310' '081608' '081610' '091410' '091411' '091416' '101705' '101707'\n",
      " '111906' '111908' '112004' '122110']\n",
      "The current IDs only have transcript documents.\n",
      "['-081308' '010103' '010105' '020107' '030501(p.2)' '030501(p1)'\n",
      " '030509(p.1)' '030509(p.2)' '030510 (p.1)' '030510 (p.2)' '040417'\n",
      " '050605' '050609a' '050717 (Dr reads wrong number)' '060806' '060811'\n",
      " '060812' '060906' '071002' '071010(a)' '071012' '081310(b)' '081310(c)'\n",
      " '081310a' '081601' '081606' '081608 (1 of 2)' '081608 (2 of 2)' '091402'\n",
      " '091404' '091405' '091410 & 091411' '091503' '101705 and 101707' '101801'\n",
      " '111906 (2of2)' '111906(1 of 2)' '112002' '112004 & 1112005' '112014'\n",
      " '200105' '50719']\n"
     ]
    },
    {
     "data": {
      "text/html": [
       "<div>\n",
       "<style scoped>\n",
       "    .dataframe tbody tr th:only-of-type {\n",
       "        vertical-align: middle;\n",
       "    }\n",
       "\n",
       "    .dataframe tbody tr th {\n",
       "        vertical-align: top;\n",
       "    }\n",
       "\n",
       "    .dataframe thead th {\n",
       "        text-align: right;\n",
       "    }\n",
       "</style>\n",
       "<table border=\"1\" class=\"dataframe\">\n",
       "  <thead>\n",
       "    <tr style=\"text-align: right;\">\n",
       "      <th></th>\n",
       "      <th>index</th>\n",
       "      <th>record_id</th>\n",
       "      <th>icpc_codes</th>\n",
       "      <th>pt_records</th>\n",
       "      <th>transcript__start_date</th>\n",
       "      <th>transcript__duration</th>\n",
       "      <th>transcript__conversation</th>\n",
       "    </tr>\n",
       "  </thead>\n",
       "  <tbody>\n",
       "    <tr>\n",
       "      <th>0</th>\n",
       "      <td>0</td>\n",
       "      <td>10112</td>\n",
       "      <td>['K85', 'P76']</td>\n",
       "      <td>[{'date': datetime.datetime(2014, 8, 13, 0, 0)...</td>\n",
       "      <td>2014-06-16 10:33:28</td>\n",
       "      <td>0:16:17</td>\n",
       "      <td>[('GP', 'How are you sir?'), ('Patient', \"I'm ...</td>\n",
       "    </tr>\n",
       "    <tr>\n",
       "      <th>1</th>\n",
       "      <td>1</td>\n",
       "      <td>50709</td>\n",
       "      <td>['R04', 'U04']</td>\n",
       "      <td>[{'date': datetime.datetime(2015, 1, 26, 0, 0)...</td>\n",
       "      <td>2014-11-05 19:40:49</td>\n",
       "      <td>0:13:20</td>\n",
       "      <td>[('info', 'Oh, can I 0:00:00'), ('GP', \"___. Y...</td>\n",
       "    </tr>\n",
       "    <tr>\n",
       "      <th>2</th>\n",
       "      <td>2</td>\n",
       "      <td>20208</td>\n",
       "      <td>['H82']</td>\n",
       "      <td>[{'date': datetime.datetime(2014, 11, 3, 0, 0)...</td>\n",
       "      <td>2014-09-08 10:43:09</td>\n",
       "      <td>0:11:33</td>\n",
       "      <td>[('Doc', 'Morning NAME.'), ('Pat', 'Hi, how yo...</td>\n",
       "    </tr>\n",
       "    <tr>\n",
       "      <th>3</th>\n",
       "      <td>3</td>\n",
       "      <td>50601</td>\n",
       "      <td>['K85', 'P15']</td>\n",
       "      <td>[{'date': datetime.datetime(2014, 12, 5, 0, 0)...</td>\n",
       "      <td>2014-11-05 09:27:26</td>\n",
       "      <td>0:19:21</td>\n",
       "      <td>[('GP', \"Thank you very much for this. Right, ...</td>\n",
       "    </tr>\n",
       "    <tr>\n",
       "      <th>4</th>\n",
       "      <td>4</td>\n",
       "      <td>111915</td>\n",
       "      <td>['D95', 'P74']</td>\n",
       "      <td>[{'date': datetime.datetime(2015, 5, 29, 0, 0)...</td>\n",
       "      <td>2015-04-28 12:17:47</td>\n",
       "      <td>0:19:41</td>\n",
       "      <td>[('DOC', 'Thank you, what number are you on? S...</td>\n",
       "    </tr>\n",
       "  </tbody>\n",
       "</table>\n",
       "</div>"
      ],
      "text/plain": [
       "   index  record_id      icpc_codes  \\\n",
       "0      0      10112  ['K85', 'P76']   \n",
       "1      1      50709  ['R04', 'U04']   \n",
       "2      2      20208         ['H82']   \n",
       "3      3      50601  ['K85', 'P15']   \n",
       "4      4     111915  ['D95', 'P74']   \n",
       "\n",
       "                                          pt_records transcript__start_date  \\\n",
       "0  [{'date': datetime.datetime(2014, 8, 13, 0, 0)...    2014-06-16 10:33:28   \n",
       "1  [{'date': datetime.datetime(2015, 1, 26, 0, 0)...    2014-11-05 19:40:49   \n",
       "2  [{'date': datetime.datetime(2014, 11, 3, 0, 0)...    2014-09-08 10:43:09   \n",
       "3  [{'date': datetime.datetime(2014, 12, 5, 0, 0)...    2014-11-05 09:27:26   \n",
       "4  [{'date': datetime.datetime(2015, 5, 29, 0, 0)...    2015-04-28 12:17:47   \n",
       "\n",
       "  transcript__duration                           transcript__conversation  \n",
       "0              0:16:17  [('GP', 'How are you sir?'), ('Patient', \"I'm ...  \n",
       "1              0:13:20  [('info', 'Oh, can I 0:00:00'), ('GP', \"___. Y...  \n",
       "2              0:11:33  [('Doc', 'Morning NAME.'), ('Pat', 'Hi, how yo...  \n",
       "3              0:19:21  [('GP', \"Thank you very much for this. Right, ...  \n",
       "4              0:19:41  [('DOC', 'Thank you, what number are you on? S...  "
      ]
     },
     "execution_count": 2,
     "metadata": {},
     "output_type": "execute_result"
    }
   ],
   "source": [
    "from oneinamillion.pc_consultation import PCConsultation\n",
    "\n",
    "parser = PCConsultation()  # the only class needed to obtain all PC consultation data-pairs\n",
    "orig_dataset = parser.get_pd()\n",
    "\n",
    "orig_dataset.head()  # inspect the original dataset"
   ]
  },
  {
   "cell_type": "markdown",
   "id": "a1ea4eb6-0bd9-43b8-98cc-c26caca9fa97",
   "metadata": {
    "pycharm": {
     "name": "#%% md\n"
    }
   },
   "source": [
    "# Data preparation\n",
    "\n",
    "First split the orig_dataset into train and test set, then we need to\n",
    "pre-process the transcript data\n",
    "\n",
    "This includes, cleaning text, stemming and lemmatization"
   ]
  },
  {
   "cell_type": "code",
   "execution_count": 44,
   "id": "310fb443-83b6-4e2d-a5d7-79b9b8c662fd",
   "metadata": {
    "pycharm": {
     "name": "#%%\n"
    }
   },
   "outputs": [],
   "source": [
    "from utils.preprocessing.data import extract_icpc_categories\n",
    "from utils.transcripts import preprocess_transcripts, read_transcript\n",
    "\n",
    "orig_dataset['codes'] = orig_dataset['icpc_codes'].apply(extract_icpc_categories)\n",
    "orig_dataset['transcript__conversation_clean'] = orig_dataset['transcript__conversation'].apply(preprocess_transcripts)\n",
    "orig_dataset['transcript__conversation_both'] = orig_dataset['transcript__conversation_clean'].apply(\n",
    "    lambda t: read_transcript(t, return_format='concat'))\n",
    "orig_dataset['transcript__conversation_gp'] = orig_dataset['transcript__conversation_clean'].apply(\n",
    "    lambda t: read_transcript(t, show_gp=True, show_patient=False, return_format='concat'))\n",
    "orig_dataset['transcript__conversation_patient'] = orig_dataset['transcript__conversation_clean'].apply(\n",
    "    lambda t: read_transcript(t, show_gp=False, show_patient=True, return_format='concat'))"
   ]
  },
  {
   "cell_type": "code",
   "execution_count": 45,
   "id": "634643c6",
   "metadata": {
    "pycharm": {
     "name": "#%%\n"
    }
   },
   "outputs": [
    {
     "data": {
      "text/plain": "   index  record_id      icpc_codes  \\\n0      0      10112  ['K85', 'P76']   \n1      1      50709  ['R04', 'U04']   \n2      2      20208         ['H82']   \n3      3      50601  ['K85', 'P15']   \n4      4     111915  ['D95', 'P74']   \n\n                                          pt_records transcript__start_date  \\\n0  [{'date': datetime.datetime(2014, 8, 13, 0, 0)...    2014-06-16 10:33:28   \n1  [{'date': datetime.datetime(2015, 1, 26, 0, 0)...    2014-11-05 19:40:49   \n2  [{'date': datetime.datetime(2014, 11, 3, 0, 0)...    2014-09-08 10:43:09   \n3  [{'date': datetime.datetime(2014, 12, 5, 0, 0)...    2014-11-05 09:27:26   \n4  [{'date': datetime.datetime(2015, 5, 29, 0, 0)...    2015-04-28 12:17:47   \n\n  transcript__duration                           transcript__conversation  \\\n0              0:16:17  [('GP', 'How are you sir?'), ('Patient', \"I'm ...   \n1              0:13:20  [('info', 'Oh, can I 0:00:00'), ('GP', \"___. Y...   \n2              0:11:33  [('Doc', 'Morning NAME.'), ('Pat', 'Hi, how yo...   \n3              0:19:21  [('GP', \"Thank you very much for this. Right, ...   \n4              0:19:41  [('DOC', 'Thank you, what number are you on? S...   \n\n    codes                     transcript__conversation_clean  \\\n0  [K, P]  [[GP, How sir?], [Patient, I'm bad moment actu...   \n1  [R, U]  [[info, Oh, I 0:00:00], [GP, ___. You're 05070...   \n2     [H]  [[Doc, Morning NAME.], [Pat, Hi, doing?], [Doc...   \n3  [K, P]  [[GP, Thank much this. Right, 050601, accordin...   \n4  [D, P]  [[DOC, Thank you, number on? Sixteen. Hi, I Do...   \n\n                       transcript__conversation_both  \\\n0  How sir? I'm bad moment actually. Right, okay ...   \n1  ___. You're 050709. So I give one back. How I ...   \n2  Morning NAME. Hi, doing? How doing? Not bad. T...   \n3  Thank much this. Right, 050601, according this...   \n4  Thank you, number on? Sixteen. Hi, I Doctor Na...   \n\n                         transcript__conversation_gp  \\\n0  How sir? Right, okay good. The prednisolone. O...   \n1  ___. You're 050709. So I give one back. How I ...   \n2  Morning NAME. How doing? Thank coming along. D...   \n3  Thank much this. Right, 050601, according this...   \n4  Thank you, number on? Sixteen. Hi, I Doctor Na...   \n\n                    transcript__conversation_patient  \n0  I'm bad moment actually. I thought I'd come to...  \n1  Well, basically, I've kind come twofold, I kno...  \n2  Hi, doing? Not bad. Yes. Doc Don't worry. I'll...  \n3  Yeah. Well, couple things. First all, I'm litt...  \n4  No, I don’t think met before. I well, combinat...  ",
      "text/html": "<div>\n<style scoped>\n    .dataframe tbody tr th:only-of-type {\n        vertical-align: middle;\n    }\n\n    .dataframe tbody tr th {\n        vertical-align: top;\n    }\n\n    .dataframe thead th {\n        text-align: right;\n    }\n</style>\n<table border=\"1\" class=\"dataframe\">\n  <thead>\n    <tr style=\"text-align: right;\">\n      <th></th>\n      <th>index</th>\n      <th>record_id</th>\n      <th>icpc_codes</th>\n      <th>pt_records</th>\n      <th>transcript__start_date</th>\n      <th>transcript__duration</th>\n      <th>transcript__conversation</th>\n      <th>codes</th>\n      <th>transcript__conversation_clean</th>\n      <th>transcript__conversation_both</th>\n      <th>transcript__conversation_gp</th>\n      <th>transcript__conversation_patient</th>\n    </tr>\n  </thead>\n  <tbody>\n    <tr>\n      <th>0</th>\n      <td>0</td>\n      <td>10112</td>\n      <td>['K85', 'P76']</td>\n      <td>[{'date': datetime.datetime(2014, 8, 13, 0, 0)...</td>\n      <td>2014-06-16 10:33:28</td>\n      <td>0:16:17</td>\n      <td>[('GP', 'How are you sir?'), ('Patient', \"I'm ...</td>\n      <td>[K, P]</td>\n      <td>[[GP, How sir?], [Patient, I'm bad moment actu...</td>\n      <td>How sir? I'm bad moment actually. Right, okay ...</td>\n      <td>How sir? Right, okay good. The prednisolone. O...</td>\n      <td>I'm bad moment actually. I thought I'd come to...</td>\n    </tr>\n    <tr>\n      <th>1</th>\n      <td>1</td>\n      <td>50709</td>\n      <td>['R04', 'U04']</td>\n      <td>[{'date': datetime.datetime(2015, 1, 26, 0, 0)...</td>\n      <td>2014-11-05 19:40:49</td>\n      <td>0:13:20</td>\n      <td>[('info', 'Oh, can I 0:00:00'), ('GP', \"___. Y...</td>\n      <td>[R, U]</td>\n      <td>[[info, Oh, I 0:00:00], [GP, ___. You're 05070...</td>\n      <td>___. You're 050709. So I give one back. How I ...</td>\n      <td>___. You're 050709. So I give one back. How I ...</td>\n      <td>Well, basically, I've kind come twofold, I kno...</td>\n    </tr>\n    <tr>\n      <th>2</th>\n      <td>2</td>\n      <td>20208</td>\n      <td>['H82']</td>\n      <td>[{'date': datetime.datetime(2014, 11, 3, 0, 0)...</td>\n      <td>2014-09-08 10:43:09</td>\n      <td>0:11:33</td>\n      <td>[('Doc', 'Morning NAME.'), ('Pat', 'Hi, how yo...</td>\n      <td>[H]</td>\n      <td>[[Doc, Morning NAME.], [Pat, Hi, doing?], [Doc...</td>\n      <td>Morning NAME. Hi, doing? How doing? Not bad. T...</td>\n      <td>Morning NAME. How doing? Thank coming along. D...</td>\n      <td>Hi, doing? Not bad. Yes. Doc Don't worry. I'll...</td>\n    </tr>\n    <tr>\n      <th>3</th>\n      <td>3</td>\n      <td>50601</td>\n      <td>['K85', 'P15']</td>\n      <td>[{'date': datetime.datetime(2014, 12, 5, 0, 0)...</td>\n      <td>2014-11-05 09:27:26</td>\n      <td>0:19:21</td>\n      <td>[('GP', \"Thank you very much for this. Right, ...</td>\n      <td>[K, P]</td>\n      <td>[[GP, Thank much this. Right, 050601, accordin...</td>\n      <td>Thank much this. Right, 050601, according this...</td>\n      <td>Thank much this. Right, 050601, according this...</td>\n      <td>Yeah. Well, couple things. First all, I'm litt...</td>\n    </tr>\n    <tr>\n      <th>4</th>\n      <td>4</td>\n      <td>111915</td>\n      <td>['D95', 'P74']</td>\n      <td>[{'date': datetime.datetime(2015, 5, 29, 0, 0)...</td>\n      <td>2015-04-28 12:17:47</td>\n      <td>0:19:41</td>\n      <td>[('DOC', 'Thank you, what number are you on? S...</td>\n      <td>[D, P]</td>\n      <td>[[DOC, Thank you, number on? Sixteen. Hi, I Do...</td>\n      <td>Thank you, number on? Sixteen. Hi, I Doctor Na...</td>\n      <td>Thank you, number on? Sixteen. Hi, I Doctor Na...</td>\n      <td>No, I don’t think met before. I well, combinat...</td>\n    </tr>\n  </tbody>\n</table>\n</div>"
     },
     "execution_count": 43,
     "metadata": {},
     "output_type": "execute_result"
    },
    {
     "data": {
      "text/plain": "   index  record_id      icpc_codes  \\\n0      0      10112  ['K85', 'P76']   \n1      1      50709  ['R04', 'U04']   \n2      2      20208         ['H82']   \n3      3      50601  ['K85', 'P15']   \n4      4     111915  ['D95', 'P74']   \n\n                                          pt_records transcript__start_date  \\\n0  [{'date': datetime.datetime(2014, 8, 13, 0, 0)...    2014-06-16 10:33:28   \n1  [{'date': datetime.datetime(2015, 1, 26, 0, 0)...    2014-11-05 19:40:49   \n2  [{'date': datetime.datetime(2014, 11, 3, 0, 0)...    2014-09-08 10:43:09   \n3  [{'date': datetime.datetime(2014, 12, 5, 0, 0)...    2014-11-05 09:27:26   \n4  [{'date': datetime.datetime(2015, 5, 29, 0, 0)...    2015-04-28 12:17:47   \n\n  transcript__duration                           transcript__conversation  \\\n0              0:16:17  [('GP', 'How are you sir?'), ('Patient', \"I'm ...   \n1              0:13:20  [('info', 'Oh, can I 0:00:00'), ('GP', \"___. Y...   \n2              0:11:33  [('Doc', 'Morning NAME.'), ('Pat', 'Hi, how yo...   \n3              0:19:21  [('GP', \"Thank you very much for this. Right, ...   \n4              0:19:41  [('DOC', 'Thank you, what number are you on? S...   \n\n    codes                     transcript__conversation_clean  \\\n0  [K, P]  [[GP, How sir?], [Patient, I'm bad moment actu...   \n1  [R, U]  [[info, Oh, I 0:00:00], [GP, ___. You're 05070...   \n2     [H]  [[Doc, Morning NAME.], [Pat, Hi, doing?], [Doc...   \n3  [K, P]  [[GP, Thank much this. Right, 050601, accordin...   \n4  [D, P]  [[DOC, Thank you, number on? Sixteen. Hi, I Do...   \n\n                       transcript__conversation_both  \\\n0  How sir? I'm bad moment actually. Right, okay ...   \n1  ___. You're 050709. So I give one back. How I ...   \n2  Morning NAME. Hi, doing? How doing? Not bad. T...   \n3  Thank much this. Right, 050601, according this...   \n4  Thank you, number on? Sixteen. Hi, I Doctor Na...   \n\n                         transcript__conversation_gp  \\\n0  How sir? Right, okay good. The prednisolone. O...   \n1  ___. You're 050709. So I give one back. How I ...   \n2  Morning NAME. How doing? Thank coming along. D...   \n3  Thank much this. Right, 050601, according this...   \n4  Thank you, number on? Sixteen. Hi, I Doctor Na...   \n\n                    transcript__conversation_patient  \n0  I'm bad moment actually. I thought I'd come to...  \n1  Well, basically, I've kind come twofold, I kno...  \n2  Hi, doing? Not bad. Yes. Doc Don't worry. I'll...  \n3  Yeah. Well, couple things. First all, I'm litt...  \n4  No, I don’t think met before. I well, combinat...  ",
      "text/html": "<div>\n<style scoped>\n    .dataframe tbody tr th:only-of-type {\n        vertical-align: middle;\n    }\n\n    .dataframe tbody tr th {\n        vertical-align: top;\n    }\n\n    .dataframe thead th {\n        text-align: right;\n    }\n</style>\n<table border=\"1\" class=\"dataframe\">\n  <thead>\n    <tr style=\"text-align: right;\">\n      <th></th>\n      <th>index</th>\n      <th>record_id</th>\n      <th>icpc_codes</th>\n      <th>pt_records</th>\n      <th>transcript__start_date</th>\n      <th>transcript__duration</th>\n      <th>transcript__conversation</th>\n      <th>codes</th>\n      <th>transcript__conversation_clean</th>\n      <th>transcript__conversation_both</th>\n      <th>transcript__conversation_gp</th>\n      <th>transcript__conversation_patient</th>\n    </tr>\n  </thead>\n  <tbody>\n    <tr>\n      <th>0</th>\n      <td>0</td>\n      <td>10112</td>\n      <td>['K85', 'P76']</td>\n      <td>[{'date': datetime.datetime(2014, 8, 13, 0, 0)...</td>\n      <td>2014-06-16 10:33:28</td>\n      <td>0:16:17</td>\n      <td>[('GP', 'How are you sir?'), ('Patient', \"I'm ...</td>\n      <td>[K, P]</td>\n      <td>[[GP, How sir?], [Patient, I'm bad moment actu...</td>\n      <td>How sir? I'm bad moment actually. Right, okay ...</td>\n      <td>How sir? Right, okay good. The prednisolone. O...</td>\n      <td>I'm bad moment actually. I thought I'd come to...</td>\n    </tr>\n    <tr>\n      <th>1</th>\n      <td>1</td>\n      <td>50709</td>\n      <td>['R04', 'U04']</td>\n      <td>[{'date': datetime.datetime(2015, 1, 26, 0, 0)...</td>\n      <td>2014-11-05 19:40:49</td>\n      <td>0:13:20</td>\n      <td>[('info', 'Oh, can I 0:00:00'), ('GP', \"___. Y...</td>\n      <td>[R, U]</td>\n      <td>[[info, Oh, I 0:00:00], [GP, ___. You're 05070...</td>\n      <td>___. You're 050709. So I give one back. How I ...</td>\n      <td>___. You're 050709. So I give one back. How I ...</td>\n      <td>Well, basically, I've kind come twofold, I kno...</td>\n    </tr>\n    <tr>\n      <th>2</th>\n      <td>2</td>\n      <td>20208</td>\n      <td>['H82']</td>\n      <td>[{'date': datetime.datetime(2014, 11, 3, 0, 0)...</td>\n      <td>2014-09-08 10:43:09</td>\n      <td>0:11:33</td>\n      <td>[('Doc', 'Morning NAME.'), ('Pat', 'Hi, how yo...</td>\n      <td>[H]</td>\n      <td>[[Doc, Morning NAME.], [Pat, Hi, doing?], [Doc...</td>\n      <td>Morning NAME. Hi, doing? How doing? Not bad. T...</td>\n      <td>Morning NAME. How doing? Thank coming along. D...</td>\n      <td>Hi, doing? Not bad. Yes. Doc Don't worry. I'll...</td>\n    </tr>\n    <tr>\n      <th>3</th>\n      <td>3</td>\n      <td>50601</td>\n      <td>['K85', 'P15']</td>\n      <td>[{'date': datetime.datetime(2014, 12, 5, 0, 0)...</td>\n      <td>2014-11-05 09:27:26</td>\n      <td>0:19:21</td>\n      <td>[('GP', \"Thank you very much for this. Right, ...</td>\n      <td>[K, P]</td>\n      <td>[[GP, Thank much this. Right, 050601, accordin...</td>\n      <td>Thank much this. Right, 050601, according this...</td>\n      <td>Thank much this. Right, 050601, according this...</td>\n      <td>Yeah. Well, couple things. First all, I'm litt...</td>\n    </tr>\n    <tr>\n      <th>4</th>\n      <td>4</td>\n      <td>111915</td>\n      <td>['D95', 'P74']</td>\n      <td>[{'date': datetime.datetime(2015, 5, 29, 0, 0)...</td>\n      <td>2015-04-28 12:17:47</td>\n      <td>0:19:41</td>\n      <td>[('DOC', 'Thank you, what number are you on? S...</td>\n      <td>[D, P]</td>\n      <td>[[DOC, Thank you, number on? Sixteen. Hi, I Do...</td>\n      <td>Thank you, number on? Sixteen. Hi, I Doctor Na...</td>\n      <td>Thank you, number on? Sixteen. Hi, I Doctor Na...</td>\n      <td>No, I don’t think met before. I well, combinat...</td>\n    </tr>\n  </tbody>\n</table>\n</div>"
     },
     "execution_count": 45,
     "metadata": {},
     "output_type": "execute_result"
    }
   ],
   "source": [
    "orig_dataset.head()"
   ]
  },
  {
   "cell_type": "code",
   "execution_count": 46,
   "id": "1cb1d000",
   "metadata": {
    "pycharm": {
     "name": "#%%\n"
    }
   },
   "outputs": [
    {
     "name": "stdout",
     "output_type": "stream",
     "text": [
      "<class 'pandas.core.frame.DataFrame'>\n",
      "RangeIndex: 241 entries, 0 to 240\n",
      "Data columns (total 12 columns):\n",
      " #   Column                            Non-Null Count  Dtype \n",
      "---  ------                            --------------  ----- \n",
      " 0   index                             241 non-null    int64 \n",
      " 1   record_id                         241 non-null    int64 \n",
      " 2   icpc_codes                        241 non-null    object\n",
      " 3   pt_records                        241 non-null    object\n",
      " 4   transcript__start_date            241 non-null    object\n",
      " 5   transcript__duration              241 non-null    object\n",
      " 6   transcript__conversation          241 non-null    object\n",
      " 7   codes                             241 non-null    object\n",
      " 8   transcript__conversation_clean    241 non-null    object\n",
      " 9   transcript__conversation_both     241 non-null    object\n",
      " 10  transcript__conversation_gp       241 non-null    object\n",
      " 11  transcript__conversation_patient  241 non-null    object\n",
      "dtypes: int64(2), object(10)\n",
      "memory usage: 22.7+ KB\n"
     ]
    }
   ],
   "source": [
    "orig_dataset.info()"
   ]
  },
  {
   "cell_type": "code",
   "execution_count": 47,
   "id": "b7ca3cb5",
   "metadata": {
    "pycharm": {
     "name": "#%%\n"
    }
   },
   "outputs": [
    {
     "name": "stdout",
     "output_type": "stream",
     "text": [
      "16 classification categories: ['A' 'B' 'D' 'F' 'H' 'K' 'L' 'N' 'P' 'R' 'S' 'T' 'U' 'W' 'X' 'Y']\n"
     ]
    }
   ],
   "source": [
    "from sklearn.preprocessing import MultiLabelBinarizer\n",
    "\n",
    "y = orig_dataset['codes']\n",
    "mult_lbl_enc = MultiLabelBinarizer()\n",
    "y_hot = mult_lbl_enc.fit_transform(y)\n",
    "print(f\"{len(mult_lbl_enc.classes_)} classification categories: {mult_lbl_enc.classes_}\")"
   ]
  },
  {
   "cell_type": "code",
   "execution_count": 7,
   "id": "c71abd38",
   "metadata": {
    "pycharm": {
     "name": "#%%\n"
    }
   },
   "outputs": [
    {
     "data": {
      "text/plain": [
       "'\\n@article{sechidis2011stratification,\\n  title={On the stratification of multi-label data},\\n  author={Sechidis, Konstantinos and Tsoumakas, Grigorios and Vlahavas, Ioannis},\\n  journal={Machine Learning and Knowledge Discovery in Databases},\\n  pages={145--158},\\n  year={2011},\\n  publisher={Springer}\\n}\\n\\n@InProceedings{pmlr-v74-szymański17a,\\n  title =    {A Network Perspective on Stratification of Multi-Label Data},\\n  author =   {Piotr Szymański and Tomasz Kajdanowicz},\\n  booktitle =    {Proceedings of the First International Workshop on Learning with Imbalanced Domains: Theory and Applications},\\n  pages =    {22--35},\\n  year =     {2017},\\n  editor =   {Luís Torgo and Bartosz Krawczyk and Paula Branco and Nuno Moniz},\\n  volume =   {74},\\n  series =   {Proceedings of Machine Learning Research},\\n  address =      {ECML-PKDD, Skopje, Macedonia},\\n  publisher =    {PMLR},\\n}\\n'"
      ]
     },
     "execution_count": 7,
     "metadata": {},
     "output_type": "execute_result"
    }
   ],
   "source": [
    "\"\"\"\n",
    "@article{sechidis2011stratification,\n",
    "  title={On the stratification of multi-label data},\n",
    "  author={Sechidis, Konstantinos and Tsoumakas, Grigorios and Vlahavas, Ioannis},\n",
    "  journal={Machine Learning and Knowledge Discovery in Databases},\n",
    "  pages={145--158},\n",
    "  year={2011},\n",
    "  publisher={Springer}\n",
    "}\n",
    "\n",
    "@InProceedings{pmlr-v74-szymański17a,\n",
    "  title =    {A Network Perspective on Stratification of Multi-Label Data},\n",
    "  author =   {Piotr Szymański and Tomasz Kajdanowicz},\n",
    "  booktitle =    {Proceedings of the First International Workshop on Learning with Imbalanced Domains: Theory and Applications},\n",
    "  pages =    {22--35},\n",
    "  year =     {2017},\n",
    "  editor =   {Luís Torgo and Bartosz Krawczyk and Paula Branco and Nuno Moniz},\n",
    "  volume =   {74},\n",
    "  series =   {Proceedings of Machine Learning Research},\n",
    "  address =      {ECML-PKDD, Skopje, Macedonia},\n",
    "  publisher =    {PMLR},\n",
    "}\n",
    "\"\"\""
   ]
  },
  {
   "cell_type": "code",
   "execution_count": 48,
   "id": "f0c0f43b",
   "metadata": {
    "pycharm": {
     "name": "#%%\n"
    }
   },
   "outputs": [
    {
     "data": {
      "text/plain": "    index  record_id      icpc_codes  \\\n0       0      10112  ['K85', 'P76']   \n5       5     101708  ['K84', 'Y08']   \n8       8     111911  ['B80', 'D18']   \n10     10      30303  ['L09', 'L15']   \n11     11      91510  ['K86', 'R96']   \n\n                                           pt_records transcript__start_date  \\\n0   [{'date': datetime.datetime(2014, 8, 13, 0, 0)...    2014-06-16 10:33:28   \n5   [{'date': datetime.datetime(2015, 4, 24, 0, 0)...    2015-02-24 12:39:49   \n8   [{'date': datetime.datetime(2015, 7, 21, 0, 0)...    2015-04-28 10:48:20   \n10  [{'date': datetime.datetime(2014, 12, 17, 0, 0...    2014-09-29 09:42:56   \n11  [{'date': datetime.datetime(2015, 3, 27, 0, 0)...    2015-01-14 16:45:30   \n\n   transcript__duration                           transcript__conversation  \\\n0               0:16:17  [('GP', 'How are you sir?'), ('Patient', \"I'm ...   \n5               0:18:49  [('PAT', 'He was supposed to come in and take ...   \n8               0:11:01  [('DOC', 'Hi, I am Doctor Name thanks for wait...   \n10              0:18:24  [('Doc', \"-been raised for a while, actually. ...   \n11              0:07:22  [('DOC', \"Turn this on. That's it. Number 0915...   \n\n     codes                     transcript__conversation_clean  \\\n0   [K, P]  [[GP, How sir?], [Patient, I'm bad moment actu...   \n5   [K, Y]  [[PAT, He supposed come take ___], [info, 0:00...   \n8   [B, D]  [[DOC, Hi, I Doctor Name thanks waiting. How d...   \n10  [L, L]  [[Doc, -been raised while, actually. I've worn...   \n11  [K, R]  [[DOC, Turn on. That's it. Number 091510. That...   \n\n                        transcript__conversation_both  \\\n0   How sir? I'm bad moment actually. Right, okay ...   \n5   He supposed come take ___ , ___. Yes, that's a...   \n8   Hi, I Doctor Name thanks waiting. How doing, I...   \n10  -been raised while, actually. I've worn knee o...   \n11  Turn on. That's it. Number 091510. That's you....   \n\n                          transcript__conversation_gp  \\\n0   How sir? Right, okay good. The prednisolone. O...   \n5   Yes, that's alright you. So seat. This patient...   \n8   Hi, I Doctor Name thanks waiting. How doing, I...   \n10  -been raised while, actually. I've worn knee o...   \n11  Turn on. That's it. Number 091510. That's you....   \n\n                     transcript__conversation_patient  \n0   I'm bad moment actually. I thought I'd come to...  \n5   He supposed come take ___ , ___. Okay. The rea...  \n8   I alright thank you. Last Friday I went give b...  \n10  Oh, no. Too many hill walking stuff like that....  \n11  Not bad. I went Southmead last week get result...  ",
      "text/html": "<div>\n<style scoped>\n    .dataframe tbody tr th:only-of-type {\n        vertical-align: middle;\n    }\n\n    .dataframe tbody tr th {\n        vertical-align: top;\n    }\n\n    .dataframe thead th {\n        text-align: right;\n    }\n</style>\n<table border=\"1\" class=\"dataframe\">\n  <thead>\n    <tr style=\"text-align: right;\">\n      <th></th>\n      <th>index</th>\n      <th>record_id</th>\n      <th>icpc_codes</th>\n      <th>pt_records</th>\n      <th>transcript__start_date</th>\n      <th>transcript__duration</th>\n      <th>transcript__conversation</th>\n      <th>codes</th>\n      <th>transcript__conversation_clean</th>\n      <th>transcript__conversation_both</th>\n      <th>transcript__conversation_gp</th>\n      <th>transcript__conversation_patient</th>\n    </tr>\n  </thead>\n  <tbody>\n    <tr>\n      <th>0</th>\n      <td>0</td>\n      <td>10112</td>\n      <td>['K85', 'P76']</td>\n      <td>[{'date': datetime.datetime(2014, 8, 13, 0, 0)...</td>\n      <td>2014-06-16 10:33:28</td>\n      <td>0:16:17</td>\n      <td>[('GP', 'How are you sir?'), ('Patient', \"I'm ...</td>\n      <td>[K, P]</td>\n      <td>[[GP, How sir?], [Patient, I'm bad moment actu...</td>\n      <td>How sir? I'm bad moment actually. Right, okay ...</td>\n      <td>How sir? Right, okay good. The prednisolone. O...</td>\n      <td>I'm bad moment actually. I thought I'd come to...</td>\n    </tr>\n    <tr>\n      <th>5</th>\n      <td>5</td>\n      <td>101708</td>\n      <td>['K84', 'Y08']</td>\n      <td>[{'date': datetime.datetime(2015, 4, 24, 0, 0)...</td>\n      <td>2015-02-24 12:39:49</td>\n      <td>0:18:49</td>\n      <td>[('PAT', 'He was supposed to come in and take ...</td>\n      <td>[K, Y]</td>\n      <td>[[PAT, He supposed come take ___], [info, 0:00...</td>\n      <td>He supposed come take ___ , ___. Yes, that's a...</td>\n      <td>Yes, that's alright you. So seat. This patient...</td>\n      <td>He supposed come take ___ , ___. Okay. The rea...</td>\n    </tr>\n    <tr>\n      <th>8</th>\n      <td>8</td>\n      <td>111911</td>\n      <td>['B80', 'D18']</td>\n      <td>[{'date': datetime.datetime(2015, 7, 21, 0, 0)...</td>\n      <td>2015-04-28 10:48:20</td>\n      <td>0:11:01</td>\n      <td>[('DOC', 'Hi, I am Doctor Name thanks for wait...</td>\n      <td>[B, D]</td>\n      <td>[[DOC, Hi, I Doctor Name thanks waiting. How d...</td>\n      <td>Hi, I Doctor Name thanks waiting. How doing, I...</td>\n      <td>Hi, I Doctor Name thanks waiting. How doing, I...</td>\n      <td>I alright thank you. Last Friday I went give b...</td>\n    </tr>\n    <tr>\n      <th>10</th>\n      <td>10</td>\n      <td>30303</td>\n      <td>['L09', 'L15']</td>\n      <td>[{'date': datetime.datetime(2014, 12, 17, 0, 0...</td>\n      <td>2014-09-29 09:42:56</td>\n      <td>0:18:24</td>\n      <td>[('Doc', \"-been raised for a while, actually. ...</td>\n      <td>[L, L]</td>\n      <td>[[Doc, -been raised while, actually. I've worn...</td>\n      <td>-been raised while, actually. I've worn knee o...</td>\n      <td>-been raised while, actually. I've worn knee o...</td>\n      <td>Oh, no. Too many hill walking stuff like that....</td>\n    </tr>\n    <tr>\n      <th>11</th>\n      <td>11</td>\n      <td>91510</td>\n      <td>['K86', 'R96']</td>\n      <td>[{'date': datetime.datetime(2015, 3, 27, 0, 0)...</td>\n      <td>2015-01-14 16:45:30</td>\n      <td>0:07:22</td>\n      <td>[('DOC', \"Turn this on. That's it. Number 0915...</td>\n      <td>[K, R]</td>\n      <td>[[DOC, Turn on. That's it. Number 091510. That...</td>\n      <td>Turn on. That's it. Number 091510. That's you....</td>\n      <td>Turn on. That's it. Number 091510. That's you....</td>\n      <td>Not bad. I went Southmead last week get result...</td>\n    </tr>\n  </tbody>\n</table>\n</div>"
     },
     "execution_count": 48,
     "metadata": {},
     "output_type": "execute_result"
    }
   ],
   "source": [
    "from skmultilearn.model_selection import iterative_train_test_split\n",
    "\n",
    "X = np.arange(orig_dataset['index'].shape[0]).reshape((-1, 1))\n",
    "\n",
    "X_train, y_train, X_test, y_test = iterative_train_test_split(X, y_hot, test_size=0.2)\n",
    "\n",
    "train_set = orig_dataset.iloc[X_train.flatten()]\n",
    "test_set = orig_dataset.iloc[X_test.flatten()]\n",
    "train_set.head()"
   ]
  },
  {
   "cell_type": "code",
   "execution_count": 49,
   "id": "af2d41a5",
   "metadata": {
    "pycharm": {
     "name": "#%%\n"
    }
   },
   "outputs": [],
   "source": [
    "from oneinamillion.clinical_codes.icpc import IcpcParser\n",
    "\n",
    "icpc_parser = IcpcParser()\n",
    "icpc_df = icpc_parser.get_pd()"
   ]
  },
  {
   "cell_type": "code",
   "execution_count": 10,
   "id": "f38b2ce2",
   "metadata": {
    "pycharm": {
     "name": "#%%\n"
    }
   },
   "outputs": [],
   "source": [
    "from utils.preprocessing.text import utils_preprocess_text\n",
    "\n",
    "icpc_df['cat'] = icpc_df['Code'].astype('string').apply(lambda x: x[0].upper())\n",
    "\n",
    "clean_col = lambda x: utils_preprocess_text(x) if not pd.isna(x) else x\n",
    "icpc_df['criteria_prepared'] = icpc_df['criteria'].apply(clean_col)\n",
    "icpc_df['inclusion_prepared'] = icpc_df['inclusion'].apply(clean_col)\n",
    "icpc_df['preferred_prepared'] = icpc_df['preferred'].apply(clean_col)\n",
    "icpc_df['keywords'] = icpc_df[['preferred_prepared', 'criteria_prepared', 'inclusion_prepared']].fillna('').agg(\n",
    "    ' '.join, axis=1)\n",
    "\n",
    "icpc_corpus = icpc_df[['cat', 'keywords']].groupby('cat').agg(' '.join).iloc[1:, 0]\n",
    "\n",
    "icpc_corpus = icpc_corpus.iloc[0:-1]"
   ]
  },
  {
   "cell_type": "code",
   "execution_count": 11,
   "id": "129b6f74",
   "metadata": {
    "pycharm": {
     "name": "#%%\n"
    }
   },
   "outputs": [
    {
     "data": {
      "text/plain": [
       "cat\n",
       "A    Pain general multiple site  chronic general pa...\n",
       "B    Lymph gland enlarged painful  lymphadenopathy ...\n",
       "D    Abdominal pain cramp general  abdominal colic ...\n",
       "F    Eye pain   Red eye  bloodshot inflamed eye Eye...\n",
       "H    Ear pain earache   Hearing complaint  auditory...\n",
       "K    Heart pain  pain attributed heart Pressure tig...\n",
       "L    Neck symptom complaint  pain attributed cervic...\n",
       "N    Headache  posttraumatic headache Pain face   R...\n",
       "P    Feeling anxious nervous tense feeling reported...\n",
       "R    Pain respiratory system  painful respiration p...\n",
       "S    Pain tenderness skin  burning sensation painfu...\n",
       "T    Excessive thirst  polydipsia Excessive appetit...\n",
       "U    Dysuria painful urination  burning urination U...\n",
       "W    Question pregnancy  delayed menstruation sympt...\n",
       "X    Genital pain female  pelvic pain vulval pain M...\n",
       "Y    Pain penis   Pain testis scrotum  pain pelvis ...\n",
       "Name: keywords, dtype: object"
      ]
     },
     "execution_count": 11,
     "metadata": {},
     "output_type": "execute_result"
    }
   ],
   "source": [
    "icpc_corpus"
   ]
  },
  {
   "cell_type": "code",
   "execution_count": 12,
   "id": "b5be5e86",
   "metadata": {
    "pycharm": {
     "name": "#%%\n"
    }
   },
   "outputs": [
    {
     "name": "stdout",
     "output_type": "stream",
     "text": [
      "dataset categories: ['A' 'B' 'D' 'F' 'H' 'K' 'L' 'N' 'P' 'R' 'S' 'T' 'U' 'W' 'X' 'Y']\n",
      "icpc descriptions:  ['A' 'B' 'D' 'F' 'H' 'K' 'L' 'N' 'P' 'R' 'S' 'T' 'U' 'W' 'X' 'Y']\n"
     ]
    }
   ],
   "source": [
    "print(f\"dataset categories: {np.array(mult_lbl_enc.classes_).astype('str')}\")\n",
    "print(f\"icpc descriptions:  {np.array(icpc_corpus.index).astype('str')}\")"
   ]
  },
  {
   "cell_type": "markdown",
   "id": "9e20d60a",
   "metadata": {
    "pycharm": {
     "name": "#%% md\n"
    }
   },
   "source": [
    "The problem\n",
    "\n",
    "This is a multi-label classification problem, where we try to predict an indicator (0 / 1) for every ICPC classes.\n",
    "\n",
    "We will use the techniques as described in here:\n",
    "\n",
    "https://scikit-learn.org/stable/modules/multiclass.html#multilabel-classification\n",
    "\n",
    "```\n",
    "Support multilabel:\n",
    "    tree.DecisionTreeClassifier\n",
    "    tree.ExtraTreeClassifier\n",
    "    ensemble.ExtraTreesClassifier\n",
    "    neighbors.KNeighborsClassifier\n",
    "    neural_network.MLPClassifier\n",
    "    neighbors.RadiusNeighborsClassifier\n",
    "    ensemble.RandomForestClassifier\n",
    "    linear_model.RidgeClassifierCV\n",
    "```"
   ]
  },
  {
   "cell_type": "markdown",
   "id": "18e2f127",
   "metadata": {
    "pycharm": {
     "name": "#%% md\n"
    }
   },
   "source": [
    "## Bag of words classifiers\n",
    "\n",
    "**Tf-idf from ICPC codes**\n",
    "\n",
    "- extract keyword/ keyphrases from ICPC code descriptions\n",
    " - use three columns (inclusion/ preferred and criteria)\n",
    "\n",
    "- OR, with TF-iDF, assign a score to every word (or bigram) in the utterance,\n",
    "filter those with only high scores\n",
    "\n",
    "- For each utterance in a transcript, count the number of keyword or phrase matches for each ICPC code.\n",
    "- If number of matches > threshold, assign ICPC code"
   ]
  },
  {
   "cell_type": "markdown",
   "id": "218d4483",
   "metadata": {
    "pycharm": {
     "name": "#%% md\n"
    }
   },
   "source": [
    "First, a CountVectoriser is used to tokenize the ICPC code descriptions, and to create bag-of-word vectors\n",
    "for every ICPC categories. The vector indicates the presence of word/ bi-gram in each ICPC code description"
   ]
  },
  {
   "cell_type": "code",
   "execution_count": 13,
   "id": "e9f0aaa4",
   "metadata": {
    "pycharm": {
     "name": "#%%\n"
    }
   },
   "outputs": [
    {
     "name": "stdout",
     "output_type": "stream",
     "text": [
      "icpc description bag-of-word matrix shape: (16, 9500)\n",
      "bag-of-word tokens: pain, general, multiple, site, chronic...\n"
     ]
    }
   ],
   "source": [
    "from sklearn.feature_extraction.text import CountVectorizer, TfidfVectorizer\n",
    "\n",
    "# Create Bag-of-Words vector from ICPC code descriptions\n",
    "# count_vec = CountVectorizer(binary=True, ngram_range=(1, 2)) # tokenize word/ bi-gram\n",
    "text_vectorizer = None\n",
    "description_count_vec = text_vectorizer.fit_transform(icpc_corpus)\n",
    "print(f\"icpc description bag-of-word matrix shape: {description_count_vec.shape}\")\n",
    "vec_vocab = text_vectorizer.vocabulary_ # dictionary that contain the BOW tokens\n",
    "\n",
    "print(f\"bag-of-word tokens: {', '.join(list(vec_vocab.keys())[:5])}...\")"
   ]
  },
  {
   "cell_type": "code",
   "execution_count": 14,
   "id": "0910dd48",
   "metadata": {
    "pycharm": {
     "name": "#%%\n"
    }
   },
   "outputs": [
    {
     "data": {
      "text/plain": [
       "Text(0.5, 1.0, 'bag-of-words Vector')"
      ]
     },
     "execution_count": 14,
     "metadata": {},
     "output_type": "execute_result"
    },
    {
     "data": {
      "image/png": "[encoded data removed]",
      "text/plain": [
       "<Figure size 432x288 with 1 Axes>"
      ]
     },
     "metadata": {
      "needs_background": "light"
     },
     "output_type": "display_data"
    }
   ],
   "source": [
    "import seaborn as sns\n",
    "sns.heatmap(description_count_vec.todense()==0, vmin=0, vmax=1, cbar=False).set_title('bag-of-words Vector')"
   ]
  },
  {
   "cell_type": "code",
   "execution_count": 40,
   "id": "a52ba2e7",
   "metadata": {
    "pycharm": {
     "name": "#%%\n"
    }
   },
   "outputs": [
    {
     "data": {
      "text/plain": "interactive(children=(Dropdown(description='cat', options=('A', 'B', 'D', 'F', 'H', 'K', 'L', 'N', 'P', 'R', '…",
      "application/vnd.jupyter.widget-view+json": {
       "version_major": 2,
       "version_minor": 0,
       "model_id": "613201323ea6454389c2c64d28a0b600"
      }
     },
     "metadata": {},
     "output_type": "display_data"
    },
    {
     "data": {
      "text/plain": "<function __main__.plot_explain_category(cat: str)>"
     },
     "execution_count": 40,
     "metadata": {},
     "output_type": "execute_result"
    }
   ],
   "source": [
    "from wordcloud import WordCloud\n",
    "\n",
    "# Explain a category\n",
    "\n",
    "lookup = [x for _,x in sorted(zip(text_vectorizer.vocabulary_.values(), text_vectorizer.vocabulary_.keys()))]\n",
    "\n",
    "def explain_bow_vector(vec: scipy.sparse.csr.csr_matrix, ax=plt):\n",
    "    _, idxs = scipy.sparse.csr_matrix.nonzero(vec)\n",
    "    words = [lookup[k] for k in idxs]\n",
    "    word_cloud = WordCloud().generate(' '.join(words))\n",
    "    ax.imshow(word_cloud, interpolation='bilinear')\n",
    "    ax.axis(\"off\")\n",
    "\n",
    "def explain_category(cat:str, ax=plt):\n",
    "    target = list(mult_lbl_enc.classes_).index(cat)\n",
    "    target = description_count_vec[target]\n",
    "    explain_bow_vector(target, ax=ax)\n",
    "\n",
    "def plot_explain_category(cat:str):\n",
    "    explain_category(cat)\n",
    "\n",
    "interact(plot_explain_category, cat=mult_lbl_enc.classes_)"
   ]
  },
  {
   "cell_type": "code",
   "execution_count": 16,
   "id": "ebe627be",
   "metadata": {
    "pycharm": {
     "name": "#%%\n"
    }
   },
   "outputs": [],
   "source": [
    "key = 'transcript__conversation_both'\n",
    "# key = 'transcript__conversation_gp'\n",
    "# key = 'transcript__conversation_patient'\n",
    "\n",
    "X_train = text_vectorizer.transform(train_set[key])\n",
    "X_test = text_vectorizer.transform(test_set[key])\n"
   ]
  },
  {
   "cell_type": "code",
   "execution_count": 17,
   "id": "3196f0e6",
   "metadata": {
    "pycharm": {
     "name": "#%%\n"
    }
   },
   "outputs": [
    {
     "data": {
      "text/plain": [
       "Text(0.5, 1.0, 'Train set bag-of-words matrix')"
      ]
     },
     "execution_count": 17,
     "metadata": {},
     "output_type": "execute_result"
    },
    {
     "data": {
      "image/png": "[encoded data removed]",
      "text/plain": [
       "<Figure size 432x288 with 1 Axes>"
      ]
     },
     "metadata": {
      "needs_background": "light"
     },
     "output_type": "display_data"
    }
   ],
   "source": [
    "# import seaborn as sns\n",
    "sns.heatmap(X_train.todense()==0, vmin=0, vmax=1, cbar=False).set_title('Train set bag-of-words matrix')"
   ]
  },
  {
   "cell_type": "code",
   "execution_count": 38,
   "id": "5c4785ad",
   "metadata": {
    "pycharm": {
     "name": "#%%\n"
    }
   },
   "outputs": [
    {
     "data": {
      "image/png": "[encoded data removed]",
      "text/plain": [
       "<Figure size 576x288 with 1 Axes>"
      ]
     },
     "metadata": {
      "needs_background": "light"
     },
     "output_type": "display_data"
    },
    {
     "name": "stdout",
     "output_type": "stream",
     "text": [
      "['also', 'another', 'around', 'back', 'bad', 'blood', 'could', 'day', 'doctor', 'even', 'feel', 'feeling', 'four', 'good', 'help', 'ill', 'in', 'it', 'long', 'may', 'mean', 'month', 'morning', 'never', 'night', 'no', 'normal', 'often', 'one', 'pain', 'pressure', 'problem', 'quite', 'right', 'side', 'six', 'sometimes', 'sound', 'test', 'this', 'thought', 'three', 'time', 'try', 'trying', 'two', 'use', 'want', 'way', 'week', 'well', 'year']\n"
     ]
    }
   ],
   "source": [
    "keyword_dist_over_train = np.array(X_train.sum(axis=0)).flatten()\n",
    "\n",
    "def show_common_keywords(threshold:int = 80):\n",
    "    frequent_words = [[k,n] for k,n in zip(lookup, keyword_dist_over_train) if n > threshold]\n",
    "    frequent_words_df = pd.DataFrame(frequent_words,columns=['keyword', 'count']).sort_values('count')\n",
    "\n",
    "    plt.figure(figsize=(8,4))\n",
    "    ax = sns.barplot(x='keyword', y='count', data=frequent_words_df)\n",
    "    ax.set_xticklabels(ax.get_xticklabels(), rotation=40, ha=\"right\")\n",
    "    plt.tight_layout()\n",
    "    plt.show()\n",
    "\n",
    "    print([k for k,n in frequent_words])\n",
    "\n",
    "show_common_keywords()"
   ]
  },
  {
   "cell_type": "markdown",
   "id": "f8344d8f",
   "metadata": {
    "pycharm": {
     "name": "#%% md\n"
    }
   },
   "source": [
    "### Nearest Centroid classifier"
   ]
  },
  {
   "cell_type": "code",
   "execution_count": 19,
   "id": "417bc9c7",
   "metadata": {
    "pycharm": {
     "name": "#%%\n"
    }
   },
   "outputs": [
    {
     "name": "stderr",
     "output_type": "stream",
     "text": [
      "C:\\Users\\Vico\\anaconda3\\envs\\NLP_GP\\lib\\site-packages\\sklearn\\neighbors\\_nearest_centroid.py:150: UserWarning: Averaging for metrics other than euclidean and manhattan not supported. The average is set to be the mean.\n",
      "  warnings.warn(\"Averaging for metrics other than \"\n"
     ]
    },
    {
     "data": {
      "text/plain": [
       "NearestCentroid(metric='cosine')"
      ]
     },
     "execution_count": 19,
     "metadata": {},
     "output_type": "execute_result"
    }
   ],
   "source": [
    "from sklearn.neighbors import NearestCentroid\n",
    "from sklearn.neighbors import KNeighborsClassifier\n",
    "\n",
    "kn_clf = KNeighborsClassifier(n_neighbors=3, weights='distance', metric='cosine')\n",
    "kn_clf.fit(description_count_vec, mult_lbl_enc.classes_)\n",
    "\n",
    "nc_clf = NearestCentroid(metric='cosine')\n",
    "nc_clf.fit(description_count_vec, mult_lbl_enc.classes_)"
   ]
  },
  {
   "cell_type": "code",
   "execution_count": 20,
   "id": "43af2d92",
   "metadata": {
    "pycharm": {
     "name": "#%%\n"
    }
   },
   "outputs": [
    {
     "data": {
      "text/plain": [
       "[('K', 'P')]"
      ]
     },
     "execution_count": 20,
     "metadata": {},
     "output_type": "execute_result"
    }
   ],
   "source": [
    "mult_lbl_enc.inverse_transform(y_train[0:1])"
   ]
  },
  {
   "cell_type": "code",
   "execution_count": 21,
   "id": "4807b583",
   "metadata": {
    "pycharm": {
     "name": "#%%\n"
    }
   },
   "outputs": [
    {
     "data": {
      "text/plain": [
       "array([[0.32931927, 0.        , 0.        , 0.        , 0.        ,\n",
       "        0.        , 0.        , 0.        , 0.34650827, 0.        ,\n",
       "        0.        , 0.        , 0.        , 0.32417246, 0.        ,\n",
       "        0.        ],\n",
       "       [0.        , 0.        , 0.        , 0.        , 0.        ,\n",
       "        0.33333862, 0.        , 0.32746041, 0.33920098, 0.        ,\n",
       "        0.        , 0.        , 0.        , 0.        , 0.        ,\n",
       "        0.        ],\n",
       "       [0.33170799, 0.        , 0.        , 0.        , 0.        ,\n",
       "        0.        , 0.        , 0.        , 0.33674504, 0.        ,\n",
       "        0.        , 0.33154697, 0.        , 0.        , 0.        ,\n",
       "        0.        ],\n",
       "       [0.        , 0.        , 0.        , 0.        , 0.        ,\n",
       "        0.        , 0.33458318, 0.32890766, 0.33650916, 0.        ,\n",
       "        0.        , 0.        , 0.        , 0.        , 0.        ,\n",
       "        0.        ],\n",
       "       [0.        , 0.        , 0.        , 0.33197137, 0.        ,\n",
       "        0.        , 0.        , 0.33087463, 0.        , 0.337154  ,\n",
       "        0.        , 0.        , 0.        , 0.        , 0.        ,\n",
       "        0.        ],\n",
       "       [0.        , 0.        , 0.        , 0.        , 0.        ,\n",
       "        0.3289056 , 0.        , 0.        , 0.33270411, 0.33839029,\n",
       "        0.        , 0.        , 0.        , 0.        , 0.        ,\n",
       "        0.        ],\n",
       "       [0.        , 0.        , 0.        , 0.        , 0.32941297,\n",
       "        0.        , 0.        , 0.33187452, 0.3387125 , 0.        ,\n",
       "        0.        , 0.        , 0.        , 0.        , 0.        ,\n",
       "        0.        ],\n",
       "       [0.        , 0.        , 0.        , 0.        , 0.        ,\n",
       "        0.3328172 , 0.        , 0.33159746, 0.33558534, 0.        ,\n",
       "        0.        , 0.        , 0.        , 0.        , 0.        ,\n",
       "        0.        ],\n",
       "       [0.        , 0.        , 0.        , 0.        , 0.        ,\n",
       "        0.32479926, 0.        , 0.33637322, 0.33882751, 0.        ,\n",
       "        0.        , 0.        , 0.        , 0.        , 0.        ,\n",
       "        0.        ],\n",
       "       [0.        , 0.        , 0.        , 0.        , 0.        ,\n",
       "        0.        , 0.        , 0.32975369, 0.34012989, 0.        ,\n",
       "        0.        , 0.33011641, 0.        , 0.        , 0.        ,\n",
       "        0.        ]])"
      ]
     },
     "execution_count": 21,
     "metadata": {},
     "output_type": "execute_result"
    }
   ],
   "source": [
    "kn_clf.predict_proba(X_train[0:10])"
   ]
  },
  {
   "cell_type": "code",
   "execution_count": 25,
   "id": "3e9c3c43",
   "metadata": {
    "pycharm": {
     "name": "#%%\n"
    }
   },
   "outputs": [],
   "source": [
    "kn_y_pred = kn_clf.predict(X_train)\n",
    "y_pred = nc_clf.predict(X_train)"
   ]
  },
  {
   "cell_type": "code",
   "execution_count": 26,
   "id": "88a5848b",
   "metadata": {},
   "outputs": [],
   "source": [
    "def get_idxes_with_cat(_y_train: np.ndarray, code:str):\n",
    "    y_train_raw = mult_lbl_enc.inverse_transform(_y_train)\n",
    "    return [i for i,cs in enumerate(y_train_raw) if code in cs]\n",
    "\n",
    "def get_truth_pred_pairs(_y_train, _y_pred, indices):\n",
    "    truth = mult_lbl_enc.inverse_transform(_y_train[indices])\n",
    "    pred = _y_pred[indices]\n",
    "    data = list(zip(indices, truth, pred))\n",
    "    return pd.DataFrame(data, columns=['id', 'truth', 'predicted'])\n",
    "\n",
    "def show_truth_pred_tbl(code):\n",
    "    cat_idxes = get_idxes_with_cat(y_train, code)\n",
    "    return get_truth_pred_pairs(y_train, y_pred, cat_idxes)"
   ]
  },
  {
   "cell_type": "code",
   "execution_count": 37,
   "id": "20291412",
   "metadata": {
    "pycharm": {
     "name": "#%%\n"
    }
   },
   "outputs": [
    {
     "data": {
      "application/vnd.jupyter.widget-view+json": {
       "model_id": "aadbd9023ef04e0f8f30577dd81df0a1",
       "version_major": 2,
       "version_minor": 0
      },
      "text/plain": [
       "interactive(children=(Dropdown(description='code', options=('A', 'B', 'D', 'F', 'H', 'K', 'L', 'N', 'P', 'R', …"
      ]
     },
     "metadata": {},
     "output_type": "display_data"
    },
    {
     "data": {
      "text/plain": [
       "<function __main__.show_truth_pred_tbl(code)>"
      ]
     },
     "execution_count": 37,
     "metadata": {},
     "output_type": "execute_result"
    }
   ],
   "source": [
    "interact(show_truth_pred_tbl, code=mult_lbl_enc.classes_)"
   ]
  },
  {
   "cell_type": "code",
   "execution_count": 28,
   "id": "5eddd223",
   "metadata": {},
   "outputs": [
    {
     "data": {
      "text/plain": [
       "[('L',)]"
      ]
     },
     "execution_count": 28,
     "metadata": {},
     "output_type": "execute_result"
    }
   ],
   "source": [
    "mult_lbl_enc.inverse_transform(y_train[31:32])"
   ]
  },
  {
   "cell_type": "code",
   "execution_count": 36,
   "id": "3dd9f4eb",
   "metadata": {
    "pycharm": {
     "name": "#%%\n"
    }
   },
   "outputs": [
    {
     "data": {
      "application/vnd.jupyter.widget-view+json": {
       "model_id": "4f75daad1f424b5d8a5b81b0781511eb",
       "version_major": 2,
       "version_minor": 0
      },
      "text/plain": [
       "interactive(children=(Dropdown(description='_cat', options=('A', 'B', 'D', 'F', 'H', 'K', 'L', 'N', 'P', 'R', …"
      ]
     },
     "metadata": {},
     "output_type": "display_data"
    },
    {
     "data": {
      "text/plain": [
       "<function __main__.view_record(_cat, _id)>"
      ]
     },
     "execution_count": 36,
     "metadata": {},
     "output_type": "execute_result"
    }
   ],
   "source": [
    "from sklearn.metrics.pairwise import cosine_similarity\n",
    "\n",
    "cat_dropdown = widgets.Dropdown(options=mult_lbl_enc.classes_)\n",
    "id_dropdown = widgets.Dropdown(options=get_idxes_with_cat(y_train, cat_dropdown.value))\n",
    "\n",
    "def refresh_id_dropdown(*args):\n",
    "    id_dropdown.options = get_idxes_with_cat(y_train, cat_dropdown.value)\n",
    "\n",
    "cat_dropdown.observe(refresh_id_dropdown, 'value')\n",
    "\n",
    "# def show_cosine_similarity(_id):\n",
    "#     cos_sim = cosine_similarity(X_train[_id], description_count_vec)[0]\n",
    "#     cos_sim = pd.DataFrame(list(zip(mult_lbl_enc.classes_, cos_sim)), columns=['category', 'cos sim'])\n",
    "#     grid_kws = {\"height_ratios\": (.9, .05), \"hspace\": -0.5}\n",
    "#     f, (ax, cbar_ax) = plt.subplots(2, gridspec_kw=grid_kws)\n",
    "#     sns.heatmap(cos_sim(index='category').T, vmin=0, vmax=1, square=True, ax=ax,\n",
    "#                 cbar_ax=cbar_ax,\n",
    "#                 cbar_kws={\"orientation\": \"horizontal\"})\n",
    "\n",
    "def show_keywords_true_pred(_id):\n",
    "    fig, (ax1, ax2) = plt.subplots(1, 2, figsize=(10,5))\n",
    "    ax1.title.set_text('BOW from sample transcipt')\n",
    "    ax2.title.set_text('BOW of predicted class')\n",
    "    explain_bow_vector(X_train[_id], ax=ax1)\n",
    "    explain_category(y_pred[_id], ax=ax2)\n",
    "\n",
    "def view_record(_cat, _id):\n",
    "    global test\n",
    "    record = train_set.iloc[_id]\n",
    "    info = [f\"Index: {_id}\",\n",
    "           f\"Id: {record['record_id']}\",\n",
    "           f\"Actual: {mult_lbl_enc.inverse_transform(y_train[_id:_id+1])}\",\n",
    "           f\"Predicted: {y_pred[_id]}\"]\n",
    "    display(*info)\n",
    "    show_keywords_true_pred(_id)\n",
    "#     show_cosine_similarity(_id)\n",
    "\n",
    "interact(view_record, _cat=cat_dropdown, _id=id_dropdown)"
   ]
  },
  {
   "cell_type": "code",
   "execution_count": 39,
   "outputs": [
    {
     "ename": "ValueError",
     "evalue": "Classification metrics can't handle a mix of multiclass and multilabel-indicator targets",
     "output_type": "error",
     "traceback": [
      "\u001B[1;31m---------------------------------------------------------------------------\u001B[0m",
      "\u001B[1;31mValueError\u001B[0m                                Traceback (most recent call last)",
      "\u001B[1;32m<ipython-input-39-7177d05770fd>\u001B[0m in \u001B[0;36m<module>\u001B[1;34m\u001B[0m\n\u001B[0;32m      1\u001B[0m \u001B[1;32mfrom\u001B[0m \u001B[0msklearn\u001B[0m\u001B[1;33m.\u001B[0m\u001B[0mmetrics\u001B[0m \u001B[1;32mimport\u001B[0m \u001B[0maccuracy_score\u001B[0m\u001B[1;33m\u001B[0m\u001B[1;33m\u001B[0m\u001B[0m\n\u001B[0;32m      2\u001B[0m \u001B[1;33m\u001B[0m\u001B[0m\n\u001B[1;32m----> 3\u001B[1;33m \u001B[0maccuracy_score\u001B[0m\u001B[1;33m(\u001B[0m\u001B[0my_pred\u001B[0m\u001B[1;33m,\u001B[0m \u001B[0my_train\u001B[0m\u001B[1;33m)\u001B[0m\u001B[1;33m\u001B[0m\u001B[1;33m\u001B[0m\u001B[0m\n\u001B[0m",
      "\u001B[1;32m~\\anaconda3\\envs\\NLP_GP\\lib\\site-packages\\sklearn\\utils\\validation.py\u001B[0m in \u001B[0;36minner_f\u001B[1;34m(*args, **kwargs)\u001B[0m\n\u001B[0;32m     61\u001B[0m             \u001B[0mextra_args\u001B[0m \u001B[1;33m=\u001B[0m \u001B[0mlen\u001B[0m\u001B[1;33m(\u001B[0m\u001B[0margs\u001B[0m\u001B[1;33m)\u001B[0m \u001B[1;33m-\u001B[0m \u001B[0mlen\u001B[0m\u001B[1;33m(\u001B[0m\u001B[0mall_args\u001B[0m\u001B[1;33m)\u001B[0m\u001B[1;33m\u001B[0m\u001B[1;33m\u001B[0m\u001B[0m\n\u001B[0;32m     62\u001B[0m             \u001B[1;32mif\u001B[0m \u001B[0mextra_args\u001B[0m \u001B[1;33m<=\u001B[0m \u001B[1;36m0\u001B[0m\u001B[1;33m:\u001B[0m\u001B[1;33m\u001B[0m\u001B[1;33m\u001B[0m\u001B[0m\n\u001B[1;32m---> 63\u001B[1;33m                 \u001B[1;32mreturn\u001B[0m \u001B[0mf\u001B[0m\u001B[1;33m(\u001B[0m\u001B[1;33m*\u001B[0m\u001B[0margs\u001B[0m\u001B[1;33m,\u001B[0m \u001B[1;33m**\u001B[0m\u001B[0mkwargs\u001B[0m\u001B[1;33m)\u001B[0m\u001B[1;33m\u001B[0m\u001B[1;33m\u001B[0m\u001B[0m\n\u001B[0m\u001B[0;32m     64\u001B[0m \u001B[1;33m\u001B[0m\u001B[0m\n\u001B[0;32m     65\u001B[0m             \u001B[1;31m# extra_args > 0\u001B[0m\u001B[1;33m\u001B[0m\u001B[1;33m\u001B[0m\u001B[1;33m\u001B[0m\u001B[0m\n",
      "\u001B[1;32m~\\anaconda3\\envs\\NLP_GP\\lib\\site-packages\\sklearn\\metrics\\_classification.py\u001B[0m in \u001B[0;36maccuracy_score\u001B[1;34m(y_true, y_pred, normalize, sample_weight)\u001B[0m\n\u001B[0;32m    200\u001B[0m \u001B[1;33m\u001B[0m\u001B[0m\n\u001B[0;32m    201\u001B[0m     \u001B[1;31m# Compute accuracy for each possible representation\u001B[0m\u001B[1;33m\u001B[0m\u001B[1;33m\u001B[0m\u001B[1;33m\u001B[0m\u001B[0m\n\u001B[1;32m--> 202\u001B[1;33m     \u001B[0my_type\u001B[0m\u001B[1;33m,\u001B[0m \u001B[0my_true\u001B[0m\u001B[1;33m,\u001B[0m \u001B[0my_pred\u001B[0m \u001B[1;33m=\u001B[0m \u001B[0m_check_targets\u001B[0m\u001B[1;33m(\u001B[0m\u001B[0my_true\u001B[0m\u001B[1;33m,\u001B[0m \u001B[0my_pred\u001B[0m\u001B[1;33m)\u001B[0m\u001B[1;33m\u001B[0m\u001B[1;33m\u001B[0m\u001B[0m\n\u001B[0m\u001B[0;32m    203\u001B[0m     \u001B[0mcheck_consistent_length\u001B[0m\u001B[1;33m(\u001B[0m\u001B[0my_true\u001B[0m\u001B[1;33m,\u001B[0m \u001B[0my_pred\u001B[0m\u001B[1;33m,\u001B[0m \u001B[0msample_weight\u001B[0m\u001B[1;33m)\u001B[0m\u001B[1;33m\u001B[0m\u001B[1;33m\u001B[0m\u001B[0m\n\u001B[0;32m    204\u001B[0m     \u001B[1;32mif\u001B[0m \u001B[0my_type\u001B[0m\u001B[1;33m.\u001B[0m\u001B[0mstartswith\u001B[0m\u001B[1;33m(\u001B[0m\u001B[1;34m'multilabel'\u001B[0m\u001B[1;33m)\u001B[0m\u001B[1;33m:\u001B[0m\u001B[1;33m\u001B[0m\u001B[1;33m\u001B[0m\u001B[0m\n",
      "\u001B[1;32m~\\anaconda3\\envs\\NLP_GP\\lib\\site-packages\\sklearn\\metrics\\_classification.py\u001B[0m in \u001B[0;36m_check_targets\u001B[1;34m(y_true, y_pred)\u001B[0m\n\u001B[0;32m     90\u001B[0m \u001B[1;33m\u001B[0m\u001B[0m\n\u001B[0;32m     91\u001B[0m     \u001B[1;32mif\u001B[0m \u001B[0mlen\u001B[0m\u001B[1;33m(\u001B[0m\u001B[0my_type\u001B[0m\u001B[1;33m)\u001B[0m \u001B[1;33m>\u001B[0m \u001B[1;36m1\u001B[0m\u001B[1;33m:\u001B[0m\u001B[1;33m\u001B[0m\u001B[1;33m\u001B[0m\u001B[0m\n\u001B[1;32m---> 92\u001B[1;33m         raise ValueError(\"Classification metrics can't handle a mix of {0} \"\n\u001B[0m\u001B[0;32m     93\u001B[0m                          \"and {1} targets\".format(type_true, type_pred))\n\u001B[0;32m     94\u001B[0m \u001B[1;33m\u001B[0m\u001B[0m\n",
      "\u001B[1;31mValueError\u001B[0m: Classification metrics can't handle a mix of multiclass and multilabel-indicator targets"
     ]
    }
   ],
   "source": [
    "from sklearn.metrics import accuracy_score\n",
    "\n",
    "accuracy_score(y_pred, y_train)"
   ],
   "metadata": {
    "collapsed": false,
    "pycharm": {
     "name": "#%%\n"
    }
   }
  },
  {
   "cell_type": "code",
   "execution_count": 30,
   "id": "1cbd3373",
   "metadata": {
    "pycharm": {
     "name": "#%%\n"
    }
   },
   "outputs": [
    {
     "ename": "TypeError",
     "evalue": "All intermediate steps should be transformers and implement fit and transform or be the string 'passthrough' 'NearestCentroid(metric='cosine')' (type <class 'sklearn.neighbors._nearest_centroid.NearestCentroid'>) doesn't",
     "output_type": "error",
     "traceback": [
      "\u001B[1;31m---------------------------------------------------------------------------\u001B[0m",
      "\u001B[1;31mTypeError\u001B[0m                                 Traceback (most recent call last)",
      "\u001B[1;32m<ipython-input-30-cce161f2d1d3>\u001B[0m in \u001B[0;36m<module>\u001B[1;34m\u001B[0m\n\u001B[0;32m      5\u001B[0m \u001B[1;32mfrom\u001B[0m \u001B[0msklearn\u001B[0m\u001B[1;33m.\u001B[0m\u001B[0mpipeline\u001B[0m \u001B[1;32mimport\u001B[0m \u001B[0mmake_pipeline\u001B[0m\u001B[1;33m\u001B[0m\u001B[1;33m\u001B[0m\u001B[0m\n\u001B[0;32m      6\u001B[0m \u001B[1;33m\u001B[0m\u001B[0m\n\u001B[1;32m----> 7\u001B[1;33m c = make_pipeline(\n\u001B[0m\u001B[0;32m      8\u001B[0m     \u001B[0mcount_vec\u001B[0m\u001B[1;33m,\u001B[0m\u001B[1;33m\u001B[0m\u001B[1;33m\u001B[0m\u001B[0m\n\u001B[0;32m      9\u001B[0m     \u001B[0mnc_clf\u001B[0m\u001B[1;33m,\u001B[0m\u001B[1;33m\u001B[0m\u001B[1;33m\u001B[0m\u001B[0m\n",
      "\u001B[1;32m~\\anaconda3\\envs\\NLP_GP\\lib\\site-packages\\sklearn\\pipeline.py\u001B[0m in \u001B[0;36mmake_pipeline\u001B[1;34m(memory, verbose, *steps)\u001B[0m\n\u001B[0;32m    727\u001B[0m     \u001B[0mp\u001B[0m \u001B[1;33m:\u001B[0m \u001B[0mPipeline\u001B[0m\u001B[1;33m\u001B[0m\u001B[1;33m\u001B[0m\u001B[0m\n\u001B[0;32m    728\u001B[0m     \"\"\"\n\u001B[1;32m--> 729\u001B[1;33m     \u001B[1;32mreturn\u001B[0m \u001B[0mPipeline\u001B[0m\u001B[1;33m(\u001B[0m\u001B[0m_name_estimators\u001B[0m\u001B[1;33m(\u001B[0m\u001B[0msteps\u001B[0m\u001B[1;33m)\u001B[0m\u001B[1;33m,\u001B[0m \u001B[0mmemory\u001B[0m\u001B[1;33m=\u001B[0m\u001B[0mmemory\u001B[0m\u001B[1;33m,\u001B[0m \u001B[0mverbose\u001B[0m\u001B[1;33m=\u001B[0m\u001B[0mverbose\u001B[0m\u001B[1;33m)\u001B[0m\u001B[1;33m\u001B[0m\u001B[1;33m\u001B[0m\u001B[0m\n\u001B[0m\u001B[0;32m    730\u001B[0m \u001B[1;33m\u001B[0m\u001B[0m\n\u001B[0;32m    731\u001B[0m \u001B[1;33m\u001B[0m\u001B[0m\n",
      "\u001B[1;32m~\\anaconda3\\envs\\NLP_GP\\lib\\site-packages\\sklearn\\utils\\validation.py\u001B[0m in \u001B[0;36minner_f\u001B[1;34m(*args, **kwargs)\u001B[0m\n\u001B[0;32m     61\u001B[0m             \u001B[0mextra_args\u001B[0m \u001B[1;33m=\u001B[0m \u001B[0mlen\u001B[0m\u001B[1;33m(\u001B[0m\u001B[0margs\u001B[0m\u001B[1;33m)\u001B[0m \u001B[1;33m-\u001B[0m \u001B[0mlen\u001B[0m\u001B[1;33m(\u001B[0m\u001B[0mall_args\u001B[0m\u001B[1;33m)\u001B[0m\u001B[1;33m\u001B[0m\u001B[1;33m\u001B[0m\u001B[0m\n\u001B[0;32m     62\u001B[0m             \u001B[1;32mif\u001B[0m \u001B[0mextra_args\u001B[0m \u001B[1;33m<=\u001B[0m \u001B[1;36m0\u001B[0m\u001B[1;33m:\u001B[0m\u001B[1;33m\u001B[0m\u001B[1;33m\u001B[0m\u001B[0m\n\u001B[1;32m---> 63\u001B[1;33m                 \u001B[1;32mreturn\u001B[0m \u001B[0mf\u001B[0m\u001B[1;33m(\u001B[0m\u001B[1;33m*\u001B[0m\u001B[0margs\u001B[0m\u001B[1;33m,\u001B[0m \u001B[1;33m**\u001B[0m\u001B[0mkwargs\u001B[0m\u001B[1;33m)\u001B[0m\u001B[1;33m\u001B[0m\u001B[1;33m\u001B[0m\u001B[0m\n\u001B[0m\u001B[0;32m     64\u001B[0m \u001B[1;33m\u001B[0m\u001B[0m\n\u001B[0;32m     65\u001B[0m             \u001B[1;31m# extra_args > 0\u001B[0m\u001B[1;33m\u001B[0m\u001B[1;33m\u001B[0m\u001B[1;33m\u001B[0m\u001B[0m\n",
      "\u001B[1;32m~\\anaconda3\\envs\\NLP_GP\\lib\\site-packages\\sklearn\\pipeline.py\u001B[0m in \u001B[0;36m__init__\u001B[1;34m(self, steps, memory, verbose)\u001B[0m\n\u001B[0;32m    116\u001B[0m         \u001B[0mself\u001B[0m\u001B[1;33m.\u001B[0m\u001B[0mmemory\u001B[0m \u001B[1;33m=\u001B[0m \u001B[0mmemory\u001B[0m\u001B[1;33m\u001B[0m\u001B[1;33m\u001B[0m\u001B[0m\n\u001B[0;32m    117\u001B[0m         \u001B[0mself\u001B[0m\u001B[1;33m.\u001B[0m\u001B[0mverbose\u001B[0m \u001B[1;33m=\u001B[0m \u001B[0mverbose\u001B[0m\u001B[1;33m\u001B[0m\u001B[1;33m\u001B[0m\u001B[0m\n\u001B[1;32m--> 118\u001B[1;33m         \u001B[0mself\u001B[0m\u001B[1;33m.\u001B[0m\u001B[0m_validate_steps\u001B[0m\u001B[1;33m(\u001B[0m\u001B[1;33m)\u001B[0m\u001B[1;33m\u001B[0m\u001B[1;33m\u001B[0m\u001B[0m\n\u001B[0m\u001B[0;32m    119\u001B[0m \u001B[1;33m\u001B[0m\u001B[0m\n\u001B[0;32m    120\u001B[0m     \u001B[1;32mdef\u001B[0m \u001B[0mget_params\u001B[0m\u001B[1;33m(\u001B[0m\u001B[0mself\u001B[0m\u001B[1;33m,\u001B[0m \u001B[0mdeep\u001B[0m\u001B[1;33m=\u001B[0m\u001B[1;32mTrue\u001B[0m\u001B[1;33m)\u001B[0m\u001B[1;33m:\u001B[0m\u001B[1;33m\u001B[0m\u001B[1;33m\u001B[0m\u001B[0m\n",
      "\u001B[1;32m~\\anaconda3\\envs\\NLP_GP\\lib\\site-packages\\sklearn\\pipeline.py\u001B[0m in \u001B[0;36m_validate_steps\u001B[1;34m(self)\u001B[0m\n\u001B[0;32m    166\u001B[0m             if (not (hasattr(t, \"fit\") or hasattr(t, \"fit_transform\")) or not\n\u001B[0;32m    167\u001B[0m                     hasattr(t, \"transform\")):\n\u001B[1;32m--> 168\u001B[1;33m                 raise TypeError(\"All intermediate steps should be \"\n\u001B[0m\u001B[0;32m    169\u001B[0m                                 \u001B[1;34m\"transformers and implement fit and transform \"\u001B[0m\u001B[1;33m\u001B[0m\u001B[1;33m\u001B[0m\u001B[0m\n\u001B[0;32m    170\u001B[0m                                 \u001B[1;34m\"or be the string 'passthrough' \"\u001B[0m\u001B[1;33m\u001B[0m\u001B[1;33m\u001B[0m\u001B[0m\n",
      "\u001B[1;31mTypeError\u001B[0m: All intermediate steps should be transformers and implement fit and transform or be the string 'passthrough' 'NearestCentroid(metric='cosine')' (type <class 'sklearn.neighbors._nearest_centroid.NearestCentroid'>) doesn't"
     ]
    }
   ],
   "source": [
    "i = 0\n",
    "txt = train_set['transcript__conversation_both'].iloc[i]\n",
    "\n",
    "from lime import lime_text\n",
    "from sklearn.pipeline import make_pipeline\n",
    "\n",
    "c = make_pipeline(\n",
    "    text_vectorizer,\n",
    "    nc_clf,\n",
    "    mult_lbl_enc\n",
    ")\n",
    "# print(train_set['transcript__conversation_both'][0])\n",
    "\n",
    "explainer = lime_text.LimeTextExplainer(class_names=mult_lbl_enc.classes_)\n",
    "explained = explainer.explain_instance(txt, c.predict, num_features=3)\n",
    "explained.show_in_notebook(text=txt, predict_proba=False)\n"
   ]
  },
  {
   "cell_type": "markdown",
   "id": "db7c43e8",
   "metadata": {
    "pycharm": {
     "name": "#%% md\n"
    }
   },
   "source": [
    "For naive-bayes classificaiton:\n",
    "\n",
    "we can use the followings:\n",
    "\n",
    "- add multi-label output to estimators, by training n-classifiers for n-labels\n",
    "**[MultioutputClassifier](https://scikit-learn.org/stable/modules/multiclass.html#multioutputclassifier)**\n",
    "\n",
    "- an alternative is to use a\n",
    "**[ClassifierChain](https://scikit-learn.org/stable/modules/generated/sklearn.multioutput.ClassifierChain.html#sklearn.multioutput.ClassifierChain)**"
   ]
  },
  {
   "cell_type": "code",
   "execution_count": null,
   "id": "0e8e316b",
   "metadata": {
    "pycharm": {
     "name": "#%%\n"
    }
   },
   "outputs": [],
   "source": []
  }
 ],
 "metadata": {
  "kernelspec": {
   "display_name": "Python 3",
   "language": "python",
   "name": "python3"
  },
  "language_info": {
   "codemirror_mode": {
    "name": "ipython",
    "version": 3
   },
   "file_extension": ".py",
   "mimetype": "text/x-python",
   "name": "python",
   "nbconvert_exporter": "python",
   "pygments_lexer": "ipython3",
   "version": "3.9.5"
  }
 },
 "nbformat": 4,
 "nbformat_minor": 5
}